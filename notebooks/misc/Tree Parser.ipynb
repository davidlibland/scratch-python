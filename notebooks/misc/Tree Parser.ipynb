{
 "cells": [
  {
   "cell_type": "code",
   "execution_count": 16,
   "metadata": {
    "collapsed": false
   },
   "outputs": [],
   "source": [
    "tree = {\n",
    "    \"name\": \"case_1\",\n",
    "    \"components\": [1,2,4],\n",
    "    \"categories\": [{\n",
    "        \"name\": \"GMR\",\n",
    "        \"components\": [3],\n",
    "        \"categories\": [],\n",
    "        \"details\": []\n",
    "    }],\n",
    "    \"details\": [{\n",
    "        \"name\": \"Chest Pain\",\n",
    "        \"components\": [5,4,6],\n",
    "        \"categories\": [{\n",
    "            \"name\": \"symptom\",\n",
    "            \"components\": [5],\n",
    "            \"categories\": [],\n",
    "            \"details\": []\n",
    "        },{\n",
    "            \"name\": \"physical exam\",\n",
    "            \"components\": [6],\n",
    "            \"categories\": [{\n",
    "                \"name\": \"Exam\",\n",
    "                \"components\": [7],\n",
    "                \"categories\": [],\n",
    "                \"details\": [],\n",
    "            }],\n",
    "            \"details\": []\n",
    "        }],\n",
    "        \"details\": [{\n",
    "            \"name\": \"Chest\",\n",
    "            \"components\": [7],\n",
    "            \"categories\": [{\n",
    "                \"name\": \"Location\",\n",
    "                \"components\": [3],\n",
    "                \"categories\": [],\n",
    "                \"details\": [],\n",
    "            }],\n",
    "            \"details\": []\n",
    "        }]\n",
    "    },{\n",
    "        \"name\": \"Shortness of Breath\",\n",
    "        \"components\": [7],\n",
    "        \"categories\": [{\n",
    "            \"name\": \"Symptom\",\n",
    "            \"components\": [3],\n",
    "            \"categories\": [],\n",
    "            \"details\": [],\n",
    "        }],\n",
    "        \"details\": []\n",
    "    }]\n",
    "}"
   ]
  },
  {
   "cell_type": "code",
   "execution_count": 18,
   "metadata": {
    "collapsed": false
   },
   "outputs": [],
   "source": [
    "location = []"
   ]
  },
  {
   "cell_type": "code",
   "execution_count": 19,
   "metadata": {
    "collapsed": false
   },
   "outputs": [],
   "source": [
    "data = {\n",
    "    \"location\": location,\n",
    "    \"tree\": tree\n",
    "}"
   ]
  },
  {
   "cell_type": "code",
   "execution_count": 34,
   "metadata": {
    "collapsed": true
   },
   "outputs": [],
   "source": [
    "def unpack_keys(obj):\n",
    "    return (obj[\"name\"], obj[\"components\"], obj[\"categories\"], obj[\"details\"])"
   ]
  },
  {
   "cell_type": "code",
   "execution_count": 56,
   "metadata": {
    "collapsed": true
   },
   "outputs": [],
   "source": [
    "def unpack_obj(obj, obj_loc):\n",
    "    return zip(unpack_keys(obj), [obj_loc, obj_loc, obj_loc+[\"C\"], obj_loc+[\"D\"]])"
   ]
  },
  {
   "cell_type": "code",
   "execution_count": 80,
   "metadata": {
    "collapsed": true
   },
   "outputs": [],
   "source": [
    "from itertools import product\n",
    "def repeat_params(child_list, param):\n",
    "    return product(child_list, [param])\n",
    "\n",
    "def label_children(child_list, label):\n",
    "    return map(lambda ((i, child), label): (child, label+[i]), repeat_params(enumerate(child_list), label))"
   ]
  },
  {
   "cell_type": "code",
   "execution_count": 94,
   "metadata": {
    "collapsed": true
   },
   "outputs": [],
   "source": [
    "def unpack_and_relabel(obj, obj_loc):\n",
    "    name, comps, cats, dets = unpack_obj(obj, obj_loc)\n",
    "    return name, list(repeat_params(*comps)), list(label_children(*cats)), list(label_children(*dets))"
   ]
  },
  {
   "cell_type": "code",
   "execution_count": 96,
   "metadata": {
    "collapsed": true
   },
   "outputs": [],
   "source": [
    "def parse_name(name, loc):\n",
    "    return [(name, loc)]"
   ]
  },
  {
   "cell_type": "code",
   "execution_count": 212,
   "metadata": {
    "collapsed": false
   },
   "outputs": [],
   "source": [
    "def parse_locd_child_list(locd_child_list):\n",
    "    locd_child_list = map(lambda (obj, obj_loc): parse_obj(obj, obj_loc), locd_child_list)\n",
    "    return reduce(concat, locd_child_list, [])"
   ]
  },
  {
   "cell_type": "code",
   "execution_count": 215,
   "metadata": {
    "collapsed": false
   },
   "outputs": [],
   "source": [
    "from itertools import chain\n",
    "from operator import concat\n",
    "def parse_obj(obj, obj_loc):\n",
    "    name, comps, cats, dets = unpack_and_relabel(obj, obj_loc)\n",
    "    mapped = [parse_name(*name), comps, parse_locd_child_list(cats), parse_locd_child_list(dets)]\n",
    "    return reduce(concat, mapped)"
   ]
  },
  {
   "cell_type": "code",
   "execution_count": 216,
   "metadata": {
    "collapsed": false
   },
   "outputs": [
    {
     "data": {
      "text/plain": [
       "[('case_1', ['k']),\n",
       " (1, ['k']),\n",
       " (2, ['k']),\n",
       " (4, ['k']),\n",
       " ('GMR', ['k', 'C', 0]),\n",
       " (3, ['k', 'C', 0]),\n",
       " ('Chest Pain', ['k', 'D', 0]),\n",
       " (5, ['k', 'D', 0]),\n",
       " (4, ['k', 'D', 0]),\n",
       " (6, ['k', 'D', 0]),\n",
       " ('symptom', ['k', 'D', 0, 'C', 0]),\n",
       " (5, ['k', 'D', 0, 'C', 0]),\n",
       " ('physical exam', ['k', 'D', 0, 'C', 1]),\n",
       " (6, ['k', 'D', 0, 'C', 1]),\n",
       " ('Exam', ['k', 'D', 0, 'C', 1, 'C', 0]),\n",
       " (7, ['k', 'D', 0, 'C', 1, 'C', 0]),\n",
       " ('Chest', ['k', 'D', 0, 'D', 0]),\n",
       " (7, ['k', 'D', 0, 'D', 0]),\n",
       " ('Location', ['k', 'D', 0, 'D', 0, 'C', 0]),\n",
       " (3, ['k', 'D', 0, 'D', 0, 'C', 0]),\n",
       " ('Shortness of Breath', ['k', 'D', 1]),\n",
       " (7, ['k', 'D', 1]),\n",
       " ('Symptom', ['k', 'D', 1, 'C', 0]),\n",
       " (3, ['k', 'D', 1, 'C', 0])]"
      ]
     },
     "execution_count": 216,
     "metadata": {},
     "output_type": "execute_result"
    }
   ],
   "source": [
    "list(parse_obj(tree, [\"k\"]))"
   ]
  },
  {
   "cell_type": "code",
   "execution_count": 201,
   "metadata": {
    "collapsed": true
   },
   "outputs": [],
   "source": [
    "concat?"
   ]
  },
  {
   "cell_type": "code",
   "execution_count": null,
   "metadata": {
    "collapsed": true
   },
   "outputs": [],
   "source": []
  }
 ],
 "metadata": {
  "kernelspec": {
   "display_name": "Python [default]",
   "language": "python",
   "name": "python2"
  },
  "language_info": {
   "codemirror_mode": {
    "name": "ipython",
    "version": 2
   },
   "file_extension": ".py",
   "mimetype": "text/x-python",
   "name": "python",
   "nbconvert_exporter": "python",
   "pygments_lexer": "ipython2",
   "version": "2.7.13"
  }
 },
 "nbformat": 4,
 "nbformat_minor": 2
}
