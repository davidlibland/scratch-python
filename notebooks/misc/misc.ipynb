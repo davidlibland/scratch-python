{
 "cells": [
  {
   "cell_type": "code",
   "execution_count": 20,
   "metadata": {
    "collapsed": false,
    "deletable": true,
    "editable": true
   },
   "outputs": [],
   "source": [
    "import numpy as np\n",
    "from random import shuffle\n",
    "from copy import copy"
   ]
  },
  {
   "cell_type": "code",
   "execution_count": 95,
   "metadata": {
    "collapsed": true,
    "deletable": true,
    "editable": true
   },
   "outputs": [],
   "source": [
    "Samps = 10\n",
    "N = 5\n",
    "ddl = 3"
   ]
  },
  {
   "cell_type": "code",
   "execution_count": 110,
   "metadata": {
    "collapsed": false,
    "deletable": true,
    "editable": true
   },
   "outputs": [
    {
     "data": {
      "text/plain": [
       "[[3, 1, 0, 2, 4],\n",
       " [3, 4, 1, 0, 2],\n",
       " [3, 1, 4, 2, 0],\n",
       " [1, 4, 2, 3, 0],\n",
       " [3, 0, 4, 2, 1],\n",
       " [1, 2, 4, 0, 3],\n",
       " [0, 1, 4, 3, 2],\n",
       " [2, 1, 3, 4, 0],\n",
       " [0, 2, 4, 3, 1],\n",
       " [4, 3, 2, 1, 0]]"
      ]
     },
     "execution_count": 110,
     "metadata": {},
     "output_type": "execute_result"
    }
   ],
   "source": [
    "ddxs = []\n",
    "for i in range(Samps):\n",
    "    ddx = range(N)\n",
    "    shuffle(ddx)\n",
    "    ddxs.append(ddx)\n",
    "ddxs"
   ]
  },
  {
   "cell_type": "code",
   "execution_count": 99,
   "metadata": {
    "collapsed": false,
    "deletable": true,
    "editable": true
   },
   "outputs": [],
   "source": [
    "A = np.tile(np.eye(N)[:,:,np.newaxis]-np.eye(N)[:,np.newaxis,:],[Samps,1,1,1])\n",
    "for n in range(Samps):\n",
    "    for i in range(N):\n",
    "        for j in range(N):\n",
    "            for k in range(N):\n",
    "                if k == i and i!=j:\n",
    "                    assert(A[n,k,i,j]==1)\n",
    "                elif k == j and i!=j:\n",
    "                    assert(A[n,k,i,j]==-1)\n",
    "                else:\n",
    "                    assert(A[n,k,i,j]==0)\n"
   ]
  },
  {
   "cell_type": "code",
   "execution_count": 100,
   "metadata": {
    "collapsed": false,
    "deletable": true,
    "editable": true
   },
   "outputs": [],
   "source": [
    "ddxs = np.array(ddxs)\n",
    "A_shuff = A[np.arange(Samps)[:,np.newaxis,np.newaxis,np.newaxis],\n",
    "            np.arange(N)[np.newaxis,:,np.newaxis,np.newaxis],\n",
    "            ddxs[:,np.newaxis,:,np.newaxis],\n",
    "            ddxs[:,np.newaxis,np.newaxis,:]]"
   ]
  },
  {
   "cell_type": "code",
   "execution_count": 101,
   "metadata": {
    "collapsed": false,
    "deletable": true,
    "editable": true
   },
   "outputs": [],
   "source": [
    "for n in range(Samps):\n",
    "    for i in range(N):\n",
    "        for j in range(N):\n",
    "            for k in range(N):\n",
    "                assert(A_shuff[n,k,i,j]==A[n,k,ddxs[n,i],ddxs[n,j]])"
   ]
  },
  {
   "cell_type": "code",
   "execution_count": 102,
   "metadata": {
    "collapsed": false,
    "deletable": true,
    "editable": true
   },
   "outputs": [
    {
     "data": {
      "text/plain": [
       "(10, 5, 5, 5)"
      ]
     },
     "execution_count": 102,
     "metadata": {},
     "output_type": "execute_result"
    }
   ],
   "source": [
    "A_shuff.shape"
   ]
  },
  {
   "cell_type": "code",
   "execution_count": 74,
   "metadata": {
    "collapsed": false,
    "deletable": true,
    "editable": true
   },
   "outputs": [
    {
     "data": {
      "text/plain": [
       "array([[[ 0.,  1.,  1.,  1.,  1.],\n",
       "        [-1.,  0.,  0.,  0.,  0.],\n",
       "        [-1.,  0.,  0.,  0.,  0.],\n",
       "        [-1.,  0.,  0.,  0.,  0.],\n",
       "        [-1.,  0.,  0.,  0.,  0.]],\n",
       "\n",
       "       [[ 0., -1.,  0.,  0.,  0.],\n",
       "        [ 1.,  0.,  1.,  1.,  1.],\n",
       "        [ 0., -1.,  0.,  0.,  0.],\n",
       "        [ 0., -1.,  0.,  0.,  0.],\n",
       "        [ 0., -1.,  0.,  0.,  0.]],\n",
       "\n",
       "       [[ 0.,  0.,  0.,  0., -1.],\n",
       "        [ 0.,  0.,  0.,  0., -1.],\n",
       "        [ 0.,  0.,  0.,  0., -1.],\n",
       "        [ 0.,  0.,  0.,  0., -1.],\n",
       "        [ 1.,  1.,  1.,  1.,  0.]],\n",
       "\n",
       "       [[ 0.,  0., -1.,  0.,  0.],\n",
       "        [ 0.,  0., -1.,  0.,  0.],\n",
       "        [ 1.,  1.,  0.,  1.,  1.],\n",
       "        [ 0.,  0., -1.,  0.,  0.],\n",
       "        [ 0.,  0., -1.,  0.,  0.]],\n",
       "\n",
       "       [[ 0.,  0.,  0., -1.,  0.],\n",
       "        [ 0.,  0.,  0., -1.,  0.],\n",
       "        [ 0.,  0.,  0., -1.,  0.],\n",
       "        [ 1.,  1.,  1.,  0.,  1.],\n",
       "        [ 0.,  0.,  0., -1.,  0.]]])"
      ]
     },
     "execution_count": 74,
     "metadata": {},
     "output_type": "execute_result"
    }
   ],
   "source": [
    "A_shuff"
   ]
  },
  {
   "cell_type": "code",
   "execution_count": 76,
   "metadata": {
    "collapsed": false,
    "deletable": true,
    "editable": true
   },
   "outputs": [
    {
     "data": {
      "text/plain": [
       "array([[[ True,  True,  True,  True,  True],\n",
       "        [ True,  True,  True,  True,  True],\n",
       "        [ True,  True,  True,  True,  True],\n",
       "        [ True,  True,  True,  True,  True],\n",
       "        [ True,  True,  True,  True,  True]],\n",
       "\n",
       "       [[ True,  True,  True,  True,  True],\n",
       "        [ True,  True,  True,  True,  True],\n",
       "        [ True,  True,  True,  True,  True],\n",
       "        [ True,  True,  True,  True,  True],\n",
       "        [ True,  True,  True,  True,  True]],\n",
       "\n",
       "       [[ True,  True, False,  True, False],\n",
       "        [ True,  True, False,  True, False],\n",
       "        [False, False,  True, False, False],\n",
       "        [ True,  True, False,  True, False],\n",
       "        [False, False, False, False,  True]],\n",
       "\n",
       "       [[ True,  True, False, False,  True],\n",
       "        [ True,  True, False, False,  True],\n",
       "        [False, False,  True, False, False],\n",
       "        [False, False, False,  True, False],\n",
       "        [ True,  True, False, False,  True]],\n",
       "\n",
       "       [[ True,  True,  True, False, False],\n",
       "        [ True,  True,  True, False, False],\n",
       "        [ True,  True,  True, False, False],\n",
       "        [False, False, False,  True, False],\n",
       "        [False, False, False, False,  True]]], dtype=bool)"
      ]
     },
     "execution_count": 76,
     "metadata": {},
     "output_type": "execute_result"
    }
   ],
   "source": [
    "A[0,:,:,:]==A_shuff"
   ]
  },
  {
   "cell_type": "code",
   "execution_count": 106,
   "metadata": {
    "collapsed": false,
    "deletable": true,
    "editable": true
   },
   "outputs": [
    {
     "data": {
      "text/plain": [
       "[0, 1, 2, 4, 6, 7, 8, 9]"
      ]
     },
     "execution_count": 106,
     "metadata": {},
     "output_type": "execute_result"
    }
   ],
   "source": [
    "from itertools import ifilterfalse\n",
    "ddx = [3,5]\n",
    "l = list(ifilterfalse(ddx.__contains__,range(10)))\n",
    "l"
   ]
  },
  {
   "cell_type": "code",
   "execution_count": 108,
   "metadata": {
    "collapsed": false,
    "deletable": true,
    "editable": true
   },
   "outputs": [
    {
     "data": {
      "text/plain": [
       "array([ 0.,  0.,  0.,  1.,  0.,  1.,  0.,  0.,  0.,  0.])"
      ]
     },
     "execution_count": 108,
     "metadata": {},
     "output_type": "execute_result"
    }
   ],
   "source": [
    "findings = np.zeros(10)\n",
    "findings[ddx]=1\n",
    "findings"
   ]
  },
  {
   "cell_type": "code",
   "execution_count": 112,
   "metadata": {
    "collapsed": false,
    "deletable": true,
    "editable": true
   },
   "outputs": [
    {
     "data": {
      "text/plain": [
       "(10, 5, 5, 5)"
      ]
     },
     "execution_count": 112,
     "metadata": {},
     "output_type": "execute_result"
    }
   ],
   "source": [
    "A.shape"
   ]
  },
  {
   "cell_type": "code",
   "execution_count": 1,
   "metadata": {
    "collapsed": true,
    "deletable": true,
    "editable": true
   },
   "outputs": [],
   "source": [
    "import matplotlib.pyplot as plt\n",
    "%matplotlib inline"
   ]
  },
  {
   "cell_type": "code",
   "execution_count": 2,
   "metadata": {
    "collapsed": true
   },
   "outputs": [],
   "source": [
    "import numpy as np"
   ]
  },
  {
   "cell_type": "code",
   "execution_count": 11,
   "metadata": {
    "collapsed": true
   },
   "outputs": [],
   "source": [
    "x = np.arange(-10,10,0.1)\n",
    "y = -np.log(1+np.exp(-x))\n",
    "y2 = (1+np.exp(x))/(1+np.exp(-x))\n",
    "y3 = np.log(y2)"
   ]
  },
  {
   "cell_type": "code",
   "execution_count": 8,
   "metadata": {
    "collapsed": false
   },
   "outputs": [
    {
     "data": {
      "image/png": "[encoded data removed]",
      "text/plain": [
       "<matplotlib.figure.Figure at 0x11127a750>"
      ]
     },
     "metadata": {},
     "output_type": "display_data"
    }
   ],
   "source": [
    "plt.plot(x,y)\n",
    "plt.show()"
   ]
  },
  {
   "cell_type": "code",
   "execution_count": 10,
   "metadata": {
    "collapsed": false
   },
   "outputs": [
    {
     "data": {
      "image/png": "[encoded data removed]",
      "text/plain": [
       "<matplotlib.figure.Figure at 0x111360d10>"
      ]
     },
     "metadata": {},
     "output_type": "display_data"
    }
   ],
   "source": [
    "plt.plot(x,y2)\n",
    "plt.show()"
   ]
  },
  {
   "cell_type": "code",
   "execution_count": 12,
   "metadata": {
    "collapsed": false
   },
   "outputs": [
    {
     "data": {
      "image/png": "[encoded data removed]",
      "text/plain": [
       "<matplotlib.figure.Figure at 0x111506190>"
      ]
     },
     "metadata": {},
     "output_type": "display_data"
    }
   ],
   "source": [
    "plt.plot(x,y3)\n",
    "plt.show()"
   ]
  },
  {
   "cell_type": "code",
   "execution_count": 19,
   "metadata": {
    "collapsed": true
   },
   "outputs": [],
   "source": [
    "z = 1\n",
    "sig = 1./(1+np.exp(-x))\n",
    "y4 = z*np.log(sig)+(1-z)*np.log(1-sig)\n",
    "y5 = z*x+np.log(1-sig)"
   ]
  },
  {
   "cell_type": "code",
   "execution_count": 20,
   "metadata": {
    "collapsed": false
   },
   "outputs": [
    {
     "data": {
      "image/png": "[encoded data removed]",
      "text/plain": [
       "<matplotlib.figure.Figure at 0x11183a490>"
      ]
     },
     "metadata": {},
     "output_type": "display_data"
    }
   ],
   "source": [
    "plt.plot(x,y4)\n",
    "plt.plot(x,y5)\n",
    "plt.show()"
   ]
  },
  {
   "cell_type": "code",
   "execution_count": 22,
   "metadata": {
    "collapsed": false
   },
   "outputs": [
    {
     "data": {
      "text/plain": [
       "[<matplotlib.lines.Line2D at 0x1112e33d0>]"
      ]
     },
     "execution_count": 22,
     "metadata": {},
     "output_type": "execute_result"
    },
    {
     "data": {
      "image/png": "[encoded data removed]",
      "text/plain": [
       "<matplotlib.figure.Figure at 0x111297350>"
      ]
     },
     "metadata": {},
     "output_type": "display_data"
    }
   ],
   "source": [
    "plt.plot(x,np.log(1-sig))"
   ]
  },
  {
   "cell_type": "code",
   "execution_count": null,
   "metadata": {
    "collapsed": true
   },
   "outputs": [],
   "source": []
  }
 ],
 "metadata": {
  "kernelspec": {
   "display_name": "Python [default]",
   "language": "python",
   "name": "python2"
  },
  "language_info": {
   "codemirror_mode": {
    "name": "ipython",
    "version": 2
   },
   "file_extension": ".py",
   "mimetype": "text/x-python",
   "name": "python",
   "nbconvert_exporter": "python",
   "pygments_lexer": "ipython2",
   "version": "2.7.13"
  }
 },
 "nbformat": 4,
 "nbformat_minor": 2
}
