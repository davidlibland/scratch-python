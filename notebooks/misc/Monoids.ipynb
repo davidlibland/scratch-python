{
 "cells": [
  {
   "cell_type": "markdown",
   "metadata": {},
   "source": [
    "A monoid is a set $M$ together with a binary operation:\n",
    "$$\\ast: M\\times M\\to M$$\n",
    "i.e.\n",
    "$$\\ast:(g,h)\\to g\\ast h$$\n",
    "and a \"unit\" element $1_M$"
   ]
  },
  {
   "cell_type": "markdown",
   "metadata": {},
   "source": [
    "The binary operation must be associative:"
   ]
  },
  {
   "cell_type": "markdown",
   "metadata": {},
   "source": [
    "$$g\\ast (h\\ast k) = (g\\ast h)\\ast k$$"
   ]
  },
  {
   "cell_type": "markdown",
   "metadata": {},
   "source": [
    "The unit element must \"do nothing\":\n",
    "$$ 1_M\\ast g = g = g\\ast 1_M$$"
   ]
  },
  {
   "cell_type": "markdown",
   "metadata": {},
   "source": [
    "## Examples"
   ]
  },
  {
   "cell_type": "markdown",
   "metadata": {},
   "source": [
    "1. Integers/Rationals/Natural Numbers/Real Numbers (under addition)\n",
    "2. Integers/Rationals/Natural Numbers/Real Numbers (under multiplication)\n",
    "3. Lists (under concatenation)\n",
    "4. {True, False} (under \"or\" operation)\n",
    "5. {True, False} (under \"and\" operation)\n",
    "6. Sets (under union)\n",
    "7. Subsets of a \"Global\" set (under intersection)\n",
    "8. All Functions $f:A->A$ for a fixed set $A$ form a monoid under composition."
   ]
  },
  {
   "cell_type": "markdown",
   "metadata": {},
   "source": [
    "## Code Examples:"
   ]
  },
  {
   "cell_type": "code",
   "execution_count": 2,
   "metadata": {},
   "outputs": [],
   "source": [
    "class Monoid:\n",
    "    def __mul__(self, other):\n",
    "        raise NotImplementedError\n",
    "    \n",
    "    @staticmethod\n",
    "    def unit(self):\n",
    "        raise NotImplementedError\n",
    "        "
   ]
  },
  {
   "cell_type": "code",
   "execution_count": 3,
   "metadata": {},
   "outputs": [],
   "source": [
    "class IntAdd(Monoid):\n",
    "    def __init__(self, n: int):\n",
    "        self.n = n\n",
    "    \n",
    "    def __mul__(self, other):\n",
    "        return IntAdd(self.n + other.n)\n",
    "    \n",
    "    @staticmethod\n",
    "    def unit(self):\n",
    "        return IntAdd(0)\n",
    "    \n",
    "    def __repr__(self):\n",
    "        return str(self.n)\n",
    "    \n",
    "class IntMult(Monoid):\n",
    "    def __init__(self, n: int):\n",
    "        self.n = n\n",
    "    \n",
    "    def __mul__(self, other):\n",
    "        return IntMult(self.n * other.n)\n",
    "    \n",
    "    @staticmethod\n",
    "    def unit(self):\n",
    "        return IntMult(1)\n",
    "    \n",
    "    def __repr__(self):\n",
    "        return str(self.n)\n",
    "    \n",
    "    \n",
    "class ListMonoid(Monoid):\n",
    "    def __init__(self, *elems):\n",
    "        self.elems = elems\n",
    "    \n",
    "    def __mul__(self, other):\n",
    "        return ListMonoid(*(self.elems + other.elems))\n",
    "    \n",
    "    @staticmethod\n",
    "    def unit(self):\n",
    "        return ListMonoid()\n",
    "    \n",
    "    def __repr__(self):\n",
    "        return str(self.elems)\n",
    "    "
   ]
  },
  {
   "cell_type": "markdown",
   "metadata": {},
   "source": [
    "## Why it matters:"
   ]
  },
  {
   "cell_type": "markdown",
   "metadata": {},
   "source": [
    "Monoids give maps \n",
    "\n",
    "```List[A] -> A```"
   ]
  },
  {
   "cell_type": "markdown",
   "metadata": {},
   "source": [
    "Example: \n",
    "    ```reduce: (f: A x B -> A), (b_s: List[B])```\n",
    "    currying turns `f` into `f_c: B -> (A -> A)`\n",
    "    applying `f_c` to each element of `b_s` yields a `List[(A->A)]`\n",
    "    aggregating (composing the functions) yields a single function `reduce(f, b_s) = (A->A)`"
   ]
  },
  {
   "cell_type": "markdown",
   "metadata": {},
   "source": [
    "## Example (FiberedMonoids):"
   ]
  },
  {
   "cell_type": "code",
   "execution_count": 4,
   "metadata": {},
   "outputs": [],
   "source": [
    "class FiberedMonoid(Monoid):\n",
    "    def __init__(self, **vals: Monoid):\n",
    "        self.vals = vals\n",
    "    \n",
    "    def __mul__(self, other):\n",
    "        all_keys = set(self.vals.keys()) | set(other.vals.keys())\n",
    "        def helper_mul(key, d1, d2):\n",
    "            if key in d1 and key in d2:\n",
    "                return d1[key] * d2[key]\n",
    "            if key in d1:\n",
    "                return d1[key]\n",
    "            if key in d2:\n",
    "                return d2[key]\n",
    "        return FiberedMonoid(**{\n",
    "            key: helper_mul(key, self.vals, other.vals)\n",
    "            for key in all_keys\n",
    "        })\n",
    "    \n",
    "    def __repr__(self):\n",
    "        return repr(self.vals)"
   ]
  },
  {
   "cell_type": "code",
   "execution_count": 10,
   "metadata": {},
   "outputs": [],
   "source": [
    "adi_s_ballot = FiberedMonoid(\n",
    "    trump=IntAdd(3), \n",
    "    clinton=IntAdd(8), \n",
    "    favorite_foods=ListMonoid(\"pizza\", \"mac and cheese\"),\n",
    "    location_preferences=FiberedMonoid(\n",
    "        sf=IntAdd(2),\n",
    "        oakland=IntAdd(1)\n",
    "    )\n",
    ")\n",
    "david_s_ballot = FiberedMonoid(\n",
    "    trump=IntAdd(3), \n",
    "    clinton=IntAdd(12), \n",
    "    favorite_foods=ListMonoid(\"candy\", \"water\"),\n",
    "    location_preferences=FiberedMonoid(\n",
    "        sf=IntAdd(2),\n",
    "        oakland=IntAdd(3)\n",
    "    )\n",
    ")\n"
   ]
  },
  {
   "cell_type": "code",
   "execution_count": 11,
   "metadata": {},
   "outputs": [
    {
     "data": {
      "text/plain": [
       "{'favorite_foods': ('pizza', 'mac and cheese', 'candy', 'water'), 'location_preferences': {'oakland': 4, 'sf': 4}, 'clinton': 20, 'trump': 6}"
      ]
     },
     "execution_count": 11,
     "metadata": {},
     "output_type": "execute_result"
    }
   ],
   "source": [
    "adi_s_ballot * david_s_ballot"
   ]
  },
  {
   "cell_type": "code",
   "execution_count": 13,
   "metadata": {},
   "outputs": [
    {
     "data": {
      "text/plain": [
       "{'myocardial_infarction': 4, 'heart_attack': 2, 'stemi': 2, 'nstemi': 2, 'heart_attach': 2}"
      ]
     },
     "execution_count": 13,
     "metadata": {},
     "output_type": "execute_result"
    }
   ],
   "source": [
    "user_1 = FiberedMonoid(stemi=IntAdd(2), myocardial_infarction=IntAdd(1))\n",
    "user_2 = FiberedMonoid(nstemi=IntAdd(2), myocardial_infarction=IntAdd(1))\n",
    "user_3 = FiberedMonoid(heart_attack=IntAdd(2), myocardial_infarction=IntAdd(1))\n",
    "user_4 = FiberedMonoid(heart_attach=IntAdd(2), myocardial_infarction=IntAdd(1))\n",
    "user_1 * user_2 * user_3 * user_4"
   ]
  },
  {
   "cell_type": "code",
   "execution_count": 15,
   "metadata": {},
   "outputs": [
    {
     "data": {
      "text/plain": [
       "{'myocardial_infarction': {'users': (1, 2, 3, 4), 'vote': 4}, 'heart_attack': {'vote': 2, 'users': (3,)}, 'stemi': {'vote': 2, 'users': (1,)}, 'nstemi': {'vote': 2, 'users': (2,)}, 'heart_attach': {'vote': 2, 'users': (4,)}}"
      ]
     },
     "execution_count": 15,
     "metadata": {},
     "output_type": "execute_result"
    }
   ],
   "source": [
    "user_1 = FiberedMonoid(\n",
    "    stemi=FiberedMonoid(\n",
    "        vote=IntAdd(2),\n",
    "        users=ListMonoid(1)\n",
    "    ),\n",
    "    myocardial_infarction=FiberedMonoid(\n",
    "        vote=IntAdd(1),\n",
    "        users=ListMonoid(1)\n",
    "    ),\n",
    ")\n",
    "user_2 = FiberedMonoid(\n",
    "    nstemi=FiberedMonoid(\n",
    "        vote=IntAdd(2),\n",
    "        users=ListMonoid(2)\n",
    "    ), \n",
    "    myocardial_infarction=FiberedMonoid(\n",
    "        vote=IntAdd(1),\n",
    "        users=ListMonoid(2)\n",
    "    ),\n",
    ")\n",
    "user_3 = FiberedMonoid(\n",
    "    heart_attack=FiberedMonoid(\n",
    "        vote=IntAdd(2),\n",
    "        users=ListMonoid(3)\n",
    "    ), \n",
    "    myocardial_infarction=FiberedMonoid(\n",
    "        vote=IntAdd(1),\n",
    "        users=ListMonoid(3)\n",
    "    ),\n",
    ")\n",
    "user_4 = FiberedMonoid(\n",
    "    heart_attach=FiberedMonoid(\n",
    "        vote=IntAdd(2),\n",
    "        users=ListMonoid(4)\n",
    "    ), \n",
    "    myocardial_infarction=FiberedMonoid(\n",
    "        vote=IntAdd(1),\n",
    "        users=ListMonoid(4)\n",
    "    ),\n",
    ")\n",
    "user_1 * user_2 * user_3 * user_4"
   ]
  },
  {
   "cell_type": "code",
   "execution_count": null,
   "metadata": {},
   "outputs": [],
   "source": [
    "user_1 = FiberedMonoid(plan=Instructions(\"GetTheEmbedding\"))\n",
    "user_2 = FiberedMonoid(plan=Instructions(\"GetTheEmbedding\"))\n",
    "user_3 = FiberedMonoid(plan=Instructions(\"GetTheEmbedding\"))\n",
    "user_4 = FiberedMonoid(plan=Instructions(\"GetTheEmbedding\"))\n",
    "user_1 * user_2 * user_3 * user_4"
   ]
  }
 ],
 "metadata": {
  "kernelspec": {
   "display_name": "Python [conda env:scipy]",
   "language": "python",
   "name": "conda-env-scipy-py"
  },
  "language_info": {
   "codemirror_mode": {
    "name": "ipython",
    "version": 3
   },
   "file_extension": ".py",
   "mimetype": "text/x-python",
   "name": "python",
   "nbconvert_exporter": "python",
   "pygments_lexer": "ipython3",
   "version": "3.6.5"
  }
 },
 "nbformat": 4,
 "nbformat_minor": 2
}
