{
 "cells": [
  {
   "cell_type": "code",
   "execution_count": 16,
   "metadata": {
    "collapsed": true
   },
   "outputs": [],
   "source": [
    "import matplotlib.pyplot as plt\n",
    "%matplotlib inline\n",
    "import random\n",
    "import numpy as np"
   ]
  },
  {
   "cell_type": "code",
   "execution_count": 17,
   "metadata": {
    "collapsed": true
   },
   "outputs": [],
   "source": [
    "def sequential_guesser(num_of_codes):\n",
    "    code = random.choice(range(1,num_of_codes+1))\n",
    "    # we guess sequentially: 1, 2, 3, 4, 5,... so when we reach code, we get it correct, \n",
    "    # hence code is the number of tries we make before we get it right.\n",
    "    return code\n",
    "\n",
    "def random_guesser(num_of_codes):\n",
    "    attempt = 0\n",
    "    found = False\n",
    "    while not found:\n",
    "        attempt += 1\n",
    "        code = random.choice(range(1,num_of_codes+1))\n",
    "        guess = random.choice(range(1,num_of_codes+1))\n",
    "        if code == guess:\n",
    "            found = True\n",
    "    return attempt\n",
    "    "
   ]
  },
  {
   "cell_type": "code",
   "execution_count": 24,
   "metadata": {
    "collapsed": false
   },
   "outputs": [],
   "source": [
    "num_of_codes = 50\n",
    "num_attempts = 10000\n",
    "r_guesser = []\n",
    "s_guesser = []\n",
    "for i in range(num_attempts):\n",
    "    r_guesser.append(random_guesser(num_of_codes))\n",
    "    s_guesser.append(sequential_guesser(num_of_codes))"
   ]
  },
  {
   "cell_type": "code",
   "execution_count": 27,
   "metadata": {
    "collapsed": false
   },
   "outputs": [
    {
     "data": {
      "image/png": "[encoded data removed]",
      "text/plain": [
       "<matplotlib.figure.Figure at 0x11b044cc0>"
      ]
     },
     "metadata": {},
     "output_type": "display_data"
    }
   ],
   "source": [
    "bins = np.linspace(0, 200, 50)\n",
    "\n",
    "plt.hist(r_guesser, bins, alpha=0.5, label='random')\n",
    "plt.hist(s_guesser, bins, alpha=0.5, label='sequential')\n",
    "plt.legend(loc='upper right')\n",
    "plt.show()"
   ]
  },
  {
   "cell_type": "code",
   "execution_count": 29,
   "metadata": {
    "collapsed": false
   },
   "outputs": [
    {
     "data": {
      "text/plain": [
       "49.6945"
      ]
     },
     "execution_count": 29,
     "metadata": {},
     "output_type": "execute_result"
    }
   ],
   "source": [
    "sum(r_guesser)/num_attempts"
   ]
  },
  {
   "cell_type": "code",
   "execution_count": 30,
   "metadata": {
    "collapsed": false
   },
   "outputs": [
    {
     "data": {
      "text/plain": [
       "25.595"
      ]
     },
     "execution_count": 30,
     "metadata": {},
     "output_type": "execute_result"
    }
   ],
   "source": [
    "sum(s_guesser)/num_attempts"
   ]
  },
  {
   "cell_type": "code",
   "execution_count": null,
   "metadata": {
    "collapsed": true
   },
   "outputs": [],
   "source": []
  }
 ],
 "metadata": {
  "kernelspec": {
   "display_name": "Python 3",
   "language": "python",
   "name": "python3"
  },
  "language_info": {
   "codemirror_mode": {
    "name": "ipython",
    "version": 3
   },
   "file_extension": ".py",
   "mimetype": "text/x-python",
   "name": "python",
   "nbconvert_exporter": "python",
   "pygments_lexer": "ipython3",
   "version": "3.6.1"
  }
 },
 "nbformat": 4,
 "nbformat_minor": 2
}
