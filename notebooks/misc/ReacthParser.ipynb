{
 "cells": [
  {
   "cell_type": "code",
   "execution_count": 1,
   "metadata": {
    "collapsed": true
   },
   "outputs": [],
   "source": [
    "import re"
   ]
  },
  {
   "cell_type": "code",
   "execution_count": 71,
   "metadata": {
    "collapsed": false
   },
   "outputs": [],
   "source": [
    "def parse_string(string_to_parse):\n",
    "    parser = re.compile(r\"(<React/)(?P<file>\\w*)(\\.h>)\")\n",
    "    import_files = parser.finditer(string_to_parse)\n",
    "    parsed_string = \"\"\n",
    "    for match_obj in import_files:\n",
    "        file_str = match_obj.group(\"file\")\n",
    "        parsed_string += '#if __has_include(<React/%s.h>)\\n' % file_str\n",
    "        parsed_string += '#import <React/%s.h>\\n' % file_str \n",
    "        parsed_string += '#else // Compatibility for RN version < 0.40\\n'\n",
    "        parsed_string += '#import \"%s.h\"\\n#endif\\n' % file_str\n",
    "    return parsed_string\n",
    "        "
   ]
  },
  {
   "cell_type": "code",
   "execution_count": 72,
   "metadata": {
    "collapsed": false
   },
   "outputs": [],
   "source": [
    "parsed = parse_string(\"#import <React/RCTAnimationType.h>\\\n",
    "#import <React/RCTBorderStyle.h>\\\n",
    "#import <React/RCTDefines.h>\\\n",
    "#import <React/RCTLog.h>\\\n",
    "#import <React/RCTPointerEvents.h>\\\n",
    "#import <React/RCTTextDecorationLineType.h>\")"
   ]
  },
  {
   "cell_type": "code",
   "execution_count": 73,
   "metadata": {
    "collapsed": false
   },
   "outputs": [
    {
     "name": "stdout",
     "output_type": "stream",
     "text": [
      "#if __has_include(<React/RCTAnimationType.h>)\n",
      "#import <React/RCTAnimationType.h>\n",
      "#else // Compatibility for RN version < 0.40\n",
      "#import \"RCTAnimationType.h\"\n",
      "#endif\n",
      "#if __has_include(<React/RCTBorderStyle.h>)\n",
      "#import <React/RCTBorderStyle.h>\n",
      "#else // Compatibility for RN version < 0.40\n",
      "#import \"RCTBorderStyle.h\"\n",
      "#endif\n",
      "#if __has_include(<React/RCTDefines.h>)\n",
      "#import <React/RCTDefines.h>\n",
      "#else // Compatibility for RN version < 0.40\n",
      "#import \"RCTDefines.h\"\n",
      "#endif\n",
      "#if __has_include(<React/RCTLog.h>)\n",
      "#import <React/RCTLog.h>\n",
      "#else // Compatibility for RN version < 0.40\n",
      "#import \"RCTLog.h\"\n",
      "#endif\n",
      "#if __has_include(<React/RCTPointerEvents.h>)\n",
      "#import <React/RCTPointerEvents.h>\n",
      "#else // Compatibility for RN version < 0.40\n",
      "#import \"RCTPointerEvents.h\"\n",
      "#endif\n",
      "#if __has_include(<React/RCTTextDecorationLineType.h>)\n",
      "#import <React/RCTTextDecorationLineType.h>\n",
      "#else // Compatibility for RN version < 0.40\n",
      "#import \"RCTTextDecorationLineType.h\"\n",
      "#endif\n",
      "\n"
     ]
    }
   ],
   "source": [
    "print(parsed)"
   ]
  },
  {
   "cell_type": "code",
   "execution_count": null,
   "metadata": {
    "collapsed": true
   },
   "outputs": [],
   "source": []
  }
 ],
 "metadata": {
  "kernelspec": {
   "display_name": "Python 3",
   "language": "python",
   "name": "python3"
  },
  "language_info": {
   "codemirror_mode": {
    "name": "ipython",
    "version": 3
   },
   "file_extension": ".py",
   "mimetype": "text/x-python",
   "name": "python",
   "nbconvert_exporter": "python",
   "pygments_lexer": "ipython3",
   "version": "3.6.1"
  }
 },
 "nbformat": 4,
 "nbformat_minor": 2
}
