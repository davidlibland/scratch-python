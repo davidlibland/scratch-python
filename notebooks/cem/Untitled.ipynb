{
 "cells": [
  {
   "cell_type": "code",
   "execution_count": 1,
   "metadata": {},
   "outputs": [],
   "source": [
    "import numpy as np\n",
    "import scipy as sp\n",
    "\n",
    "import matplotlib.pyplot as plt\n",
    "import matplotlib.patches as mpatches\n",
    "from matplotlib.collections import PatchCollection\n",
    "\n",
    "from scipy.cluster.vq import vq, kmeans2, whiten"
   ]
  },
  {
   "cell_type": "code",
   "execution_count": 2,
   "metadata": {},
   "outputs": [],
   "source": [
    "def run_cem(cem_iter_func, f, d, p, N, total_iter, cutoff=50):\n",
    "    mu, sigma = np.random.normal(size=[2])*5, np.ones([2])\n",
    "    intermeds = []\n",
    "    for t in range(total_iter):\n",
    "        if len(sigma.shape)==1:\n",
    "            intermeds.append((mu, sigma))\n",
    "        else:\n",
    "            intermeds.append((mu, np.diag(sigma)))\n",
    "        mu, sigma = cem_iter_func(f, d, p, N, mu, sigma, t, total_iter)\n",
    "        if np.any(mu > cutoff):\n",
    "            break\n",
    "    return mu, intermeds\n",
    "        "
   ]
  },
  {
   "cell_type": "code",
   "execution_count": 3,
   "metadata": {},
   "outputs": [],
   "source": [
    "def test_cem(cem_iter_func, f, d, p, N, minima, eps=1e-1, total_iter=1000, cutoff=50, num_tests=30):\n",
    "    iter_num = []\n",
    "    for _ in range(num_tests):\n",
    "        mu, sigma = np.random.normal(size=[2])*5, np.ones([2])\n",
    "        intermeds = []\n",
    "        for t in range(total_iter):\n",
    "            if len(sigma.shape)==1:\n",
    "                intermeds.append((mu, sigma))\n",
    "            else:\n",
    "                intermeds.append((mu, np.diag(sigma)))\n",
    "            mu, sigma = cem_iter_func(f, d, p, N, mu, sigma, t, total_iter)\n",
    "            if np.any(mu > cutoff):\n",
    "                iter_num.append(total_iter)\n",
    "                break\n",
    "            if np.sqrt(np.sum((mu-minima)**2))<eps:\n",
    "                iter_num.append(t)\n",
    "                break\n",
    "    mean_num_iter = np.mean(iter_num)\n",
    "    freq_success = np.sum(np.array(iter_num) < total_iter)/num_tests\n",
    "    return mean_num_iter, freq_success"
   ]
  },
  {
   "cell_type": "code",
   "execution_count": 4,
   "metadata": {},
   "outputs": [],
   "source": [
    "std_proj = np.eye(2)\n",
    "def plot_intermeds(intermeds, f=None, minima=None, proj=std_proj, x_lim=(-20,20), y_lim=(-20,20)):\n",
    "    fig, ax = plt.subplots()\n",
    "    # contour plot f\n",
    "    if f is not None:\n",
    "        pass\n",
    "        ngridx = 100\n",
    "        ngridy = 100\n",
    "        xi = np.linspace(x_lim[0], x_lim[1], ngridx)\n",
    "        yi = np.linspace(y_lim[0], y_lim[1], ngridy)\n",
    "        Xi, Yi = np.meshgrid(xi, yi)\n",
    "        zi = f(np.stack([Xi.flatten(), Yi.flatten()], axis=1)).reshape(Xi.shape)\n",
    "        levels = np.linspace(np.min(zi),np.max(zi),7)\n",
    "#         ax.contour(xi, yi, zi, levels=levels)\n",
    "        ax.contourf(xi, yi, zi, levels=levels, cmap='Reds')\n",
    "    \n",
    "    if minima is not None:\n",
    "        norm_min = np.array(minima).flatten()\n",
    "        ax.scatter([norm_min[0]], [norm_min[1]], color=\"green\")\n",
    "    \n",
    "    patches = []\n",
    "    for pos, std in intermeds:\n",
    "        pos = pos.dot(proj)\n",
    "        std = std.dot(proj)\n",
    "        ellipse = mpatches.Ellipse(pos, std[0], std[1])\n",
    "        patches.append(ellipse)\n",
    "    collection = PatchCollection(patches)\n",
    "    # collection.set_array(np.array(colors))\n",
    "    ax.add_collection(collection)\n",
    "    ax.set_xlim(x_lim)\n",
    "    ax.set_ylim(y_lim)\n",
    "    plt.show()"
   ]
  },
  {
   "cell_type": "code",
   "execution_count": 5,
   "metadata": {},
   "outputs": [],
   "source": [
    "def cem_iter(f, d, p, N, mu, sigma, *args, **kwargs):\n",
    "    X = np.random.normal(size=[N, d])*sigma + mu\n",
    "    Y = f(X)\n",
    "    X_sorted = X[Y.argsort(), :]\n",
    "    num_elite = int(N*p)\n",
    "    Elite = X_sorted[-num_elite:]\n",
    "    mu, sigma = np.mean(Elite, axis=0), np.std(Elite, axis=0)\n",
    "    return mu, sigma"
   ]
  },
  {
   "cell_type": "code",
   "execution_count": 6,
   "metadata": {},
   "outputs": [],
   "source": [
    "def noisy_cem_iter(f, d, p, N, mu, sigma, t, total_iter, *args, **kwargs):\n",
    "    X = np.random.normal(size=[N, d])*sigma + mu\n",
    "    Y = f(X)\n",
    "    X_sorted = X[Y.argsort(), :]\n",
    "    num_elite = int(N*p)\n",
    "    Elite = X_sorted[-num_elite:]\n",
    "    mu = np.mean(Elite, axis=0)\n",
    "    s_t = 1-t/total_iter\n",
    "    sigma_2 = np.mean((Elite - mu[np.newaxis,:])**2+s_t**2, axis=0)\n",
    "    sigma = np.sqrt(sigma_2)\n",
    "    return mu, sigma"
   ]
  },
  {
   "cell_type": "code",
   "execution_count": 7,
   "metadata": {},
   "outputs": [],
   "source": [
    "def cem_cauchy_iter(f, d, p, N, mu, sigma, *args, **kwargs):\n",
    "    X = np.random.standard_cauchy(size=[N, d])*sigma + mu\n",
    "    Y = f(X)\n",
    "    X_sorted = X[Y.argsort(), :]\n",
    "    num_elite = int(N*p)\n",
    "    Elite = X_sorted[-num_elite:]\n",
    "    mu, sigma = np.mean(Elite, axis=0), np.std(Elite, axis=0)\n",
    "    return mu, sigma"
   ]
  },
  {
   "cell_type": "code",
   "execution_count": 8,
   "metadata": {},
   "outputs": [],
   "source": [
    "def cem_modal_iter(f, d, p, N, mu, sigma, *args, **kwargs):\n",
    "    X = np.random.standard_cauchy(size=[N, d])*sigma + mu\n",
    "    Y = f(X)\n",
    "    X_sorted = X[Y.argsort(), :]\n",
    "    num_elite = int(N*p)\n",
    "    Elite = X_sorted[-num_elite:]\n",
    "    k_clus, labels = kmeans2(Elite,5)\n",
    "    k_clus_Y = f(k_clus)\n",
    "    top_i = k_clus_Y.argsort()[-1]\n",
    "    top_choice = k_clus[top_i ,:]\n",
    "    elite_k = Elite[labels==top_i]\n",
    "    mu = top_choice\n",
    "    sigma = np.std(elite_k, axis=0)\n",
    "    return mu, sigma"
   ]
  },
  {
   "cell_type": "code",
   "execution_count": 9,
   "metadata": {},
   "outputs": [],
   "source": [
    "def noisy_cem_no_diag_iter(f, d, p, N, mu, sigma, t, total_iter, *args, **kwargs):\n",
    "    sigma = np.array(sigma)\n",
    "    if len(sigma.shape)==1:\n",
    "        cov = np.diag(sigma)\n",
    "    else:\n",
    "        cov = sigma\n",
    "    X = np.random.multivariate_normal(mu, cov, size=N)\n",
    "    Y = f(X)\n",
    "    X_sorted = X[Y.argsort(), :]\n",
    "    num_elite = int(N*p)\n",
    "    Elite = X_sorted[-num_elite:]\n",
    "    mu = np.mean(Elite, axis=0)\n",
    "    s_t = 1-t/total_iter\n",
    "    cov = np.cov((Elite-mu[np.newaxis,:]).T) + s_t**2\n",
    "    return mu, cov"
   ]
  },
  {
   "cell_type": "code",
   "execution_count": 10,
   "metadata": {},
   "outputs": [],
   "source": [
    "def f1(X):\n",
    "    return np.minimum(X[...,0], 20-X[...,0])\n",
    "d1 = 2\n",
    "minima1=(10,0)"
   ]
  },
  {
   "cell_type": "code",
   "execution_count": 11,
   "metadata": {},
   "outputs": [],
   "source": [
    "A0 = np.random.normal(size=[2,2])\n",
    "A = A0.dot(A0.T)\n",
    "B = np.random.normal(size=[1,2])*5\n",
    "def f2(X, A=A, B=B):\n",
    "    XB= X-B\n",
    "    Y = -np.einsum(\"ij,jk,ik->i\", XB,A,XB)\n",
    "    return Y\n",
    "minima2 = B\n",
    "d2 = 2"
   ]
  },
  {
   "cell_type": "code",
   "execution_count": 12,
   "metadata": {},
   "outputs": [],
   "source": [
    "def f3(X, a=1, b=100):\n",
    "    x = X[...,0]\n",
    "    y = X[...,1]\n",
    "    return -((a-x)**2+b*(y-x**2)**2)\n",
    "minima3 = (1,1**2)\n",
    "d3=2"
   ]
  },
  {
   "cell_type": "markdown",
   "metadata": {},
   "source": [
    "# Standard CEM"
   ]
  },
  {
   "cell_type": "markdown",
   "metadata": {},
   "source": [
    "## Linear function"
   ]
  },
  {
   "cell_type": "code",
   "execution_count": 13,
   "metadata": {},
   "outputs": [
    {
     "data": {
      "image/png": "[encoded data removed]",
      "text/plain": [
       "<Figure size 432x288 with 1 Axes>"
      ]
     },
     "metadata": {},
     "output_type": "display_data"
    },
    {
     "name": "stdout",
     "output_type": "stream",
     "text": [
      "[-0.82250177  2.0480495 ] (10, 0)\n",
      "(nan, 0.0)\n"
     ]
    },
    {
     "name": "stderr",
     "output_type": "stream",
     "text": [
      "/Users/libland/miniconda3/envs/scipy/lib/python3.6/site-packages/numpy/core/fromnumeric.py:2957: RuntimeWarning: Mean of empty slice.\n",
      "  out=out, **kwargs)\n",
      "/Users/libland/miniconda3/envs/scipy/lib/python3.6/site-packages/numpy/core/_methods.py:80: RuntimeWarning: invalid value encountered in double_scalars\n",
      "  ret = ret.dtype.type(ret / rcount)\n"
     ]
    }
   ],
   "source": [
    "mu, inter = run_cem(cem_iter, f1, d1, 0.1, 100, 100)\n",
    "plot_intermeds(inter, f1,minima=minima1)\n",
    "print(mu, minima1)\n",
    "print(test_cem(cem_iter, f1, d1, 0.1, 100, minima1))"
   ]
  },
  {
   "cell_type": "markdown",
   "metadata": {},
   "source": [
    "## Quadratic Function"
   ]
  },
  {
   "cell_type": "code",
   "execution_count": 14,
   "metadata": {},
   "outputs": [
    {
     "data": {
      "image/png": "[encoded data removed]",
      "text/plain": [
       "<Figure size 432x288 with 1 Axes>"
      ]
     },
     "metadata": {},
     "output_type": "display_data"
    },
    {
     "name": "stdout",
     "output_type": "stream",
     "text": [
      "[-3.5968175  -0.49700499] [[-3.46462298 -0.77106068]]\n",
      "(2.0, 0.1)\n"
     ]
    }
   ],
   "source": [
    "mu, inter = run_cem(cem_iter, f2, d2, 0.1, 100, 100)\n",
    "plot_intermeds(inter, f2, minima=minima2)\n",
    "print(mu, minima2)\n",
    "print(test_cem(cem_iter, f2, d2, 0.1, 100, minima2))"
   ]
  },
  {
   "cell_type": "markdown",
   "metadata": {},
   "source": [
    "## Rosenbrock"
   ]
  },
  {
   "cell_type": "code",
   "execution_count": 15,
   "metadata": {},
   "outputs": [
    {
     "data": {
      "image/png": "[encoded data removed]",
      "text/plain": [
       "<Figure size 432x288 with 1 Axes>"
      ]
     },
     "metadata": {},
     "output_type": "display_data"
    },
    {
     "name": "stdout",
     "output_type": "stream",
     "text": [
      "[2.97324101 5.9844479 ] (1, 1)\n",
      "(nan, 0.0)\n"
     ]
    },
    {
     "name": "stderr",
     "output_type": "stream",
     "text": [
      "/Users/libland/miniconda3/envs/scipy/lib/python3.6/site-packages/numpy/core/fromnumeric.py:2957: RuntimeWarning: Mean of empty slice.\n",
      "  out=out, **kwargs)\n",
      "/Users/libland/miniconda3/envs/scipy/lib/python3.6/site-packages/numpy/core/_methods.py:80: RuntimeWarning: invalid value encountered in double_scalars\n",
      "  ret = ret.dtype.type(ret / rcount)\n"
     ]
    }
   ],
   "source": [
    "mu, inter = run_cem(cem_iter, f3, d3, 0.1, 100, 100)\n",
    "plot_intermeds(inter, f3, minima=minima3, x_lim=(-10,10), y_lim=(-10,10))\n",
    "print(mu, minima3)\n",
    "print(test_cem(cem_iter, f3, d3, 0.1, 100, minima3))"
   ]
  },
  {
   "cell_type": "markdown",
   "metadata": {},
   "source": [
    "# Noisy CEM"
   ]
  },
  {
   "cell_type": "markdown",
   "metadata": {},
   "source": [
    "## Linear function"
   ]
  },
  {
   "cell_type": "code",
   "execution_count": 16,
   "metadata": {},
   "outputs": [
    {
     "data": {
      "image/png": "[encoded data removed]",
      "text/plain": [
       "<Figure size 432x288 with 1 Axes>"
      ]
     },
     "metadata": {},
     "output_type": "display_data"
    },
    {
     "name": "stdout",
     "output_type": "stream",
     "text": [
      "[10.00028961 -0.86839029] (10, 0)\n",
      "(124.94444444444444, 0.6)\n"
     ]
    }
   ],
   "source": [
    "mu, inter = run_cem(noisy_cem_iter, f1, d1, 0.1, 100, 100)\n",
    "plot_intermeds(inter, f1, minima=(10,0))\n",
    "print(mu, minima1)\n",
    "print(test_cem(noisy_cem_iter, f1, d1, 0.1, 100, minima1))"
   ]
  },
  {
   "cell_type": "markdown",
   "metadata": {},
   "source": [
    "## Quadratic function"
   ]
  },
  {
   "cell_type": "code",
   "execution_count": 17,
   "metadata": {},
   "outputs": [
    {
     "data": {
      "image/png": "[encoded data removed]",
      "text/plain": [
       "<Figure size 432x288 with 1 Axes>"
      ]
     },
     "metadata": {},
     "output_type": "display_data"
    },
    {
     "name": "stdout",
     "output_type": "stream",
     "text": [
      "[-3.46771754 -0.77167942] [[-3.46462298 -0.77106068]]\n",
      "(4.966666666666667, 1.0)\n"
     ]
    }
   ],
   "source": [
    "mu, inter = run_cem(noisy_cem_iter, f2, d1, 0.1, 100, 100)\n",
    "plot_intermeds(inter, f2, minima=B)\n",
    "print(mu, minima2)\n",
    "print(test_cem(noisy_cem_iter, f2, d2, 0.1, 100, minima2))"
   ]
  },
  {
   "cell_type": "markdown",
   "metadata": {},
   "source": [
    "## Rosenbrock"
   ]
  },
  {
   "cell_type": "code",
   "execution_count": 18,
   "metadata": {},
   "outputs": [
    {
     "data": {
      "image/png": "[encoded data removed]",
      "text/plain": [
       "<Figure size 432x288 with 1 Axes>"
      ]
     },
     "metadata": {},
     "output_type": "display_data"
    },
    {
     "name": "stdout",
     "output_type": "stream",
     "text": [
      "[0.82829833 0.68449703] (1, 1)\n",
      "(452.7, 1.0)\n"
     ]
    }
   ],
   "source": [
    "mu, inter = run_cem(noisy_cem_iter, f3, d3, 0.1, 100, 100)\n",
    "plot_intermeds(inter, f3, minima=minima3, x_lim=(-10,10), y_lim=(-10,10))\n",
    "print(mu, minima3)\n",
    "print(test_cem(noisy_cem_iter, f3, d3, 0.1, 100, minima3))"
   ]
  },
  {
   "cell_type": "markdown",
   "metadata": {},
   "source": [
    "# Cauchy CEM"
   ]
  },
  {
   "cell_type": "markdown",
   "metadata": {},
   "source": [
    "## Linear function"
   ]
  },
  {
   "cell_type": "code",
   "execution_count": 19,
   "metadata": {},
   "outputs": [
    {
     "data": {
      "image/png": "[encoded data removed]",
      "text/plain": [
       "<Figure size 432x288 with 1 Axes>"
      ]
     },
     "metadata": {},
     "output_type": "display_data"
    },
    {
     "name": "stdout",
     "output_type": "stream",
     "text": [
      "[1.00000124e+01 1.14751356e+04] (10, 0)\n",
      "(1000.0, 0.0)\n"
     ]
    }
   ],
   "source": [
    "mu, inter = run_cem(cem_cauchy_iter, f1, d1, 0.1, 100, 100)\n",
    "plot_intermeds(inter, f1,minima=minima1)\n",
    "print(mu, minima1)\n",
    "print(test_cem(cem_cauchy_iter, f1, d1, 0.1, 100, minima1))"
   ]
  },
  {
   "cell_type": "markdown",
   "metadata": {},
   "source": [
    "## Quadratic Function"
   ]
  },
  {
   "cell_type": "code",
   "execution_count": 20,
   "metadata": {},
   "outputs": [
    {
     "data": {
      "image/png": "[encoded data removed]",
      "text/plain": [
       "<Figure size 432x288 with 1 Axes>"
      ]
     },
     "metadata": {},
     "output_type": "display_data"
    },
    {
     "name": "stdout",
     "output_type": "stream",
     "text": [
      "[-3.46462298 -0.77106068] [[-3.46462298 -0.77106068]]\n",
      "(3.7666666666666666, 1.0)\n"
     ]
    }
   ],
   "source": [
    "mu, inter = run_cem(cem_cauchy_iter, f2, d2, 0.1, 100, 100)\n",
    "plot_intermeds(inter, f2, minima=minima2)\n",
    "print(mu, minima2)\n",
    "print(test_cem(cem_cauchy_iter, f2, d2, 0.1, 100, minima2))"
   ]
  },
  {
   "cell_type": "markdown",
   "metadata": {},
   "source": [
    "## Rosenbrock"
   ]
  },
  {
   "cell_type": "code",
   "execution_count": 21,
   "metadata": {},
   "outputs": [
    {
     "data": {
      "image/png": "[encoded data removed]",
      "text/plain": [
       "<Figure size 432x288 with 1 Axes>"
      ]
     },
     "metadata": {},
     "output_type": "display_data"
    },
    {
     "name": "stdout",
     "output_type": "stream",
     "text": [
      "[0.78416834 0.61420459] (1, 1)\n",
      "(430.6, 1.0)\n"
     ]
    }
   ],
   "source": [
    "mu, inter = run_cem(cem_cauchy_iter, f3, d3, 0.1, 100, 100)\n",
    "plot_intermeds(inter, f3, minima=minima3, x_lim=(-10,10), y_lim=(-10,10))\n",
    "print(mu, minima3)\n",
    "print(test_cem(cem_cauchy_iter, f3, d3, 0.1, 100, minima3))"
   ]
  },
  {
   "cell_type": "markdown",
   "metadata": {},
   "source": [
    "# Non-diagonal cauchy CEM"
   ]
  },
  {
   "cell_type": "markdown",
   "metadata": {},
   "source": [
    "## Linear function"
   ]
  },
  {
   "cell_type": "code",
   "execution_count": 22,
   "metadata": {},
   "outputs": [
    {
     "data": {
      "image/png": "[encoded data removed]",
      "text/plain": [
       "<Figure size 432x288 with 1 Axes>"
      ]
     },
     "metadata": {},
     "output_type": "display_data"
    },
    {
     "name": "stdout",
     "output_type": "stream",
     "text": [
      "[10.00008242  7.83195341] (10, 0)\n",
      "(16.25, 0.13333333333333333)\n"
     ]
    }
   ],
   "source": [
    "mu, inter = run_cem(noisy_cem_no_diag_iter, f1, d1, 0.1, 100, 100)\n",
    "plot_intermeds(inter, f1,minima=minima1)\n",
    "print(mu, minima1)\n",
    "print(test_cem(noisy_cem_no_diag_iter, f1, d1, 0.1, 100, minima1))"
   ]
  },
  {
   "cell_type": "markdown",
   "metadata": {},
   "source": [
    "## Quadratic Function"
   ]
  },
  {
   "cell_type": "code",
   "execution_count": 23,
   "metadata": {},
   "outputs": [
    {
     "data": {
      "image/png": "[encoded data removed]",
      "text/plain": [
       "<Figure size 432x288 with 1 Axes>"
      ]
     },
     "metadata": {},
     "output_type": "display_data"
    },
    {
     "name": "stdout",
     "output_type": "stream",
     "text": [
      "[-3.45254556 -0.78917492] [[-3.46462298 -0.77106068]]\n",
      "(3.1666666666666665, 0.2)\n"
     ]
    }
   ],
   "source": [
    "mu, inter = run_cem(noisy_cem_no_diag_iter, f2, d2, 0.1, 100, 100)\n",
    "plot_intermeds(inter, f2, minima=minima2)\n",
    "print(mu, minima2)\n",
    "print(test_cem(noisy_cem_no_diag_iter, f2, d2, 0.1, 100, minima2))"
   ]
  },
  {
   "cell_type": "markdown",
   "metadata": {},
   "source": [
    "## Rosenbrock"
   ]
  },
  {
   "cell_type": "code",
   "execution_count": 24,
   "metadata": {},
   "outputs": [
    {
     "data": {
      "image/png": "[encoded data removed]",
      "text/plain": [
       "<Figure size 432x288 with 1 Axes>"
      ]
     },
     "metadata": {},
     "output_type": "display_data"
    },
    {
     "name": "stdout",
     "output_type": "stream",
     "text": [
      "[0.68917505 0.46722679] (1, 1)\n",
      "(6.5, 0.06666666666666667)\n"
     ]
    }
   ],
   "source": [
    "mu, inter = run_cem(noisy_cem_no_diag_iter, f3, d3, 0.1, 100, 100)\n",
    "plot_intermeds(inter, f3, minima=minima3, x_lim=(-10,10), y_lim=(-10,10))\n",
    "print(mu, minima3)\n",
    "print(test_cem(noisy_cem_no_diag_iter, f3, d3, 0.1, 100, minima3))"
   ]
  },
  {
   "cell_type": "code",
   "execution_count": null,
   "metadata": {},
   "outputs": [],
   "source": []
  }
 ],
 "metadata": {
  "kernelspec": {
   "display_name": "Python [conda env:scipy]",
   "language": "python",
   "name": "conda-env-scipy-py"
  },
  "language_info": {
   "codemirror_mode": {
    "name": "ipython",
    "version": 3
   },
   "file_extension": ".py",
   "mimetype": "text/x-python",
   "name": "python",
   "nbconvert_exporter": "python",
   "pygments_lexer": "ipython3",
   "version": "3.6.5"
  }
 },
 "nbformat": 4,
 "nbformat_minor": 2
}
