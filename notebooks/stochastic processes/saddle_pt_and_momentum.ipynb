{
 "cells": [
  {
   "cell_type": "code",
   "execution_count": 1,
   "metadata": {},
   "outputs": [],
   "source": [
    "import sympy as sp\n",
    "import numpy as np\n",
    "import scipy.integrate\n",
    "import matplotlib.pyplot as plt\n",
    "sp.init_printing() # doctest: +SKIP"
   ]
  },
  {
   "cell_type": "code",
   "execution_count": 5,
   "metadata": {},
   "outputs": [],
   "source": [
    "from sympy.abc import X, Y, Z, sigma, rho, a, tau, W, U, V, t, omega, mu, p, q, theta, nu, gamma, alpha, beta, lamda"
   ]
  },
  {
   "cell_type": "code",
   "execution_count": 175,
   "metadata": {},
   "outputs": [],
   "source": [
    "F = sp.Function(\"F\")\n",
    "P = sp.Function(\"P\")\n",
    "Alpha = sp.Function(\"A\")\n",
    "Beta = sp.Function(\"B\")"
   ]
  },
  {
   "cell_type": "code",
   "execution_count": 139,
   "metadata": {},
   "outputs": [
    {
     "data": {
      "image/png": "[encoded data removed]",
      "text/latex": [
       "$$\\frac{\\gamma \\left(Y^{2} \\sigma^{2} + \\omega^{2}\\right)}{2}$$"
      ],
      "text/plain": [
       "  ⎛ 2  2    2⎞\n",
       "γ⋅⎝Y ⋅σ  + ω ⎠\n",
       "──────────────\n",
       "      2       "
      ]
     },
     "execution_count": 139,
     "metadata": {},
     "output_type": "execute_result"
    }
   ],
   "source": [
    "D = gamma/2*(sigma**2*Y**2+omega**2)\n",
    "D"
   ]
  },
  {
   "cell_type": "code",
   "execution_count": 140,
   "metadata": {},
   "outputs": [
    {
     "data": {
      "image/png": "[encoded data removed]",
      "text/latex": [
       "$$- V \\gamma + a \\left(Y - \\lambda\\right)$$"
      ],
      "text/plain": [
       "-V⋅γ + a⋅(Y - λ)"
      ]
     },
     "execution_count": 140,
     "metadata": {},
     "output_type": "execute_result"
    }
   ],
   "source": [
    "mu = a*(Y-lamda)-gamma*V\n",
    "mu"
   ]
  },
  {
   "cell_type": "code",
   "execution_count": 148,
   "metadata": {},
   "outputs": [
    {
     "data": {
      "image/png": "[encoded data removed]",
      "text/latex": [
       "$$- \\frac{V \\gamma \\left(Y^{2} \\sigma^{2} + \\omega^{2}\\right) A{\\left (Y \\right )} F{\\left (Y \\right )}}{2} + \\left(V \\gamma - a \\left(Y - \\lambda\\right)\\right) F{\\left (Y \\right )} + \\frac{\\frac{d}{d Y} F{\\left (Y \\right )}}{A{\\left (Y \\right )}} - \\frac{F{\\left (Y \\right )} \\frac{d}{d Y} A{\\left (Y \\right )}}{A^{2}{\\left (Y \\right )}}$$"
      ],
      "text/plain": [
       "                                                        d               d     \n",
       "      ⎛ 2  2    2⎞                                      ──(F(Y))   F(Y)⋅──(A(Y\n",
       "  V⋅γ⋅⎝Y ⋅σ  + ω ⎠⋅A(Y)⋅F(Y)                            dY              dY    \n",
       "- ────────────────────────── + (V⋅γ - a⋅(Y - λ))⋅F(Y) + ──────── - ───────────\n",
       "              2                                           A(Y)          2     \n",
       "                                                                       A (Y)  \n",
       "\n",
       "  \n",
       "))\n",
       "  \n",
       "──\n",
       "  \n",
       "  "
      ]
     },
     "execution_count": 148,
     "metadata": {},
     "output_type": "execute_result"
    }
   ],
   "source": [
    "flux = -mu*F(Y)+(F(Y)/Alpha(Y)).diff(Y)-V*D*F(Y)*Alpha(Y)\n",
    "flux"
   ]
  },
  {
   "cell_type": "code",
   "execution_count": 142,
   "metadata": {},
   "outputs": [
    {
     "data": {
      "image/png": "[encoded data removed]",
      "text/latex": [
       "$$- V \\frac{\\partial}{\\partial Y} P{\\left (Y,V \\right )} + \\frac{\\gamma \\left(Y^{2} \\sigma^{2} + \\omega^{2}\\right) \\frac{\\partial^{2}}{\\partial V^{2}} P{\\left (Y,V \\right )}}{2} + \\gamma P{\\left (Y,V \\right )} - \\left(- V \\gamma + a \\left(Y - \\lambda\\right)\\right) \\frac{\\partial}{\\partial V} P{\\left (Y,V \\right )}$$"
      ],
      "text/plain": [
       "                                   2                                          \n",
       "                    ⎛ 2  2    2⎞  ∂                                           \n",
       "                  γ⋅⎝Y ⋅σ  + ω ⎠⋅───(P(Y, V))                                 \n",
       "                                   2                                          \n",
       "    ∂                            ∂V                                           \n",
       "- V⋅──(P(Y, V)) + ─────────────────────────── + γ⋅P(Y, V) - (-V⋅γ + a⋅(Y - λ))\n",
       "    ∂Y                         2                                              \n",
       "\n",
       "            \n",
       "            \n",
       "            \n",
       "            \n",
       " ∂          \n",
       "⋅──(P(Y, V))\n",
       " ∂V         "
      ]
     },
     "execution_count": 142,
     "metadata": {},
     "output_type": "execute_result"
    }
   ],
   "source": [
    "fk = -(mu*P(Y,V)).diff(V)-(V*P(Y,V)).diff(Y)+(D*P(Y,V)).diff(V,V)\n",
    "fk"
   ]
  },
  {
   "cell_type": "code",
   "execution_count": 172,
   "metadata": {},
   "outputs": [
    {
     "data": {
      "image/png": "[encoded data removed]",
      "text/latex": [
       "$$\\frac{V^{3} F{\\left (Y \\right )} e^{- \\frac{V^{2} A{\\left (Y \\right )}}{2}} \\frac{d}{d Y} A{\\left (Y \\right )}}{2} + V \\left(- V \\gamma + a \\left(Y - \\lambda\\right)\\right) A{\\left (Y \\right )} F{\\left (Y \\right )} e^{- \\frac{V^{2} A{\\left (Y \\right )}}{2}} - V e^{- \\frac{V^{2} A{\\left (Y \\right )}}{2}} \\frac{d}{d Y} F{\\left (Y \\right )} - \\frac{\\gamma \\left(Y^{2} \\sigma^{2} + \\omega^{2}\\right) \\left(- V^{2} A^{2}{\\left (Y \\right )} F{\\left (Y \\right )} e^{- \\frac{V^{2} A{\\left (Y \\right )}}{2}} + A{\\left (Y \\right )} F{\\left (Y \\right )} e^{- \\frac{V^{2} A{\\left (Y \\right )}}{2}}\\right)}{2}$$"
      ],
      "text/plain": [
       "           2                                                                  \n",
       "         -V ⋅A(Y)                                                             \n",
       "         ─────────                                              2             \n",
       " 3           2     d                                          -V ⋅A(Y)       -\n",
       "V ⋅F(Y)⋅ℯ         ⋅──(A(Y))                                   ─────────      ─\n",
       "                   dY                                             2           \n",
       "─────────────────────────── + V⋅(-V⋅γ + a⋅(Y - λ))⋅A(Y)⋅F(Y)⋅ℯ          - V⋅ℯ \n",
       "             2                                                                \n",
       "\n",
       "                                                                              \n",
       "                                   ⎛                   2                      \n",
       " 2                                 ⎜                 -V ⋅A(Y)               -V\n",
       "V ⋅A(Y)                            ⎜                 ─────────              ──\n",
       "────────              ⎛ 2  2    2⎞ ⎜   2  2              2                    \n",
       "   2     d          γ⋅⎝Y ⋅σ  + ω ⎠⋅⎝- V ⋅A (Y)⋅F(Y)⋅ℯ          + A(Y)⋅F(Y)⋅ℯ  \n",
       "        ⋅──(F(Y)) - ──────────────────────────────────────────────────────────\n",
       "         dY                                         2                         \n",
       "\n",
       "        \n",
       "2      ⎞\n",
       " ⋅A(Y) ⎟\n",
       "───────⎟\n",
       "  2    ⎟\n",
       "       ⎠\n",
       "────────\n",
       "        "
      ]
     },
     "execution_count": 172,
     "metadata": {},
     "output_type": "execute_result"
    }
   ],
   "source": [
    "fk_1 = (mu*V*Alpha(Y)*F(Y)*sp.exp(-Alpha(Y)* V**2/2)) \\\n",
    "    -(V*F(Y)*sp.exp(-Alpha(Y)* V**2/2)).diff(Y) \\\n",
    "    -(D*(Alpha(Y)*F(Y)*sp.exp(-Alpha(Y)* V**2/2)- V**2*Alpha(Y)**2*F(Y)*sp.exp(-Alpha(Y)* V**2/2)))\n",
    "fk_1"
   ]
  },
  {
   "cell_type": "code",
   "execution_count": 162,
   "metadata": {},
   "outputs": [
    {
     "data": {
      "image/png": "[encoded data removed]",
      "text/latex": [
       "$$\\left(\\frac{V^{3} F{\\left (Y \\right )} \\frac{d}{d Y} A{\\left (Y \\right )}}{2} - V \\left(V \\gamma - a \\left(Y - \\lambda\\right)\\right) A{\\left (Y \\right )} F{\\left (Y \\right )} - V \\frac{d}{d Y} F{\\left (Y \\right )} - \\frac{\\gamma \\left(V^{2} A{\\left (Y \\right )} - 1\\right) \\left(Y^{2} \\sigma^{2} + \\omega^{2}\\right) A{\\left (Y \\right )} F{\\left (Y \\right )}}{2} - \\gamma F{\\left (Y \\right )} + \\frac{\\left(2 V \\frac{\\partial}{\\partial Y} F{\\left (Y \\right )} e^{- \\frac{V^{2} A{\\left (Y \\right )}}{2}} - \\gamma \\left(Y^{2} \\sigma^{2} + \\omega^{2}\\right) \\frac{\\partial^{2}}{\\partial V^{2}} F{\\left (Y \\right )} e^{- \\frac{V^{2} A{\\left (Y \\right )}}{2}} - 2 \\left(V \\gamma - a \\left(Y - \\lambda\\right)\\right) \\frac{\\partial}{\\partial V} F{\\left (Y \\right )} e^{- \\frac{V^{2} A{\\left (Y \\right )}}{2}}\\right) e^{\\frac{V^{2} A{\\left (Y \\right )}}{2}}}{2}\\right) e^{- \\frac{V^{2} A{\\left (Y \\right )}}{2}}$$"
      ],
      "text/plain": [
       "⎛                                                                             \n",
       "⎜                                                                             \n",
       "⎜                                                                             \n",
       "⎜                                                                             \n",
       "⎜ 3      d                                                                    \n",
       "⎜V ⋅F(Y)⋅──(A(Y))                                                  ⎛ 2        \n",
       "⎜        dY                                           d          γ⋅⎝V ⋅A(Y) - \n",
       "⎜──────────────── - V⋅(V⋅γ - a⋅(Y - λ))⋅A(Y)⋅F(Y) - V⋅──(F(Y)) - ─────────────\n",
       "⎝       2                                             dY                      \n",
       "\n",
       "                                     ⎛      ⎛        2      ⎞                 \n",
       "                                     ⎜      ⎜      -V ⋅A(Y) ⎟                 \n",
       "                                     ⎜      ⎜      ─────────⎟                 \n",
       "                                     ⎜    ∂ ⎜          2    ⎟     ⎛ 2  2    2⎞\n",
       "                                     ⎜2⋅V⋅──⎝F(Y)⋅ℯ         ⎠ - γ⋅⎝Y ⋅σ  + ω ⎠\n",
       " ⎞ ⎛ 2  2    2⎞                      ⎜    ∂Y                                  \n",
       "1⎠⋅⎝Y ⋅σ  + ω ⎠⋅A(Y)⋅F(Y)            ⎝                                        \n",
       "───────────────────────── - γ⋅F(Y) + ─────────────────────────────────────────\n",
       "     2                                                                        \n",
       "\n",
       "    ⎛        2      ⎞                         ⎛        2      ⎞⎞   2     ⎞    \n",
       "    ⎜      -V ⋅A(Y) ⎟                         ⎜      -V ⋅A(Y) ⎟⎟  V ⋅A(Y)⎟    \n",
       "   2⎜      ─────────⎟                         ⎜      ─────────⎟⎟  ───────⎟    \n",
       "  ∂ ⎜          2    ⎟                       ∂ ⎜          2    ⎟⎟     2   ⎟    \n",
       "⋅───⎝F(Y)⋅ℯ         ⎠ - 2⋅(V⋅γ - a⋅(Y - λ))⋅──⎝F(Y)⋅ℯ         ⎠⎟⋅ℯ       ⎟  -V\n",
       "   2                                        ∂V                 ⎟         ⎟  ──\n",
       " ∂V                                                            ⎠         ⎟    \n",
       "─────────────────────────────────────────────────────────────────────────⎟⋅ℯ  \n",
       "               2                                                         ⎠    \n",
       "\n",
       "       \n",
       "       \n",
       "       \n",
       "2      \n",
       " ⋅A(Y) \n",
       "───────\n",
       "  2    \n",
       "       \n",
       "       "
      ]
     },
     "execution_count": 162,
     "metadata": {},
     "output_type": "execute_result"
    }
   ],
   "source": [
    "sp.simplify(fk_1 - fk.subs({P(Y,V): F(Y)*sp.exp(-Alpha(Y)* V**2/2)}))"
   ]
  },
  {
   "cell_type": "code",
   "execution_count": 163,
   "metadata": {},
   "outputs": [
    {
     "data": {
      "image/png": "[encoded data removed]",
      "text/latex": [
       "$$- V \\left(V \\gamma - a \\left(Y - \\lambda\\right)\\right) A{\\left (Y \\right )} P{\\left (Y,V \\right )} - V \\frac{\\partial}{\\partial Y} P{\\left (Y,V \\right )} + \\frac{\\gamma \\left(Y^{2} \\sigma^{2} + \\omega^{2}\\right) \\frac{\\partial}{\\partial V} \\left(- V A{\\left (Y \\right )} P{\\left (Y,V \\right )}\\right)}{2} + \\gamma P{\\left (Y,V \\right )}$$"
      ],
      "text/plain": [
       "                                                      ⎛ 2  2    2⎞ ∂          \n",
       "                                                    γ⋅⎝Y ⋅σ  + ω ⎠⋅──(-V⋅A(Y)⋅\n",
       "                                      ∂                            ∂V         \n",
       "-V⋅(V⋅γ - a⋅(Y - λ))⋅A(Y)⋅P(Y, V) - V⋅──(P(Y, V)) + ──────────────────────────\n",
       "                                      ∂Y                            2         \n",
       "\n",
       "                    \n",
       "P(Y, V))            \n",
       "                    \n",
       "──────── + γ⋅P(Y, V)\n",
       "                    "
      ]
     },
     "execution_count": 163,
     "metadata": {},
     "output_type": "execute_result"
    }
   ],
   "source": [
    "sp.simplify(fk.subs({\n",
    "#     P(Y,V): F(Y)*sp.exp(-Alpha(Y)* V**2/2), \n",
    "    (P(Y,V)).diff(V): -Alpha(Y)*V*P(Y,V)\n",
    "}))"
   ]
  },
  {
   "cell_type": "code",
   "execution_count": 164,
   "metadata": {},
   "outputs": [
    {
     "data": {
      "image/png": "[encoded data removed]",
      "text/latex": [
       "$$\\frac{\\left(V \\left(\\left(V \\gamma \\left(Y^{2} \\sigma^{2} + \\omega^{2}\\right) A{\\left (Y \\right )} - 2 V \\gamma + 2 a \\left(Y - \\lambda\\right)\\right) A^{2}{\\left (Y \\right )} F{\\left (Y \\right )} - 2 A{\\left (Y \\right )} \\frac{d}{d Y} F{\\left (Y \\right )} + 2 F{\\left (Y \\right )} \\frac{d}{d Y} A{\\left (Y \\right )}\\right) + \\gamma \\left(- \\left(Y^{2} \\sigma^{2} + \\omega^{2}\\right) A{\\left (Y \\right )} + 2\\right) A{\\left (Y \\right )} F{\\left (Y \\right )}\\right) e^{- \\frac{V^{2} A{\\left (Y \\right )}}{2}}}{2 A{\\left (Y \\right )}}$$"
      ],
      "text/plain": [
       "                                                                              \n",
       "                                                                              \n",
       "                                                                              \n",
       "⎛  ⎛⎛    ⎛ 2  2    2⎞                           ⎞  2                  d       \n",
       "⎜V⋅⎜⎝V⋅γ⋅⎝Y ⋅σ  + ω ⎠⋅A(Y) - 2⋅V⋅γ + 2⋅a⋅(Y - λ)⎠⋅A (Y)⋅F(Y) - 2⋅A(Y)⋅──(F(Y))\n",
       "⎝  ⎝                                                                  dY      \n",
       "──────────────────────────────────────────────────────────────────────────────\n",
       "                                                                        2⋅A(Y)\n",
       "\n",
       "                                                                2      \n",
       "                                                              -V ⋅A(Y) \n",
       "                                                              ─────────\n",
       "          d       ⎞     ⎛  ⎛ 2  2    2⎞         ⎞          ⎞      2    \n",
       " + 2⋅F(Y)⋅──(A(Y))⎟ + γ⋅⎝- ⎝Y ⋅σ  + ω ⎠⋅A(Y) + 2⎠⋅A(Y)⋅F(Y)⎟⋅ℯ         \n",
       "          dY      ⎠                                        ⎠           \n",
       "───────────────────────────────────────────────────────────────────────\n",
       "                                                                       "
      ]
     },
     "execution_count": 164,
     "metadata": {},
     "output_type": "execute_result"
    }
   ],
   "source": [
    "sp.simplify((flux*sp.exp(-Alpha(Y)* V**2/2)).subs({\n",
    "#     F(Y)*sp.exp(-Alpha(Y)* V**2/2): P(Y,V)\n",
    "}).diff(V))"
   ]
  },
  {
   "cell_type": "code",
   "execution_count": 171,
   "metadata": {},
   "outputs": [
    {
     "data": {
      "image/png": "[encoded data removed]",
      "text/latex": [
       "$$\\frac{\\left(- V^{3} A{\\left (Y \\right )} \\frac{d}{d Y} A{\\left (Y \\right )} + 2 V \\frac{d}{d Y} A{\\left (Y \\right )} + 2 \\gamma A{\\left (Y \\right )}\\right) F{\\left (Y \\right )} e^{- \\frac{V^{2} A{\\left (Y \\right )}}{2}}}{2 A{\\left (Y \\right )}}$$"
      ],
      "text/plain": [
       "                                                       2      \n",
       "                                                     -V ⋅A(Y) \n",
       "                                                     ─────────\n",
       "⎛   3      d              d                  ⎞           2    \n",
       "⎜- V ⋅A(Y)⋅──(A(Y)) + 2⋅V⋅──(A(Y)) + 2⋅γ⋅A(Y)⎟⋅F(Y)⋅ℯ         \n",
       "⎝          dY             dY                 ⎠                \n",
       "──────────────────────────────────────────────────────────────\n",
       "                            2⋅A(Y)                            "
      ]
     },
     "execution_count": 171,
     "metadata": {},
     "output_type": "execute_result"
    }
   ],
   "source": [
    "sp.simplify(((flux*sp.exp(-Alpha(Y)* V**2/2)).diff(V) - fk_1))"
   ]
  },
  {
   "cell_type": "code",
   "execution_count": 154,
   "metadata": {},
   "outputs": [
    {
     "data": {
      "image/png": "[encoded data removed]",
      "text/latex": [
       "$$0$$"
      ],
      "text/plain": [
       "0"
      ]
     },
     "execution_count": 154,
     "metadata": {},
     "output_type": "execute_result"
    }
   ],
   "source": [
    "F(Y).diff(V)"
   ]
  },
  {
   "cell_type": "code",
   "execution_count": 69,
   "metadata": {},
   "outputs": [
    {
     "data": {
      "image/png": "[encoded data removed]",
      "text/latex": [
       "$$- V \\left(0.5 Y^{2} \\sigma^{2} + 0.5 \\omega^{2}\\right) A{\\left (Y \\right )} F{\\left (Y \\right )} + \\left(V \\gamma - a \\left(Y - \\lambda\\right)\\right) F{\\left (Y \\right )} + \\frac{\\frac{d}{d Y} F{\\left (Y \\right )}}{A{\\left (Y \\right )}} - \\frac{F{\\left (Y \\right )} \\frac{d}{d Y} A{\\left (Y \\right )}}{A^{2}{\\left (Y \\right )}}$$"
      ],
      "text/plain": [
       "                                                              d               \n",
       "                                                              ──(F(Y))   F(Y)⋅\n",
       "    ⎛     2  2        2⎞                                      dY              \n",
       "- V⋅⎝0.5⋅Y ⋅σ  + 0.5⋅ω ⎠⋅A(Y)⋅F(Y) + (V⋅γ - a⋅(Y - λ))⋅F(Y) + ──────── - ─────\n",
       "                                                                A(Y)          \n",
       "                                                                             A\n",
       "\n",
       "d       \n",
       "──(A(Y))\n",
       "dY      \n",
       "────────\n",
       "2       \n",
       " (Y)    "
      ]
     },
     "execution_count": 69,
     "metadata": {},
     "output_type": "execute_result"
    }
   ],
   "source": [
    "flux"
   ]
  },
  {
   "cell_type": "code",
   "execution_count": 70,
   "metadata": {},
   "outputs": [
    {
     "data": {
      "image/png": "[encoded data removed]",
      "text/latex": [
       "$$\\frac{- a \\gamma^{2} \\left(Y - \\lambda\\right) F{\\left (Y \\right )} + 0.5 \\gamma \\left(Y^{2} \\sigma^{2} + \\omega^{2}\\right) \\frac{d}{d Y} F{\\left (Y \\right )} - 0.25 \\left(Y^{2} \\sigma^{2} + \\omega^{2}\\right)^{2} F{\\left (Y \\right )} \\frac{\\partial}{\\partial Y} \\frac{2.0 \\gamma}{Y^{2} \\sigma^{2} + \\omega^{2}}}{\\gamma^{2}}$$"
      ],
      "text/plain": [
       "                                                                     2        \n",
       "     2                      ⎛ 2  2    2⎞ d               ⎛ 2  2    2⎞       ∂ \n",
       "- a⋅γ ⋅(Y - λ)⋅F(Y) + 0.5⋅γ⋅⎝Y ⋅σ  + ω ⎠⋅──(F(Y)) - 0.25⋅⎝Y ⋅σ  + ω ⎠ ⋅F(Y)⋅──\n",
       "                                         dY                                 ∂Y\n",
       "                                                                              \n",
       "──────────────────────────────────────────────────────────────────────────────\n",
       "                                             2                                \n",
       "                                            γ                                 \n",
       "\n",
       "            \n",
       "⎛  2.0⋅γ   ⎞\n",
       "⎜──────────⎟\n",
       "⎜ 2  2    2⎟\n",
       "⎝Y ⋅σ  + ω ⎠\n",
       "────────────\n",
       "            \n",
       "            "
      ]
     },
     "execution_count": 70,
     "metadata": {},
     "output_type": "execute_result"
    }
   ],
   "source": [
    "flux_c = sp.simplify(flux.subs({Alpha(Y): gamma/D}))\n",
    "flux_c"
   ]
  },
  {
   "cell_type": "code",
   "execution_count": 71,
   "metadata": {},
   "outputs": [],
   "source": [
    "integrand = sp.solve(flux_c, F(Y).diff(Y))[0]/F(Y)"
   ]
  },
  {
   "cell_type": "code",
   "execution_count": 72,
   "metadata": {},
   "outputs": [
    {
     "data": {
      "image/png": "[encoded data removed]",
      "text/latex": [
       "$$\\frac{0.5 \\left(4.0 Y a \\gamma^{2} - 4.0 a \\gamma^{2} \\lambda + \\left(Y^{2} \\sigma^{2} + \\omega^{2}\\right)^{2} \\frac{\\partial}{\\partial Y} \\frac{2 \\gamma}{Y^{2} \\sigma^{2} + \\omega^{2}}\\right)}{\\gamma \\left(Y^{2} \\sigma^{2} + \\omega^{2}\\right)}$$"
      ],
      "text/plain": [
       "    ⎛                                      2               ⎞\n",
       "    ⎜         2          2     ⎛ 2  2    2⎞  ∂ ⎛   2⋅γ    ⎞⎟\n",
       "0.5⋅⎜4.0⋅Y⋅a⋅γ  - 4.0⋅a⋅γ ⋅λ + ⎝Y ⋅σ  + ω ⎠ ⋅──⎜──────────⎟⎟\n",
       "    ⎜                                        ∂Y⎜ 2  2    2⎟⎟\n",
       "    ⎝                                          ⎝Y ⋅σ  + ω ⎠⎠\n",
       "────────────────────────────────────────────────────────────\n",
       "                         ⎛ 2  2    2⎞                       \n",
       "                       γ⋅⎝Y ⋅σ  + ω ⎠                       "
      ]
     },
     "execution_count": 72,
     "metadata": {},
     "output_type": "execute_result"
    }
   ],
   "source": [
    "integrand"
   ]
  },
  {
   "cell_type": "code",
   "execution_count": 73,
   "metadata": {},
   "outputs": [
    {
     "data": {
      "image/png": "[encoded data removed]",
      "text/latex": [
       "$$- V \\left(0.5 Y^{2} \\sigma^{2} + 0.5 \\omega^{2}\\right) A{\\left (Y \\right )} F{\\left (Y \\right )} + \\left(V \\gamma - a \\left(Y - \\lambda\\right)\\right) F{\\left (Y \\right )} + \\frac{\\frac{d}{d Y} F{\\left (Y \\right )}}{A{\\left (Y \\right )}} - \\frac{F{\\left (Y \\right )} \\frac{d}{d Y} A{\\left (Y \\right )}}{A^{2}{\\left (Y \\right )}}$$"
      ],
      "text/plain": [
       "                                                              d               \n",
       "                                                              ──(F(Y))   F(Y)⋅\n",
       "    ⎛     2  2        2⎞                                      dY              \n",
       "- V⋅⎝0.5⋅Y ⋅σ  + 0.5⋅ω ⎠⋅A(Y)⋅F(Y) + (V⋅γ - a⋅(Y - λ))⋅F(Y) + ──────── - ─────\n",
       "                                                                A(Y)          \n",
       "                                                                             A\n",
       "\n",
       "d       \n",
       "──(A(Y))\n",
       "dY      \n",
       "────────\n",
       "2       \n",
       " (Y)    "
      ]
     },
     "execution_count": 73,
     "metadata": {},
     "output_type": "execute_result"
    }
   ],
   "source": [
    "flux"
   ]
  },
  {
   "cell_type": "code",
   "execution_count": 75,
   "metadata": {},
   "outputs": [],
   "source": [
    "soln = sp.integrate(integrand, Y)"
   ]
  },
  {
   "cell_type": "code",
   "execution_count": 76,
   "metadata": {},
   "outputs": [],
   "source": [
    "simp_soln = sp.simplify(soln)"
   ]
  },
  {
   "cell_type": "code",
   "execution_count": 77,
   "metadata": {},
   "outputs": [
    {
     "data": {
      "text/latex": [
       "$$\\begin{cases} \\frac{1.0 Y^{2} a \\gamma}{\\omega^{2}} - \\frac{2.0 a \\gamma \\lambda \\operatorname{atan}{\\left (\\frac{1.0 Y}{\\sqrt{\\frac{\\omega^{2}}{\\sigma^{2}}}} \\right )}}{\\sigma^{2} \\sqrt{\\frac{\\omega^{2}}{\\sigma^{2}}}} - 1.0 \\log{\\left (Y^{2} \\sigma^{2} + \\omega^{2} \\right )} & \\text{for}\\: \\sigma^{2} = 0 \\wedge \\frac{1.0 \\omega^{2}}{\\sigma^{2}} > 0 \\\\\\frac{1.0 Y^{2} a \\gamma}{\\omega^{2}} + \\frac{2.0 a \\gamma \\lambda \\operatorname{acoth}{\\left (\\frac{1.0 Y}{\\sqrt{- \\frac{\\omega^{2}}{\\sigma^{2}}}} \\right )}}{\\sigma^{2} \\sqrt{- \\frac{\\omega^{2}}{\\sigma^{2}}}} - 1.0 \\log{\\left (Y^{2} \\sigma^{2} + \\omega^{2} \\right )} & \\text{for}\\: \\sigma^{2} = 0 \\wedge Y^{2} > - \\frac{1.0 \\omega^{2}}{\\sigma^{2}} \\wedge \\frac{1.0 \\omega^{2}}{\\sigma^{2}} < 0 \\\\\\frac{1.0 Y^{2} a \\gamma}{\\omega^{2}} + \\frac{2.0 a \\gamma \\lambda \\operatorname{atanh}{\\left (\\frac{1.0 Y}{\\sqrt{- \\frac{\\omega^{2}}{\\sigma^{2}}}} \\right )}}{\\sigma^{2} \\sqrt{- \\frac{\\omega^{2}}{\\sigma^{2}}}} - 1.0 \\log{\\left (Y^{2} \\sigma^{2} + \\omega^{2} \\right )} & \\text{for}\\: \\sigma^{2} = 0 \\wedge Y^{2} < - \\frac{1.0 \\omega^{2}}{\\sigma^{2}} \\wedge \\frac{1.0 \\omega^{2}}{\\sigma^{2}} < 0 \\\\- \\frac{2.0 a \\gamma \\lambda \\operatorname{atan}{\\left (\\frac{1.0 Y}{\\sqrt{\\frac{\\omega^{2}}{\\sigma^{2}}}} \\right )}}{\\sigma^{2} \\sqrt{\\frac{\\omega^{2}}{\\sigma^{2}}}} + \\frac{1.0 a \\gamma \\log{\\left (Y^{2} \\sigma^{2} + \\omega^{2} \\right )}}{\\sigma^{2}} - 1.0 \\log{\\left (Y^{2} \\sigma^{2} + \\omega^{2} \\right )} & \\text{for}\\: \\frac{1.0 \\omega^{2}}{\\sigma^{2}} > 0 \\\\\\frac{2.0 a \\gamma \\lambda \\operatorname{acoth}{\\left (\\frac{1.0 Y}{\\sqrt{- \\frac{\\omega^{2}}{\\sigma^{2}}}} \\right )}}{\\sigma^{2} \\sqrt{- \\frac{\\omega^{2}}{\\sigma^{2}}}} + \\frac{1.0 a \\gamma \\log{\\left (Y^{2} \\sigma^{2} + \\omega^{2} \\right )}}{\\sigma^{2}} - 1.0 \\log{\\left (Y^{2} \\sigma^{2} + \\omega^{2} \\right )} & \\text{for}\\: Y^{2} > - \\frac{1.0 \\omega^{2}}{\\sigma^{2}} \\wedge \\frac{1.0 \\omega^{2}}{\\sigma^{2}} < 0 \\\\\\frac{2.0 a \\gamma \\lambda \\operatorname{atanh}{\\left (\\frac{1.0 Y}{\\sqrt{- \\frac{\\omega^{2}}{\\sigma^{2}}}} \\right )}}{\\sigma^{2} \\sqrt{- \\frac{\\omega^{2}}{\\sigma^{2}}}} + \\frac{1.0 a \\gamma \\log{\\left (Y^{2} \\sigma^{2} + \\omega^{2} \\right )}}{\\sigma^{2}} - 1.0 \\log{\\left (Y^{2} \\sigma^{2} + \\omega^{2} \\right )} & \\text{for}\\: Y^{2} < - \\frac{1.0 \\omega^{2}}{\\sigma^{2}} \\wedge \\frac{1.0 \\omega^{2}}{\\sigma^{2}} < 0 \\end{cases}$$"
      ],
      "text/plain": [
       "⎧                                   ⎛  1.0⋅Y   ⎞                              \n",
       "⎪                     2.0⋅a⋅γ⋅λ⋅atan⎜──────────⎟                              \n",
       "⎪                                   ⎜      ____⎟                              \n",
       "⎪                                   ⎜     ╱  2 ⎟                              \n",
       "⎪                                   ⎜    ╱  ω  ⎟                              \n",
       "⎪                                   ⎜   ╱   ── ⎟                              \n",
       "⎪             2                     ⎜  ╱     2 ⎟                              \n",
       "⎪        1.0⋅Y ⋅a⋅γ                 ⎝╲╱     σ  ⎠          ⎛ 2  2    2⎞        \n",
       "⎪        ────────── - ────────────────────────── - 1.0⋅log⎝Y ⋅σ  + ω ⎠        \n",
       "⎪             2                      ____                                     \n",
       "⎪            ω                      ╱  2                                      \n",
       "⎪                            2     ╱  ω                                       \n",
       "⎪                           σ ⋅   ╱   ──                                      \n",
       "⎪                                ╱     2                                      \n",
       "⎪                              ╲╱     σ                                       \n",
       "⎪                                                                             \n",
       "⎪                                  ⎛   1.0⋅Y    ⎞                             \n",
       "⎪                   2.0⋅a⋅γ⋅λ⋅acoth⎜────────────⎟                             \n",
       "⎪                                  ⎜      ______⎟                             \n",
       "⎪                                  ⎜     ╱   2  ⎟                             \n",
       "⎪                                  ⎜    ╱  -ω   ⎟                             \n",
       "⎪                                  ⎜   ╱   ──── ⎟                             \n",
       "⎪           2                      ⎜  ╱      2  ⎟                             \n",
       "⎪      1.0⋅Y ⋅a⋅γ                  ⎝╲╱      σ   ⎠          ⎛ 2  2    2⎞       \n",
       "⎪      ────────── + ───────────────────────────── - 1.0⋅log⎝Y ⋅σ  + ω ⎠       \n",
       "⎪           2                       ______                                    \n",
       "⎪          ω                       ╱   2                                      \n",
       "⎪                           2     ╱  -ω                                       \n",
       "⎪                          σ ⋅   ╱   ────                                     \n",
       "⎪                               ╱      2                                      \n",
       "⎪                             ╲╱      σ                                       \n",
       "⎪                                                                             \n",
       "⎪                                  ⎛   1.0⋅Y    ⎞                             \n",
       "⎪                   2.0⋅a⋅γ⋅λ⋅atanh⎜────────────⎟                             \n",
       "⎪                                  ⎜      ______⎟                             \n",
       "⎪                                  ⎜     ╱   2  ⎟                             \n",
       "⎪                                  ⎜    ╱  -ω   ⎟                             \n",
       "⎪                                  ⎜   ╱   ──── ⎟                             \n",
       "⎪           2                      ⎜  ╱      2  ⎟                             \n",
       "⎪      1.0⋅Y ⋅a⋅γ                  ⎝╲╱      σ   ⎠          ⎛ 2  2    2⎞       \n",
       "⎪      ────────── + ───────────────────────────── - 1.0⋅log⎝Y ⋅σ  + ω ⎠       \n",
       "⎪           2                       ______                                    \n",
       "⎪          ω                       ╱   2                                      \n",
       "⎪                           2     ╱  -ω                                       \n",
       "⎪                          σ ⋅   ╱   ────                                     \n",
       "⎪                               ╱      2                                      \n",
       "⎪                             ╲╱      σ                                       \n",
       "⎨                                                                             \n",
       "⎪                ⎛  1.0⋅Y   ⎞                                                 \n",
       "⎪  2.0⋅a⋅γ⋅λ⋅atan⎜──────────⎟                                                 \n",
       "⎪                ⎜      ____⎟                                                 \n",
       "⎪                ⎜     ╱  2 ⎟                                                 \n",
       "⎪                ⎜    ╱  ω  ⎟                                                 \n",
       "⎪                ⎜   ╱   ── ⎟                                                 \n",
       "⎪                ⎜  ╱     2 ⎟              ⎛ 2  2    2⎞                       \n",
       "⎪                ⎝╲╱     σ  ⎠   1.0⋅a⋅γ⋅log⎝Y ⋅σ  + ω ⎠          ⎛ 2  2    2⎞ \n",
       "⎪- ────────────────────────── + ─────────────────────── - 1.0⋅log⎝Y ⋅σ  + ω ⎠ \n",
       "⎪                 ____                      2                                 \n",
       "⎪                ╱  2                      σ                                  \n",
       "⎪         2     ╱  ω                                                          \n",
       "⎪        σ ⋅   ╱   ──                                                         \n",
       "⎪             ╱     2                                                         \n",
       "⎪           ╲╱     σ                                                          \n",
       "⎪                                                                             \n",
       "⎪               ⎛   1.0⋅Y    ⎞                                                \n",
       "⎪2.0⋅a⋅γ⋅λ⋅acoth⎜────────────⎟                                                \n",
       "⎪               ⎜      ______⎟                                                \n",
       "⎪               ⎜     ╱   2  ⎟                                                \n",
       "⎪               ⎜    ╱  -ω   ⎟                                                \n",
       "⎪               ⎜   ╱   ──── ⎟                                                \n",
       "⎪               ⎜  ╱      2  ⎟              ⎛ 2  2    2⎞                      \n",
       "⎪               ⎝╲╱      σ   ⎠   1.0⋅a⋅γ⋅log⎝Y ⋅σ  + ω ⎠          ⎛ 2  2    2⎞\n",
       "⎪───────────────────────────── + ─────────────────────── - 1.0⋅log⎝Y ⋅σ  + ω ⎠\n",
       "⎪                ______                      2                                \n",
       "⎪               ╱   2                       σ                                 \n",
       "⎪        2     ╱  -ω                                                          \n",
       "⎪       σ ⋅   ╱   ────                                                        \n",
       "⎪            ╱      2                                                         \n",
       "⎪          ╲╱      σ                                                          \n",
       "⎪                                                                             \n",
       "⎪               ⎛   1.0⋅Y    ⎞                                                \n",
       "⎪2.0⋅a⋅γ⋅λ⋅atanh⎜────────────⎟                                                \n",
       "⎪               ⎜      ______⎟                                                \n",
       "⎪               ⎜     ╱   2  ⎟                                                \n",
       "⎪               ⎜    ╱  -ω   ⎟                                                \n",
       "⎪               ⎜   ╱   ──── ⎟                                                \n",
       "⎪               ⎜  ╱      2  ⎟              ⎛ 2  2    2⎞                      \n",
       "⎪               ⎝╲╱      σ   ⎠   1.0⋅a⋅γ⋅log⎝Y ⋅σ  + ω ⎠          ⎛ 2  2    2⎞\n",
       "⎪───────────────────────────── + ─────────────────────── - 1.0⋅log⎝Y ⋅σ  + ω ⎠\n",
       "⎪                ______                      2                                \n",
       "⎪               ╱   2                       σ                                 \n",
       "⎪        2     ╱  -ω                                                          \n",
       "⎪       σ ⋅   ╱   ────                                                        \n",
       "⎪            ╱      2                                                         \n",
       "⎩          ╲╱      σ                                                          \n",
       "\n",
       "                                         \n",
       "                                         \n",
       "                                         \n",
       "                                         \n",
       "                                         \n",
       "                                         \n",
       "                            2            \n",
       "               2       1.0⋅ω             \n",
       "          for σ  = 0 ∧ ────── > 0        \n",
       "                          2              \n",
       "                         σ               \n",
       "                                         \n",
       "                                         \n",
       "                                         \n",
       "                                         \n",
       "                                         \n",
       "                                         \n",
       "                                         \n",
       "                                         \n",
       "                                         \n",
       "                                         \n",
       "                                         \n",
       "                          2         2    \n",
       "       2        2   -1.0⋅ω     1.0⋅ω     \n",
       "  for σ  = 0 ∧ Y  > ──────── ∧ ────── < 0\n",
       "                        2         2      \n",
       "                       σ         σ       \n",
       "                                         \n",
       "                                         \n",
       "                                         \n",
       "                                         \n",
       "                                         \n",
       "                                         \n",
       "                                         \n",
       "                                         \n",
       "                                         \n",
       "                                         \n",
       "                                         \n",
       "                          2         2    \n",
       "       2        2   -1.0⋅ω     1.0⋅ω     \n",
       "  for σ  = 0 ∧ Y  < ──────── ∧ ────── < 0\n",
       "                        2         2      \n",
       "                       σ         σ       \n",
       "                                         \n",
       "                                         \n",
       "                                         \n",
       "                                         \n",
       "                                         \n",
       "                                         \n",
       "                                         \n",
       "                                         \n",
       "                                         \n",
       "                                         \n",
       "                                         \n",
       "                       2                 \n",
       "                  1.0⋅ω                  \n",
       "              for ────── > 0             \n",
       "                     2                   \n",
       "                    σ                    \n",
       "                                         \n",
       "                                         \n",
       "                                         \n",
       "                                         \n",
       "                                         \n",
       "                                         \n",
       "                                         \n",
       "                                         \n",
       "                                         \n",
       "                                         \n",
       "                                         \n",
       "                     2         2         \n",
       "           2   -1.0⋅ω     1.0⋅ω          \n",
       "      for Y  > ──────── ∧ ────── < 0     \n",
       "                   2         2           \n",
       "                  σ         σ            \n",
       "                                         \n",
       "                                         \n",
       "                                         \n",
       "                                         \n",
       "                                         \n",
       "                                         \n",
       "                                         \n",
       "                                         \n",
       "                                         \n",
       "                                         \n",
       "                                         \n",
       "                     2         2         \n",
       "           2   -1.0⋅ω     1.0⋅ω          \n",
       "      for Y  < ──────── ∧ ────── < 0     \n",
       "                   2         2           \n",
       "                  σ         σ            \n",
       "                                         \n",
       "                                         \n",
       "                                         \n",
       "                                         "
      ]
     },
     "execution_count": 77,
     "metadata": {},
     "output_type": "execute_result"
    }
   ],
   "source": [
    "simp_soln"
   ]
  },
  {
   "cell_type": "code",
   "execution_count": 109,
   "metadata": {},
   "outputs": [],
   "source": [
    "log_soln = -2*a*gamma*lamda*sp.atan(sigma*Y/sp.Abs(omega))/(sigma*sp.Abs(omega)) \\\n",
    "    +(a*gamma/sigma**2-1)*sp.log(sigma**2*Y**2+omega**2)"
   ]
  },
  {
   "cell_type": "code",
   "execution_count": 110,
   "metadata": {},
   "outputs": [
    {
     "data": {
      "image/png": "[encoded data removed]",
      "text/latex": [
       "$$- \\frac{2 a \\gamma \\lambda \\operatorname{atan}{\\left (\\frac{Y \\sigma}{\\left|{\\omega}\\right|} \\right )}}{\\sigma \\left|{\\omega}\\right|} + \\left(\\frac{a \\gamma}{\\sigma^{2}} - 1\\right) \\log{\\left (Y^{2} \\sigma^{2} + \\omega^{2} \\right )}$$"
      ],
      "text/plain": [
       "              ⎛Y⋅σ⎞                            \n",
       "  2⋅a⋅γ⋅λ⋅atan⎜───⎟                            \n",
       "              ⎝│ω│⎠   ⎛a⋅γ    ⎞    ⎛ 2  2    2⎞\n",
       "- ───────────────── + ⎜─── - 1⎟⋅log⎝Y ⋅σ  + ω ⎠\n",
       "        σ⋅│ω│         ⎜  2    ⎟                \n",
       "                      ⎝ σ     ⎠                "
      ]
     },
     "execution_count": 110,
     "metadata": {},
     "output_type": "execute_result"
    }
   ],
   "source": [
    "log_soln"
   ]
  },
  {
   "cell_type": "code",
   "execution_count": 111,
   "metadata": {},
   "outputs": [],
   "source": [
    "norm_soln = (Y**2*sigma**2+omega**2)**(a*gamma/sigma**2-1) \\ \n",
    "    *sp.exp(-2*a*gamma*lamda*sp.atan(sigma*Y/sp.Abs(omega))/(sigma*sp.Abs(omega)))"
   ]
  },
  {
   "cell_type": "code",
   "execution_count": 112,
   "metadata": {},
   "outputs": [
    {
     "data": {
      "image/png": "[encoded data removed]",
      "text/latex": [
       "$$\\left(Y^{2} \\sigma^{2} + \\omega^{2}\\right)^{\\frac{a \\gamma}{\\sigma^{2}} - 1} e^{- \\frac{2 a \\gamma \\lambda \\operatorname{atan}{\\left (\\frac{Y \\sigma}{\\left|{\\omega}\\right|} \\right )}}{\\sigma \\left|{\\omega}\\right|}}$$"
      ],
      "text/plain": [
       "            a⋅γ                   ⎛Y⋅σ⎞ \n",
       "            ─── - 1  -2⋅a⋅γ⋅λ⋅atan⎜───⎟ \n",
       "              2                   ⎝│ω│⎠ \n",
       "             σ       ───────────────────\n",
       "⎛ 2  2    2⎞                σ⋅│ω│       \n",
       "⎝Y ⋅σ  + ω ⎠       ⋅ℯ                   "
      ]
     },
     "execution_count": 112,
     "metadata": {},
     "output_type": "execute_result"
    }
   ],
   "source": [
    "norm_soln"
   ]
  },
  {
   "cell_type": "code",
   "execution_count": 116,
   "metadata": {},
   "outputs": [],
   "source": [
    "marg_soln = (Y**2*sigma**2+omega**2)**(a*gamma/sigma**2 - 1/2) \\\n",
    "    *sp.exp(-2*a*gamma*lamda*sp.atan(sigma*Y/sp.Abs(omega))/(sigma*sp.Abs(omega)))"
   ]
  },
  {
   "cell_type": "code",
   "execution_count": 117,
   "metadata": {},
   "outputs": [
    {
     "data": {
      "image/png": "[encoded data removed]",
      "text/latex": [
       "$$\\left(Y^{2} \\sigma^{2} + \\omega^{2}\\right)^{\\frac{a \\gamma}{\\sigma^{2}} - 0.5} e^{- \\frac{2 a \\gamma \\lambda \\operatorname{atan}{\\left (\\frac{Y \\sigma}{\\left|{\\omega}\\right|} \\right )}}{\\sigma \\left|{\\omega}\\right|}}$$"
      ],
      "text/plain": [
       "            a⋅γ                     ⎛Y⋅σ⎞ \n",
       "            ─── - 0.5  -2⋅a⋅γ⋅λ⋅atan⎜───⎟ \n",
       "              2                     ⎝│ω│⎠ \n",
       "             σ         ───────────────────\n",
       "⎛ 2  2    2⎞                  σ⋅│ω│       \n",
       "⎝Y ⋅σ  + ω ⎠         ⋅ℯ                   "
      ]
     },
     "execution_count": 117,
     "metadata": {},
     "output_type": "execute_result"
    }
   ],
   "source": [
    "marg_soln"
   ]
  },
  {
   "cell_type": "code",
   "execution_count": 126,
   "metadata": {},
   "outputs": [
    {
     "data": {
      "image/png": "[encoded data removed]",
      "text/plain": [
       "<Figure size 576x192 with 3 Axes>"
      ]
     },
     "metadata": {},
     "output_type": "display_data"
    }
   ],
   "source": [
    "opts = [\n",
    "    {\n",
    "        a: 1,\n",
    "        sigma: 2,\n",
    "        tau: -1,\n",
    "        rho: 0,\n",
    "        gamma: 1\n",
    "    },\n",
    "    {\n",
    "        a: 1,\n",
    "        sigma: np.sqrt(2),\n",
    "        tau: -1,\n",
    "        rho: 0,\n",
    "        gamma: 1\n",
    "    },\n",
    "    {\n",
    "        a: 1,\n",
    "        sigma: 2,\n",
    "        tau: -1,\n",
    "        rho: 0.95,\n",
    "        gamma: 1\n",
    "    },\n",
    "]\n",
    "width = 8\n",
    "fig, axes = plt.subplots(1, len(opts), figsize=(width,width/len(opts)))\n",
    "for ax, opts in zip(axes, opts):\n",
    "    g_l = sp.lambdify(X, marg_soln.subs({\n",
    "        lamda: tau*rho/sigma,\n",
    "        omega: tau*sp.sqrt(1-rho**2),\n",
    "        Y: X+tau*rho/sigma\n",
    "    }).subs(opts),\"numpy\")\n",
    "\n",
    "    x = np.linspace(-5,5,50)\n",
    "    ax.plot(x, g_l(x))\n",
    "\n",
    "    mode= a*mu/(a-sigma**2)\n",
    "\n",
    "    mm = float((mode-tau*rho/sigma).subs({\n",
    "        mu: tau*rho/sigma,\n",
    "        omega: tau*sp.sqrt(1-rho**2),\n",
    "    }).subs(opts))\n",
    "    ax.scatter([mm], [0] , color=\"r\")\n",
    "plt.show()"
   ]
  },
  {
   "cell_type": "code",
   "execution_count": 132,
   "metadata": {},
   "outputs": [
    {
     "data": {
      "text/plain": [
       "[<matplotlib.lines.Line2D at 0x11f62b2e8>]"
      ]
     },
     "execution_count": 132,
     "metadata": {},
     "output_type": "execute_result"
    },
    {
     "data": {
      "image/png": "[encoded data removed]",
      "text/plain": [
       "<Figure size 432x288 with 1 Axes>"
      ]
     },
     "metadata": {},
     "output_type": "display_data"
    }
   ],
   "source": [
    "from scipy.special import expit\n",
    "xx = np.linspace(-10,10, 100)\n",
    "yy = expit(-xx/2)\n",
    "plt.plot(xx,yy)"
   ]
  },
  {
   "cell_type": "code",
   "execution_count": 138,
   "metadata": {},
   "outputs": [
    {
     "data": {
      "text/plain": [
       "[<matplotlib.lines.Line2D at 0x120686b38>]"
      ]
     },
     "execution_count": 138,
     "metadata": {},
     "output_type": "execute_result"
    },
    {
     "data": {
      "image/png": "[encoded data removed]",
      "text/plain": [
       "<Figure size 432x288 with 1 Axes>"
      ]
     },
     "metadata": {},
     "output_type": "display_data"
    }
   ],
   "source": [
    "from scipy.stats import beta\n",
    "xx = np.linspace(0,1, 100)\n",
    "yy = beta.pdf(xx, 1, 5)\n",
    "plt.plot(xx,yy)"
   ]
  },
  {
   "cell_type": "code",
   "execution_count": 177,
   "metadata": {},
   "outputs": [
    {
     "data": {
      "image/png": "[encoded data removed]",
      "text/latex": [
       "$$\\left(- V \\frac{\\partial}{\\partial Y} F{\\left (Y \\right )} e^{\\frac{V \\left(- V A{\\left (Y \\right )} + 2 B{\\left (Y \\right )}\\right)}{2}} + \\frac{\\gamma \\left(Y^{2} \\sigma^{2} + \\omega^{2}\\right) \\frac{\\partial^{2}}{\\partial V^{2}} F{\\left (Y \\right )} e^{\\frac{V \\left(- V A{\\left (Y \\right )} + 2 B{\\left (Y \\right )}\\right)}{2}}}{2} + \\gamma F{\\left (Y \\right )} e^{\\frac{V \\left(- V A{\\left (Y \\right )} + 2 B{\\left (Y \\right )}\\right)}{2}} + \\left(V \\gamma - a \\left(Y - \\lambda\\right)\\right) \\frac{\\partial}{\\partial V} F{\\left (Y \\right )} e^{\\frac{V \\left(- V A{\\left (Y \\right )} + 2 B{\\left (Y \\right )}\\right)}{2}}\\right) e^{\\frac{V \\left(V A{\\left (Y \\right )} - 2 B{\\left (Y \\right )}\\right)}{2}}$$"
      ],
      "text/plain": [
       "⎛                                                       ⎛      V⋅(-V⋅A(Y) + 2⋅\n",
       "⎜                                                      2⎜      ───────────────\n",
       "⎜                                       ⎛ 2  2    2⎞  ∂ ⎜               2     \n",
       "⎜      ⎛      V⋅(-V⋅A(Y) + 2⋅B(Y))⎞   γ⋅⎝Y ⋅σ  + ω ⎠⋅───⎝F(Y)⋅ℯ               \n",
       "⎜      ⎜      ────────────────────⎟                    2                      \n",
       "⎜    ∂ ⎜               2          ⎟                  ∂V                       \n",
       "⎜- V⋅──⎝F(Y)⋅ℯ                    ⎠ + ────────────────────────────────────────\n",
       "⎝    ∂Y                                                     2                 \n",
       "\n",
       "B(Y))⎞                                                                        \n",
       "─────⎟                                                                        \n",
       "     ⎟                                                                        \n",
       "     ⎠           V⋅(-V⋅A(Y) + 2⋅B(Y))                       ⎛      V⋅(-V⋅A(Y) \n",
       "                 ────────────────────                       ⎜      ───────────\n",
       "                          2                               ∂ ⎜               2 \n",
       "────── + γ⋅F(Y)⋅ℯ                     + (V⋅γ - a⋅(Y - λ))⋅──⎝F(Y)⋅ℯ           \n",
       "                                                          ∂V                  \n",
       "\n",
       "          ⎞                     \n",
       "          ⎟                     \n",
       "          ⎟                     \n",
       "+ 2⋅B(Y))⎞⎟  V⋅(V⋅A(Y) - 2⋅B(Y))\n",
       "─────────⎟⎟  ───────────────────\n",
       "         ⎟⎟           2         \n",
       "         ⎠⎟⋅ℯ                   \n",
       "          ⎠                     "
      ]
     },
     "execution_count": 177,
     "metadata": {},
     "output_type": "execute_result"
    }
   ],
   "source": [
    "fk_n = fk.subs({\n",
    "    P(Y,V): F(Y)*sp.exp(-Alpha(Y)* V**2/2+Beta(Y)*V)\n",
    "})\n",
    "sp.simplify(fk_n/sp.exp(-Alpha(Y)* V**2/2+Beta(Y)*V))"
   ]
  },
  {
   "cell_type": "code",
   "execution_count": 180,
   "metadata": {},
   "outputs": [
    {
     "data": {
      "image/png": "[encoded data removed]",
      "text/latex": [
       "$$0$$"
      ],
      "text/plain": [
       "0"
      ]
     },
     "execution_count": 180,
     "metadata": {},
     "output_type": "execute_result"
    }
   ],
   "source": [
    "sp.simplify(fk_n/sp.exp(-Alpha(Y)* V**2/2+Beta(Y)*V)).coeff(V**2)"
   ]
  },
  {
   "cell_type": "code",
   "execution_count": 196,
   "metadata": {},
   "outputs": [
    {
     "data": {
      "text/plain": [
       "[<matplotlib.lines.Line2D at 0x121107470>]"
      ]
     },
     "execution_count": 196,
     "metadata": {},
     "output_type": "execute_result"
    },
    {
     "data": {
      "image/png": "[encoded data removed]",
      "text/plain": [
       "<Figure size 432x288 with 1 Axes>"
      ]
     },
     "metadata": {},
     "output_type": "display_data"
    }
   ],
   "source": [
    "xx = np.arange(1,10, 1)\n",
    "p = 0.9\n",
    "yy = p**xx\n",
    "plt.plot(xx,yy)"
   ]
  },
  {
   "cell_type": "code",
   "execution_count": 183,
   "metadata": {},
   "outputs": [
    {
     "data": {
      "text/plain": [
       "array([1, 2, 3, 4, 5, 6, 7, 8, 9])"
      ]
     },
     "execution_count": 183,
     "metadata": {},
     "output_type": "execute_result"
    }
   ],
   "source": [
    "(1-p_ic**w)*p_m**l*f**a"
   ]
  },
  {
   "cell_type": "code",
   "execution_count": null,
   "metadata": {},
   "outputs": [],
   "source": []
  }
 ],
 "metadata": {
  "kernelspec": {
   "display_name": "Python [conda env:scipy]",
   "language": "python",
   "name": "conda-env-scipy-py"
  },
  "language_info": {
   "codemirror_mode": {
    "name": "ipython",
    "version": 3
   },
   "file_extension": ".py",
   "mimetype": "text/x-python",
   "name": "python",
   "nbconvert_exporter": "python",
   "pygments_lexer": "ipython3",
   "version": "3.6.5"
  }
 },
 "nbformat": 4,
 "nbformat_minor": 2
}
