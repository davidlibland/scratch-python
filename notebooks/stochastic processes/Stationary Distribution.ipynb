{
 "cells": [
  {
   "cell_type": "code",
   "execution_count": 2,
   "metadata": {},
   "outputs": [],
   "source": [
    "import sympy as sp\n",
    "import numpy as np\n",
    "import scipy.integrate\n",
    "import matplotlib.pyplot as plt\n",
    "sp.init_printing() # doctest: +SKIP"
   ]
  },
  {
   "cell_type": "code",
   "execution_count": 3,
   "metadata": {},
   "outputs": [],
   "source": [
    "i"
   ]
  },
  {
   "cell_type": "code",
   "execution_count": 3,
   "metadata": {},
   "outputs": [
    {
     "data": {
      "image/png": "[encoded data removed]",
      "text/latex": [
       "$$U \\tau + W X \\sigma + X a$$"
      ],
      "text/plain": [
       "U⋅τ + W⋅X⋅σ + X⋅a"
      ]
     },
     "execution_count": 3,
     "metadata": {},
     "output_type": "execute_result"
    }
   ],
   "source": [
    "SDE = a*X+sigma*X*W+tau*U\n",
    "SDE"
   ]
  },
  {
   "cell_type": "markdown",
   "metadata": {},
   "source": [
    "Suppose that we have the following SDE:\n",
    "$$dX_t  = aX\\:dt +\\sigma X \\:dW+\\tau\\: dU$$\n",
    "Where $W$ and $V$ are standard brownian motion with constant covariance $\\rho$. Then let $\\tilde V= U-\\rho W$, the covariance $$\\mathbb{E}(W\\tilde V)=\\mathbb{E}(WU)-\\mathbb{E}(W\\rho W)=\\rho-\\rho=0.$$\n",
    "So $V$ and $W$ are independent, and \n",
    "$$\\mathbb{E}(\\tilde V\\tilde V)=\\mathbb{E}((U-\\rho W)^2)=\\mathbb{E}(U^2)-2\\rho\\mathbb{E}(U W) +\\rho^2\\mathbb{E}(W^2)=1-2\\rho^2+\\rho^2 = 1-\\rho^2$$\n",
    "So that $V=\\tilde V/\\sqrt{1-\\rho^2}$ is a standard brownian motion independent of $W$.\n",
    "Thus, with the substitutions:\n",
    "$$U = \\tilde V+\\rho W = \\sqrt{1-\\rho^2} V+\\rho W,\\text{ and }$$\n",
    "$$X = Y-\\frac{\\tau\\rho}{\\sigma}$$\n",
    "We may then rewrite the differential equation as:"
   ]
  },
  {
   "cell_type": "code",
   "execution_count": 4,
   "metadata": {},
   "outputs": [
    {
     "data": {
      "image/png": "[encoded data removed]",
      "text/latex": [
       "$$V \\tau \\sqrt{- \\rho^{2} + 1} + W Y \\sigma + Y a - \\frac{a \\rho \\tau}{\\sigma}$$"
      ],
      "text/plain": [
       "       __________                      \n",
       "      ╱    2                      a⋅ρ⋅τ\n",
       "V⋅τ⋅╲╱  - ρ  + 1  + W⋅Y⋅σ + Y⋅a - ─────\n",
       "                                    σ  "
      ]
     },
     "execution_count": 4,
     "metadata": {},
     "output_type": "execute_result"
    }
   ],
   "source": [
    "SDE_1 = sp.simplify(SDE.subs({U:sp.sqrt(1-rho**2)*V+rho*W, X:Y-tau*rho/sigma}))\n",
    "SDE_1"
   ]
  },
  {
   "cell_type": "markdown",
   "metadata": {},
   "source": [
    "Let $\\mu = \\frac{\\tau\\rho}{\\sigma}$ and $\\omega = \\tau\\sqrt{1-\\rho^2}$, then we get"
   ]
  },
  {
   "cell_type": "code",
   "execution_count": 5,
   "metadata": {},
   "outputs": [
    {
     "data": {
      "image/png": "[encoded data removed]",
      "text/latex": [
       "$$V \\omega + W Y \\sigma + Y a - a \\mu$$"
      ],
      "text/plain": [
       "V⋅ω + W⋅Y⋅σ + Y⋅a - a⋅μ"
      ]
     },
     "execution_count": 5,
     "metadata": {},
     "output_type": "execute_result"
    }
   ],
   "source": [
    "SDE_2 = sp.simplify(SDE_1.subs({tau*sp.sqrt(1-rho**2):omega, rho:sigma*mu/tau}))\n",
    "SDE_2"
   ]
  },
  {
   "cell_type": "markdown",
   "metadata": {},
   "source": [
    "so $$dY_t  = a(Y-\\mu)\\:dt +\\sigma Y \\:dW+\\omega\\: dV$$\n",
    "$$A(Y)=a(Y-\\mu)$$\n",
    "$$D(Y)=\\frac{1}{2}\\left(\\begin{smallmatrix}\\sigma Y & \\omega\\end{smallmatrix}\\right)\\left(\\begin{smallmatrix}\\sigma Y \\\\ \\omega\\end{smallmatrix}\\right) = \\frac{\\sigma^2}{2} Y^2+\\frac{\\omega^2}{2}$$\n",
    "\n",
    "The Fokker-Plank equation https://en.wikipedia.org/wiki/Fokker%E2%80%93Planck_equation for the stationary distribution $p(y)$ becomes the ODE\n",
    "\n",
    "$$0=-\\frac{\\partial}{\\partial y}(A(y)p(y)) + \\frac{\\partial^2}{\\partial y^2}(D(y)p(y))$$"
   ]
  },
  {
   "cell_type": "code",
   "execution_count": 6,
   "metadata": {},
   "outputs": [
    {
     "data": {
      "image/png": "[encoded data removed]",
      "text/latex": [
       "$$0 = 2 Y \\sigma^{2} \\frac{d}{d Y} p{\\left (Y \\right )} - a \\left(Y - \\mu\\right) \\frac{d}{d Y} p{\\left (Y \\right )} - a p{\\left (Y \\right )} + \\sigma^{2} p{\\left (Y \\right )} + \\frac{\\left(Y^{2} \\sigma^{2} + \\omega^{2}\\right) \\frac{d^{2}}{d Y^{2}} p{\\left (Y \\right )}}{2}$$"
      ],
      "text/plain": [
       "                                                                             2\n",
       "                                                              ⎛ 2  2    2⎞  d \n",
       "                                                              ⎝Y ⋅σ  + ω ⎠⋅───\n",
       "                                                                             2\n",
       "         2 d                    d                    2                     dY \n",
       "0 = 2⋅Y⋅σ ⋅──(p(Y)) - a⋅(Y - μ)⋅──(p(Y)) - a⋅p(Y) + σ ⋅p(Y) + ────────────────\n",
       "           dY                   dY                                      2     \n",
       "\n",
       "      \n",
       "      \n",
       "(p(Y))\n",
       "      \n",
       "      \n",
       "──────\n",
       "      "
      ]
     },
     "execution_count": 6,
     "metadata": {},
     "output_type": "execute_result"
    }
   ],
   "source": [
    "P = sp.Function(\"p\")\n",
    "A = a*(Y-mu)\n",
    "D = sigma**2*Y**2/2+omega**2/2\n",
    "\n",
    "eq = sp.simplify(-(A*P(Y)).diff(Y)+(D*P(Y)).diff(Y,2))\n",
    "sp.Eq(0,eq)"
   ]
  },
  {
   "cell_type": "markdown",
   "metadata": {},
   "source": [
    "Let's simplify subsequent manipulations by isolating the coefficients, i.e. considering the equation:\n",
    "$$0 = a_0 p(y)+a_1 \\frac{\\partial}{\\partial y}p(y)+a_2 \\frac{\\partial^2}{\\partial y^2}p(y)$$"
   ]
  },
  {
   "cell_type": "code",
   "execution_count": 7,
   "metadata": {},
   "outputs": [
    {
     "data": {
      "image/png": "[encoded data removed]",
      "text/latex": [
       "$$\\left(- a + \\sigma^{2}\\right) p{\\left (Y \\right )} + \\left(Y \\left(- a + 2 \\sigma^{2}\\right) + a \\mu\\right) \\frac{d}{d Y} p{\\left (Y \\right )} + \\left(\\frac{Y^{2} \\sigma^{2}}{2} + \\frac{\\omega^{2}}{2}\\right) \\frac{d^{2}}{d Y^{2}} p{\\left (Y \\right )} = 0$$"
      ],
      "text/plain": [
       "                                                  ⎛ 2  2    2⎞   2          \n",
       "⎛      2⎞        ⎛  ⎛        2⎞      ⎞ d          ⎜Y ⋅σ    ω ⎟  d           \n",
       "⎝-a + σ ⎠⋅p(Y) + ⎝Y⋅⎝-a + 2⋅σ ⎠ + a⋅μ⎠⋅──(p(Y)) + ⎜───── + ──⎟⋅───(p(Y)) = 0\n",
       "                                       dY         ⎝  2     2 ⎠   2          \n",
       "                                                               dY           "
      ]
     },
     "execution_count": 7,
     "metadata": {},
     "output_type": "execute_result"
    }
   ],
   "source": [
    "a_2 = (Y**2*sigma**2+omega**2)/2\n",
    "a_1 = (2*sigma**2-a)*Y+a*mu\n",
    "a_0 = sigma**2-a\n",
    "eq_ = a_2*P(Y).diff(Y,2)+a_1*P(Y).diff(Y)+a_0*P(Y)\n",
    "sp.Eq(eq_,0)"
   ]
  },
  {
   "cell_type": "code",
   "execution_count": 8,
   "metadata": {},
   "outputs": [
    {
     "data": {
      "image/png": "[encoded data removed]",
      "text/latex": [
       "$$0$$"
      ],
      "text/plain": [
       "0"
      ]
     },
     "execution_count": 8,
     "metadata": {},
     "output_type": "execute_result"
    }
   ],
   "source": [
    "# To check for equality:\n",
    "sp.simplify(eq_-eq)"
   ]
  },
  {
   "cell_type": "markdown",
   "metadata": {},
   "source": [
    "Now, let's introduce an auxiliary variable $q = \\frac{\\partial p}{\\partial y}$ so that we can rewrite this as a system of first order ode's:\n",
    "$$\\frac{\\partial p}{\\partial y} = q, \\quad\\quad \\frac{\\partial q}{\\partial y}=\\frac{-a_1}{a_2}q+\\frac{-a_0}{a_2}p$$"
   ]
  },
  {
   "cell_type": "code",
   "execution_count": 9,
   "metadata": {},
   "outputs": [
    {
     "data": {
      "image/png": "[encoded data removed]",
      "text/latex": [
       "$$\\left ( \\frac{d}{d Y} p{\\left (Y \\right )} = q{\\left (Y \\right )}, \\quad \\frac{d}{d Y} q{\\left (Y \\right )} = \\frac{2 \\left(\\left(a - \\sigma^{2}\\right) p{\\left (Y \\right )} + \\left(Y \\left(a - 2 \\sigma^{2}\\right) - a \\mu\\right) q{\\left (Y \\right )}\\right)}{Y^{2} \\sigma^{2} + \\omega^{2}}\\right )$$"
      ],
      "text/plain": [
       "⎛                              ⎛⎛     2⎞        ⎛  ⎛       2⎞      ⎞     ⎞⎞\n",
       "⎜d                d          2⋅⎝⎝a - σ ⎠⋅p(Y) + ⎝Y⋅⎝a - 2⋅σ ⎠ - a⋅μ⎠⋅q(Y)⎠⎟\n",
       "⎜──(p(Y)) = q(Y), ──(q(Y)) = ─────────────────────────────────────────────⎟\n",
       "⎜dY               dY                            2  2    2                 ⎟\n",
       "⎝                                              Y ⋅σ  + ω                  ⎠"
      ]
     },
     "execution_count": 9,
     "metadata": {},
     "output_type": "execute_result"
    }
   ],
   "source": [
    "Q = sp.Function(\"q\")\n",
    "eq_p = Q(Y)\n",
    "eq_q = sp.simplify(-Q(Y)*a_1/a_2-P(Y)*a_0/a_2)\n",
    "sp.Eq(P(Y).diff(Y), eq_p), sp.Eq(Q(Y).diff(Y), eq_q)"
   ]
  },
  {
   "cell_type": "markdown",
   "metadata": {},
   "source": [
    "Now, we can solve this ode numerically (for specific values):"
   ]
  },
  {
   "cell_type": "code",
   "execution_count": 10,
   "metadata": {},
   "outputs": [],
   "source": [
    "subst = {\n",
    "    a: 1,\n",
    "    sigma: 2,\n",
    "    tau: -.25,\n",
    "    rho: -0.99,\n",
    "    mu: tau*rho/sigma,\n",
    "    omega: tau*sp.sqrt(1-rho**2),\n",
    "    P(Y): p,\n",
    "    Q(Y): q,\n",
    "    Y: X+tau*rho/sigma\n",
    "}\n",
    "f_p = sp.lambdify((p,q,X), eq_p.subs(subst), \"numpy\")\n",
    "f_q = sp.lambdify((p,q,X), eq_q.subs(subst), \"numpy\")\n",
    "\n",
    "def fun(t, y):\n",
    "    p = y[0]\n",
    "    q = y[1]\n",
    "    return np.array([f_p(p,q,t), f_q(p,q,t)])\n",
    "\n"
   ]
  },
  {
   "cell_type": "code",
   "execution_count": 11,
   "metadata": {},
   "outputs": [],
   "source": [
    "y_span = (-2,2)\n",
    "y_0 = np.array([.1, .1])\n",
    "sol = scipy.integrate.solve_ivp(fun, y_span, y_0)"
   ]
  },
  {
   "cell_type": "code",
   "execution_count": 12,
   "metadata": {},
   "outputs": [
    {
     "data": {
      "text/plain": [
       "[<matplotlib.lines.Line2D at 0x114c4d6a0>]"
      ]
     },
     "execution_count": 12,
     "metadata": {},
     "output_type": "execute_result"
    },
    {
     "data": {
      "image/png": "[encoded data removed]",
      "text/plain": [
       "<Figure size 432x288 with 1 Axes>"
      ]
     },
     "metadata": {},
     "output_type": "display_data"
    }
   ],
   "source": [
    "plt.plot(sol[\"t\"],sol[\"y\"][0,:])"
   ]
  },
  {
   "cell_type": "code",
   "execution_count": 13,
   "metadata": {},
   "outputs": [
    {
     "data": {
      "image/png": "[encoded data removed]",
      "text/plain": [
       "<Figure size 432x288 with 1 Axes>"
      ]
     },
     "metadata": {},
     "output_type": "display_data"
    }
   ],
   "source": [
    "y_span = (-2,2)\n",
    "y_0 = np.array([.1, .1])\n",
    "sol = scipy.integrate.solve_ivp(fun, y_span, y_0)\n",
    "plt.plot(sol[\"t\"],sol[\"y\"][0,:])\n",
    "\n",
    "y_span = (-2,2)\n",
    "y_0 = np.array([.1, .5])\n",
    "sol = scipy.integrate.solve_ivp(fun, y_span, y_0)\n",
    "plt.plot(sol[\"t\"],sol[\"y\"][0,:])\n",
    "\n",
    "y_span = (-2,2)\n",
    "y_0 = np.array([.1, 1])\n",
    "sol = scipy.integrate.solve_ivp(fun, y_span, y_0)\n",
    "plt.plot(sol[\"t\"],sol[\"y\"][0,:])\n",
    "\n",
    "plt.show()"
   ]
  },
  {
   "cell_type": "code",
   "execution_count": 14,
   "metadata": {},
   "outputs": [],
   "source": [
    "x = [35.66, 35.71, 31.48, 30.42, 28.18, 26.02, 21.31, 19.17, 16.29, 19.34, 18.92, 13.87, 14.24, 15.43, 12.59, 12.81, 12.63, 12.07, 8.78, 7.4, 5.9][::-1]\n",
    "z = [41277, 31480, 34887, 31105, 20268, 19634, 22814, 11343, 9972, 7394, 10977, 7710, 11106, 8553, 14778, 5996, 8765, 10204, 9820, 10396, 10120][::-1]"
   ]
  },
  {
   "cell_type": "code",
   "execution_count": 15,
   "metadata": {},
   "outputs": [
    {
     "data": {
      "text/plain": [
       "[<matplotlib.lines.Line2D at 0x1132e1240>]"
      ]
     },
     "execution_count": 15,
     "metadata": {},
     "output_type": "execute_result"
    },
    {
     "data": {
      "image/png": "[encoded data removed]",
      "text/plain": [
       "<Figure size 432x288 with 1 Axes>"
      ]
     },
     "metadata": {},
     "output_type": "display_data"
    }
   ],
   "source": [
    "plt.plot(np.array(x)/np.array(z))"
   ]
  },
  {
   "cell_type": "code",
   "execution_count": 16,
   "metadata": {},
   "outputs": [
    {
     "data": {
      "text/latex": [
       "$$- X a \\left. \\frac{d}{d Y} p{\\left (Y \\right )} \\right|_{\\substack{ Y=\\frac{X \\sigma + \\rho \\tau}{\\sigma} }} - a p{\\left (\\frac{X \\sigma + \\rho \\tau}{\\sigma} \\right )} + \\sigma^{2} p{\\left (\\frac{X \\sigma + \\rho \\tau}{\\sigma} \\right )} + 2 \\sigma \\left(X \\sigma + \\rho \\tau\\right) \\left. \\frac{d}{d Y} p{\\left (Y \\right )} \\right|_{\\substack{ Y=\\frac{X \\sigma + \\rho \\tau}{\\sigma} }} + \\frac{\\left(\\tau^{2} \\left(- \\rho^{2} + 1\\right) + \\left(X \\sigma + \\rho \\tau\\right)^{2}\\right) \\left. \\frac{d^{2}}{d Y^{2}} p{\\left (Y \\right )} \\right|_{\\substack{ Y=\\frac{X \\sigma + \\rho \\tau}{\\sigma} }}}{2}$$"
      ],
      "text/plain": [
       "                                                                              \n",
       "                                                                              \n",
       "                                                                              \n",
       "                                                                              \n",
       "                                                                              \n",
       "      ⎛d       ⎞│                 ⎛X⋅σ + ρ⋅τ⎞    2  ⎛X⋅σ + ρ⋅τ⎞               \n",
       "- X⋅a⋅⎜──(p(Y))⎟│  X⋅σ + ρ⋅τ - a⋅p⎜─────────⎟ + σ ⋅p⎜─────────⎟ + 2⋅σ⋅(X⋅σ + ρ\n",
       "      ⎝dY      ⎠│Y=─────────      ⎝    σ    ⎠       ⎝    σ    ⎠               \n",
       "                       σ                                                      \n",
       "\n",
       "                                                            ⎛  2      ⎞│      \n",
       "                             ⎛ 2 ⎛   2    ⎞              2⎞ ⎜ d       ⎟│      \n",
       "                             ⎝τ ⋅⎝- ρ  + 1⎠ + (X⋅σ + ρ⋅τ) ⎠⋅⎜───(p(Y))⎟│      \n",
       "                                                            ⎜  2      ⎟│  X⋅σ \n",
       "                                                            ⎝dY       ⎠│Y=────\n",
       "    ⎛d       ⎞│                                                               \n",
       "⋅τ)⋅⎜──(p(Y))⎟│  X⋅σ + ρ⋅τ + ─────────────────────────────────────────────────\n",
       "    ⎝dY      ⎠│Y=─────────                             2                      \n",
       "                     σ                                                        \n",
       "\n",
       "     \n",
       "     \n",
       "     \n",
       "+ ρ⋅τ\n",
       "─────\n",
       "σ    \n",
       "─────\n",
       "     \n",
       "     "
      ]
     },
     "execution_count": 16,
     "metadata": {},
     "output_type": "execute_result"
    }
   ],
   "source": [
    "eq.subs({\n",
    "    mu: tau*rho/sigma,\n",
    "    omega: tau*sp.sqrt(1-rho**2),\n",
    "    Y: X+tau*rho/sigma,\n",
    "}).simplify()"
   ]
  },
  {
   "cell_type": "markdown",
   "metadata": {},
   "source": [
    "Here we verify the following explicit solution to the Fokker-Planck equation:"
   ]
  },
  {
   "cell_type": "code",
   "execution_count": 17,
   "metadata": {},
   "outputs": [
    {
     "data": {
      "image/png": "[encoded data removed]",
      "text/latex": [
       "$$\\left(Y^{2} \\sigma^{2} + \\omega^{2}\\right)^{\\frac{a}{\\sigma^{2}} - 1} e^{- \\frac{2 a \\mu \\operatorname{atan}{\\left (\\frac{Y \\sigma}{\\omega} \\right )}}{\\omega \\sigma}}$$"
      ],
      "text/plain": [
       "            a                  ⎛Y⋅σ⎞ \n",
       "            ── - 1  -2⋅a⋅μ⋅atan⎜───⎟ \n",
       "             2                 ⎝ ω ⎠ \n",
       "            σ       ─────────────────\n",
       "⎛ 2  2    2⎞               ω⋅σ       \n",
       "⎝Y ⋅σ  + ω ⎠      ⋅ℯ                 "
      ]
     },
     "execution_count": 17,
     "metadata": {},
     "output_type": "execute_result"
    }
   ],
   "source": [
    "g = sp.exp(-2*a*mu/(omega*sigma)*sp.atan(sigma*Y/omega))*(sigma**2*Y**2+omega**2)**(-1+a/sigma**2)\n",
    "g"
   ]
  },
  {
   "cell_type": "code",
   "execution_count": 18,
   "metadata": {},
   "outputs": [
    {
     "name": "stdout",
     "output_type": "stream",
     "text": [
      "\\left(Y^{2} \\sigma^{2} + \\omega^{2}\\right)^{\\frac{a}{\\sigma^{2}} - 1} e^{- \\frac{2 a \\mu \\operatorname{atan}{\\left (\\frac{Y \\sigma}{\\omega} \\right )}}{\\omega \\sigma}}\n"
     ]
    }
   ],
   "source": [
    "print(sp.latex(g))"
   ]
  },
  {
   "cell_type": "code",
   "execution_count": 19,
   "metadata": {},
   "outputs": [
    {
     "data": {
      "image/png": "[encoded data removed]",
      "text/latex": [
       "$$\\left(\\omega^{2} \\left(Z^{2} + 1\\right)\\right)^{\\frac{a - \\sigma^{2}}{\\sigma^{2}}} e^{- \\frac{2 a \\mu \\operatorname{atan}{\\left (Z \\right )}}{\\omega \\sigma}}$$"
      ],
      "text/plain": [
       "                  2                 \n",
       "             a - σ                  \n",
       "             ──────                 \n",
       "                2    -2⋅a⋅μ⋅atan(Z) \n",
       "               σ     ───────────────\n",
       "⎛ 2 ⎛ 2    ⎞⎞              ω⋅σ      \n",
       "⎝ω ⋅⎝Z  + 1⎠⎠      ⋅ℯ               "
      ]
     },
     "execution_count": 19,
     "metadata": {},
     "output_type": "execute_result"
    }
   ],
   "source": [
    "g.subs({Y:Z*omega/sigma}).simplify()"
   ]
  },
  {
   "cell_type": "markdown",
   "metadata": {},
   "source": [
    "$g$ should satisfy the equation $J=0$, where $J=-Ag+\\frac{\\partial}{\\partial y} (D g)$"
   ]
  },
  {
   "cell_type": "code",
   "execution_count": 168,
   "metadata": {},
   "outputs": [
    {
     "data": {
      "image/png": "[encoded data removed]",
      "text/latex": [
       "$$0$$"
      ],
      "text/plain": [
       "0"
      ]
     },
     "execution_count": 168,
     "metadata": {},
     "output_type": "execute_result"
    }
   ],
   "source": [
    "J=-A*g+(D*g).diff(Y)\n",
    "sp.simplify(J)"
   ]
  },
  {
   "cell_type": "markdown",
   "metadata": {},
   "source": [
    "So $p'/p = (A-D')/D$"
   ]
  },
  {
   "cell_type": "code",
   "execution_count": 172,
   "metadata": {},
   "outputs": [
    {
     "data": {
      "image/png": "[encoded data removed]",
      "text/latex": [
       "$$\\frac{2 \\left(- Y \\sigma^{2} + a \\left(Y - \\mu\\right)\\right)}{Y^{2} \\sigma^{2} + \\omega^{2}}$$"
      ],
      "text/plain": [
       "  ⎛     2            ⎞\n",
       "2⋅⎝- Y⋅σ  + a⋅(Y - μ)⎠\n",
       "──────────────────────\n",
       "       2  2    2      \n",
       "      Y ⋅σ  + ω       "
      ]
     },
     "execution_count": 172,
     "metadata": {},
     "output_type": "execute_result"
    }
   ],
   "source": [
    "pp_o_p = sp.simplify((A-D.diff(Y))/D)\n",
    "pp_o_p"
   ]
  },
  {
   "cell_type": "markdown",
   "metadata": {},
   "source": [
    "In the notation of https://en.wikipedia.org/wiki/Pearson_distribution we have "
   ]
  },
  {
   "cell_type": "code",
   "execution_count": 185,
   "metadata": {},
   "outputs": [
    {
     "data": {
      "image/png": "[encoded data removed]",
      "text/latex": [
       "$$0$$"
      ],
      "text/plain": [
       "0"
      ]
     },
     "execution_count": 185,
     "metadata": {},
     "output_type": "execute_result"
    }
   ],
   "source": [
    "n_p = 2*(a-sigma**2)\n",
    "a_p = -2*a*mu/n_p\n",
    "b_0 = -omega**2/n_p\n",
    "b_1 = 0\n",
    "b_2 = -sigma**2/n_p\n",
    "pp_p_p_pears = (a_p+Y)/(b_0+b_1*Y+b_2*Y**2)\n",
    "sp.simplify(pp_p_p_pears+pp_o_p)"
   ]
  },
  {
   "cell_type": "code",
   "execution_count": 20,
   "metadata": {},
   "outputs": [
    {
     "data": {
      "image/png": "[encoded data removed]",
      "text/latex": [
       "$$\\left(- \\tau^{2} \\left(\\rho^{2} - 1\\right) + \\left(X \\sigma + \\rho \\tau\\right)^{2}\\right)^{\\frac{a - \\sigma^{2}}{\\sigma^{2}}} e^{- \\frac{2 a \\rho \\operatorname{atan}{\\left (\\frac{X \\sigma + \\rho \\tau}{\\tau \\sqrt{- \\rho^{2} + 1}} \\right )}}{\\sigma^{2} \\sqrt{- \\rho^{2} + 1}}}$$"
      ],
      "text/plain": [
       "                                                 ⎛   X⋅σ + ρ⋅τ   ⎞ \n",
       "                                      -2⋅a⋅ρ⋅atan⎜───────────────⎟ \n",
       "                                                 ⎜     __________⎟ \n",
       "                                   2             ⎜    ╱    2     ⎟ \n",
       "                              a - σ              ⎝τ⋅╲╱  - ρ  + 1 ⎠ \n",
       "                              ──────  ─────────────────────────────\n",
       "                                 2                 __________      \n",
       "                                σ             2   ╱    2           \n",
       "⎛   2 ⎛ 2    ⎞              2⎞               σ ⋅╲╱  - ρ  + 1       \n",
       "⎝- τ ⋅⎝ρ  - 1⎠ + (X⋅σ + ρ⋅τ) ⎠      ⋅ℯ                             "
      ]
     },
     "execution_count": 20,
     "metadata": {},
     "output_type": "execute_result"
    }
   ],
   "source": [
    "g.subs({mu: tau*rho/sigma,\n",
    "    omega: tau*sp.sqrt(1-rho**2),\n",
    "    Y: X+tau*rho/sigma}).simplify()"
   ]
  },
  {
   "cell_type": "markdown",
   "metadata": {},
   "source": [
    "We graph some solutions:"
   ]
  },
  {
   "cell_type": "code",
   "execution_count": 282,
   "metadata": {},
   "outputs": [
    {
     "data": {
      "image/png": "[encoded data removed]",
      "text/plain": [
       "<Figure size 576x192 with 3 Axes>"
      ]
     },
     "metadata": {},
     "output_type": "display_data"
    }
   ],
   "source": [
    "opts = [\n",
    "    {\n",
    "        a: 1,\n",
    "        sigma: 2,\n",
    "        tau: -1,\n",
    "        rho: 0,\n",
    "    },\n",
    "    {\n",
    "        a: 1,\n",
    "        sigma: np.sqrt(2),\n",
    "        tau: -1,\n",
    "        rho: 0,\n",
    "    },\n",
    "    {\n",
    "        a: 1,\n",
    "        sigma: 2,\n",
    "        tau: -1,\n",
    "        rho: 0.95,\n",
    "    },\n",
    "]\n",
    "width = 8\n",
    "fig, axes = plt.subplots(1, len(opts), figsize=(width,width/len(opts)))\n",
    "for ax, opts in zip(axes, opts):\n",
    "    g_l = sp.lambdify(X, g.subs({\n",
    "        mu: tau*rho/sigma,\n",
    "        omega: tau*sp.sqrt(1-rho**2),\n",
    "        P(Y): p,\n",
    "        Q(Y): q,\n",
    "        Y: X+tau*rho/sigma\n",
    "    }).subs(opts),\"numpy\")\n",
    "\n",
    "    x = np.linspace(-5,5,50)\n",
    "    ax.plot(x, g_l(x))\n",
    "\n",
    "    mode= a*mu/(a-sigma**2)\n",
    "\n",
    "    mm = float((mode-tau*rho/sigma).subs({\n",
    "        mu: tau*rho/sigma,\n",
    "        omega: tau*sp.sqrt(1-rho**2),\n",
    "    }).subs(opts))\n",
    "    ax.scatter([mm], [0] , color=\"r\")\n",
    "plt.show()"
   ]
  },
  {
   "cell_type": "markdown",
   "metadata": {},
   "source": [
    "Verify that $g$ solves the conserverd \"Flux\" ode,\n",
    "$J(y) := -A(y)*g(y)+\\frac{\\partial}{\\partial y}(D(y) g(y)=0$\n"
   ]
  },
  {
   "cell_type": "code",
   "execution_count": 89,
   "metadata": {},
   "outputs": [],
   "source": [
    "eq__ = -(A*g)+(D*g).diff(Y)"
   ]
  },
  {
   "cell_type": "code",
   "execution_count": 90,
   "metadata": {},
   "outputs": [
    {
     "data": {
      "image/png": "[encoded data removed]",
      "text/latex": [
       "$$0$$"
      ],
      "text/plain": [
       "0"
      ]
     },
     "execution_count": 90,
     "metadata": {},
     "output_type": "execute_result"
    }
   ],
   "source": [
    "eq__.simplify()"
   ]
  },
  {
   "cell_type": "code",
   "execution_count": 91,
   "metadata": {},
   "outputs": [
    {
     "data": {
      "image/png": "[encoded data removed]",
      "text/latex": [
       "$$\\left [ \\frac{2 \\left(Y a - Y \\sigma^{2} - a \\mu\\right)}{Y^{2} \\sigma^{2} + \\omega^{2}}\\right ]$$"
      ],
      "text/plain": [
       "⎡  ⎛         2      ⎞⎤\n",
       "⎢2⋅⎝Y⋅a - Y⋅σ  - a⋅μ⎠⎥\n",
       "⎢────────────────────⎥\n",
       "⎢      2  2    2     ⎥\n",
       "⎣     Y ⋅σ  + ω      ⎦"
      ]
     },
     "execution_count": 91,
     "metadata": {},
     "output_type": "execute_result"
    }
   ],
   "source": [
    "sp.solve(((-(A*P(Y))+(D*P(Y)).diff(Y))/P(Y)).expand().subs({P(Y).diff(Y)/P(Y): Q(Y)}), Q(Y))"
   ]
  },
  {
   "cell_type": "markdown",
   "metadata": {},
   "source": [
    "Compute the mode:"
   ]
  },
  {
   "cell_type": "code",
   "execution_count": 109,
   "metadata": {},
   "outputs": [
    {
     "data": {
      "image/png": "[encoded data removed]",
      "text/latex": [
       "$$\\frac{a \\mu}{a - \\sigma^{2}}$$"
      ],
      "text/plain": [
       " a⋅μ  \n",
       "──────\n",
       "     2\n",
       "a - σ "
      ]
     },
     "execution_count": 109,
     "metadata": {},
     "output_type": "execute_result"
    }
   ],
   "source": [
    "mode = sp.solve((A-D.diff(Y)), Y)[0]\n",
    "mode"
   ]
  },
  {
   "cell_type": "markdown",
   "metadata": {},
   "source": [
    "Verify the mode"
   ]
  },
  {
   "cell_type": "code",
   "execution_count": 107,
   "metadata": {},
   "outputs": [
    {
     "data": {
      "image/png": "[encoded data removed]",
      "text/latex": [
       "$$0$$"
      ],
      "text/plain": [
       "0"
      ]
     },
     "execution_count": 107,
     "metadata": {},
     "output_type": "execute_result"
    }
   ],
   "source": [
    "(A-D.diff(Y)).subs({Y:a*mu/(a-sigma**2)}).simplify()"
   ]
  },
  {
   "cell_type": "code",
   "execution_count": 108,
   "metadata": {},
   "outputs": [
    {
     "name": "stdout",
     "output_type": "stream",
     "text": [
      "- Y \\sigma^{2} + a \\left(Y - \\mu\\right)\n"
     ]
    }
   ],
   "source": [
    "print(sp.latex((A-D.diff(Y)).simplify()))"
   ]
  },
  {
   "cell_type": "code",
   "execution_count": 92,
   "metadata": {},
   "outputs": [
    {
     "data": {
      "image/png": "[encoded data removed]",
      "text/latex": [
       "$$0$$"
      ],
      "text/plain": [
       "0"
      ]
     },
     "execution_count": 92,
     "metadata": {},
     "output_type": "execute_result"
    }
   ],
   "source": [
    "g.diff(Y).subs({Y:a*mu/(a-sigma**2)}).simplify()"
   ]
  },
  {
   "cell_type": "markdown",
   "metadata": {},
   "source": [
    "Compute the mode in $x$ coordinates"
   ]
  },
  {
   "cell_type": "code",
   "execution_count": 114,
   "metadata": {},
   "outputs": [
    {
     "name": "stdout",
     "output_type": "stream",
     "text": [
      "\\frac{\\rho \\sigma \\tau}{a - \\sigma^{2}}\n"
     ]
    }
   ],
   "source": [
    "print(sp.latex(X.subs({\n",
    "    X: Y - tau*rho/sigma,\n",
    "    Y: mode,\n",
    "    mu: tau*rho/sigma,\n",
    "    omega: tau*sp.sqrt(1-rho**2)\n",
    "}).simplify()))"
   ]
  },
  {
   "cell_type": "markdown",
   "metadata": {},
   "source": [
    "In coordinates $\\theta = \\operatorname{atan}(y\\sigma/\\omega)$"
   ]
  },
  {
   "cell_type": "code",
   "execution_count": 99,
   "metadata": {},
   "outputs": [
    {
     "data": {
      "image/png": "[encoded data removed]",
      "text/latex": [
       "$$\\frac{\\left(\\frac{\\omega^{2}}{\\cos^{2}{\\left (\\theta \\right )}}\\right)^{\\frac{a}{\\sigma^{2}}} e^{- \\frac{2 a \\mu \\operatorname{atan}{\\left (\\tan{\\left (\\theta \\right )} \\right )}}{\\omega \\sigma}}}{\\omega^{2}}$$"
      ],
      "text/plain": [
       "         a                       \n",
       "         ──                      \n",
       "          2                      \n",
       "         σ   -2⋅a⋅μ⋅atan(tan(θ)) \n",
       "⎛    2  ⎞    ────────────────────\n",
       "⎜   ω   ⎟            ω⋅σ         \n",
       "⎜───────⎟  ⋅ℯ                    \n",
       "⎜   2   ⎟                        \n",
       "⎝cos (θ)⎠                        \n",
       "─────────────────────────────────\n",
       "                 2               \n",
       "                ω                "
      ]
     },
     "execution_count": 99,
     "metadata": {},
     "output_type": "execute_result"
    }
   ],
   "source": [
    "h = (g*(1+Z**2)).subs({\n",
    "    Y:Z*omega/sigma,\n",
    "    Z:sp.tan(theta)\n",
    "}).simplify()\n",
    "h"
   ]
  },
  {
   "cell_type": "code",
   "execution_count": 97,
   "metadata": {},
   "outputs": [
    {
     "data": {
      "image/png": "[encoded data removed]",
      "text/latex": [
       "$$\\left(e^{\\frac{\\mu \\theta}{\\omega}} \\cos^{\\frac{1}{\\sigma}}{\\left (\\theta \\right )}\\right)^{- \\frac{2 a}{\\sigma}}$$"
      ],
      "text/plain": [
       "                    -2⋅a \n",
       "                    ─────\n",
       "                      σ  \n",
       "⎛ μ⋅θ              ⎞     \n",
       "⎜ ───              ⎟     \n",
       "⎜  ω  sigma________⎟     \n",
       "⎝ℯ   ⋅   ╲╱ cos(θ) ⎠     "
      ]
     },
     "execution_count": 97,
     "metadata": {},
     "output_type": "execute_result"
    }
   ],
   "source": [
    "hh = (sp.cos(theta)**(1/sigma)*sp.exp(mu*theta/omega))**(-2*a/sigma)\n",
    "hh"
   ]
  },
  {
   "cell_type": "code",
   "execution_count": 98,
   "metadata": {},
   "outputs": [
    {
     "data": {
      "text/plain": [
       "[<matplotlib.lines.Line2D at 0x11773af60>]"
      ]
     },
     "execution_count": 98,
     "metadata": {},
     "output_type": "execute_result"
    },
    {
     "data": {
      "image/png": "[encoded data removed]",
      "text/plain": [
       "<Figure size 432x288 with 1 Axes>"
      ]
     },
     "metadata": {},
     "output_type": "display_data"
    }
   ],
   "source": [
    "hh_l = sp.lambdify(theta, hh.subs({\n",
    "    a: 1,\n",
    "    sigma: 2,\n",
    "    tau: -.25,\n",
    "    rho: -0.99,\n",
    "    mu: tau*rho/sigma,\n",
    "    omega: tau*sp.sqrt(1-rho**2),\n",
    "}),\"numpy\")\n",
    "\n",
    "x = np.linspace(-np.pi/8, np.pi/8, 50)\n",
    "plt.plot(x, hh_l(x))"
   ]
  },
  {
   "cell_type": "code",
   "execution_count": 95,
   "metadata": {},
   "outputs": [
    {
     "data": {
      "image/png": "[encoded data removed]",
      "text/latex": [
       "$$\\left [ \\frac{U - W \\rho}{\\sqrt{- \\rho^{2} + 1}}\\right ]$$"
      ],
      "text/plain": [
       "⎡   U - W⋅ρ   ⎤\n",
       "⎢─────────────⎥\n",
       "⎢   __________⎥\n",
       "⎢  ╱    2     ⎥\n",
       "⎣╲╱  - ρ  + 1 ⎦"
      ]
     },
     "execution_count": 95,
     "metadata": {},
     "output_type": "execute_result"
    }
   ],
   "source": [
    "sp.solve(-U + sp.sqrt(1-rho**2)* V+rho* W, V)"
   ]
  },
  {
   "cell_type": "markdown",
   "metadata": {},
   "source": [
    "Computing the parameters for the Student t-distribution (when $\\rho=0$):"
   ]
  },
  {
   "cell_type": "code",
   "execution_count": 134,
   "metadata": {},
   "outputs": [
    {
     "data": {
      "image/png": "[encoded data removed]",
      "text/latex": [
       "$$- \\frac{2 a}{\\sigma^{2}} + 1$$"
      ],
      "text/plain": [
       "  2⋅a    \n",
       "- ─── + 1\n",
       "    2    \n",
       "   σ     "
      ]
     },
     "execution_count": 134,
     "metadata": {},
     "output_type": "execute_result"
    }
   ],
   "source": [
    "eq_stt = (nu+1)/2+(a-sigma**2)/sigma**2\n",
    "std_t_deg_frd = sp.solve(eq_stt, nu)[0]\n",
    "std_t_deg_frd"
   ]
  },
  {
   "cell_type": "code",
   "execution_count": 136,
   "metadata": {},
   "outputs": [
    {
     "data": {
      "image/png": "[encoded data removed]",
      "text/latex": [
       "$$\\sqrt{- \\frac{\\tau^{2}}{2 a - \\sigma^{2}}}$$"
      ],
      "text/plain": [
       "      __________\n",
       "     ╱     2    \n",
       "    ╱    -τ     \n",
       "   ╱   ──────── \n",
       "  ╱           2 \n",
       "╲╱     2⋅a - σ  "
      ]
     },
     "execution_count": 136,
     "metadata": {},
     "output_type": "execute_result"
    }
   ],
   "source": [
    "std_t_scale = sp.sqrt(sp.simplify(omega**2/(sigma**2*std_t_deg_frd)).subs({    \n",
    "    mu: tau*rho/sigma,\n",
    "    omega: tau*sp.sqrt(1-rho**2),\n",
    "    rho: 0\n",
    "}))\n",
    "std_t_scale"
   ]
  },
  {
   "cell_type": "markdown",
   "metadata": {},
   "source": [
    "Substitute these into the Student t-distribution"
   ]
  },
  {
   "cell_type": "code",
   "execution_count": 157,
   "metadata": {},
   "outputs": [
    {
     "data": {
      "image/png": "[encoded data removed]",
      "text/latex": [
       "$$\\left(\\gamma^{2} \\nu \\sigma^{2} \\left(\\frac{Y^{2}}{\\gamma^{2} \\nu} + 1\\right)\\right)^{- \\frac{\\nu}{2} - \\frac{1}{2}}$$"
      ],
      "text/plain": [
       "                      ν   1\n",
       "                    - ─ - ─\n",
       "                      2   2\n",
       "⎛        ⎛  2     ⎞⎞       \n",
       "⎜ 2    2 ⎜ Y      ⎟⎟       \n",
       "⎜γ ⋅ν⋅σ ⋅⎜──── + 1⎟⎟       \n",
       "⎜        ⎜ 2      ⎟⎟       \n",
       "⎝        ⎝γ ⋅ν    ⎠⎠       "
      ]
     },
     "execution_count": 157,
     "metadata": {},
     "output_type": "execute_result"
    }
   ],
   "source": [
    "std_t = (sigma**2*gamma**2*nu*(1+(Y/gamma)**2/nu))**(-(nu+1)/2)\n",
    "std_t"
   ]
  },
  {
   "cell_type": "code",
   "execution_count": 158,
   "metadata": {},
   "outputs": [
    {
     "data": {
      "image/png": "[encoded data removed]",
      "text/latex": [
       "$$1$$"
      ],
      "text/plain": [
       "1"
      ]
     },
     "execution_count": 158,
     "metadata": {},
     "output_type": "execute_result"
    }
   ],
   "source": [
    "sp.simplify((g/std_t).subs({\n",
    "    nu: std_t_deg_frd, \n",
    "    gamma:std_t_scale,\n",
    "    tau: omega/sp.sqrt(1-rho**2),\n",
    "    mu: tau*rho/sigma\n",
    "}).subs({rho:0}))"
   ]
  },
  {
   "cell_type": "markdown",
   "metadata": {},
   "source": [
    "Compute the inverse gamma distribution:"
   ]
  },
  {
   "cell_type": "code",
   "execution_count": 233,
   "metadata": {},
   "outputs": [
    {
     "data": {
      "image/png": "[encoded data removed]",
      "text/latex": [
       "$$e^{- \\frac{\\beta}{Y}} \\left|{Y}\\right|^{- \\alpha - 1}$$"
      ],
      "text/plain": [
       " -β           \n",
       " ───          \n",
       "  Y     -α - 1\n",
       "ℯ   ⋅│Y│      "
      ]
     },
     "execution_count": 233,
     "metadata": {},
     "output_type": "execute_result"
    }
   ],
   "source": [
    "inv_gamma = (1/sp.Abs(Y))**(alpha+1)*sp.exp(-beta/Y)\n",
    "inv_gamma"
   ]
  },
  {
   "cell_type": "code",
   "execution_count": 179,
   "metadata": {},
   "outputs": [],
   "source": [
    "C_1=b_1/(2*b_2)\n",
    "lamb_p = -(a_p-C_1)/(1-2*b_2)"
   ]
  },
  {
   "cell_type": "code",
   "execution_count": 187,
   "metadata": {},
   "outputs": [
    {
     "data": {
      "image/png": "[encoded data removed]",
      "text/latex": [
       "$$- \\frac{2 a}{\\sigma^{2}} + 1$$"
      ],
      "text/plain": [
       "  2⋅a    \n",
       "- ─── + 1\n",
       "    2    \n",
       "   σ     "
      ]
     },
     "execution_count": 187,
     "metadata": {},
     "output_type": "execute_result"
    }
   ],
   "source": [
    "sp.simplify(1/b_2 -1)"
   ]
  },
  {
   "cell_type": "code",
   "execution_count": 272,
   "metadata": {},
   "outputs": [
    {
     "data": {
      "image/png": "[encoded data removed]",
      "text/latex": [
       "$$\\frac{2 a \\rho \\tau}{\\sigma^{3}}$$"
      ],
      "text/plain": [
       "2⋅a⋅ρ⋅τ\n",
       "───────\n",
       "    3  \n",
       "   σ   "
      ]
     },
     "execution_count": 272,
     "metadata": {},
     "output_type": "execute_result"
    }
   ],
   "source": [
    "((a_p-C_1)/b_2).subs({\n",
    "    mu: tau*rho/sigma,\n",
    "})"
   ]
  },
  {
   "cell_type": "code",
   "execution_count": 192,
   "metadata": {},
   "outputs": [
    {
     "data": {
      "image/png": "[encoded data removed]",
      "text/latex": [
       "$$\\frac{2 \\left(- Y \\sigma^{3} + a \\left(Y \\sigma - \\tau\\right)\\right)}{Y^{2} \\sigma^{3}}$$"
      ],
      "text/plain": [
       "  ⎛     3              ⎞\n",
       "2⋅⎝- Y⋅σ  + a⋅(Y⋅σ - τ)⎠\n",
       "────────────────────────\n",
       "          2  3          \n",
       "         Y ⋅σ           "
      ]
     },
     "execution_count": 192,
     "metadata": {},
     "output_type": "execute_result"
    }
   ],
   "source": [
    "correlated_eq = sp.simplify(pp_o_p.subs({\n",
    "    mu: tau*rho/sigma,\n",
    "    omega: tau*sp.sqrt(1-rho**2),\n",
    "    rho: 1\n",
    "}))\n",
    "correlated_eq"
   ]
  },
  {
   "cell_type": "code",
   "execution_count": 195,
   "metadata": {},
   "outputs": [
    {
     "data": {
      "image/png": "[encoded data removed]",
      "text/latex": [
       "$$\\frac{2 \\sigma \\left(a - \\sigma^{2}\\right) \\log{\\left (Y \\right )} + \\frac{2 a \\tau}{Y}}{\\sigma^{3}}$$"
      ],
      "text/plain": [
       "    ⎛     2⎞          2⋅a⋅τ\n",
       "2⋅σ⋅⎝a - σ ⎠⋅log(Y) + ─────\n",
       "                        Y  \n",
       "───────────────────────────\n",
       "              3            \n",
       "             σ             "
      ]
     },
     "execution_count": 195,
     "metadata": {},
     "output_type": "execute_result"
    }
   ],
   "source": [
    "int_correlated = sp.integrate(correlated_eq, Y)\n",
    "int_correlated"
   ]
  },
  {
   "cell_type": "code",
   "execution_count": 201,
   "metadata": {},
   "outputs": [
    {
     "data": {
      "image/png": "[encoded data removed]",
      "text/latex": [
       "$$Y^{\\frac{2 a - 2 \\sigma^{2}}{\\sigma^{2}}} e^{\\frac{2 a \\tau}{Y \\sigma^{3}}}$$"
      ],
      "text/plain": [
       "          2       \n",
       " 2⋅a - 2⋅σ   2⋅a⋅τ\n",
       " ──────────  ─────\n",
       "      2          3\n",
       "     σ        Y⋅σ \n",
       "Y          ⋅ℯ     "
      ]
     },
     "execution_count": 201,
     "metadata": {},
     "output_type": "execute_result"
    }
   ],
   "source": [
    "correlated_p = Y**(2*(a-sigma**2)/sigma**2)*sp.exp(2*a*tau/(Y*sigma**3))\n",
    "correlated_p"
   ]
  },
  {
   "cell_type": "code",
   "execution_count": 267,
   "metadata": {},
   "outputs": [
    {
     "data": {
      "image/png": "[encoded data removed]",
      "text/latex": [
       "$$0.5 \\left(- \\operatorname{sign}{\\left (\\frac{Y a \\tau}{\\sigma^{3}} \\right )} + 1\\right) e^{\\frac{2 a \\tau}{Y \\sigma^{3}}} \\left|{Y}\\right|^{\\frac{2 \\left(a - \\sigma^{2}\\right)}{\\sigma^{2}}}$$"
      ],
      "text/plain": [
       "                                    ⎛     2⎞\n",
       "                         2⋅a⋅τ    2⋅⎝a - σ ⎠\n",
       "                         ─────    ──────────\n",
       "                             3         2    \n",
       "    ⎛      ⎛Y⋅a⋅τ⎞    ⎞   Y⋅σ         σ     \n",
       "0.5⋅⎜- sign⎜─────⎟ + 1⎟⋅ℯ     ⋅│Y│          \n",
       "    ⎜      ⎜   3 ⎟    ⎟                     \n",
       "    ⎝      ⎝  σ  ⎠    ⎠                     "
      ]
     },
     "execution_count": 267,
     "metadata": {},
     "output_type": "execute_result"
    }
   ],
   "source": [
    "pp_e = sp.simplify(0.5*((sp.sign(beta*Y) +1)*inv_gamma).subs({\n",
    "    alpha: sp.simplify(1/b_2 -1),\n",
    "    beta: (-(a_p-C_1)/b_2),\n",
    "    mu: tau*rho/sigma,\n",
    "    rho: 1\n",
    "}))\n",
    "pp_e"
   ]
  },
  {
   "cell_type": "code",
   "execution_count": 281,
   "metadata": {},
   "outputs": [
    {
     "data": {
      "text/plain": [
       "[<matplotlib.lines.Line2D at 0x11768a8d0>]"
      ]
     },
     "execution_count": 281,
     "metadata": {},
     "output_type": "execute_result"
    },
    {
     "data": {
      "image/png": "[encoded data removed]",
      "text/plain": [
       "<Figure size 432x288 with 1 Axes>"
      ]
     },
     "metadata": {},
     "output_type": "display_data"
    }
   ],
   "source": [
    "opts = {\n",
    "    a: 1,\n",
    "    sigma: 2,\n",
    "    tau: -1,\n",
    "    rho: 1,\n",
    "}\n",
    "\n",
    "ig_l = sp.lambdify(X, pp_e.subs({\n",
    "    mu: tau*rho/sigma,\n",
    "    omega: tau*sp.sqrt(1-rho**2),\n",
    "    P(Y): p,\n",
    "    Q(Y): q,\n",
    "    Y: X+tau*rho/sigma\n",
    "}).subs(opts),\"numpy\")\n",
    "\n",
    "x = np.linspace(-5,5,100)\n",
    "plt.plot(x, ig_l(x))"
   ]
  },
  {
   "cell_type": "code",
   "execution_count": 248,
   "metadata": {},
   "outputs": [
    {
     "data": {
      "image/png": "[encoded data removed]",
      "text/latex": [
       "$$-1$$"
      ],
      "text/plain": [
       "-1"
      ]
     },
     "execution_count": 248,
     "metadata": {},
     "output_type": "execute_result"
    }
   ],
   "source": [
    "sp.sign(-5)"
   ]
  },
  {
   "cell_type": "markdown",
   "metadata": {},
   "source": [
    "Trajectories of Geometric brownian motion:"
   ]
  },
  {
   "cell_type": "code",
   "execution_count": 96,
   "metadata": {},
   "outputs": [],
   "source": [
    "dt = .1\n",
    "TT = 100\n",
    "a_np = .5\n",
    "sigma_np = 1.2\n",
    "x = np.arange(0, 100, dt)\n",
    "white_noise = np.cumsum(np.sqrt(dt)*np.random.normal(0, 1.0, x.size)/dt)\n",
    "y=np.minimum(np.exp(dt*((a_np-(sigma_np)**2/2)*x+sigma_np*white_noise)), 100)"
   ]
  },
  {
   "cell_type": "code",
   "execution_count": 102,
   "metadata": {},
   "outputs": [
    {
     "data": {
      "text/plain": [
       "[<matplotlib.lines.Line2D at 0x11e7d1b38>]"
      ]
     },
     "execution_count": 102,
     "metadata": {},
     "output_type": "execute_result"
    },
    {
     "data": {
      "image/png": "[encoded data removed]",
      "text/plain": [
       "<Figure size 432x288 with 1 Axes>"
      ]
     },
     "metadata": {},
     "output_type": "display_data"
    }
   ],
   "source": [
    "plt.plot(y)"
   ]
  },
  {
   "cell_type": "code",
   "execution_count": 19,
   "metadata": {},
   "outputs": [],
   "source": [
    "np.max?"
   ]
  },
  {
   "cell_type": "code",
   "execution_count": null,
   "metadata": {},
   "outputs": [],
   "source": []
  }
 ],
 "metadata": {
  "kernelspec": {
   "display_name": "Python [conda env:scipy]",
   "language": "python",
   "name": "conda-env-scipy-py"
  },
  "language_info": {
   "codemirror_mode": {
    "name": "ipython",
    "version": 3
   },
   "file_extension": ".py",
   "mimetype": "text/x-python",
   "name": "python",
   "nbconvert_exporter": "python",
   "pygments_lexer": "ipython3",
   "version": "3.6.5"
  }
 },
 "nbformat": 4,
 "nbformat_minor": 2
}
