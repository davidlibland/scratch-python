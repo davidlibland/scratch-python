{
 "cells": [
  {
   "cell_type": "code",
   "execution_count": 1,
   "metadata": {},
   "outputs": [],
   "source": [
    "import numpy as np"
   ]
  },
  {
   "cell_type": "code",
   "execution_count": 26,
   "metadata": {},
   "outputs": [],
   "source": [
    "sample_size = 1000\n",
    "max_n = 100000\n",
    "M_0 = 5"
   ]
  },
  {
   "cell_type": "code",
   "execution_count": 27,
   "metadata": {},
   "outputs": [],
   "source": [
    "X_n = np.random.choice([1,-1], size = [sample_size, max_n])"
   ]
  },
  {
   "cell_type": "code",
   "execution_count": 28,
   "metadata": {},
   "outputs": [],
   "source": [
    "M_n = M_0 + np.cumsum(X_n, axis = 1)"
   ]
  },
  {
   "cell_type": "code",
   "execution_count": 29,
   "metadata": {},
   "outputs": [
    {
     "data": {
      "text/plain": [
       "array([[   4,    5,    4, ..., -463, -462, -463],\n",
       "       [   4,    3,    2, ..., -347, -348, -347],\n",
       "       [   4,    5,    4, ..., -189, -190, -191],\n",
       "       ..., \n",
       "       [   4,    5,    4, ...,  819,  820,  819],\n",
       "       [   6,    5,    6, ...,  313,  312,  313],\n",
       "       [   6,    7,    8, ...,  -87,  -88,  -87]])"
      ]
     },
     "execution_count": 29,
     "metadata": {},
     "output_type": "execute_result"
    }
   ],
   "source": [
    "M_n"
   ]
  },
  {
   "cell_type": "code",
   "execution_count": 30,
   "metadata": {},
   "outputs": [],
   "source": [
    "t = np.ones([sample_size, 1], np.int) * max_n\n",
    "for i in range(sample_size):\n",
    "    for j in range(max_n):\n",
    "        if M_n[i, j] >= 2 * M_0:\n",
    "            t[i] = j\n",
    "            break"
   ]
  },
  {
   "cell_type": "code",
   "execution_count": 34,
   "metadata": {},
   "outputs": [],
   "source": [
    "M_tn = M_n.copy()\n",
    "for i in range(sample_size):\n",
    "    if t[i, 0] < max_n:\n",
    "        M_tn[i, t[i,0] + 1: max_n] = M_n[i, t[i, 0]]"
   ]
  },
  {
   "cell_type": "code",
   "execution_count": 35,
   "metadata": {},
   "outputs": [
    {
     "data": {
      "text/plain": [
       "array([[   4,    5,    4, ..., -463, -462, -463],\n",
       "       [   4,    3,    2, ...,   10,   10,   10],\n",
       "       [   4,    5,    4, ...,   10,   10,   10],\n",
       "       ..., \n",
       "       [   4,    5,    4, ...,   10,   10,   10],\n",
       "       [   6,    5,    6, ...,   10,   10,   10],\n",
       "       [   6,    7,    8, ...,   10,   10,   10]])"
      ]
     },
     "execution_count": 35,
     "metadata": {},
     "output_type": "execute_result"
    }
   ],
   "source": [
    "M_tn"
   ]
  },
  {
   "cell_type": "code",
   "execution_count": 36,
   "metadata": {},
   "outputs": [],
   "source": [
    "def f(x):\n",
    "    return min(max(x, -5 * M_0), 2 * M_0)"
   ]
  },
  {
   "cell_type": "code",
   "execution_count": 37,
   "metadata": {},
   "outputs": [
    {
     "data": {
      "text/plain": [
       "9.4749999999999996"
      ]
     },
     "execution_count": 37,
     "metadata": {},
     "output_type": "execute_result"
    }
   ],
   "source": [
    "total = 0.\n",
    "for i in range(sample_size):\n",
    "    total += f(M_tn[i, -1])\n",
    "average = total / sample_size\n",
    "average"
   ]
  },
  {
   "cell_type": "code",
   "execution_count": 38,
   "metadata": {},
   "outputs": [
    {
     "data": {
      "text/plain": [
       "4.6070000000000002"
      ]
     },
     "execution_count": 38,
     "metadata": {},
     "output_type": "execute_result"
    }
   ],
   "source": [
    "M_tn[:, -1].mean()"
   ]
  },
  {
   "cell_type": "code",
   "execution_count": null,
   "metadata": {},
   "outputs": [],
   "source": []
  }
 ],
 "metadata": {
  "kernelspec": {
   "display_name": "Python [conda env:data_anal]",
   "language": "python",
   "name": "conda-env-data_anal-py"
  },
  "language_info": {
   "codemirror_mode": {
    "name": "ipython",
    "version": 3
   },
   "file_extension": ".py",
   "mimetype": "text/x-python",
   "name": "python",
   "nbconvert_exporter": "python",
   "pygments_lexer": "ipython3",
   "version": "3.6.6"
  }
 },
 "nbformat": 4,
 "nbformat_minor": 2
}
