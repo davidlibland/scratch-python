{
 "cells": [
  {
   "cell_type": "code",
   "execution_count": 1,
   "metadata": {
    "collapsed": false,
    "deletable": true,
    "editable": true
   },
   "outputs": [],
   "source": [
    "from __future__ import division\n",
    "from matplotlib import pyplot as plt\n",
    "import numpy as np\n",
    "import pymc3 as pm\n",
    "import scipy as sp\n",
    "from theano import tensor as tt\n",
    "%matplotlib inline"
   ]
  },
  {
   "cell_type": "code",
   "execution_count": 2,
   "metadata": {
    "collapsed": false,
    "deletable": true,
    "editable": true
   },
   "outputs": [],
   "source": [
    "def stick_breaking(beta):\n",
    "    portion_remaining = tt.concatenate([[1], tt.extra_ops.cumprod(1 - beta)[:-1]])\n",
    "\n",
    "    return beta * portion_remaining"
   ]
  },
  {
   "cell_type": "code",
   "execution_count": 3,
   "metadata": {
    "collapsed": true,
    "deletable": true,
    "editable": true
   },
   "outputs": [],
   "source": [
    "K = 5 # Number of categories at which we truncate the dirichlet process\n",
    "N = 10"
   ]
  },
  {
   "cell_type": "code",
   "execution_count": 4,
   "metadata": {
    "collapsed": false,
    "deletable": true,
    "editable": true
   },
   "outputs": [
    {
     "data": {
      "text/plain": [
       "array([[ 1.,  1.,  1.,  0.,  0.,  0.,  0.,  0.,  0.,  0.],\n",
       "       [ 1.,  1.,  1.,  0.,  0.,  0.,  0.,  0.,  0.,  0.],\n",
       "       [ 1.,  1.,  1.,  1.,  0.,  0.,  0.,  0.,  0.,  0.],\n",
       "       [ 0.,  0.,  1.,  1.,  1.,  1.,  1.,  1.,  1.,  1.],\n",
       "       [ 0.,  0.,  0.,  1.,  1.,  1.,  1.,  1.,  1.,  1.],\n",
       "       [ 0.,  0.,  0.,  1.,  1.,  1.,  1.,  1.,  1.,  1.],\n",
       "       [ 0.,  0.,  0.,  1.,  1.,  1.,  1.,  1.,  1.,  1.],\n",
       "       [ 0.,  0.,  0.,  1.,  1.,  1.,  1.,  1.,  1.,  1.],\n",
       "       [ 0.,  0.,  0.,  1.,  1.,  1.,  1.,  1.,  1.,  1.],\n",
       "       [ 0.,  0.,  0.,  1.,  1.,  1.,  1.,  1.,  1.,  1.]])"
      ]
     },
     "execution_count": 4,
     "metadata": {},
     "output_type": "execute_result"
    }
   ],
   "source": [
    "samp_graph_t = np.concatenate([np.ones([3,3]),np.zeros([3,7])],axis=1)\n",
    "samp_graph_b = np.concatenate([np.zeros([7,3]),np.ones([7,7])],axis=1)\n",
    "\n",
    "samp_graph = np.concatenate([samp_graph_t,samp_graph_b])\n",
    "samp_graph[3,2]=1\n",
    "samp_graph[2,3]=1\n",
    "samp_graph"
   ]
  },
  {
   "cell_type": "code",
   "execution_count": null,
   "metadata": {
    "collapsed": false,
    "deletable": true,
    "editable": true
   },
   "outputs": [],
   "source": [
    "with pm.Model() as irm_model:\n",
    "    gamma_ = pm.Gamma('gamma', 1., 1.)\n",
    "    betas_crp = pm.Beta('betas_crp', 1., gamma_, shape=K)\n",
    "    w = pm.Deterministic('w',stick_breaking(betas_crp))\n",
    "    \n",
    "    beta_ = pm.Gamma('beta_', 1., 1.)\n",
    "    eta_ = pm.Beta('eta_',beta_,beta_, shape=[K,K])\n",
    "    \n",
    "    cat = tt.stack([pm.Multinomial('cat'+str(i),n=1,p=w, shape=K) for i in range(N)])\n",
    "    \n",
    "    link_prob = pm.math.dot(pm.math.dot(cat,eta_),tt.transpose(cat))\n",
    "    R = pm.Bernoulli('R', p=link_prob, shape = [N,N],observed = samp_graph)\n",
    "\n",
    "#     tau = pm.Gamma('tau', 1., 1., shape=K)\n",
    "#     lambda_ = pm.Uniform('lambda', 0, 5, shape=K)\n",
    "#     mu = pm.Normal('mu', 0, tau=lambda_ * tau, shape=K)\n",
    "#     obs = pm.NormalMixture('obs', w, mu, tau=lambda_ * tau,\n",
    "#                            observed=old_faithful_df.std_waiting.values)"
   ]
  },
  {
   "cell_type": "code",
   "execution_count": null,
   "metadata": {
    "collapsed": true,
    "deletable": true,
    "editable": true
   },
   "outputs": [],
   "source": [
    "with pm.Model() as irm_model:\n",
    "    gamma_ = pm.Gamma('gamma', 1., 1.)\n",
    "    betas_crp = pm.Beta('betas_crp', 1., gamma_, shape=K)\n",
    "    w = pm.Deterministic('w',stick_breaking(betas_crp))\n",
    "    \n",
    "    beta_ = pm.Gamma('beta_', 1., 1.)\n",
    "    eta_ = pm.Beta('eta_',beta_,beta_, shape=[K,K])\n",
    "    \n",
    "    cat_x = pm.Categorical('cat_x',p=w,shape=N)\n",
    "    cat_y = pm.Categorical('cat_y',p=w,shape=N)\n",
    "    \n",
    "    link_prob = eta_[cat_x,cat_y]\n",
    "    R = pm.Bernoulli('R', p=link_prob,observed = samp_graph)"
   ]
  },
  {
   "cell_type": "code",
   "execution_count": null,
   "metadata": {
    "collapsed": true,
    "deletable": true,
    "editable": true
   },
   "outputs": [],
   "source": [
    "pm.Dirichlet?"
   ]
  },
  {
   "cell_type": "code",
   "execution_count": 20,
   "metadata": {
    "collapsed": false,
    "deletable": true,
    "editable": true
   },
   "outputs": [],
   "source": [
    "with pm.Model() as irm_model:\n",
    "    w = pm.Dirichlet('w',a=np.array([1.,1.]))\n",
    "    \n",
    "    beta_ = pm.Gamma('beta_', 1., 1.)\n",
    "    eta_ = pm.Beta('eta_',beta_,beta_, shape=[2,2])\n",
    "    \n",
    "    cat = tt.stack([pm.Multinomial('cat'+str(i),n=1,p=w, shape=2) for i in range(N)])\n",
    "    \n",
    "    link_prob = pm.math.dot(pm.math.dot(cat,eta_),tt.transpose(cat))\n",
    "    R = pm.Bernoulli('R', p=link_prob, shape = [N,N],observed = samp_graph)"
   ]
  },
  {
   "cell_type": "code",
   "execution_count": 15,
   "metadata": {
    "collapsed": false
   },
   "outputs": [],
   "source": [
    "with pm.Model() as irm_model:\n",
    "    #w = pm.Dirichlet('w',a=np.array([3.,7.]))\n",
    "    gamma_ = pm.Gamma('gamma', 1., 1.)\n",
    "    betas_crp = pm.Beta('betas_crp', 1., gamma_, shape=K)\n",
    "    w = pm.Deterministic('w',stick_breaking(betas_crp))\n",
    "    \n",
    "    cat = pm.Categorical('cat',p=w,shape=N)\n",
    "    \n",
    "    beta_ = pm.Gamma('beta_', 1., 1.)\n",
    "    eta_ = pm.Beta('eta_',beta_,beta_, shape=[K,K])\n",
    "    \n",
    "    \n",
    "    Rs=[]\n",
    "    for i in range(N):\n",
    "        for j in range(N):\n",
    "            Rs.append(pm.Bernoulli('R'+str(i)+','+str(j),p=eta_[cat[i],cat[j]],observed = samp_graph[i,j]))\n",
    "    "
   ]
  },
  {
   "cell_type": "code",
   "execution_count": 9,
   "metadata": {
    "collapsed": false,
    "deletable": true,
    "editable": true
   },
   "outputs": [
    {
     "name": "stdout",
     "output_type": "stream",
     "text": [
      "Optimization terminated successfully.\n",
      "         Current function value: 75.272977\n",
      "         Iterations: 8\n",
      "         Function evaluations: 10\n",
      "         Gradient evaluations: 10\n"
     ]
    }
   ],
   "source": [
    "with irm_model:\n",
    "    map_est = pm.find_MAP()"
   ]
  },
  {
   "cell_type": "code",
   "execution_count": 10,
   "metadata": {
    "collapsed": false,
    "deletable": true,
    "editable": true
   },
   "outputs": [
    {
     "name": "stdout",
     "output_type": "stream",
     "text": [
      "{'eta__logodds_': array([[ 0.        ,  0.        ],\n",
      "       [ 0.        ,  0.38155568]]), 'beta__log_': array(1.1155918179602569), 'w_stickbreaking_': array([-1.73460042]), 'cat': array([1, 1, 1, 1, 1, 1, 1, 1, 1, 1])}\n"
     ]
    }
   ],
   "source": [
    "print(map_est)"
   ]
  },
  {
   "cell_type": "code",
   "execution_count": null,
   "metadata": {
    "collapsed": false,
    "deletable": true,
    "editable": true
   },
   "outputs": [],
   "source": [
    "print(map_est)\n",
    "\n",
    "print('\\n')\n",
    "print(1./(1+np.exp(-map_est['betas_crp_logodds_'])))\n",
    "\n",
    "for i in range(10):\n",
    "    print('cat'+str(i)+': '+str(map_est['cat'+str(i)]))"
   ]
  },
  {
   "cell_type": "code",
   "execution_count": 16,
   "metadata": {
    "collapsed": false,
    "deletable": true,
    "editable": true
   },
   "outputs": [
    {
     "name": "stderr",
     "output_type": "stream",
     "text": [
      "Assigned NUTS to gamma_log_\n",
      "Assigned NUTS to betas_crp_logodds_\n",
      "Assigned CategoricalGibbsMetropolis to cat\n",
      "Assigned NUTS to beta__log_\n",
      "Assigned NUTS to eta__logodds_\n",
      "INFO (theano.gof.compilelock): Refreshing lock /Users/libland/.theano/compiledir_Darwin-16.5.0-x86_64-i386-64bit-i386-2.7.13-64/lock_dir/lock\n",
      "INFO (theano.gof.compilelock): Refreshing lock /Users/libland/.theano/compiledir_Darwin-16.5.0-x86_64-i386-64bit-i386-2.7.13-64/lock_dir/lock\n",
      "INFO (theano.gof.compilelock): Refreshing lock /Users/libland/.theano/compiledir_Darwin-16.5.0-x86_64-i386-64bit-i386-2.7.13-64/lock_dir/lock\n",
      "INFO (theano.gof.compilelock): Refreshing lock /Users/libland/.theano/compiledir_Darwin-16.5.0-x86_64-i386-64bit-i386-2.7.13-64/lock_dir/lock\n",
      "100%|██████████| 500/500 [01:17<00:00,  6.46it/s]\n"
     ]
    }
   ],
   "source": [
    "with irm_model:\n",
    "    trace = pm.sample(500, n_init=500)"
   ]
  },
  {
   "cell_type": "code",
   "execution_count": 23,
   "metadata": {
    "collapsed": false
   },
   "outputs": [
    {
     "data": {
      "text/plain": [
       "['gamma_log_',\n",
       " 'betas_crp_logodds_',\n",
       " 'cat',\n",
       " 'beta__log_',\n",
       " 'eta__logodds_',\n",
       " 'gamma',\n",
       " 'betas_crp',\n",
       " 'w',\n",
       " 'beta_',\n",
       " 'eta_']"
      ]
     },
     "execution_count": 23,
     "metadata": {},
     "output_type": "execute_result"
    }
   ],
   "source": [
    "trace.varnames"
   ]
  },
  {
   "cell_type": "code",
   "execution_count": 27,
   "metadata": {
    "collapsed": false
   },
   "outputs": [
    {
     "data": {
      "text/plain": [
       "array([[0, 0, 0, 1, 1, 1, 1, 1, 1, 1],\n",
       "       [0, 0, 0, 1, 1, 1, 1, 1, 1, 1],\n",
       "       [0, 0, 0, 1, 1, 1, 1, 1, 1, 1],\n",
       "       [0, 0, 0, 1, 1, 1, 1, 1, 1, 1],\n",
       "       [0, 0, 0, 1, 1, 1, 1, 1, 1, 1],\n",
       "       [0, 0, 0, 1, 1, 1, 1, 1, 1, 1],\n",
       "       [0, 0, 0, 1, 1, 1, 1, 1, 1, 1],\n",
       "       [0, 0, 0, 1, 1, 1, 1, 1, 1, 1],\n",
       "       [0, 0, 0, 1, 1, 1, 1, 1, 1, 1],\n",
       "       [0, 0, 0, 1, 1, 1, 1, 1, 1, 1],\n",
       "       [0, 0, 0, 1, 1, 1, 1, 1, 1, 1],\n",
       "       [0, 0, 0, 1, 1, 1, 1, 1, 1, 1],\n",
       "       [0, 0, 0, 1, 1, 1, 1, 1, 1, 1],\n",
       "       [0, 0, 0, 1, 1, 1, 1, 1, 1, 1],\n",
       "       [0, 0, 0, 1, 1, 1, 1, 1, 1, 1],\n",
       "       [0, 0, 0, 1, 1, 1, 1, 1, 1, 1],\n",
       "       [0, 0, 0, 1, 1, 1, 1, 1, 1, 1],\n",
       "       [0, 0, 0, 1, 1, 1, 1, 1, 1, 1],\n",
       "       [0, 0, 0, 1, 1, 1, 1, 1, 1, 1],\n",
       "       [0, 0, 0, 1, 1, 1, 1, 1, 1, 1]])"
      ]
     },
     "execution_count": 27,
     "metadata": {},
     "output_type": "execute_result"
    }
   ],
   "source": [
    "trace['cat'][-20:]"
   ]
  },
  {
   "cell_type": "code",
   "execution_count": 35,
   "metadata": {
    "collapsed": false
   },
   "outputs": [
    {
     "data": {
      "text/plain": [
       "array([[  9.99934167e-01,   5.35075501e-02,   7.32808041e-04,\n",
       "          2.44144472e-01,   5.06163973e-01],\n",
       "       [  2.55485719e-02,   9.92845179e-01,   2.45040433e-03,\n",
       "          3.91896637e-01,   2.74019731e-01],\n",
       "       [  5.04214390e-01,   5.13354873e-01,   1.10895503e-01,\n",
       "          9.87729312e-01,   5.72126301e-01],\n",
       "       [  7.89100816e-02,   5.04506791e-01,   5.21470816e-01,\n",
       "          6.46654373e-01,   4.09795585e-03],\n",
       "       [  5.44204170e-01,   4.99910066e-01,   2.40135537e-02,\n",
       "          6.47285093e-01,   3.93417770e-01]])"
      ]
     },
     "execution_count": 35,
     "metadata": {},
     "output_type": "execute_result"
    }
   ],
   "source": [
    "np.mean(1./(1.+np.exp(-trace['eta__logodds_'][-2:])),axis=0)"
   ]
  },
  {
   "cell_type": "code",
   "execution_count": 24,
   "metadata": {
    "collapsed": false,
    "deletable": true,
    "editable": true
   },
   "outputs": [
    {
     "ename": "AttributeError",
     "evalue": "'numpy.ndarray' object has no attribute 'varnames'",
     "output_type": "error",
     "traceback": [
      "\u001b[0;31m---------------------------------------------------------------------------\u001b[0m",
      "\u001b[0;31mAttributeError\u001b[0m                            Traceback (most recent call last)",
      "\u001b[0;32m<ipython-input-24-ee4c2ec73520>\u001b[0m in \u001b[0;36m<module>\u001b[0;34m()\u001b[0m\n\u001b[0;32m----> 1\u001b[0;31m \u001b[0mpm\u001b[0m\u001b[0;34m.\u001b[0m\u001b[0mtraceplot\u001b[0m\u001b[0;34m(\u001b[0m\u001b[0mtrace\u001b[0m\u001b[0;34m[\u001b[0m\u001b[0;34m'cat'\u001b[0m\u001b[0;34m]\u001b[0m\u001b[0;34m)\u001b[0m\u001b[0;34m\u001b[0m\u001b[0m\n\u001b[0m",
      "\u001b[0;32m/Users/libland/miniconda2/envs/IRM/lib/python2.7/site-packages/pymc3/plots.pyc\u001b[0m in \u001b[0;36mtraceplot\u001b[0;34m(trace, varnames, transform, figsize, lines, combined, plot_transformed, grid, alpha, priors, prior_alpha, prior_style, ax)\u001b[0m\n\u001b[1;32m     66\u001b[0m             \u001b[0mvarnames\u001b[0m \u001b[0;34m=\u001b[0m \u001b[0;34m[\u001b[0m\u001b[0mname\u001b[0m \u001b[0;32mfor\u001b[0m \u001b[0mname\u001b[0m \u001b[0;32min\u001b[0m \u001b[0mtrace\u001b[0m\u001b[0;34m.\u001b[0m\u001b[0mvarnames\u001b[0m\u001b[0;34m]\u001b[0m\u001b[0;34m\u001b[0m\u001b[0m\n\u001b[1;32m     67\u001b[0m         \u001b[0;32melse\u001b[0m\u001b[0;34m:\u001b[0m\u001b[0;34m\u001b[0m\u001b[0m\n\u001b[0;32m---> 68\u001b[0;31m             \u001b[0mvarnames\u001b[0m \u001b[0;34m=\u001b[0m \u001b[0;34m[\u001b[0m\u001b[0mname\u001b[0m \u001b[0;32mfor\u001b[0m \u001b[0mname\u001b[0m \u001b[0;32min\u001b[0m \u001b[0mtrace\u001b[0m\u001b[0;34m.\u001b[0m\u001b[0mvarnames\u001b[0m \u001b[0;32mif\u001b[0m \u001b[0;32mnot\u001b[0m \u001b[0mname\u001b[0m\u001b[0;34m.\u001b[0m\u001b[0mendswith\u001b[0m\u001b[0;34m(\u001b[0m\u001b[0;34m'_'\u001b[0m\u001b[0;34m)\u001b[0m\u001b[0;34m]\u001b[0m\u001b[0;34m\u001b[0m\u001b[0m\n\u001b[0m\u001b[1;32m     69\u001b[0m \u001b[0;34m\u001b[0m\u001b[0m\n\u001b[1;32m     70\u001b[0m     \u001b[0mn\u001b[0m \u001b[0;34m=\u001b[0m \u001b[0mlen\u001b[0m\u001b[0;34m(\u001b[0m\u001b[0mvarnames\u001b[0m\u001b[0;34m)\u001b[0m\u001b[0;34m\u001b[0m\u001b[0m\n",
      "\u001b[0;31mAttributeError\u001b[0m: 'numpy.ndarray' object has no attribute 'varnames'"
     ]
    }
   ],
   "source": [
    "pm.traceplot(trace['cat'])"
   ]
  },
  {
   "cell_type": "code",
   "execution_count": 18,
   "metadata": {
    "collapsed": false,
    "deletable": true,
    "editable": true
   },
   "outputs": [
    {
     "data": {
      "image/png": "[encoded data removed]",
      "text/plain": [
       "<matplotlib.figure.Figure at 0x17f49f8d0>"
      ]
     },
     "metadata": {},
     "output_type": "display_data"
    }
   ],
   "source": [
    "fig, ax = plt.subplots(figsize=(8, 6))\n",
    "\n",
    "plot_w = np.arange(K) + 1\n",
    "\n",
    "ax.bar(plot_w - 0.5, trace['w'].mean(axis=0), width=1., lw=0);\n",
    "\n",
    "ax.set_xlim(0.5, K);\n",
    "ax.set_xlabel('Component');\n",
    "\n",
    "ax.set_ylabel('Posterior expected mixture weight');"
   ]
  },
  {
   "cell_type": "code",
   "execution_count": null,
   "metadata": {
    "collapsed": false,
    "deletable": true,
    "editable": true
   },
   "outputs": [],
   "source": [
    "\n",
    "x_plot = np.linspace(-3, 3, 200)\n",
    "post_pdf_contribs = sp.stats.norm.pdf(np.atleast_3d(x_plot),\n",
    "                                      trace['mu'][:, np.newaxis, :],\n",
    "                                      1. / np.sqrt(trace['lambda'] * trace['tau'])[:, np.newaxis, :])\n",
    "post_pdfs = (trace['w'][:, np.newaxis, :] * post_pdf_contribs).sum(axis=-1)\n",
    "\n",
    "post_pdf_low, post_pdf_high = np.percentile(post_pdfs, [2.5, 97.5], axis=0)"
   ]
  },
  {
   "cell_type": "code",
   "execution_count": null,
   "metadata": {
    "collapsed": false,
    "deletable": true,
    "editable": true
   },
   "outputs": [],
   "source": [
    "\n",
    "fig, ax = plt.subplots(figsize=(8, 6))\n",
    "\n",
    "n_bins = 20\n",
    "ax.hist(old_faithful_df.std_waiting.values, bins=n_bins, normed=True,\n",
    "        color='blue', lw=0, alpha=0.5);\n",
    "\n",
    "ax.fill_between(x_plot, post_pdf_low, post_pdf_high,\n",
    "                color='gray', alpha=0.45);\n",
    "ax.plot(x_plot, post_pdfs[0],\n",
    "        c='gray', label='Posterior sample densities');\n",
    "ax.plot(x_plot, post_pdfs[::100].T, c='gray');\n",
    "ax.plot(x_plot, post_pdfs.mean(axis=0),\n",
    "        c='k', label='Posterior expected density');\n",
    "\n",
    "ax.set_xlabel('Standardized waiting time between eruptions');\n",
    "\n",
    "ax.set_yticklabels([]);\n",
    "ax.set_ylabel('Density');\n",
    "\n",
    "ax.legend(loc=2);"
   ]
  },
  {
   "cell_type": "code",
   "execution_count": null,
   "metadata": {
    "collapsed": false,
    "deletable": true,
    "editable": true
   },
   "outputs": [],
   "source": [
    "fig, ax = plt.subplots(figsize=(8, 6))\n",
    "\n",
    "n_bins = 20\n",
    "ax.hist(old_faithful_df.std_waiting.values, bins=n_bins, normed=True,\n",
    "        color='blue', lw=0, alpha=0.5);\n",
    "\n",
    "ax.plot(x_plot, post_pdfs.mean(axis=0),\n",
    "        c='k', label='Posterior expected density');\n",
    "ax.plot(x_plot, (trace['w'][:, np.newaxis, :] * post_pdf_contribs).mean(axis=0)[:, 0],\n",
    "        '--', c='k', label='Posterior expected mixture\\ncomponents\\n(weighted)');\n",
    "ax.plot(x_plot, (trace['w'][:, np.newaxis, :] * post_pdf_contribs).mean(axis=0),\n",
    "        '--', c='k');\n",
    "\n",
    "ax.set_xlabel('Standardized waiting time between eruptions');\n",
    "\n",
    "ax.set_yticklabels([]);\n",
    "ax.set_ylabel('Density');\n",
    "\n",
    "ax.legend(loc=2);\n"
   ]
  },
  {
   "cell_type": "code",
   "execution_count": 22,
   "metadata": {
    "collapsed": true,
    "deletable": true,
    "editable": true
   },
   "outputs": [],
   "source": [
    "test_data = np.array([1,1,1,0,0,1,2,2,2,1])"
   ]
  },
  {
   "cell_type": "code",
   "execution_count": 23,
   "metadata": {
    "collapsed": false,
    "deletable": true,
    "editable": true
   },
   "outputs": [],
   "source": [
    "with pm.Model() as crp_model:\n",
    "    gamma_ = pm.Gamma('gamma', 1., 1.)\n",
    "    betas_crp = pm.Beta('betas_crp', 1., gamma_, shape=K)\n",
    "    w = pm.Deterministic('w',stick_breaking(betas_crp))\n",
    "    \n",
    "    obs = pm.Categorical('obs',p=w,observed = test_data)"
   ]
  },
  {
   "cell_type": "code",
   "execution_count": 24,
   "metadata": {
    "collapsed": false,
    "deletable": true,
    "editable": true
   },
   "outputs": [
    {
     "name": "stdout",
     "output_type": "stream",
     "text": [
      "Optimization terminated successfully.\n",
      "         Current function value: 19.288660\n",
      "         Iterations: 10\n",
      "         Function evaluations: 12\n",
      "         Gradient evaluations: 12\n"
     ]
    }
   ],
   "source": [
    "map_est = pm.find_MAP(model=crp_model)"
   ]
  },
  {
   "cell_type": "code",
   "execution_count": 25,
   "metadata": {
    "collapsed": false,
    "deletable": true,
    "editable": true
   },
   "outputs": [
    {
     "name": "stdout",
     "output_type": "stream",
     "text": [
      "{'betas_crp_logodds_': array([-1.23005165,  0.13082556,  0.56906068, -0.8172319 , -0.8172319 ]), 'gamma_log_': array(0.46566454286454245)}\n"
     ]
    }
   ],
   "source": [
    "print(map_est)"
   ]
  },
  {
   "cell_type": "code",
   "execution_count": null,
   "metadata": {
    "collapsed": false,
    "deletable": true,
    "editable": true
   },
   "outputs": [],
   "source": [
    "np.tile(samp_graph,(2,1,1))"
   ]
  },
  {
   "cell_type": "code",
   "execution_count": null,
   "metadata": {
    "collapsed": true,
    "deletable": true,
    "editable": true
   },
   "outputs": [],
   "source": []
  }
 ],
 "metadata": {
  "kernelspec": {
   "display_name": "Python [conda env:IRM]",
   "language": "python",
   "name": "conda-env-IRM-py"
  },
  "language_info": {
   "codemirror_mode": {
    "name": "ipython",
    "version": 2
   },
   "file_extension": ".py",
   "mimetype": "text/x-python",
   "name": "python",
   "nbconvert_exporter": "python",
   "pygments_lexer": "ipython2",
   "version": "2.7.13"
  }
 },
 "nbformat": 4,
 "nbformat_minor": 2
}
