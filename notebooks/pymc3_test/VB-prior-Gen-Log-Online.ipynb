{
 "cells": [
  {
   "cell_type": "code",
   "execution_count": 1,
   "metadata": {
    "collapsed": false,
    "deletable": true,
    "editable": true
   },
   "outputs": [],
   "source": [
    "import numpy as np\n",
    "from IPython import display"
   ]
  },
  {
   "cell_type": "code",
   "execution_count": 2,
   "metadata": {
    "collapsed": true,
    "deletable": true,
    "editable": true
   },
   "outputs": [],
   "source": [
    "import matplotlib.pyplot as plt\n",
    "%matplotlib inline"
   ]
  },
  {
   "cell_type": "code",
   "execution_count": 3,
   "metadata": {
    "collapsed": true,
    "deletable": true,
    "editable": true
   },
   "outputs": [],
   "source": [
    "num_hidden = 100\n",
    "num_dxs = 300\n",
    "num_findings = 3000\n",
    "num_samples = 3000"
   ]
  },
  {
   "cell_type": "code",
   "execution_count": 4,
   "metadata": {
    "collapsed": false,
    "deletable": true,
    "editable": true
   },
   "outputs": [],
   "source": [
    "def update_params(X,Y,H,Sig_H,W,Sig_W,V,Sig_V,H_0,Sig_H_0_inv,W_0,Sig_W_0_inv,V_0,Sig_V_0_inv):\n",
    "    num_samples, num_hidden = H.shape\n",
    "    _, num_findings = W.shape\n",
    "    _, num_dxs = V.shape\n",
    "    \n",
    "    Xi = np.sqrt(Sig_H.dot(Sig_W+(W**2))+(H**2).dot(Sig_W)+(H.dot(W))**2)\n",
    "    Eta2 = diff_op(H.dot(V))**2+ diff_op2((Sig_H+H**2).dot(Sig_V))+np.tensordot(Sig_H,diff_op(V)**2,axes=(1,0)) \n",
    "    Eta = np.sqrt(Eta2)\n",
    "    #Eta = np.sqrt(diff_op2(Sig_H.dot(Sig_V+(V**2))+(H**2).dot(Sig_V)+(H.dot(V))**2))\n",
    "    \n",
    "    assert np.isfinite(Xi).all()\n",
    "    assert np.isfinite(Eta).all()\n",
    "    \n",
    "    L = lower_marginal_likelihood_bound(X,Y,H,Sig_H,W,Sig_W,V,Sig_V,Xi,Eta,H_0,Sig_H_0_inv,W_0,Sig_W_0_inv,V_0,Sig_V_0_inv)\n",
    "    \n",
    "    \n",
    "    W, Sig_W = update_weights(X,W,H,Xi,W_0,Sig_W_0_inv)\n",
    "    \n",
    "    LW = lower_marginal_likelihood_bound(X,Y,H,Sig_H,W,Sig_W,V,Sig_V,Xi,Eta,H_0,Sig_H_0_inv,W_0,Sig_W_0_inv,V_0,Sig_V_0_inv)\n",
    "    \n",
    "    diff_op_mat = diff_op(np.eye(V.shape[1]))\n",
    "    H_ext = np.einsum('ij,klm->ilmjk',H,diff_op_mat).reshape([num_samples,-1])\n",
    "    V_resh,Sig_V_resh = update_weights(Y.reshape([-1]),\n",
    "                                       V.reshape([-1]),\n",
    "                                       H_ext.reshape([-1,len(V.reshape([-1]))]),\n",
    "                                       Eta.reshape([-1]),\n",
    "                                       V_0.reshape([-1]),\n",
    "                                       Sig_V_0_inv.reshape([-1]))\n",
    "    V = V_resh.reshape(V.shape)\n",
    "    Sig_V = Sig_V_resh.reshape(V.shape)\n",
    "    \n",
    "    LV = lower_marginal_likelihood_bound(X,Y,H,Sig_H,W,Sig_W,V,Sig_V,Xi,Eta,H_0,Sig_H_0_inv,W_0,Sig_W_0_inv,V_0,Sig_V_0_inv)\n",
    "    \n",
    "    \n",
    "    W_ext = np.hstack([W,diff_op(V).reshape([num_hidden,-1])])\n",
    "    Xi_ext = np.hstack([Xi,Eta.reshape([num_samples,-1])])\n",
    "    T_ext = np.hstack([X,Y.reshape([num_samples,-1])])\n",
    "    \n",
    "    H_T, Sig_H_T = update_weights(T_ext.T,H.T,W_ext.T,Xi_ext.T,H_0.T,Sig_H_0_inv.T)\n",
    "    H, Sig_H = (H_T.T,Sig_H_T.T)\n",
    "    \n",
    "    LH = lower_marginal_likelihood_bound(X,Y,H,Sig_H,W,Sig_W,V,Sig_V,Xi,Eta,H_0,Sig_H_0_inv,W_0,Sig_W_0_inv,V_0,Sig_V_0_inv)\n",
    "    \n",
    "    return (H,Sig_H), (W,Sig_W), (V,Sig_V), (L,LW,LV,LH)\n",
    "\n",
    "def update_weights(T,W,X,Xi,W_0,S_W_0_inv):\n",
    "    \"\"\"Update the weight matrix\n",
    "    T = observed values\n",
    "    W = weights (at current iteration of VB)\n",
    "    X = features\n",
    "    Xi = JJ positions (at current iteration of VB)\n",
    "    W_0 = prior bias for W\n",
    "    reg = regularization strength\n",
    "    \n",
    "    we assume T ~ Bernouilli(sigmoid(XW))\n",
    "    returns (W,Sig_W)\n",
    "    where W are the updated weight values and Sig_W are the current variances of those weight values.\n",
    "    \"\"\"\n",
    "    #print(\"T: %s, W: %s, X: %s, Xi: %s, W_0: %s\" % (T.shape,W.shape,X.shape,Xi.shape,W_0.shape))\n",
    "    k = (len(X.shape)+len(W.shape)-len(T.shape))//2 # number of indices to contract over.\n",
    "    #S_W_0_inv = reg*np.ones(W.shape)\n",
    "    \n",
    "    assert np.isfinite(Xi).all()\n",
    "    lamXi = lambdoid(Xi)\n",
    "    assert np.isfinite(lamXi).all()\n",
    "    \n",
    "    #print(\"k:%d, X: %s, Xi: %s\" %(k,X.shape,Xi.shape))\n",
    "    X2lamXi = np.tensordot((X**2).T,lamXi,k)\n",
    "    assert np.isfinite(X2lamXi).all()\n",
    "    \n",
    "    S_W_inv_ = S_W_0_inv + 2*X2lamXi\n",
    "    S_W_ = np.reciprocal(S_W_inv_)\n",
    "    assert np.isfinite(S_W_).all()\n",
    "    \n",
    "    term1 = np.tensordot(X.T, T-0.5-2*lamXi*np.tensordot(X,W,k),k)\n",
    "    term2 = 2*W*X2lamXi\n",
    "    \n",
    "    assert np.isfinite(term1).all()\n",
    "    assert np.isfinite(term2).all()\n",
    "    \n",
    "    W_ = S_W_*(S_W_0_inv*W_0+term1+term2)\n",
    "    \n",
    "    assert np.isfinite(W_).all()\n",
    "    return W_, S_W_\n",
    "    "
   ]
  },
  {
   "cell_type": "code",
   "execution_count": 5,
   "metadata": {
    "collapsed": true,
    "deletable": true,
    "editable": true
   },
   "outputs": [],
   "source": [
    "def diff_op(HV,max_dxs=None):\n",
    "    return np.tile(HV[:,:,np.newaxis],[1,1,num_dxs])-np.tile(HV[:,np.newaxis,:],[1,num_dxs,1])\n",
    "\n",
    "def diff_op2(HV,max_dxs=None):\n",
    "    return np.tile(HV[:,:,np.newaxis],[1,1,num_dxs])+np.tile(HV[:,np.newaxis,:],[1,num_dxs,1])\n",
    "    \n",
    "def diff_op_T(HTY):\n",
    "    return HTY.sum(axis=2)-HTY.sum(axis=1)"
   ]
  },
  {
   "cell_type": "code",
   "execution_count": 6,
   "metadata": {
    "collapsed": false,
    "deletable": true,
    "editable": true
   },
   "outputs": [],
   "source": [
    "HV = np.random.normal(size=[num_samples,num_dxs])\n",
    "HVV = diff_op(HV)"
   ]
  },
  {
   "cell_type": "code",
   "execution_count": 7,
   "metadata": {
    "collapsed": false,
    "deletable": true,
    "editable": true
   },
   "outputs": [
    {
     "data": {
      "text/plain": [
       "array([[-1.84930689,  1.49165195,  2.19182332, ..., -1.10385358,\n",
       "        -2.119784  ,  0.49688327],\n",
       "       [-0.37648505, -1.06449048, -1.0429093 , ..., -0.51004259,\n",
       "        -0.22507504,  1.47594518],\n",
       "       [ 0.40831074, -0.99400237, -0.97713887, ..., -0.04727567,\n",
       "         2.57244455, -1.28061367],\n",
       "       ..., \n",
       "       [-0.52188516, -1.04235823,  0.55441001, ...,  1.36265672,\n",
       "        -2.52771247,  1.18127523],\n",
       "       [ 0.11705898,  2.16487863, -0.99611284, ...,  0.43192242,\n",
       "        -0.20098386, -0.2501703 ],\n",
       "       [ 2.06933009,  0.93116919, -0.3619743 , ..., -0.65827048,\n",
       "        -1.17999263, -1.49368616]])"
      ]
     },
     "execution_count": 7,
     "metadata": {},
     "output_type": "execute_result"
    }
   ],
   "source": [
    "HV"
   ]
  },
  {
   "cell_type": "code",
   "execution_count": null,
   "metadata": {
    "collapsed": false,
    "deletable": true,
    "editable": true
   },
   "outputs": [],
   "source": [
    "HV = np.random.randint(low=-5,high=5,size=[num_samples,num_dxs])\n",
    "HVV = diff_op(HV)\n",
    "for k in range(num_samples):\n",
    "    for i in range(num_dxs):\n",
    "        for j in range(num_dxs):\n",
    "            if i==j:\n",
    "                assert(HVV[k,i,j]==0)\n",
    "            else:\n",
    "                assert(HVV[k,i,j]==HV[k,i]-HV[k,j])\n",
    "\n",
    "HTY = np.random.randint(low=-5,high=5,size=[num_samples,num_dxs,num_dxs])\n",
    "HHTY = diff_op_T(HTY)\n",
    "assert((np.einsum('ijk,pjk->ip',HVV,HTY)==HV.dot(HHTY.T)).all())"
   ]
  },
  {
   "cell_type": "code",
   "execution_count": 8,
   "metadata": {
    "collapsed": true,
    "deletable": true,
    "editable": true
   },
   "outputs": [],
   "source": [
    "def KLDivergence(m1,Sig1,m2,Sig2):\n",
    "    \"\"\"Computes the KL divergence of two multivariate normal distributions. \n",
    "    mi and Sigi are the respective means and covariance matrices\"\"\"\n",
    "    d = len(m1)\n",
    "    Sig2inv = np.linalg.inv(Sig2)\n",
    "    Sig2invSig1 = Sig2inv.dot(Sig1)\n",
    "    return 0.5*(-np.linalg.slogdet(Sig2invSig1)[1]-d+np.trace(Sig2invSig1)+(m2-m1).T.dot(Sig2inv.dot(m2-m1)))\n",
    "\n",
    "def KLDivergence_diag(m1,Sig1,m2,Sig2):\n",
    "    \"\"\"Computes the KL divergence of two multivariate normal distributions. \n",
    "    mi and Sigi are the respective means and covariance matrices\"\"\"\n",
    "    d = len(m1.flatten())\n",
    "    Sig2inv = np.reciprocal(Sig2)\n",
    "    Sig2invSig1 = Sig2inv*Sig1\n",
    "    return 0.5*(-np.log(Sig2invSig1).sum()-d+Sig2invSig1.sum()+(((m2-m1)**2)*Sig2inv).sum())\n",
    "\n",
    "def KLDivergence_inv(m1,Sig1,m2,Sig2inv):\n",
    "    \"\"\"Computes the KL divergence of two multivariate normal distributions. \n",
    "    mi and Sigi are the respective means and covariance matrices\"\"\"\n",
    "    d = len(m1)\n",
    "    #Sig2inv = np.linalg.inv(Sig2)\n",
    "    Sig2invSig1 = Sig2inv.dot(Sig1)\n",
    "    return 0.5*(-np.linalg.slogdet(Sig2invSig1)[1]-d+np.trace(Sig2invSig1)+(m2-m1).T.dot(Sig2inv.dot(m2-m1)))\n",
    "\n",
    "def KLDivergence_inv_diag(m1,Sig1,m2,Sig2inv):\n",
    "    \"\"\"Computes the KL divergence of two multivariate normal distributions. \n",
    "    mi and Sigi are the respective means and covariance matrices\"\"\"\n",
    "    d = len(m1.flatten())\n",
    "    #Sig2inv = np.reciprocal(Sig2)\n",
    "    Sig2invSig1 = Sig2inv*Sig1\n",
    "    return 0.5*(-np.log(Sig2invSig1).sum()-d+Sig2invSig1.sum()+(((m2-m1)**2)*Sig2inv).sum())"
   ]
  },
  {
   "cell_type": "code",
   "execution_count": 9,
   "metadata": {
    "collapsed": false,
    "deletable": true,
    "editable": true
   },
   "outputs": [],
   "source": [
    "def log_1_add_exp(x):\n",
    "    mask = x<0\n",
    "    nmask = np.logical_not(mask)\n",
    "    ans = np.zeros_like(x)\n",
    "    ans[mask] = np.log1p(np.exp(x[mask]))\n",
    "    ans[nmask] = np.log1p(np.exp(-x[nmask]))+x[nmask]\n",
    "    return ans\n",
    "\n",
    "def lower_marginal_likelihood_bound(X,Y,H,Sig_H,W,Sig_W,V,Sig_V,Xi,Eta,H_0,Sig_H_0_inv,W_0,Sig_W_0_inv,V_0,Sig_V_0_inv):\n",
    "    \n",
    "    H_0 = np.random.randn(*H_0.shape)/np.sqrt(float(num_samples+num_hidden))\n",
    "    W_0 = np.random.randn(*W_0.shape)/np.sqrt(float(num_hidden+num_findings))\n",
    "    V_0 = np.random.randn(*V_0.shape)/np.sqrt(float(num_hidden+num_dxs*num_dxs))\n",
    "    Sig_H_0_inv = 0.01*np.ones(H_0.shape)\n",
    "    Sig_W_0_inv = 0.01*np.ones(W_0.shape)\n",
    "    Sig_V_0_inv = 0.01*np.ones(V_0.shape)\n",
    "    \n",
    "    KLH = KLDivergence_inv_diag(H,Sig_H,H_0,Sig_H_0_inv)\n",
    "    KLW = KLDivergence_inv_diag(W,Sig_W,W_0,Sig_W_0_inv)\n",
    "    KLV = KLDivergence_inv_diag(V,Sig_V,V_0,Sig_V_0_inv)\n",
    "    HW = H.dot(W)\n",
    "    HW2 = Sig_H.dot(Sig_W+W**2)+(H**2).dot(Sig_W)+HW**2\n",
    "    lamXi = lambdoid(Xi)\n",
    "    lseW = (lamXi*(HW2-Xi**2)+0.5*(HW-Xi)+log_1_add_exp(Xi)).sum()\n",
    "    HVF = diff_op(H.dot(V))\n",
    "    HVF2 = diff_op2(Sig_H.dot(Sig_V+V**2)+(H**2).dot(Sig_V))+HVF**2 \n",
    "    lamEta = lambdoid(Eta)\n",
    "    lseV = (lamEta*(HVF2-Eta**2)+0.5*(HVF-Eta)+log_1_add_exp(Eta)).sum()\n",
    "    e_log_likelihood = (X*HW).sum()+(Y*HVF).sum()-lseW-lseV\n",
    "    return KLH+KLW+KLV-e_log_likelihood"
   ]
  },
  {
   "cell_type": "code",
   "execution_count": 10,
   "metadata": {
    "collapsed": true,
    "deletable": true,
    "editable": true
   },
   "outputs": [],
   "source": [
    "def lambdoid(xi):\n",
    "    from scipy.special import exprel\n",
    "    xi = -abs(xi)\n",
    "    return 0.25*exprel(xi)/(np.exp(xi)+1)"
   ]
  },
  {
   "cell_type": "code",
   "execution_count": 11,
   "metadata": {
    "collapsed": true,
    "deletable": true,
    "editable": true
   },
   "outputs": [],
   "source": [
    "def sigmoid(eta):\n",
    "    return 1/(1+np.exp(-eta))"
   ]
  },
  {
   "cell_type": "code",
   "execution_count": 12,
   "metadata": {
    "collapsed": true,
    "deletable": true,
    "editable": true
   },
   "outputs": [],
   "source": [
    "_W = np.random.randn(num_dxs, num_findings)"
   ]
  },
  {
   "cell_type": "code",
   "execution_count": 13,
   "metadata": {
    "collapsed": true,
    "deletable": true,
    "editable": true
   },
   "outputs": [],
   "source": [
    "def bernoulli(p):\n",
    "    rands = np.random.rand(*np.array(p).shape)\n",
    "    return np.array(rands < p,dtype=np.float)"
   ]
  },
  {
   "cell_type": "code",
   "execution_count": 14,
   "metadata": {
    "collapsed": false,
    "deletable": true,
    "editable": true
   },
   "outputs": [],
   "source": [
    "def generate_cases(num_dxs, num_findings, avg_ddx_length, w, num_samples=1):\n",
    "    h = np.random.randn(num_samples,num_dxs)\n",
    "    y = bernoulli(sigmoid(diff_op(h)))\n",
    "    for i in range(num_dxs):\n",
    "        for j in range(i):\n",
    "            y[i,j] = 1-y[j,i]\n",
    "    x = bernoulli(sigmoid(h.dot(w)))\n",
    "    return x,y,h"
   ]
  },
  {
   "cell_type": "code",
   "execution_count": 15,
   "metadata": {
    "collapsed": false,
    "deletable": true,
    "editable": true
   },
   "outputs": [],
   "source": [
    "X,Y,H_0 = generate_cases(num_dxs=num_dxs, num_findings=num_findings, w=_W, avg_ddx_length=1, num_samples=num_samples)"
   ]
  },
  {
   "cell_type": "code",
   "execution_count": 16,
   "metadata": {
    "collapsed": false,
    "deletable": true,
    "editable": true
   },
   "outputs": [
    {
     "data": {
      "text/plain": [
       "<matplotlib.figure.Figure at 0x10d68f290>"
      ]
     },
     "metadata": {},
     "output_type": "display_data"
    }
   ],
   "source": [
    "alpha = .01\n",
    "num_epochs = 300\n",
    "minibatch_size = 10\n",
    "reg_p = 2\n",
    "fig = plt.figure(1)\n",
    "def fit(X, Y, num_hidden, reg_p, alpha):\n",
    "    num_samples, num_findings = X.shape\n",
    "    num_dxs = Y.shape[1]\n",
    "    H_0_ = np.random.randn(num_samples, num_hidden)/np.sqrt(float(num_samples+num_hidden))\n",
    "    W_0_ = np.random.randn(num_hidden, num_findings)/np.sqrt(float(num_hidden+num_findings))\n",
    "    V_0_ = np.random.randn(num_hidden, num_dxs)/np.sqrt(float(num_hidden+num_dxs*num_dxs))\n",
    "    H = np.copy(H_0_)\n",
    "    W = np.copy(W_0_)\n",
    "    V = np.copy(V_0_)\n",
    "    Sig_H_0_inv = 0.01*np.ones(H.shape)\n",
    "    Sig_W_0_inv = 0.01*np.ones(W.shape)\n",
    "    Sig_V_0_inv = 0.01*np.ones(V.shape)\n",
    "    Sig_H = np.reciprocal(Sig_H_0_inv)\n",
    "    Sig_W = np.reciprocal(Sig_W_0_inv)\n",
    "    Sig_V = np.reciprocal(Sig_V_0_inv)\n",
    "    max_h = [abs(H).max()]\n",
    "    max_w = [abs(W).max()]\n",
    "    max_v = [abs(V).max()]\n",
    "    L = []\n",
    "    for k in range(num_epochs*num_samples//minibatch_size):\n",
    "        j = k*minibatch_size % num_samples\n",
    "        X_minibatch = X[j:j+minibatch_size,:]\n",
    "        Y_minibatch = Y[j:j+minibatch_size,:,:]\n",
    "        H_0_minibatch = H_0_[j:j+minibatch_size,:]\n",
    "        H_minibatch = H[j:j+minibatch_size,:]\n",
    "        Sig_H_0_inv_minibatch = Sig_H_0_inv[j:j+minibatch_size,:]\n",
    "        Sig_H_minibatch = Sig_H[j:j+minibatch_size,:]\n",
    "        for i in range(4):\n",
    "            (HH, Sig_HH_minibatch), (WW,Sig_WW), (VV,Sig_VV), Ls = update_params(X_minibatch,Y_minibatch,\n",
    "                                                                    H_minibatch,Sig_H_minibatch,\n",
    "                                                                    W,Sig_W,\n",
    "                                                                    V,Sig_V,\n",
    "                                                                    H_0_minibatch,Sig_H_0_inv_minibatch,\n",
    "                                                                    W_0_,Sig_W_0_inv,\n",
    "                                                                    V_0_,Sig_V_0_inv)\n",
    "\n",
    "            H_minibatch = H_minibatch*(1-alpha) + alpha*HH\n",
    "            Sig_H_minibatch = Sig_H_minibatch*(1-alpha) + alpha*Sig_HH_minibatch\n",
    "            H[j:j+minibatch_size,:] = H_minibatch\n",
    "            Sig_H[j:j+minibatch_size,:] = Sig_H_minibatch\n",
    "            W = W*(1-alpha) + alpha*WW\n",
    "            Sig_W = Sig_W*(1-alpha) + alpha*Sig_WW\n",
    "            V = V*(1-alpha) + alpha*VV\n",
    "            Sig_V = Sig_V*(1-alpha) + alpha*Sig_VV\n",
    "            max_h.append(abs(H).max())\n",
    "            max_w.append(abs(W).max())\n",
    "            max_v.append(abs(V).max())\n",
    "            #print(\"iteration %d\" % i)\n",
    "\n",
    "            clip = 100000.\n",
    "            plt.gcf().clf()\n",
    "            plt.gcf().suptitle(\"minibatch: %d of epoch %d\" % (j, k*minibatch_size//num_samples))\n",
    "            plt.subplot(121)\n",
    "            plt.plot(range(len(L)),map(lambda x: min(x,clip), L))\n",
    "            data_h = H_0.dot(_W).flatten()\n",
    "            data_v = H_0.flatten()\n",
    "            pred_h = H.dot(W).flatten()\n",
    "            pred_v = H.dot(V).flatten()\n",
    "            plt.subplot(222)\n",
    "            plt.scatter(data_h,pred_h)\n",
    "            plt.subplot(224)\n",
    "            plt.scatter(data_v,pred_v)\n",
    "            display.clear_output(wait=True)\n",
    "            display.display(plt.gcf()) \n",
    "        L += list(Ls)\n",
    "        W_0_ = np.copy(W)\n",
    "        V_0_ = np.copy(V)\n",
    "        Sig_W_0_inv = np.reciprocal(Sig_W)\n",
    "        Sig_V_0_inv = np.reciprocal(Sig_V)\n",
    "        #alpha = np.power(k+1.,1/3.)*alpha/np.power(k+2.,1/3.)\n",
    "    return (H, Sig_H), (W,Sig_W), (V,Sig_V), max_h, max_w, max_v, L"
   ]
  },
  {
   "cell_type": "code",
   "execution_count": null,
   "metadata": {
    "collapsed": false,
    "deletable": true,
    "editable": true
   },
   "outputs": [],
   "source": [
    "(H, Sig_H), (W,Sig_W), (V,Sig_V), max_h, max_w, max_v, Ls = fit(X, Y, num_hidden,.1,alpha)"
   ]
  },
  {
   "cell_type": "code",
   "execution_count": 23,
   "metadata": {
    "collapsed": false,
    "deletable": true,
    "editable": true
   },
   "outputs": [
    {
     "data": {
      "text/plain": [
       "<matplotlib.collections.PathCollection at 0x113f6b590>"
      ]
     },
     "execution_count": 23,
     "metadata": {},
     "output_type": "execute_result"
    },
    {
     "data": {
      "image/png": "[encoded data removed]",
      "text/plain": [
       "<matplotlib.figure.Figure at 0x11360f510>"
      ]
     },
     "metadata": {},
     "output_type": "display_data"
    }
   ],
   "source": [
    "plt.scatter(H.dot(W).flatten(),X.flatten())"
   ]
  },
  {
   "cell_type": "code",
   "execution_count": 24,
   "metadata": {
    "collapsed": false,
    "deletable": true,
    "editable": true
   },
   "outputs": [
    {
     "data": {
      "image/png": "[encoded data removed]",
      "text/plain": [
       "<matplotlib.figure.Figure at 0x112f3e590>"
      ]
     },
     "metadata": {},
     "output_type": "display_data"
    },
    {
     "data": {
      "text/plain": [
       "<matplotlib.collections.PathCollection at 0x11340f890>"
      ]
     },
     "execution_count": 24,
     "metadata": {},
     "output_type": "execute_result"
    },
    {
     "data": {
      "image/png": "[encoded data removed]",
      "text/plain": [
       "<matplotlib.figure.Figure at 0x1135dac50>"
      ]
     },
     "metadata": {},
     "output_type": "display_data"
    }
   ],
   "source": [
    "data_h = H_0.dot(_W).flatten()\n",
    "data_v = H_0.flatten()\n",
    "pred_h = H.dot(W).flatten()\n",
    "pred_v = H.dot(V).flatten()\n",
    "plt.scatter(data_h,pred_h)\n",
    "plt.show()\n",
    "plt.scatter(data_v,pred_v)"
   ]
  },
  {
   "cell_type": "code",
   "execution_count": 25,
   "metadata": {
    "collapsed": false,
    "deletable": true,
    "editable": true
   },
   "outputs": [
    {
     "data": {
      "text/plain": [
       "<matplotlib.collections.PathCollection at 0x112f94150>"
      ]
     },
     "execution_count": 25,
     "metadata": {},
     "output_type": "execute_result"
    },
    {
     "data": {
      "image/png": "[encoded data removed]",
      "text/plain": [
       "<matplotlib.figure.Figure at 0x113959f10>"
      ]
     },
     "metadata": {},
     "output_type": "display_data"
    }
   ],
   "source": [
    "plt.scatter(range(len(max_h)),max_w, color='blue')\n",
    "plt.scatter(range(len(max_h)),max_v, color='red')\n",
    "plt.scatter(range(len(max_h)),max_h, color='green')"
   ]
  },
  {
   "cell_type": "code",
   "execution_count": 26,
   "metadata": {
    "collapsed": false,
    "deletable": true,
    "editable": true
   },
   "outputs": [
    {
     "data": {
      "text/plain": [
       "[<matplotlib.lines.Line2D at 0x11347f5d0>]"
      ]
     },
     "execution_count": 26,
     "metadata": {},
     "output_type": "execute_result"
    },
    {
     "data": {
      "image/png": "[encoded data removed]",
      "text/plain": [
       "<matplotlib.figure.Figure at 0x112f57250>"
      ]
     },
     "metadata": {},
     "output_type": "display_data"
    }
   ],
   "source": [
    "n=-1\n",
    "clip = 45000.\n",
    "plt.plot(range(len(Ls[:n])),map(lambda x:min(x,clip),Ls[:n]))"
   ]
  },
  {
   "cell_type": "code",
   "execution_count": 27,
   "metadata": {
    "collapsed": false,
    "deletable": true,
    "editable": true
   },
   "outputs": [],
   "source": [
    "H = np.zeros([3,3])\n",
    "V = H[1,2:2+1]\n",
    "V += 1"
   ]
  },
  {
   "cell_type": "code",
   "execution_count": 28,
   "metadata": {
    "collapsed": false,
    "deletable": true,
    "editable": true
   },
   "outputs": [
    {
     "data": {
      "text/plain": [
       "array([[ 0.,  0.,  0.],\n",
       "       [ 0.,  0.,  1.],\n",
       "       [ 0.,  0.,  0.]])"
      ]
     },
     "execution_count": 28,
     "metadata": {},
     "output_type": "execute_result"
    }
   ],
   "source": [
    "H"
   ]
  },
  {
   "cell_type": "code",
   "execution_count": null,
   "metadata": {
    "collapsed": true,
    "deletable": true,
    "editable": true
   },
   "outputs": [],
   "source": []
  }
 ],
 "metadata": {
  "kernelspec": {
   "display_name": "Python [conda env:pymc3_test]",
   "language": "python",
   "name": "conda-env-pymc3_test-py"
  },
  "language_info": {
   "codemirror_mode": {
    "name": "ipython",
    "version": 2
   },
   "file_extension": ".py",
   "mimetype": "text/x-python",
   "name": "python",
   "nbconvert_exporter": "python",
   "pygments_lexer": "ipython2",
   "version": "2.7.13"
  }
 },
 "nbformat": 4,
 "nbformat_minor": 2
}
