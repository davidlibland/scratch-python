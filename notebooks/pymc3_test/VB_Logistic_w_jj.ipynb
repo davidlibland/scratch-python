{
 "cells": [
  {
   "cell_type": "code",
   "execution_count": 1,
   "metadata": {
    "collapsed": false,
    "deletable": true,
    "editable": true
   },
   "outputs": [],
   "source": [
    "import numpy as np"
   ]
  },
  {
   "cell_type": "code",
   "execution_count": 2,
   "metadata": {
    "collapsed": true,
    "deletable": true,
    "editable": true
   },
   "outputs": [],
   "source": [
    "import matplotlib.pyplot as plt\n",
    "%matplotlib inline"
   ]
  },
  {
   "cell_type": "code",
   "execution_count": 3,
   "metadata": {
    "collapsed": true,
    "deletable": true,
    "editable": true
   },
   "outputs": [],
   "source": [
    "num_x_features = 3\n",
    "num_y_features = 1\n",
    "num_samples = 1\n",
    "reg_p = 0.5"
   ]
  },
  {
   "cell_type": "code",
   "execution_count": 4,
   "metadata": {
    "collapsed": false,
    "deletable": true,
    "editable": true
   },
   "outputs": [],
   "source": [
    "from scipy.special import expit as sigmoid\n",
    "\n",
    "def lambdoid(xi):\n",
    "    from scipy.special import exprel\n",
    "    xi = -abs(xi)\n",
    "    return 0.25*exprel(xi)/(np.exp(xi)+1)\n",
    "\n",
    "def batch_inverse(A,*frozen_indices):\n",
    "    assert len(A.shape)==len(frozen_indices)+2, \"We need A to have exactly two more dimensions\"\\\n",
    "           \"than the number of indices frozen.\"\n",
    "    from itertools import product\n",
    "    lengths = [A.shape[i] for i in frozen_indices]\n",
    "    index_reverse_lookup = {i:j for j,i in enumerate(frozen_indices)}\n",
    "    A_inv = np.zeros(A.shape)\n",
    "    for index in product(*map(range,lengths)):\n",
    "        index = list(index)\n",
    "        index_full = [index[index_reverse_lookup[i]] if i in frozen_indices else slice(None) \n",
    "                                for i in range(len(A.shape))]\n",
    "        A_inv[index_full]  = np.linalg.inv(A[index_full])\n",
    "    return A_inv"
   ]
  },
  {
   "cell_type": "code",
   "execution_count": 5,
   "metadata": {
    "collapsed": true,
    "deletable": true,
    "editable": true
   },
   "outputs": [],
   "source": [
    "def KLDivergence(m1,Sig1,m2,Sig2):\n",
    "    \"\"\"Computes the KL divergence of two multivariate normal distributions. \n",
    "    mi and Sigi are the respective means and covariance matrices\"\"\"\n",
    "    d = len(m1)\n",
    "    Sig2inv = np.linalg.inv(Sig2)\n",
    "    Sig2invSig1 = Sig2inv.dot(Sig1)\n",
    "    return 0.5*(-np.linalg.slogdet(Sig2invSig1)[1]-d+np.trace(Sig2invSig1)+(m2-m1).T.dot(Sig2inv.dot(m2-m1)))"
   ]
  },
  {
   "cell_type": "code",
   "execution_count": 6,
   "metadata": {
    "collapsed": false,
    "deletable": true,
    "editable": true
   },
   "outputs": [],
   "source": [
    "   \n",
    "def update_params(X,H,W,S_W,W_0,reg_p):\n",
    "    \"\"\"\n",
    "    Here X are the target labels, H is the input vector, and W are the weights\n",
    "    This computes a full covariance matrix for W\n",
    "    \"\"\"\n",
    "    S_W_0_inv = reg_p*np.tile(np.eye(W.shape[0])[:,np.newaxis,:],[1,W.shape[1],1])\n",
    "    S_W_WW = S_W+np.einsum('ij,kj->ijk',W,W)\n",
    "    Xi = np.sqrt(np.einsum('ij,jlk,ik->il',H,S_W_WW,H))\n",
    "    \n",
    "    \n",
    "    LXi = sum(lower_log_marginal_likelihood_bound(W[:,i], S_W[:,i,:], Xi, W_0[:,i], reg_p)\n",
    "             for i in range(W.shape[1]))\n",
    "    #LXi = lower_log_probability(X,H,W,S_W,Xi)\n",
    "    \n",
    "    S_W_inv_ = S_W_0_inv + 2* np.einsum('il,ij,ik->jlk', lambdoid(Xi),H,H)\n",
    "    S_W_ = batch_inverse(S_W_inv_,1)\n",
    "    W_ = np.einsum('ljk,ij,ik->lj',S_W_,(X-0.5),H)\n",
    "    \n",
    "    LW = sum(lower_log_marginal_likelihood_bound(W_[:,i], S_W_[:,i,:], Xi, W_0[:,i], reg_p)\n",
    "             for i in range(W.shape[1]))\n",
    "    #LW = lower_log_probability(X,H,W_,S_W_,Xi)\n",
    "    \n",
    "    return (W_,S_W_), (LXi,LW)\n",
    "\n",
    "\n",
    "def update_params_diag(X,H,W,S_W,W_0,reg_p):\n",
    "    \"\"\"\n",
    "    Here X are the target labels, H is the input vector, and W are the weights\n",
    "    This computes diagonal variances for W.\n",
    "    \"\"\"\n",
    "    S_W_0_inv = reg_p*np.ones(W.shape)\n",
    "    S_W_WW = S_W+np.einsum('ij,ij->ij',W,W)\n",
    "    Xi = np.sqrt(np.einsum('ij,jl,ij->il',H,S_W_WW,H))\n",
    "    S_W_inv_ = S_W_0_inv + 2*np.einsum('il,ij,ij->jl', lambdoid(Xi),H,H)\n",
    "    S_W_ = np.reciprocal(S_W_inv_)\n",
    "    \n",
    "    midterm = X-0.5-2*lambdoid(Xi)*(H.dot(W))\n",
    "    \n",
    "    W_ = np.einsum('lj,ij,il->lj',S_W_,midterm,H)+2*np.einsum('ij,ij->ij',S_W_,W*(H**2).T.dot(lambdoid(Xi)))\n",
    "    \n",
    "    return (W_,S_W_)\n",
    "\n",
    "\n",
    "def update_params_diag_2(X,H,W,S_W,W_0,reg_p):\n",
    "    \"\"\"\n",
    "    Here X are the target labels, H is the input vector, and W are the weights\n",
    "    This computes diagonal variances for W.\n",
    "    This is the same formula as update_params_diag, but with slightly different code\n",
    "    \"\"\"\n",
    "    S_W_0_inv = reg_p*np.ones(W.shape)\n",
    "    S_W_WW = S_W+np.einsum('ij,ij->ij',W,W)\n",
    "    Xi = np.sqrt(np.einsum('ij,jl,ij->il',H,S_W_WW,H))\n",
    "    S_W_inv_ = S_W_0_inv + 2*np.einsum('il,ij,ij->jl', lambdoid(Xi),H,H)\n",
    "    S_W_ = np.reciprocal(S_W_inv_)\n",
    "    \n",
    "    midterm = H.T.dot(X-0.5-2*lambdoid(Xi)*(H.dot(W)))+2*W*(H**2).T.dot(lambdoid(Xi))\n",
    "    \n",
    "    W_ = np.einsum('ij,ij->ij',S_W_,midterm)\n",
    "    \n",
    "    return (W_,S_W_)\n",
    "\n",
    "\n",
    "\n",
    "def update_weights(T,W,X,Xi,W_0,reg):\n",
    "    \"\"\"Update the weight matrix\n",
    "    T = observed values\n",
    "    W = weights (at current iteration of VB)\n",
    "    X = features\n",
    "    Xi = JJ positions (at current iteration of VB)\n",
    "    W_0 = prior bias for W\n",
    "    reg = regularization strength\n",
    "    \n",
    "    we assume T ~ Bernouilli(sigmoid(XW))\n",
    "    returns (W,Sig_W)\n",
    "    where W are the updated weight values and Sig_W are the current variances of those weight values.\n",
    "    \"\"\"\n",
    "    k = (len(X.shape)+len(W.shape)-len(T.shape))//2 # number of indices to contract over.\n",
    "    S_W_0_inv = reg*np.ones(W.shape)\n",
    "    \n",
    "    lamXi = lambdoid(Xi)\n",
    "    \n",
    "    X2lamXi = np.tensordot((X**2).T,lamXi,k)\n",
    "    \n",
    "    S_W_inv_ = S_W_0_inv + 2*X2lamXi\n",
    "    S_W_ = np.reciprocal(S_W_inv_)\n",
    "    \n",
    "    term1 = np.tensordot(X.T, T-0.5-2*lamXi*np.tensordot(X,W,k),k)\n",
    "    term2 = 2*W*X2lamXi\n",
    "    \n",
    "    W_ = S_W_*(S_W_0_inv*W_0+term1+term2)\n",
    "    \n",
    "    return W_, S_W_\n",
    "    \n",
    "    \n",
    "def update_params_diag_3(X,H,W,S_W,W_0,reg_p):\n",
    "    \"\"\"\n",
    "    Here X are the target labels, H is the input vector, and W are the weights\n",
    "    This computes diagonal variances for W.\n",
    "    This is the same formula as update_params_diag, but with slightly different code\n",
    "    \"\"\"\n",
    "    S_W_WW = S_W+np.einsum('ij,ij->ij',W,W)\n",
    "    Xi = np.sqrt(np.einsum('ij,jl,ij->il',H,S_W_WW,H))\n",
    "    #LW = lower_log_marginal_likelihood_bound_diag_alt(X,H, W, S_W, Xi, reg_p)\n",
    "    #LXi = lower_log_marginal_likelihood_bound_diag_alt(X,H, W, S_W, Xi, reg_p)\n",
    "    LXi = lower_log_marginal_likelihood_bound_diag_var(W, S_W, Xi, W_0, reg_p)\n",
    "    #LXi = lower_log_probability(X,H,W,S_W,Xi)\n",
    "    \n",
    "    \n",
    "    (W_,S_W_) = update_weights(X,W,H,Xi,W_0,reg_p)\n",
    "    #LW = lower_log_marginal_likelihood_bound_diag_alt(X,H, W_, S_W_, Xi, reg_p)\n",
    "    LW = lower_log_marginal_likelihood_bound_diag_var(W_, S_W_, Xi, W_0, reg_p)\n",
    "    #LW = lower_log_probability(X,H,W_,S_W_,Xi)\n",
    "    \n",
    "    return (W_,S_W_), (LXi,LW)"
   ]
  },
  {
   "cell_type": "code",
   "execution_count": 7,
   "metadata": {
    "collapsed": true,
    "deletable": true,
    "editable": true
   },
   "outputs": [],
   "source": [
    "def lower_log_marginal_likelihood_bound_diag_var(W, S_W, Xi, W_0, reg_p):\n",
    "    term1 = 0.5*np.log((S_W*reg_p)).sum()\n",
    "    term2 = 0.5*((W**2)*np.reciprocal(S_W)-(W_0**2)*reg_p).sum()\n",
    "    term3 = (np.log(sigmoid(Xi))-0.5*Xi+lambdoid(Xi)*(Xi**2)).sum()\n",
    "    return term1+term2+term3\n",
    "\n",
    "def lower_log_marginal_likelihood_bound(W, S_W, Xi, W_0, reg_p):\n",
    "    term1 = 0.5*np.linalg.slogdet(S_W*reg_p)[1]\n",
    "    term2 = 0.5*W.dot(np.linalg.inv(S_W).dot(W))-0.5*((W_0**2)*reg_p).sum()\n",
    "    term3 = (np.log(sigmoid(Xi))-0.5*Xi+lambdoid(Xi)*(Xi**2)).sum()\n",
    "    return term1+term2+term3"
   ]
  },
  {
   "cell_type": "code",
   "execution_count": 8,
   "metadata": {
    "collapsed": false,
    "deletable": true,
    "editable": true
   },
   "outputs": [],
   "source": [
    "def log_1_add_exp(x):\n",
    "    mask = x<0\n",
    "    nmask = np.logical_not(mask)\n",
    "    ans = np.zeros_like(x)\n",
    "    ans[mask] = np.log1p(np.exp(x[mask]))\n",
    "    ans[nmask] = np.log1p(np.exp(-x[nmask]))+x[nmask]\n",
    "    return ans\n",
    "\n",
    "\n",
    "def KLDivergence_diag(m1,Sig1,m2,Sig2):\n",
    "    \"\"\"Computes the KL divergence of two multivariate normal distributions. \n",
    "    mi and Sigi are the respective means and covariance matrices\"\"\"\n",
    "    d = len(m1.flatten())\n",
    "    Sig2inv = np.reciprocal(Sig2)\n",
    "    Sig2invSig1 = Sig2inv*Sig1\n",
    "    return 0.5*(-np.log(Sig2invSig1).sum()-d+Sig2invSig1.sum()+(((m2-m1)**2)*Sig2inv).sum())\n",
    "\n",
    "def lower_log_marginal_likelihood_bound_diag_alt(X,H,W,Sig_W,Xi,reg_p):\n",
    "    KLW = KLDivergence_diag(W,Sig_W,np.zeros_like(W),np.ones_like(W)/reg_p)\n",
    "    HW = H.dot(W)\n",
    "    HW2 = (H**2).dot(Sig_W)+HW**2\n",
    "    lamXi = lambdoid(Xi)\n",
    "    lseW = (lamXi*(HW2-Xi**2)+0.5*(HW-Xi)+log_1_add_exp(Xi)).sum()\n",
    "    e_log_likelihood = (X*HW).sum()-lseW\n",
    "    #e_log_likelihood = (np.log(sigmoid(Xi))+0.5*(HW-Xi)-lambdoid(Xi)*(HW2-Xi**2)).sum()\n",
    "    return KLW-e_log_likelihood\n",
    "\n",
    "def lower_log_probability(X,H,W,Sig_W,Xi):\n",
    "    \"\"\"Jaakola and Jordan use this in Ap.C of Bayesian parameter estimation via\n",
    "    variational methods\"\"\"\n",
    "    HW = H.dot(W)\n",
    "    JH = 2*(X-1)*(HW)\n",
    "    lamXi = lambdoid(Xi)\n",
    "    e_log_likelihood = (np.log(sigmoid(Xi))+0.5*(JH-Xi)-lamXi*(JH**2-Xi**2)).sum()\n",
    "    return e_log_likelihood"
   ]
  },
  {
   "cell_type": "code",
   "execution_count": 9,
   "metadata": {
    "collapsed": false,
    "deletable": true,
    "editable": true
   },
   "outputs": [],
   "source": [
    "_W = np.random.randn(num_x_features, num_y_features)"
   ]
  },
  {
   "cell_type": "code",
   "execution_count": 10,
   "metadata": {
    "collapsed": true,
    "deletable": true,
    "editable": true
   },
   "outputs": [],
   "source": [
    "def bernoulli(p):\n",
    "    rands = np.random.rand(*np.array(p).shape)\n",
    "    return np.array(rands < p,dtype=np.float)"
   ]
  },
  {
   "cell_type": "code",
   "execution_count": 11,
   "metadata": {
    "collapsed": false,
    "deletable": true,
    "editable": true
   },
   "outputs": [],
   "source": [
    "def generate_cases(num_x_features, num_y_features, avg_ddx_length, w, num_samples=10):\n",
    "    h = np.random.randn(num_samples,num_x_features)\n",
    "    h[:,2]=1\n",
    "    y = h# bernoulli(sigmoid(diff_op(h)))\n",
    "    x = bernoulli(sigmoid(h.dot(w)))\n",
    "    #x = sigmoid(h.dot(w))\n",
    "    return x,y,h"
   ]
  },
  {
   "cell_type": "code",
   "execution_count": 12,
   "metadata": {
    "collapsed": false,
    "deletable": true,
    "editable": true
   },
   "outputs": [],
   "source": [
    "X,Y,H_0 = generate_cases(num_x_features=num_x_features, num_y_features=num_y_features, w=_W, avg_ddx_length=1, num_samples=num_samples)"
   ]
  },
  {
   "cell_type": "code",
   "execution_count": 13,
   "metadata": {
    "collapsed": false,
    "deletable": true,
    "editable": true
   },
   "outputs": [],
   "source": [
    "alpha = 0.003\n",
    "W_diag_list = []\n",
    "def fit(X, Y, num_x_features, reg_p):\n",
    "    L_list = []\n",
    "    L_diag_list = []\n",
    "    num_samples, num_y_features = X.shape\n",
    "    H = H_0\n",
    "    W_full = np.zeros([num_x_features,num_y_features]) \n",
    "    #np.random.randn(num_x_features, num_y_features)/np.sqrt(float(num_x_features+num_y_features))\n",
    "    W_diag = np.zeros([num_x_features,num_y_features])\n",
    "    W_0 = np.zeros([num_x_features,num_y_features])\n",
    "    Sig_W = np.tile(np.eye(num_x_features)[:,np.newaxis,:],[1,num_y_features,1])\n",
    "    Sig_W_diag = np.ones([num_x_features,num_y_features])\n",
    "    for i in range(30):\n",
    "        (W_full,Sig_W), L = update_params(X,H,W_full,Sig_W,W_0,reg_p)\n",
    "        L_list+=list(L)\n",
    "        (W_diag,Sig_W_diag), L = update_params_diag_3(X,H,W_diag,Sig_W_diag,W_0,reg_p)\n",
    "        L_diag_list+=list(L)\n",
    "        #(W_diag,Sig_W_diag) = update_params_diag(X,H,W_diag,Sig_W_diag,W_0,reg_p)\n",
    "        W_diag_list.append(W_diag)\n",
    "    return (W_full,Sig_W), (W_diag,Sig_W_diag), L_list, L_diag_list"
   ]
  },
  {
   "cell_type": "code",
   "execution_count": 14,
   "metadata": {
    "collapsed": false,
    "deletable": true,
    "editable": true
   },
   "outputs": [
    {
     "name": "stdout",
     "output_type": "stream",
     "text": [
      "14.3 ms ± 1.4 ms per loop (mean ± std. dev. of 7 runs, 100 loops each)\n"
     ]
    }
   ],
   "source": [
    "%%timeit\n",
    "(W_full,Sig_W), (W_diag,Sig_W_diag), L_list, L_diag_list = fit(X, Y, num_x_features,reg_p)"
   ]
  },
  {
   "cell_type": "code",
   "execution_count": 15,
   "metadata": {
    "collapsed": false,
    "deletable": true,
    "editable": true
   },
   "outputs": [
    {
     "ename": "NameError",
     "evalue": "name 'W_diag' is not defined",
     "output_type": "error",
     "traceback": [
      "\u001b[0;31m---------------------------------------------------------------------------\u001b[0m",
      "\u001b[0;31mNameError\u001b[0m                                 Traceback (most recent call last)",
      "\u001b[0;32m<ipython-input-15-aa662fb1e3ea>\u001b[0m in \u001b[0;36m<module>\u001b[0;34m()\u001b[0m\n\u001b[0;32m----> 1\u001b[0;31m \u001b[0mm1\u001b[0m \u001b[0;34m=\u001b[0m \u001b[0mW_diag\u001b[0m\u001b[0;34m[\u001b[0m\u001b[0;34m:\u001b[0m\u001b[0;34m,\u001b[0m\u001b[0;36m0\u001b[0m\u001b[0;34m]\u001b[0m\u001b[0;34m\u001b[0m\u001b[0m\n\u001b[0m\u001b[1;32m      2\u001b[0m \u001b[0mSig1\u001b[0m \u001b[0;34m=\u001b[0m \u001b[0mSig_W_diag\u001b[0m\u001b[0;34m[\u001b[0m\u001b[0;34m:\u001b[0m\u001b[0;34m,\u001b[0m\u001b[0;36m0\u001b[0m\u001b[0;34m]\u001b[0m\u001b[0;34m*\u001b[0m\u001b[0mnp\u001b[0m\u001b[0;34m.\u001b[0m\u001b[0meye\u001b[0m\u001b[0;34m(\u001b[0m\u001b[0mlen\u001b[0m\u001b[0;34m(\u001b[0m\u001b[0mm1\u001b[0m\u001b[0;34m)\u001b[0m\u001b[0;34m)\u001b[0m\u001b[0;34m\u001b[0m\u001b[0m\n\u001b[1;32m      3\u001b[0m \u001b[0mm2\u001b[0m \u001b[0;34m=\u001b[0m \u001b[0mW_full\u001b[0m\u001b[0;34m[\u001b[0m\u001b[0;34m:\u001b[0m\u001b[0;34m,\u001b[0m\u001b[0;36m0\u001b[0m\u001b[0;34m]\u001b[0m\u001b[0;34m\u001b[0m\u001b[0m\n\u001b[1;32m      4\u001b[0m \u001b[0mSig2\u001b[0m \u001b[0;34m=\u001b[0m \u001b[0mSig_W\u001b[0m\u001b[0;34m[\u001b[0m\u001b[0;34m:\u001b[0m\u001b[0;34m,\u001b[0m\u001b[0;36m0\u001b[0m\u001b[0;34m,\u001b[0m\u001b[0;34m:\u001b[0m\u001b[0;34m]\u001b[0m\u001b[0;34m\u001b[0m\u001b[0m\n\u001b[1;32m      5\u001b[0m \u001b[0mKL\u001b[0m \u001b[0;34m=\u001b[0m \u001b[0mKLDivergence\u001b[0m\u001b[0;34m(\u001b[0m\u001b[0mm1\u001b[0m\u001b[0;34m,\u001b[0m\u001b[0mSig1\u001b[0m\u001b[0;34m,\u001b[0m\u001b[0mm2\u001b[0m\u001b[0;34m,\u001b[0m\u001b[0mSig2\u001b[0m\u001b[0;34m)\u001b[0m\u001b[0;34m\u001b[0m\u001b[0m\n",
      "\u001b[0;31mNameError\u001b[0m: name 'W_diag' is not defined"
     ]
    }
   ],
   "source": [
    "m1 = W_diag[:,0]\n",
    "Sig1 = Sig_W_diag[:,0]*np.eye(len(m1))\n",
    "m2 = W_full[:,0]\n",
    "Sig2 = Sig_W[:,0,:]\n",
    "KL = KLDivergence(m1,Sig1,m2,Sig2)\n",
    "KL"
   ]
  },
  {
   "cell_type": "code",
   "execution_count": 16,
   "metadata": {
    "collapsed": false,
    "deletable": true,
    "editable": true
   },
   "outputs": [
    {
     "ename": "NameError",
     "evalue": "name 'L_list' is not defined",
     "output_type": "error",
     "traceback": [
      "\u001b[0;31m---------------------------------------------------------------------------\u001b[0m",
      "\u001b[0;31mNameError\u001b[0m                                 Traceback (most recent call last)",
      "\u001b[0;32m<ipython-input-16-f8231a509ccd>\u001b[0m in \u001b[0;36m<module>\u001b[0;34m()\u001b[0m\n\u001b[1;32m      6\u001b[0m \u001b[0;31m#plt.plot(range(len(L_list)),np.array(L_list)[:,0],color='green')\u001b[0m\u001b[0;34m\u001b[0m\u001b[0;34m\u001b[0m\u001b[0m\n\u001b[1;32m      7\u001b[0m \u001b[0;31m#plt.plot(range(len(L_list)),np.array(L_list)[:,1],color='blue')\u001b[0m\u001b[0;34m\u001b[0m\u001b[0;34m\u001b[0m\u001b[0m\n\u001b[0;32m----> 8\u001b[0;31m \u001b[0mplt\u001b[0m\u001b[0;34m.\u001b[0m\u001b[0mplot\u001b[0m\u001b[0;34m(\u001b[0m\u001b[0mrange\u001b[0m\u001b[0;34m(\u001b[0m\u001b[0mlen\u001b[0m\u001b[0;34m(\u001b[0m\u001b[0mL_list\u001b[0m\u001b[0;34m)\u001b[0m\u001b[0;34m//\u001b[0m\u001b[0mskip\u001b[0m\u001b[0;34m)\u001b[0m\u001b[0;34m,\u001b[0m\u001b[0;34m[\u001b[0m\u001b[0mx\u001b[0m \u001b[0;32mfor\u001b[0m \u001b[0mi\u001b[0m\u001b[0;34m,\u001b[0m\u001b[0mx\u001b[0m \u001b[0;32min\u001b[0m \u001b[0menumerate\u001b[0m\u001b[0;34m(\u001b[0m\u001b[0mL_list\u001b[0m\u001b[0;34m)\u001b[0m \u001b[0;32mif\u001b[0m \u001b[0mi\u001b[0m \u001b[0;34m%\u001b[0m \u001b[0mskip\u001b[0m \u001b[0;34m==\u001b[0m\u001b[0moffset\u001b[0m\u001b[0;34m]\u001b[0m\u001b[0;34m,\u001b[0m\u001b[0mcolor\u001b[0m\u001b[0;34m=\u001b[0m\u001b[0;34m'red'\u001b[0m\u001b[0;34m)\u001b[0m\u001b[0;34m\u001b[0m\u001b[0m\n\u001b[0m\u001b[1;32m      9\u001b[0m \u001b[0mplt\u001b[0m\u001b[0;34m.\u001b[0m\u001b[0mshow\u001b[0m\u001b[0;34m(\u001b[0m\u001b[0;34m)\u001b[0m\u001b[0;34m\u001b[0m\u001b[0m\n\u001b[1;32m     10\u001b[0m \u001b[0mplt\u001b[0m\u001b[0;34m.\u001b[0m\u001b[0mplot\u001b[0m\u001b[0;34m(\u001b[0m\u001b[0mrange\u001b[0m\u001b[0;34m(\u001b[0m\u001b[0mlen\u001b[0m\u001b[0;34m(\u001b[0m\u001b[0mL_diag_list\u001b[0m\u001b[0;34m)\u001b[0m\u001b[0;34m//\u001b[0m\u001b[0mskip\u001b[0m\u001b[0;34m)\u001b[0m\u001b[0;34m,\u001b[0m\u001b[0;34m[\u001b[0m\u001b[0mx\u001b[0m \u001b[0;32mfor\u001b[0m \u001b[0mi\u001b[0m\u001b[0;34m,\u001b[0m\u001b[0mx\u001b[0m \u001b[0;32min\u001b[0m \u001b[0menumerate\u001b[0m\u001b[0;34m(\u001b[0m\u001b[0mL_diag_list\u001b[0m\u001b[0;34m)\u001b[0m \u001b[0;32mif\u001b[0m \u001b[0mi\u001b[0m \u001b[0;34m%\u001b[0m \u001b[0mskip\u001b[0m \u001b[0;34m==\u001b[0m\u001b[0moffset\u001b[0m\u001b[0;34m]\u001b[0m\u001b[0;34m,\u001b[0m\u001b[0mcolor\u001b[0m\u001b[0;34m=\u001b[0m\u001b[0;34m'blue'\u001b[0m\u001b[0;34m)\u001b[0m\u001b[0;34m\u001b[0m\u001b[0m\n",
      "\u001b[0;31mNameError\u001b[0m: name 'L_list' is not defined"
     ]
    }
   ],
   "source": [
    "skip = 1\n",
    "offset = 0\n",
    "#plt.plot(range(len(L_diag_list)),np.array(L_diag_list)[:,0]-np.array(L_diag_list)[:,1],color='red')\n",
    "#plt.plot(range(len(L_diag_list)),np.array(L_diag_list)[:,0],color='red')\n",
    "#plt.plot(range(len(L_diag_list)),np.array(L_diag_list)[:,1],'purple')\n",
    "#plt.plot(range(len(L_list)),np.array(L_list)[:,0],color='green')\n",
    "#plt.plot(range(len(L_list)),np.array(L_list)[:,1],color='blue')\n",
    "plt.plot(range(len(L_list)//skip),[x for i,x in enumerate(L_list) if i % skip ==offset],color='red')\n",
    "plt.show()\n",
    "plt.plot(range(len(L_diag_list)//skip),[x for i,x in enumerate(L_diag_list) if i % skip ==offset],color='blue')\n",
    "#plt.plot(range(len(L_list)),[L+KL for L in L_list],color='purple')"
   ]
  },
  {
   "cell_type": "code",
   "execution_count": null,
   "metadata": {
    "collapsed": false,
    "deletable": true,
    "editable": true
   },
   "outputs": [],
   "source": [
    "data = H_0.dot(_W).flatten()\n",
    "pred_d = H_0.dot(W_diag).flatten()\n",
    "pred_f = H_0.dot(W_full).flatten()\n",
    "#dev = H.dot((W+np.sqrt(Sig_W))).flatten()#+(H+np.sqrt(Sig_H)).dot(W).flatten()\n",
    "#plt.scatter(data,dev)\n",
    "plt.scatter(data,pred_d,color='blue')\n",
    "plt.scatter(data,pred_f,color='red')\n",
    "#plt.scatter(range(len(data)),pred)"
   ]
  },
  {
   "cell_type": "code",
   "execution_count": null,
   "metadata": {
    "collapsed": false,
    "deletable": true,
    "editable": true
   },
   "outputs": [],
   "source": [
    "x_data_pts = np.array([(x/z,y/z) for x,y,z in H_0])"
   ]
  },
  {
   "cell_type": "code",
   "execution_count": null,
   "metadata": {
    "collapsed": false,
    "deletable": true,
    "editable": true
   },
   "outputs": [],
   "source": [
    "W_samples_diag = np.random.multivariate_normal(W_diag[:,0],np.eye(W_diag[:,0].shape[0])*Sig_W_diag[:,0],size=50)\n",
    "W_samples = np.random.multivariate_normal(W_full[:,0],Sig_W[:,0],size=50)\n",
    "# W_samples_diag = W_diag[np.newaxis,:,0]\n",
    "# W_samples = W_full[np.newaxis,:,0]"
   ]
  },
  {
   "cell_type": "code",
   "execution_count": null,
   "metadata": {
    "collapsed": false,
    "deletable": true,
    "editable": true
   },
   "outputs": [],
   "source": [
    "plt.scatter(x_data_pts[:,0][X.flatten()>0.5],x_data_pts[:,1][X.flatten()>0.5],color='red')\n",
    "plt.scatter(x_data_pts[:,0][X.flatten()<=0.5],x_data_pts[:,1][X.flatten()<=0.5],color='blue')\n",
    "\n",
    "x_axis = np.linspace(-5,5,50)\n",
    "y_axis = np.linspace(-5,5,50)\n",
    "x_grid, y_grid = np.meshgrid(x_axis, y_axis)\n",
    "grid = np.stack([x_grid,y_grid,np.ones_like(x_grid)])\n",
    "z_grid = np.einsum('i,ijk->jk',_W[:,0],grid)\n",
    "levels=[0]\n",
    "plt.contour(x_grid,y_grid,z_grid,levels,colors='k')\n",
    "\n",
    "zz_grid = sigmoid(np.einsum('li,ijk->ljk',W_samples,grid)).mean(axis=0)-0.5\n",
    "CS = plt.contour(x_grid,y_grid,-zz_grid,cmap='RdBu')\n",
    "plt.contour(x_grid,y_grid,-zz_grid,levels)\n",
    "plt.clabel(CS, inline=1, fontsize=10)"
   ]
  },
  {
   "cell_type": "code",
   "execution_count": null,
   "metadata": {
    "collapsed": false,
    "deletable": true,
    "editable": true
   },
   "outputs": [],
   "source": [
    "plt.scatter(x_data_pts[:,0][X.flatten()>0.5],x_data_pts[:,1][X.flatten()>0.5],color='red')\n",
    "plt.scatter(x_data_pts[:,0][X.flatten()<=0.5],x_data_pts[:,1][X.flatten()<=0.5],color='blue')\n",
    "\n",
    "x_axis = np.linspace(-5,5,50)\n",
    "y_axis = np.linspace(-5,5,50)\n",
    "x_grid, y_grid = np.meshgrid(x_axis, y_axis)\n",
    "grid = np.stack([x_grid,y_grid,np.ones_like(x_grid)])\n",
    "z_grid = np.einsum('i,ijk->jk',_W[:,0],grid)\n",
    "levels=[0]\n",
    "plt.contour(x_grid,y_grid,z_grid,levels,colors='k')\n",
    "\n",
    "zz_diag_grid = sigmoid(np.einsum('li,ijk->ljk',W_samples_diag,grid)).mean(axis=0)-0.5\n",
    "CS = plt.contour(x_grid,y_grid,-zz_diag_grid,cmap='RdBu')\n",
    "plt.contour(x_grid,y_grid,-zz_diag_grid,levels)\n",
    "plt.clabel(CS, inline=1, fontsize=10)"
   ]
  },
  {
   "cell_type": "code",
   "execution_count": null,
   "metadata": {
    "collapsed": false,
    "deletable": true,
    "editable": true
   },
   "outputs": [],
   "source": [
    "from sklearn import linear_model\n",
    "logreg = linear_model.LogisticRegression(C=1./reg_p)\n",
    "logreg.fit(H_0[:,:2],X.flatten())\n",
    "\n",
    "plt.scatter(x_data_pts[:,0][X.flatten()>0.5],x_data_pts[:,1][X.flatten()>0.5],color='red')\n",
    "plt.scatter(x_data_pts[:,0][X.flatten()<=0.5],x_data_pts[:,1][X.flatten()<=0.5],color='blue')\n",
    "\n",
    "x_axis = np.linspace(-5,5,50)\n",
    "y_axis = np.linspace(-5,5,50)\n",
    "x_grid, y_grid = np.meshgrid(x_axis, y_axis)\n",
    "grid = np.stack([x_grid,y_grid,np.ones_like(x_grid)])\n",
    "z_grid = np.einsum('i,ijk->jk',W_full[:,0],grid)\n",
    "levels=[0.]\n",
    "plt.contour(x_grid,y_grid,z_grid,levels,colors='red')\n",
    "z_grid = np.einsum('i,ijk->jk',W_diag[:,0],grid)\n",
    "levels=[0.]\n",
    "plt.contour(x_grid,y_grid,z_grid,levels,colors='blue')\n",
    "\n",
    "\n",
    "Z = logreg.predict_proba(np.c_[x_grid.ravel(), y_grid.ravel()])\n",
    "Z = Z[:,0].reshape(x_grid.shape)\n",
    "\n",
    "plt.contour(x_grid,y_grid,Z,[0.5],colors='k')"
   ]
  },
  {
   "cell_type": "code",
   "execution_count": null,
   "metadata": {
    "collapsed": false,
    "deletable": true,
    "editable": true
   },
   "outputs": [],
   "source": [
    "plt.plot(range(len(W_diag_list)),[abs(x[0,0]-W_diag[0,0]) for x in W_diag_list])"
   ]
  },
  {
   "cell_type": "code",
   "execution_count": null,
   "metadata": {
    "collapsed": false,
    "deletable": true,
    "editable": true
   },
   "outputs": [],
   "source": [
    "x_axis = np.linspace(-5,5,50)\n",
    "y_axis = np.linspace(-5,5,50)\n",
    "x_grid, y_grid = np.meshgrid(x_axis, y_axis)\n",
    "grid = np.stack([x_grid,y_grid,np.ones_like(x_grid)])\n",
    "\n",
    "grid_full = grid-W_full[0,:,np.newaxis,np.newaxis]\n",
    "z_grid = np.einsum('ijk,il,ljk->jk',grid_full,np.linalg.inv(Sig_W[:,0,:]),grid_full)\n",
    "plt.contour(x_grid,y_grid,z_grid,colors='red')\n",
    "\n",
    "# z_grid = np.einsum('i,ijk->jk',W_full[:,0],grid)\n",
    "# levels=[0.]\n",
    "# plt.contour(x_grid,y_grid,z_grid,levels,colors='red')\n",
    "x,y,z = W_full[:,0]\n",
    "plt.scatter(x/z,y/z,color='red')\n",
    "\n",
    "grid_diag = grid-W_diag[0,:,np.newaxis,np.newaxis]\n",
    "z_grid = np.einsum('ijk,i,ijk->jk',grid,np.reciprocal(Sig_W_diag[0,:]),grid)\n",
    "plt.contour(x_grid,y_grid,z_grid,colors='blue')\n",
    "\n",
    "# z_grid = np.einsum('i,ijk->jk',W_diag[:,0],grid)\n",
    "# levels=[0.]\n",
    "# plt.contour(x_grid,y_grid,z_grid,levels,colors='blue')\n",
    "x,y,z = W_diag[:,0]\n",
    "plt.scatter(x/z,y/z,color='blue')"
   ]
  },
  {
   "cell_type": "code",
   "execution_count": null,
   "metadata": {
    "collapsed": false,
    "deletable": true,
    "editable": true
   },
   "outputs": [],
   "source": [
    "W_diag"
   ]
  },
  {
   "cell_type": "code",
   "execution_count": null,
   "metadata": {
    "collapsed": false,
    "deletable": true,
    "editable": true
   },
   "outputs": [],
   "source": [
    "W_full"
   ]
  },
  {
   "cell_type": "code",
   "execution_count": 18,
   "metadata": {
    "collapsed": false,
    "deletable": true,
    "editable": true
   },
   "outputs": [
    {
     "data": {
      "text/plain": [
       "[<matplotlib.lines.Line2D at 0x11d4879b0>]"
      ]
     },
     "execution_count": 18,
     "metadata": {},
     "output_type": "execute_result"
    },
    {
     "data": {
      "image/png": "[encoded data removed]",
      "text/plain": [
       "<matplotlib.figure.Figure at 0x11d487940>"
      ]
     },
     "metadata": {},
     "output_type": "display_data"
    }
   ],
   "source": [
    "x = np.linspace(-5,8,20)\n",
    "y = sigmoid(x)\n",
    "xi = -7.\n",
    "z = sigmoid(xi)*np.exp((x-xi)/2-lambdoid(xi)*(x**2-xi**2))\n",
    "plt.plot(x,y)\n",
    "plt.plot(x,z)"
   ]
  },
  {
   "cell_type": "code",
   "execution_count": 20,
   "metadata": {
    "collapsed": false,
    "deletable": true,
    "editable": true
   },
   "outputs": [
    {
     "data": {
      "text/plain": [
       "[<matplotlib.lines.Line2D at 0x11d5514e0>]"
      ]
     },
     "execution_count": 20,
     "metadata": {},
     "output_type": "execute_result"
    },
    {
     "data": {
      "image/png": "[encoded data removed]",
      "text/plain": [
       "<matplotlib.figure.Figure at 0x11d5b35f8>"
      ]
     },
     "metadata": {},
     "output_type": "display_data"
    }
   ],
   "source": [
    "plt.plot(x,lambdoid(x))"
   ]
  },
  {
   "cell_type": "code",
   "execution_count": null,
   "metadata": {
    "collapsed": true
   },
   "outputs": [],
   "source": []
  }
 ],
 "metadata": {
  "kernelspec": {
   "display_name": "Python [conda env:sklearn]",
   "language": "python",
   "name": "conda-env-sklearn-py"
  },
  "language_info": {
   "codemirror_mode": {
    "name": "ipython",
    "version": 3
   },
   "file_extension": ".py",
   "mimetype": "text/x-python",
   "name": "python",
   "nbconvert_exporter": "python",
   "pygments_lexer": "ipython3",
   "version": "3.6.1"
  }
 },
 "nbformat": 4,
 "nbformat_minor": 2
}
