{
 "cells": [
  {
   "cell_type": "code",
   "execution_count": 1,
   "metadata": {
    "collapsed": true,
    "deletable": true,
    "editable": true
   },
   "outputs": [],
   "source": [
    "import numpy as np\n",
    "from random import shuffle\n",
    "import matplotlib.pyplot as plt\n",
    "from scipy.sparse import dok_matrix\n",
    "%matplotlib inline"
   ]
  },
  {
   "cell_type": "markdown",
   "metadata": {
    "deletable": true,
    "editable": true
   },
   "source": [
    "Create some sample data:"
   ]
  },
  {
   "cell_type": "code",
   "execution_count": 2,
   "metadata": {
    "collapsed": false,
    "deletable": true,
    "editable": true
   },
   "outputs": [],
   "source": [
    "num_dxs = 50\n",
    "num_findings = 20\n",
    "#num_hidden = 100\n",
    "avg_ddx_length = 5\n",
    "avg_num_findings = 15\n",
    "#ddx_max_length = 20 # this is the max length our graphical model can handle.\n",
    "sample_size = 5"
   ]
  },
  {
   "cell_type": "code",
   "execution_count": 3,
   "metadata": {
    "collapsed": false,
    "deletable": true,
    "editable": true
   },
   "outputs": [],
   "source": [
    "\n",
    "def logit(p):\n",
    "    return np.log(p/(1.-p))\n",
    "logit_p_offset = logit(float(avg_num_findings)/num_findings)"
   ]
  },
  {
   "cell_type": "markdown",
   "metadata": {
    "deletable": true,
    "editable": true
   },
   "source": [
    "Generate a sparse matrix:"
   ]
  },
  {
   "cell_type": "code",
   "execution_count": 4,
   "metadata": {
    "collapsed": false,
    "deletable": true,
    "editable": true
   },
   "outputs": [],
   "source": [
    "lam = 1.*avg_num_findings/num_findings\n",
    "_W = np.random.poisson(lam = lam, size=[num_dxs,num_findings])*1.\n",
    "_W*=np.random.gamma(shape = 1., size=[num_dxs, num_findings])\n",
    "#_W"
   ]
  },
  {
   "cell_type": "markdown",
   "metadata": {
    "deletable": true,
    "editable": true
   },
   "source": [
    "We generate random sparse cases, using a poisson distribution to randomly select the number of diagnoses and findings"
   ]
  },
  {
   "cell_type": "code",
   "execution_count": 5,
   "metadata": {
    "collapsed": false,
    "deletable": true,
    "editable": true
   },
   "outputs": [],
   "source": [
    "def generate_random_case(num_dxs, num_findings, avg_ddx_length, w):\n",
    "    \"\"\"\n",
    "    Generates a random case.\n",
    "\n",
    "    Parameters:\n",
    "        num_dxs (:class:`int`): the number of possible diagnoses\n",
    "        num_findings (:class:`int`): the number of possible findings\n",
    "        avg_ddx_length (:class:`int`): the average number of diagnoses in a differential\n",
    "        W (:class:`np.array`): a weight matrix which correlates findings and diagnoses\n",
    "\n",
    "    Returns:\n",
    "        2-:class:`tuple` whose first component is a list of diagnoses, and whose second component is a list \n",
    "        of findings present.\n",
    "    \"\"\"\n",
    "\n",
    "    def invlogit(x):\n",
    "        return 1. / (1 + np.exp(-x))\n",
    "    \n",
    "\n",
    "    hidden_x = np.random.gamma(shape = 1.,size=num_dxs)\\\n",
    "                *np.random.poisson(lam = float(avg_ddx_length)/num_dxs, size=num_dxs)\n",
    "\n",
    "    y = np.dot(hidden_x,w)\n",
    "    findings_hot = np.random.binomial(n=1, p=invlogit(np.dot(hidden_x,w)+logit_p_offset))\n",
    "    findings = [i for i in range(num_findings) if findings_hot[i] == 1]\n",
    "\n",
    "    ddx_length = min(np.random.poisson(avg_ddx_length),num_dxs)\n",
    "\n",
    "    from heapq import nlargest\n",
    "    ddx = nlargest(ddx_length, range(num_dxs), key=lambda i: hidden_x[i])\n",
    "\n",
    "    return (ddx, findings)"
   ]
  },
  {
   "cell_type": "code",
   "execution_count": 44,
   "metadata": {
    "collapsed": false,
    "deletable": true,
    "editable": true
   },
   "outputs": [],
   "source": [
    "batch = (generate_random_case(num_dxs,\n",
    "                              num_findings,\n",
    "                              avg_ddx_length,\n",
    "                              _W) for _ in xrange(sample_size))\n"
   ]
  },
  {
   "cell_type": "code",
   "execution_count": 45,
   "metadata": {
    "collapsed": false,
    "deletable": true,
    "editable": true
   },
   "outputs": [
    {
     "data": {
      "text/plain": [
       "11.16"
      ]
     },
     "execution_count": 45,
     "metadata": {},
     "output_type": "execute_result"
    }
   ],
   "source": [
    "np.sum(_W!=0,axis=1).mean()"
   ]
  },
  {
   "cell_type": "code",
   "execution_count": 46,
   "metadata": {
    "collapsed": false,
    "deletable": true,
    "editable": true
   },
   "outputs": [],
   "source": [
    "# n = 0.\n",
    "# for _,findings in batch:\n",
    "#     n+=len(findings)\n",
    "# n/sample_size"
   ]
  },
  {
   "cell_type": "markdown",
   "metadata": {
    "deletable": true,
    "editable": true
   },
   "source": [
    "Ok, now we write code to process the data (so that we can feed it to our graphical model)"
   ]
  },
  {
   "cell_type": "code",
   "execution_count": 47,
   "metadata": {
    "collapsed": false,
    "deletable": true,
    "editable": true
   },
   "outputs": [],
   "source": [
    "\n",
    "\n",
    "def _create_permutation_tensor(ddx):\n",
    "    ddx_length = len(ddx)\n",
    "    order = {big:o for o,big in enumerate(sorted(ddx))}\n",
    "    reord_proj_tensor = np.zeros([ddx_length,ddx_length])\n",
    "    for i in range(ddx_length):\n",
    "        reord_proj_tensor[order[ddx[i]],i] +=1\n",
    "    return reord_proj_tensor\n",
    "\n",
    "\n",
    "def _prepare_data(ddx, findings, num_dxs, num_findings):\n",
    "    \n",
    "    reord_proj_tensor = _create_permutation_tensor(ddx)\n",
    "\n",
    "    order = {big:o for o,big in enumerate(sorted(ddx))}\n",
    "    indicator_array = np.ma.ones([len(ddx),len(ddx)])\n",
    "    for i in range(0,len(ddx)):\n",
    "        for j in range(i):\n",
    "            indicator_array[i,order[ddx[j]]] = 0\n",
    "        indicator_array[i,order[ddx[i]]] = np.ma.masked\n",
    "\n",
    "    return (indicator_array, reord_proj_tensor, sorted(ddx), sorted(findings))\n"
   ]
  },
  {
   "cell_type": "markdown",
   "metadata": {
    "deletable": true,
    "editable": true
   },
   "source": [
    "Code the probabilisitic model in pymc3:"
   ]
  },
  {
   "cell_type": "code",
   "execution_count": 48,
   "metadata": {
    "collapsed": false,
    "deletable": true,
    "editable": true
   },
   "outputs": [],
   "source": [
    "from pymc3 import Model, Bernoulli, Normal, find_MAP\n",
    "import theano.tensor as tt\n",
    "#from pymc3.math import sigmoid"
   ]
  },
  {
   "cell_type": "code",
   "execution_count": 49,
   "metadata": {
    "collapsed": true,
    "deletable": true,
    "editable": true
   },
   "outputs": [],
   "source": [
    "def _low_mem_graphical_model(dx_order_indicator_array_data, reord_proj_tensor, findings_data):\n",
    "    \"\"\"\n",
    "    Builds the graphical model and ties the observable variables to the data. You can pass a batch of \n",
    "    :class:`int` `size` data; with :class:`int` `num_dxs` possible diagnoses, :class:`int` `num_findings`\n",
    "    possible findings, and :class:`int` `ddx_max_length` maximum diagnoses in a given differential.\n",
    "\n",
    "    Parameters:\n",
    "        dx_order_indicator_array_data (:class:`np.array`): should be of shape \n",
    "            [`size`,`ddx_max_length`,`num_dxs`].\n",
    "        diff_tensor_data (:class:`np.array`): should be of shape \n",
    "            [`size`,`num_dxs`,`ddx_max_length`,`num_dxs`].\n",
    "        findings_data (:class:`np.array`): should be of shape \n",
    "            [`size`,`num_findings`]. \n",
    "\n",
    "    Returns:\n",
    "        4-:tuple: containing (x, dx_order, W, findings), where\n",
    "            x (:class:`Normal`): are hidden variables\n",
    "            dx_order (:class:`Bernoulli`): indicate the order of diagnoses in the differential\n",
    "            W (:class:`Normal`): is a matrix of parameters relating diagnoses to findings\n",
    "            findings (:class:`Bernoulli`): indicate the presence of findings\n",
    "\n",
    "    \"\"\"\n",
    "    # sigmoid function\n",
    "    def invlogit(x):\n",
    "        return 1. / (1 + tt.exp(-x))\n",
    "\n",
    "    ddx_length, num_dxs = dx_order_indicator_array_data.shape\n",
    "    num_findings = len(findings_data)\n",
    "\n",
    "    x = Normal('x', mu = 0.1, sd = 10, shape = num_dxs)\n",
    "    #V = Normal('V', mu=0, sd = 10, shape=[num_hidden,num_dxs],testval=np.random.randn(num_hidden,num_dxs)/num_dxs)\n",
    "    #x = tt.tensordot(hidden_vars, V, axes=[1,0])\n",
    "    if(ddx_length > 1):\n",
    "        dx_order_s_1 = tt.tensordot(x, reord_proj_tensor,axes=[0,0])\n",
    "        dx_order_s_1 = tt.reshape(dx_order_s_1,[ddx_length,1])\n",
    "        dx_order_s_2 = tt.reshape(x,[1,num_dxs])\n",
    "        dx_order_p = invlogit(tt.tile(dx_order_s_1,[1,num_dxs])-tt.tile(dx_order_s_2,[ddx_length,1]))\n",
    "        dx_order = Bernoulli(\"dx_order\", p=dx_order_p, observed=dx_order_indicator_array_data)\n",
    "    else:\n",
    "        dx_order = None\n",
    "    dx_extra = Bernoulli(\"seen\",p=invlogit(x),observed=1.)\n",
    "\n",
    "    W = Normal('W', mu=0, sd=10., shape=[num_dxs, num_findings])\n",
    "\n",
    "    findings_p = invlogit(tt.tensordot(x, W, axes=[0,0])+logit_p_offset)\n",
    "    findings = Bernoulli(\"findings\", findings_p, observed=np.ones([num_findings]))\n",
    "\n",
    "    return (x, dx_order, W, findings)"
   ]
  },
  {
   "cell_type": "code",
   "execution_count": 50,
   "metadata": {
    "collapsed": true,
    "deletable": true,
    "editable": true
   },
   "outputs": [],
   "source": [
    "def invert_permutation(perm):\n",
    "    graph = enumerate(perm)\n",
    "    graph_range_sorted = sorted(graph,key=lambda x:x[1])\n",
    "    inverse_perm = zip(*graph_range_sorted)[0]\n",
    "    return inverse_perm\n",
    "\n",
    "def get_ordinal_permutation(list_of_distinct_ints):\n",
    "    \"\"\"\n",
    "    Returns the ordinal permutation for a list of distinct ints; i.e. the integers in the list are replaced by their \n",
    "    relative ordinals. For example, given `[25,6,7,-3]`, this function would return `[3,1,2,0]`. Complexity is n*log(n),\n",
    "    where n=len(list_of_distinct_ints).\n",
    "    \n",
    "    Parameters:\n",
    "        perm (:class:`list`): A list of distinct integers (in an arbitrary order).\n",
    "\n",
    "    Returns:\n",
    "        :class:`list` A list consisting of exactly the integers 0-n, with the same relative order\n",
    "            (where n=len(list_of_distinct_ints)).\n",
    "    \"\"\"\n",
    "    order = {big:o for o,big in enumerate(sorted(list_of_distinct_ints))}\n",
    "    ordinal_permutation = map(order.get,list_of_distinct_ints)\n",
    "    return ordinal_permutation"
   ]
  },
  {
   "cell_type": "code",
   "execution_count": 51,
   "metadata": {
    "collapsed": false,
    "deletable": true,
    "editable": true
   },
   "outputs": [],
   "source": [
    "local_param_cache = dict()\n",
    "def cache_local_params(ddx,local_params_matrix):\n",
    "    if local_params_matrix.shape in local_param_cache:\n",
    "        return\n",
    "    ddx_ordinal_perm = get_ordinal_permutation(ddx)\n",
    "    local_param_cache[local_params_matrix.shape]=local_params_matrix[ddx_ordinal_perm,:]\n",
    "\n",
    "def retrieve_cached_local_params(ddx,findings):\n",
    "    shape = (len(ddx),len(findings))\n",
    "    cached_local_params = local_param_cache.get(shape)\n",
    "    if not (cached_local_params is None):\n",
    "        ordinal_perm = get_ordinal_permutation(ddx)\n",
    "        inverted_perm = invert_permutation(ordinal_perm)\n",
    "        return cached_local_params[inverted_perm,:]\n",
    "    return None\n",
    "    \n",
    "\n",
    "    "
   ]
  },
  {
   "cell_type": "markdown",
   "metadata": {
    "deletable": true,
    "editable": true
   },
   "source": [
    "  Fit the model (aggregating individual MAP estimates - really this is the fist iteration of EM, but ok...):"
   ]
  },
  {
   "cell_type": "code",
   "execution_count": 52,
   "metadata": {
    "collapsed": false,
    "deletable": true,
    "editable": true
   },
   "outputs": [
    {
     "name": "stdout",
     "output_type": "stream",
     "text": [
      "Iteration 1\n",
      "Model 1 Loaded\n",
      "Optimization terminated successfully.\n",
      "         Current function value: 279.481745\n",
      "         Iterations: 41\n",
      "         Function evaluations: 42\n",
      "         Gradient evaluations: 42\n",
      "ddx: [21, 13, 0, 1, 2]\n",
      "inferred: \n",
      "array([  5.56095031,   3.31019742,   1.14317997,   8.03212691,  11.00120884])\n",
      "[4, 3, 0, 1, 2]\n",
      "Map Estimate of W: \n",
      "array([[ 0.33635518,  0.33635518,  0.33635518,  0.33635518,  0.33635518,\n",
      "         0.33635518,  0.33635518,  0.33635518,  0.33635518,  0.33635518,\n",
      "         0.33635518,  0.33635518,  0.33635518,  0.33635518,  0.33635518,\n",
      "         0.33635518],\n",
      "       [ 0.24561437,  0.24561437,  0.24561437,  0.24561437,  0.24561437,\n",
      "         0.24561437,  0.24561437,  0.24561437,  0.24561437,  0.24561437,\n",
      "         0.24561437,  0.24561437,  0.24561437,  0.24561437,  0.24561437,\n",
      "         0.24561437],\n",
      "       [ 0.17007719,  0.17007719,  0.17007719,  0.17007719,  0.17007719,\n",
      "         0.17007719,  0.17007719,  0.17007719,  0.17007719,  0.17007719,\n",
      "         0.17007719,  0.17007719,  0.17007719,  0.17007719,  0.17007719,\n",
      "         0.17007719],\n",
      "       [ 0.10125474,  0.10125474,  0.10125474,  0.10125474,  0.10125474,\n",
      "         0.10125474,  0.10125474,  0.10125474,  0.10125474,  0.10125474,\n",
      "         0.10125474,  0.10125474,  0.10125474,  0.10125474,  0.10125474,\n",
      "         0.10125474],\n",
      "       [ 0.03491638,  0.03491638,  0.03491638,  0.03491638,  0.03491638,\n",
      "         0.03491638,  0.03491638,  0.03491638,  0.03491638,  0.03491638,\n",
      "         0.03491638,  0.03491638,  0.03491638,  0.03491638,  0.03491638,\n",
      "         0.03491638]])\n",
      "['x', 'dx_order_missing', 'W']\n",
      "Iteration 2\n",
      "Model 2 Loaded\n",
      "Optimization terminated successfully.\n",
      "         Current function value: 274.804728\n",
      "         Iterations: 40\n",
      "         Function evaluations: 41\n",
      "         Gradient evaluations: 41\n",
      "ddx: [22, 44, 26, 0]\n",
      "inferred: \n",
      "array([ 1.48695832,  9.68641264,  3.94127426,  6.57524647])\n",
      "[1, 3, 2, 0]\n",
      "Map Estimate of W: \n",
      "array([[ 0.41629391,  0.41629391,  0.41629391,  0.41629391,  0.41629391,\n",
      "         0.41629391,  0.41629391,  0.41629391,  0.41629391,  0.41629391,\n",
      "         0.41629391,  0.41629391,  0.41629391,  0.41629391,  0.41629391,\n",
      "         0.41629391,  0.41629391,  0.41629391,  0.41629391,  0.41629391],\n",
      "       [ 0.2825967 ,  0.2825967 ,  0.2825967 ,  0.2825967 ,  0.2825967 ,\n",
      "         0.2825967 ,  0.2825967 ,  0.2825967 ,  0.2825967 ,  0.2825967 ,\n",
      "         0.2825967 ,  0.2825967 ,  0.2825967 ,  0.2825967 ,  0.2825967 ,\n",
      "         0.2825967 ,  0.2825967 ,  0.2825967 ,  0.2825967 ,  0.2825967 ],\n",
      "       [ 0.16939943,  0.16939943,  0.16939943,  0.16939943,  0.16939943,\n",
      "         0.16939943,  0.16939943,  0.16939943,  0.16939943,  0.16939943,\n",
      "         0.16939943,  0.16939943,  0.16939943,  0.16939943,  0.16939943,\n",
      "         0.16939943,  0.16939943,  0.16939943,  0.16939943,  0.16939943],\n",
      "       [ 0.06389797,  0.06389797,  0.06389797,  0.06389797,  0.06389797,\n",
      "         0.06389797,  0.06389797,  0.06389797,  0.06389797,  0.06389797,\n",
      "         0.06389797,  0.06389797,  0.06389797,  0.06389797,  0.06389797,\n",
      "         0.06389797,  0.06389797,  0.06389797,  0.06389797,  0.06389797]])\n",
      "['x', 'dx_order_missing', 'W']\n",
      "Iteration 3\n",
      "Model 3 Loaded\n",
      "Optimization terminated successfully.\n",
      "         Current function value: 374.536195\n",
      "         Iterations: 42\n",
      "         Function evaluations: 44\n",
      "         Gradient evaluations: 44\n",
      "ddx: [27, 45, 36, 39, 16, 0]\n",
      "inferred: \n",
      "array([  0.8678716 ,   2.83322918,  12.18026285,   6.9529553 ,\n",
      "         4.83015822,   9.31180577])\n",
      "[2, 5, 3, 4, 1, 0]\n",
      "Map Estimate of W: \n",
      "array([[ 0.28084663,  0.28084663,  0.28084663,  0.28084663,  0.28084663,\n",
      "         0.28084663,  0.28084663,  0.28084663,  0.28084663,  0.28084663,\n",
      "         0.28084663,  0.28084663,  0.28084663,  0.28084663,  0.28084663,\n",
      "         0.28084663,  0.28084663,  0.28084663],\n",
      "       [ 0.21474095,  0.21474095,  0.21474095,  0.21474095,  0.21474095,\n",
      "         0.21474095,  0.21474095,  0.21474095,  0.21474095,  0.21474095,\n",
      "         0.21474095,  0.21474095,  0.21474095,  0.21474095,  0.21474095,\n",
      "         0.21474095,  0.21474095,  0.21474095],\n",
      "       [ 0.16037328,  0.16037328,  0.16037328,  0.16037328,  0.16037328,\n",
      "         0.16037328,  0.16037328,  0.16037328,  0.16037328,  0.16037328,\n",
      "         0.16037328,  0.16037328,  0.16037328,  0.16037328,  0.16037328,\n",
      "         0.16037328,  0.16037328,  0.16037328],\n",
      "       [ 0.11144233,  0.11144233,  0.11144233,  0.11144233,  0.11144233,\n",
      "         0.11144233,  0.11144233,  0.11144233,  0.11144233,  0.11144233,\n",
      "         0.11144233,  0.11144233,  0.11144233,  0.11144233,  0.11144233,\n",
      "         0.11144233,  0.11144233,  0.11144233],\n",
      "       [ 0.06538418,  0.06538418,  0.06538418,  0.06538418,  0.06538418,\n",
      "         0.06538418,  0.06538418,  0.06538418,  0.06538418,  0.06538418,\n",
      "         0.06538418,  0.06538418,  0.06538418,  0.06538418,  0.06538418,\n",
      "         0.06538418,  0.06538418,  0.06538418],\n",
      "       [ 0.01999438,  0.01999438,  0.01999438,  0.01999438,  0.01999438,\n",
      "         0.01999438,  0.01999438,  0.01999438,  0.01999438,  0.01999438,\n",
      "         0.01999438,  0.01999438,  0.01999438,  0.01999438,  0.01999438,\n",
      "         0.01999438,  0.01999438,  0.01999438]])\n",
      "['x', 'dx_order_missing', 'W']\n",
      "Iteration 4\n",
      "Model 4 Loaded\n",
      "Optimization terminated successfully.\n",
      "         Current function value: 393.866406\n",
      "         Iterations: 42\n",
      "         Function evaluations: 44\n",
      "         Gradient evaluations: 44\n",
      "ddx: [13, 25, 24, 19, 3, 0]\n",
      "inferred: \n",
      "array([  0.86827008,   2.83390555,  12.18223033,   4.83114373,\n",
      "         6.95425804,   9.31341851])\n",
      "[2, 5, 4, 3, 1, 0]\n",
      "Map Estimate of W: \n",
      "array([[ 0.28081829,  0.28081829,  0.28081829,  0.28081829,  0.28081829,\n",
      "         0.28081829,  0.28081829,  0.28081829,  0.28081829,  0.28081829,\n",
      "         0.28081829,  0.28081829,  0.28081829,  0.28081829,  0.28081829,\n",
      "         0.28081829,  0.28081829,  0.28081829,  0.28081829],\n",
      "       [ 0.21470227,  0.21470227,  0.21470227,  0.21470227,  0.21470227,\n",
      "         0.21470227,  0.21470227,  0.21470227,  0.21470227,  0.21470227,\n",
      "         0.21470227,  0.21470227,  0.21470227,  0.21470227,  0.21470227,\n",
      "         0.21470227,  0.21470227,  0.21470227,  0.21470227],\n",
      "       [ 0.16032863,  0.16032863,  0.16032863,  0.16032863,  0.16032863,\n",
      "         0.16032863,  0.16032863,  0.16032863,  0.16032863,  0.16032863,\n",
      "         0.16032863,  0.16032863,  0.16032863,  0.16032863,  0.16032863,\n",
      "         0.16032863,  0.16032863,  0.16032863,  0.16032863],\n",
      "       [ 0.11139409,  0.11139409,  0.11139409,  0.11139409,  0.11139409,\n",
      "         0.11139409,  0.11139409,  0.11139409,  0.11139409,  0.11139409,\n",
      "         0.11139409,  0.11139409,  0.11139409,  0.11139409,  0.11139409,\n",
      "         0.11139409,  0.11139409,  0.11139409,  0.11139409],\n",
      "       [ 0.06534638,  0.06534638,  0.06534638,  0.06534638,  0.06534638,\n",
      "         0.06534638,  0.06534638,  0.06534638,  0.06534638,  0.06534638,\n",
      "         0.06534638,  0.06534638,  0.06534638,  0.06534638,  0.06534638,\n",
      "         0.06534638,  0.06534638,  0.06534638,  0.06534638],\n",
      "       [ 0.01999654,  0.01999654,  0.01999654,  0.01999654,  0.01999654,\n",
      "         0.01999654,  0.01999654,  0.01999654,  0.01999654,  0.01999654,\n",
      "         0.01999654,  0.01999654,  0.01999654,  0.01999654,  0.01999654,\n",
      "         0.01999654,  0.01999654,  0.01999654,  0.01999654]])\n",
      "['x', 'dx_order_missing', 'W']\n",
      "Iteration 5\n",
      "Model 5 Loaded\n",
      "Optimization terminated successfully.\n",
      "         Current function value: 482.633323\n",
      "         Iterations: 42\n",
      "         Function evaluations: 43\n",
      "         Gradient evaluations: 43\n",
      "ddx: [40, 47, 14, 37, 0, 1, 2]\n",
      "inferred: \n",
      "array([  4.25497549,   2.44550813,   0.63220667,   8.17100655,\n",
      "         6.14387307,  13.23189779,  10.44315325])\n",
      "[5, 6, 3, 4, 0, 1, 2]\n",
      "Map Estimate of W: \n",
      "array([[ 0.24060501,  0.24060501,  0.24060501,  0.24060501,  0.24060501,\n",
      "         0.24060501,  0.24060501,  0.24060501,  0.24060501,  0.24060501,\n",
      "         0.24060501,  0.24060501,  0.24060501,  0.24060501,  0.24060501,\n",
      "         0.24060501,  0.24060501,  0.24060501,  0.24060501,  0.24060501],\n",
      "       [ 0.18991569,  0.18991569,  0.18991569,  0.18991569,  0.18991569,\n",
      "         0.18991569,  0.18991569,  0.18991569,  0.18991569,  0.18991569,\n",
      "         0.18991569,  0.18991569,  0.18991569,  0.18991569,  0.18991569,\n",
      "         0.18991569,  0.18991569,  0.18991569,  0.18991569,  0.18991569],\n",
      "       [ 0.14861298,  0.14861298,  0.14861298,  0.14861298,  0.14861298,\n",
      "         0.14861298,  0.14861298,  0.14861298,  0.14861298,  0.14861298,\n",
      "         0.14861298,  0.14861298,  0.14861298,  0.14861298,  0.14861298,\n",
      "         0.14861298,  0.14861298,  0.14861298,  0.14861298,  0.14861298],\n",
      "       [ 0.11176529,  0.11176529,  0.11176529,  0.11176529,  0.11176529,\n",
      "         0.11176529,  0.11176529,  0.11176529,  0.11176529,  0.11176529,\n",
      "         0.11176529,  0.11176529,  0.11176529,  0.11176529,  0.11176529,\n",
      "         0.11176529,  0.11176529,  0.11176529,  0.11176529,  0.11176529],\n",
      "       [ 0.07742285,  0.07742285,  0.07742285,  0.07742285,  0.07742285,\n",
      "         0.07742285,  0.07742285,  0.07742285,  0.07742285,  0.07742285,\n",
      "         0.07742285,  0.07742285,  0.07742285,  0.07742285,  0.07742285,\n",
      "         0.07742285,  0.07742285,  0.07742285,  0.07742285,  0.07742285],\n",
      "       [ 0.04450173,  0.04450173,  0.04450173,  0.04450173,  0.04450173,\n",
      "         0.04450173,  0.04450173,  0.04450173,  0.04450173,  0.04450173,\n",
      "         0.04450173,  0.04450173,  0.04450173,  0.04450173,  0.04450173,\n",
      "         0.04450173,  0.04450173,  0.04450173,  0.04450173,  0.04450173],\n",
      "       [ 0.01147436,  0.01147436,  0.01147436,  0.01147436,  0.01147436,\n",
      "         0.01147436,  0.01147436,  0.01147436,  0.01147436,  0.01147436,\n",
      "         0.01147436,  0.01147436,  0.01147436,  0.01147436,  0.01147436,\n",
      "         0.01147436,  0.01147436,  0.01147436,  0.01147436,  0.01147436]])\n",
      "['x', 'dx_order_missing', 'W']\n"
     ]
    }
   ],
   "source": [
    "W = dok_matrix((num_dxs,num_findings))\n",
    "N = dok_matrix((num_dxs,num_findings))\n",
    "cnt = 0\n",
    "for ddx, findings in batch:\n",
    "    if len(ddx)>0 and len(findings)>0:\n",
    "        cnt+=1\n",
    "        print(\"Iteration %d\"%cnt)\n",
    "        local_params = retrieve_cached_local_params(ddx,findings)\n",
    "        preped_data = _prepare_data(ddx, findings, num_dxs, num_findings)\n",
    "        dx_order_indicator_array, reord_proj_tensor, ddx_sorted, findings_sorted = preped_data\n",
    "        if local_params is None: \n",
    "            with Model() as med_model:\n",
    "                x, dx_order, W_loc, findings_rv = _low_mem_graphical_model(dx_order_indicator_array,\n",
    "                                                                  reord_proj_tensor,\n",
    "                                                                  findings_sorted)\n",
    "            print(\"Model %d Loaded\"%cnt)\n",
    "            map_estimate = find_MAP(model=med_model)\n",
    "            print(\"ddx: %r\"%ddx)\n",
    "            print(\"inferred: \\n%r\"%map_estimate['x'])\n",
    "            order = {big:o for o,big in enumerate(sorted(ddx))}\n",
    "            ddx_res = map(order.get,ddx)\n",
    "            print(ddx_res)\n",
    "            print(\"Map Estimate of W: \\n%r\"%map_estimate['W'][ddx_res,:])\n",
    "            #if not (local_params is None):\n",
    "            #    print(local_params-map_estimate['W'])\n",
    "            cache_local_params(ddx,map_estimate['W'])\n",
    "            local_params = map_estimate['W']\n",
    "            print(map_estimate.keys())\n",
    "        W[np.array(ddx_sorted)[:,np.newaxis],findings_sorted] += local_params\n",
    "        N[np.array(ddx_sorted)[:,np.newaxis],findings_sorted] += 1\n",
    "\n",
    "W[N != 0] /= N[N != 0]"
   ]
  },
  {
   "cell_type": "markdown",
   "metadata": {
    "deletable": true,
    "editable": true
   },
   "source": [
    "Compare the estimate to the generating parameters..."
   ]
  },
  {
   "cell_type": "code",
   "execution_count": 15,
   "metadata": {
    "collapsed": true,
    "deletable": true,
    "editable": true
   },
   "outputs": [],
   "source": [
    "\n",
    "def _create_order_projection_tensor(ddx_max_length, ddx_extended):\n",
    "    num_dxs = len(ddx_extended)\n",
    "    assert ddx_max_length <= num_dxs, \"ddx_max_length: %d, num_dxs: %d\"%(ddx_max_length,num_dxs)\n",
    "    reord_proj_tensor = np.zeros([num_dxs,ddx_max_length])\n",
    "    for i in range(ddx_max_length):\n",
    "        reord_proj_tensor[ddx_extended[i],i] +=1\n",
    "    return reord_proj_tensor\n",
    "\n",
    "\n",
    "def _prepare_data(ddx,findings, num_dxs, num_findings, ddx_max_length):\n",
    "    ddx_max_length = min(ddx_max_length,num_dxs) # ensure ddx_max_length is a lower bound.\n",
    "\n",
    "    from itertools import ifilterfalse\n",
    "\n",
    "    ddx_extended = ddx + list(ifilterfalse(ddx.__contains__, range(num_dxs)))\n",
    "\n",
    "    findings_hot = np.zeros(num_findings, dtype=np.int)\n",
    "    findings_hot[findings] = 1\n",
    "    \n",
    "    reord_proj_tensor = _create_order_projection_tensor(ddx_max_length,ddxs)\n",
    "\n",
    "    indicator_array = np.ma.ones([ddx_max_length,num_dxs])\n",
    "    for i in range(0,ddx_max_length):\n",
    "        for j in range(i):\n",
    "            indicator_array[i,ddx[j]] = 0\n",
    "        indicator_array[i,ddx[i]] = np.ma.masked\n",
    "\n",
    "    indicator_array[cur_ddx_len:,:] = np.ma.masked\n",
    "\n",
    "    return (indicator_array, np.array(findings_hot_list), reord_proj_tensor)"
   ]
  },
  {
   "cell_type": "code",
   "execution_count": 16,
   "metadata": {
    "collapsed": true,
    "deletable": true,
    "editable": true
   },
   "outputs": [],
   "source": [
    "def prediction_model(W,dx_order_indicator_array_data, reord_proj_tensor, findings_data):\n",
    "    num_dxs,num_findings = W.shape\n",
    "    \n",
    "    x = Normal('x', mu = 0.1, sd = 10, shape = num_dxs)\n",
    "    if(ddx_length > 1):\n",
    "        dx_order_s_1 = tt.tensordot(x, reord_proj_tensor,axes=[0,0])\n",
    "        dx_order_s_1 = tt.reshape(dx_order_s_1,[ddx_length,1])\n",
    "        dx_order_s_2 = tt.reshape(x,[1,num_dxs])\n",
    "        dx_order_p = invlogit(tt.tile(dx_order_s_1,[1,num_dxs])-tt.tile(dx_order_s_2,[ddx_length,1]))\n",
    "        dx_order = Bernoulli(\"dx_order\", p=dx_order_p, observed=dx_order_indicator_array_data)\n",
    "    else:\n",
    "        dx_order = None\n",
    "    dx_extra = Bernoulli(\"seen\",p=invlogit(x),observed=1.)\n",
    "\n",
    "    W = Normal('W', mu=0, sd=10., shape=[num_dxs, num_findings])\n",
    "\n",
    "    findings_p = invlogit(tt.tensordot(x, W, axes=[0,0])+logit_p_offset)\n",
    "    findings = Bernoulli(\"findings\", findings_p, observed=np.ones([num_findings]))"
   ]
  },
  {
   "cell_type": "code",
   "execution_count": 17,
   "metadata": {
    "collapsed": false,
    "deletable": true,
    "editable": true
   },
   "outputs": [
    {
     "ename": "NameError",
     "evalue": "name 'dx_order_indicator_array_data' is not defined",
     "output_type": "error",
     "traceback": [
      "\u001b[0;31m---------------------------------------------------------------------------\u001b[0m",
      "\u001b[0;31mNameError\u001b[0m                                 Traceback (most recent call last)",
      "\u001b[0;32m<ipython-input-17-12b53f444814>\u001b[0m in \u001b[0;36m<module>\u001b[0;34m()\u001b[0m\n\u001b[1;32m      6\u001b[0m         \u001b[0;32mreturn\u001b[0m \u001b[0;36m1.\u001b[0m \u001b[0;34m/\u001b[0m \u001b[0;34m(\u001b[0m\u001b[0;36m1\u001b[0m \u001b[0;34m+\u001b[0m \u001b[0mtt\u001b[0m\u001b[0;34m.\u001b[0m\u001b[0mexp\u001b[0m\u001b[0;34m(\u001b[0m\u001b[0;34m-\u001b[0m\u001b[0mx\u001b[0m\u001b[0;34m)\u001b[0m\u001b[0;34m)\u001b[0m\u001b[0;34m\u001b[0m\u001b[0m\n\u001b[1;32m      7\u001b[0m \u001b[0;34m\u001b[0m\u001b[0m\n\u001b[0;32m----> 8\u001b[0;31m     \u001b[0mddx_length\u001b[0m\u001b[0;34m,\u001b[0m \u001b[0mnum_dxs\u001b[0m \u001b[0;34m=\u001b[0m \u001b[0mdx_order_indicator_array_data\u001b[0m\u001b[0;34m.\u001b[0m\u001b[0mshape\u001b[0m\u001b[0;34m\u001b[0m\u001b[0m\n\u001b[0m\u001b[1;32m      9\u001b[0m     \u001b[0mnum_findings\u001b[0m \u001b[0;34m=\u001b[0m \u001b[0mlen\u001b[0m\u001b[0;34m(\u001b[0m\u001b[0mfindings_data\u001b[0m\u001b[0;34m)\u001b[0m\u001b[0;34m\u001b[0m\u001b[0m\n\u001b[1;32m     10\u001b[0m \u001b[0;34m\u001b[0m\u001b[0m\n",
      "\u001b[0;31mNameError\u001b[0m: name 'dx_order_indicator_array_data' is not defined"
     ]
    }
   ],
   "source": [
    "\n",
    "\n",
    "with Model() as med_model_predict:\n",
    "    # sigmoid function\n",
    "    def invlogit(x):\n",
    "        return 1. / (1 + tt.exp(-x))\n",
    "\n",
    "    ddx_length, num_dxs = dx_order_indicator_array_data.shape\n",
    "    num_findings = len(findings_data)\n",
    "\n",
    "    x = Normal('x', mu = 0.1, sd = 10, shape = num_dxs)\n",
    "    #V = Normal('V', mu=0, sd = 10, shape=[num_hidden,num_dxs],testval=np.random.randn(num_hidden,num_dxs)/num_dxs)\n",
    "    #x = tt.tensordot(hidden_vars, V, axes=[1,0])\n",
    "    if(ddx_length > 1):\n",
    "        dx_order_s_1 = tt.tensordot(x, reord_proj_tensor,axes=[0,0])\n",
    "        dx_order_s_1 = tt.reshape(dx_order_s_1,[ddx_length,1])\n",
    "        dx_order_s_2 = tt.reshape(x,[1,num_dxs])\n",
    "        dx_order_p = invlogit(tt.tile(dx_order_s_1,[1,num_dxs])-tt.tile(dx_order_s_2,[ddx_length,1]))\n",
    "        dx_order = Bernoulli(\"dx_order\", p=dx_order_p, observed=dx_order_indicator_array_data)\n",
    "    else:\n",
    "        dx_order = None\n",
    "    dx_extra = Bernoulli(\"seen\",p=invlogit(x),observed=1.)\n",
    "\n",
    "    W = Normal('W', mu=0, sd=10., shape=[num_dxs, num_findings])\n",
    "\n",
    "    findings_p = invlogit(tt.tensordot(x, W, axes=[0,0])+logit_p_offset)\n",
    "    findings = Bernoulli(\"findings\", findings_p, observed=np.ones([num_findings]))"
   ]
  },
  {
   "cell_type": "code",
   "execution_count": null,
   "metadata": {
    "collapsed": false,
    "deletable": true,
    "editable": true
   },
   "outputs": [],
   "source": [
    "comparisons = 1./(1+np.exp(-map_estimate['hidden_vars'].dot(map_estimate['W'])))-findings_data\n",
    "plt.hist(1./(1+np.exp(-map_estimate['hidden_vars'].dot(map_estimate['W'])))\n",
    "         -findings_data)\n",
    "plt.show()"
   ]
  },
  {
   "cell_type": "code",
   "execution_count": null,
   "metadata": {
    "collapsed": false,
    "deletable": true,
    "editable": true
   },
   "outputs": [],
   "source": [
    "comparisons = 1./(1+np.exp(-np.einsum('ij,ijkl->ikl',np.dot(map_estimate['hidden_vars'],\n",
    "                                                           map_estimate['V']),diff_tensor_data)))\\\n",
    "                    -dx_order_indicator_array_data\n",
    "comparisons = comparisons.reshape([num_dxs,-1]).T\n",
    "\n",
    "plt.hist(comparisons)\n",
    "plt.show()"
   ]
  },
  {
   "cell_type": "code",
   "execution_count": null,
   "metadata": {
    "collapsed": false,
    "deletable": true,
    "editable": true
   },
   "outputs": [],
   "source": [
    "from pymc3 import sample\n",
    "#from scipy import optimize\n",
    "\n",
    "with med_model:\n",
    "    # draw 2000 posterior samples\n",
    "    trace = sample(1000)"
   ]
  },
  {
   "cell_type": "code",
   "execution_count": null,
   "metadata": {
    "collapsed": true,
    "deletable": true,
    "editable": true
   },
   "outputs": [],
   "source": [
    "from pymc3 import traceplot"
   ]
  },
  {
   "cell_type": "code",
   "execution_count": null,
   "metadata": {
    "collapsed": false,
    "deletable": true,
    "editable": true
   },
   "outputs": [],
   "source": [
    "traceplot(trace)"
   ]
  },
  {
   "cell_type": "code",
   "execution_count": null,
   "metadata": {
    "collapsed": true,
    "deletable": true,
    "editable": true
   },
   "outputs": [],
   "source": [
    "start = 10\n",
    "from itertools import chain"
   ]
  },
  {
   "cell_type": "code",
   "execution_count": null,
   "metadata": {
    "collapsed": false,
    "deletable": true,
    "editable": true
   },
   "outputs": [],
   "source": [
    "\n",
    "comparisons = np.vstack([1./(1+np.exp(-hid.dot(w)))\n",
    "         -findings_data for hid,w in zip(trace['hidden_vars'][-start:],trace['W'][-start:])])\n",
    "               \n",
    "#comparison = chain.from_iterable(comparisons)\n",
    "\n",
    "plt.hist(comparisons)\n",
    "plt.show()"
   ]
  },
  {
   "cell_type": "code",
   "execution_count": null,
   "metadata": {
    "collapsed": false,
    "deletable": true,
    "editable": true
   },
   "outputs": [],
   "source": [
    "comparisons = np.ma.vstack([1./(1+np.exp(-np.einsum('ij,ijkl->ikl',np.dot(hid,v),diff_tensor_data)))\n",
    "                    -dx_order_indicator_array_data \n",
    "               for hid,v in zip(trace['hidden_vars'][-start:],trace['V'][-start:])]).T\n",
    "comparisons = comparisons.reshape([num_dxs,-1]).T\n",
    "#comparisons = comparisons[comparisons.mask==False]\n",
    "\n",
    "\n",
    "plt.hist(comparisons)\n",
    "plt.show()"
   ]
  },
  {
   "cell_type": "code",
   "execution_count": 18,
   "metadata": {
    "collapsed": false,
    "deletable": true,
    "editable": true
   },
   "outputs": [
    {
     "name": "stderr",
     "output_type": "stream",
     "text": [
      "/Users/libland/miniconda2/envs/pymc3_test/lib/python2.7/site-packages/matplotlib/axes/_axes.py:6087: UserWarning: 2D hist input should be nsamples x nvariables;\n",
      " this looks transposed (shape is 1 x 1000)\n",
      "  '(shape is %d x %d)' % inp.shape[::-1])\n"
     ]
    },
    {
     "ename": "KeyboardInterrupt",
     "evalue": "",
     "output_type": "error",
     "traceback": [
      "\u001b[0;31m---------------------------------------------------------------------------\u001b[0m",
      "\u001b[0;31mKeyboardInterrupt\u001b[0m                         Traceback (most recent call last)",
      "\u001b[0;32m<ipython-input-18-49ba2b33fef3>\u001b[0m in \u001b[0;36m<module>\u001b[0;34m()\u001b[0m\n\u001b[0;32m----> 1\u001b[0;31m \u001b[0mplt\u001b[0m\u001b[0;34m.\u001b[0m\u001b[0mhist\u001b[0m\u001b[0;34m(\u001b[0m\u001b[0;34m(\u001b[0m\u001b[0mW\u001b[0m\u001b[0;34m-\u001b[0m\u001b[0m_W\u001b[0m\u001b[0;34m)\u001b[0m\u001b[0;34m.\u001b[0m\u001b[0mreshape\u001b[0m\u001b[0;34m(\u001b[0m\u001b[0;34m[\u001b[0m\u001b[0;34m-\u001b[0m\u001b[0;36m1\u001b[0m\u001b[0;34m]\u001b[0m\u001b[0;34m)\u001b[0m\u001b[0;34m)\u001b[0m\u001b[0;34m\u001b[0m\u001b[0m\n\u001b[0m",
      "\u001b[0;32m/Users/libland/miniconda2/envs/pymc3_test/lib/python2.7/site-packages/matplotlib/pyplot.pyc\u001b[0m in \u001b[0;36mhist\u001b[0;34m(x, bins, range, normed, weights, cumulative, bottom, histtype, align, orientation, rwidth, log, color, label, stacked, hold, data, **kwargs)\u001b[0m\n\u001b[1;32m   3080\u001b[0m                       \u001b[0mhisttype\u001b[0m\u001b[0;34m=\u001b[0m\u001b[0mhisttype\u001b[0m\u001b[0;34m,\u001b[0m \u001b[0malign\u001b[0m\u001b[0;34m=\u001b[0m\u001b[0malign\u001b[0m\u001b[0;34m,\u001b[0m \u001b[0morientation\u001b[0m\u001b[0;34m=\u001b[0m\u001b[0morientation\u001b[0m\u001b[0;34m,\u001b[0m\u001b[0;34m\u001b[0m\u001b[0m\n\u001b[1;32m   3081\u001b[0m                       \u001b[0mrwidth\u001b[0m\u001b[0;34m=\u001b[0m\u001b[0mrwidth\u001b[0m\u001b[0;34m,\u001b[0m \u001b[0mlog\u001b[0m\u001b[0;34m=\u001b[0m\u001b[0mlog\u001b[0m\u001b[0;34m,\u001b[0m \u001b[0mcolor\u001b[0m\u001b[0;34m=\u001b[0m\u001b[0mcolor\u001b[0m\u001b[0;34m,\u001b[0m \u001b[0mlabel\u001b[0m\u001b[0;34m=\u001b[0m\u001b[0mlabel\u001b[0m\u001b[0;34m,\u001b[0m\u001b[0;34m\u001b[0m\u001b[0m\n\u001b[0;32m-> 3082\u001b[0;31m                       stacked=stacked, data=data, **kwargs)\n\u001b[0m\u001b[1;32m   3083\u001b[0m     \u001b[0;32mfinally\u001b[0m\u001b[0;34m:\u001b[0m\u001b[0;34m\u001b[0m\u001b[0m\n\u001b[1;32m   3084\u001b[0m         \u001b[0max\u001b[0m\u001b[0;34m.\u001b[0m\u001b[0m_hold\u001b[0m \u001b[0;34m=\u001b[0m \u001b[0mwashold\u001b[0m\u001b[0;34m\u001b[0m\u001b[0m\n",
      "\u001b[0;32m/Users/libland/miniconda2/envs/pymc3_test/lib/python2.7/site-packages/matplotlib/__init__.pyc\u001b[0m in \u001b[0;36minner\u001b[0;34m(ax, *args, **kwargs)\u001b[0m\n\u001b[1;32m   1890\u001b[0m                     warnings.warn(msg % (label_namer, func.__name__),\n\u001b[1;32m   1891\u001b[0m                                   RuntimeWarning, stacklevel=2)\n\u001b[0;32m-> 1892\u001b[0;31m             \u001b[0;32mreturn\u001b[0m \u001b[0mfunc\u001b[0m\u001b[0;34m(\u001b[0m\u001b[0max\u001b[0m\u001b[0;34m,\u001b[0m \u001b[0;34m*\u001b[0m\u001b[0margs\u001b[0m\u001b[0;34m,\u001b[0m \u001b[0;34m**\u001b[0m\u001b[0mkwargs\u001b[0m\u001b[0;34m)\u001b[0m\u001b[0;34m\u001b[0m\u001b[0m\n\u001b[0m\u001b[1;32m   1893\u001b[0m         \u001b[0mpre_doc\u001b[0m \u001b[0;34m=\u001b[0m \u001b[0minner\u001b[0m\u001b[0;34m.\u001b[0m\u001b[0m__doc__\u001b[0m\u001b[0;34m\u001b[0m\u001b[0m\n\u001b[1;32m   1894\u001b[0m         \u001b[0;32mif\u001b[0m \u001b[0mpre_doc\u001b[0m \u001b[0;32mis\u001b[0m \u001b[0mNone\u001b[0m\u001b[0;34m:\u001b[0m\u001b[0;34m\u001b[0m\u001b[0m\n",
      "\u001b[0;32m/Users/libland/miniconda2/envs/pymc3_test/lib/python2.7/site-packages/matplotlib/axes/_axes.pyc\u001b[0m in \u001b[0;36mhist\u001b[0;34m(self, x, bins, range, normed, weights, cumulative, bottom, histtype, align, orientation, rwidth, log, color, label, stacked, **kwargs)\u001b[0m\n\u001b[1;32m   6274\u001b[0m                 patch = _barfunc(bins[:-1]+boffset, height, width,\n\u001b[1;32m   6275\u001b[0m                                  \u001b[0malign\u001b[0m\u001b[0;34m=\u001b[0m\u001b[0;34m'center'\u001b[0m\u001b[0;34m,\u001b[0m \u001b[0mlog\u001b[0m\u001b[0;34m=\u001b[0m\u001b[0mlog\u001b[0m\u001b[0;34m,\u001b[0m\u001b[0;34m\u001b[0m\u001b[0m\n\u001b[0;32m-> 6276\u001b[0;31m                                  color=c, **{bottom_kwarg: bottom})\n\u001b[0m\u001b[1;32m   6277\u001b[0m                 \u001b[0mpatches\u001b[0m\u001b[0;34m.\u001b[0m\u001b[0mappend\u001b[0m\u001b[0;34m(\u001b[0m\u001b[0mpatch\u001b[0m\u001b[0;34m)\u001b[0m\u001b[0;34m\u001b[0m\u001b[0m\n\u001b[1;32m   6278\u001b[0m                 \u001b[0;32mif\u001b[0m \u001b[0mstacked\u001b[0m\u001b[0;34m:\u001b[0m\u001b[0;34m\u001b[0m\u001b[0m\n",
      "\u001b[0;32m/Users/libland/miniconda2/envs/pymc3_test/lib/python2.7/site-packages/matplotlib/__init__.pyc\u001b[0m in \u001b[0;36minner\u001b[0;34m(ax, *args, **kwargs)\u001b[0m\n\u001b[1;32m   1890\u001b[0m                     warnings.warn(msg % (label_namer, func.__name__),\n\u001b[1;32m   1891\u001b[0m                                   RuntimeWarning, stacklevel=2)\n\u001b[0;32m-> 1892\u001b[0;31m             \u001b[0;32mreturn\u001b[0m \u001b[0mfunc\u001b[0m\u001b[0;34m(\u001b[0m\u001b[0max\u001b[0m\u001b[0;34m,\u001b[0m \u001b[0;34m*\u001b[0m\u001b[0margs\u001b[0m\u001b[0;34m,\u001b[0m \u001b[0;34m**\u001b[0m\u001b[0mkwargs\u001b[0m\u001b[0;34m)\u001b[0m\u001b[0;34m\u001b[0m\u001b[0m\n\u001b[0m\u001b[1;32m   1893\u001b[0m         \u001b[0mpre_doc\u001b[0m \u001b[0;34m=\u001b[0m \u001b[0minner\u001b[0m\u001b[0;34m.\u001b[0m\u001b[0m__doc__\u001b[0m\u001b[0;34m\u001b[0m\u001b[0m\n\u001b[1;32m   1894\u001b[0m         \u001b[0;32mif\u001b[0m \u001b[0mpre_doc\u001b[0m \u001b[0;32mis\u001b[0m \u001b[0mNone\u001b[0m\u001b[0;34m:\u001b[0m\u001b[0;34m\u001b[0m\u001b[0m\n",
      "\u001b[0;32m/Users/libland/miniconda2/envs/pymc3_test/lib/python2.7/site-packages/matplotlib/axes/_axes.pyc\u001b[0m in \u001b[0;36mbar\u001b[0;34m(self, left, height, width, bottom, **kwargs)\u001b[0m\n\u001b[1;32m   2175\u001b[0m             \u001b[0mymin\u001b[0m \u001b[0;34m=\u001b[0m \u001b[0mmax\u001b[0m\u001b[0;34m(\u001b[0m\u001b[0mymin\u001b[0m \u001b[0;34m*\u001b[0m \u001b[0;36m0.9\u001b[0m\u001b[0;34m,\u001b[0m \u001b[0;36m1e-100\u001b[0m\u001b[0;34m)\u001b[0m\u001b[0;34m\u001b[0m\u001b[0m\n\u001b[1;32m   2176\u001b[0m             \u001b[0mself\u001b[0m\u001b[0;34m.\u001b[0m\u001b[0mdataLim\u001b[0m\u001b[0;34m.\u001b[0m\u001b[0mintervaly\u001b[0m \u001b[0;34m=\u001b[0m \u001b[0;34m(\u001b[0m\u001b[0mymin\u001b[0m\u001b[0;34m,\u001b[0m \u001b[0mymax\u001b[0m\u001b[0;34m)\u001b[0m\u001b[0;34m\u001b[0m\u001b[0m\n\u001b[0;32m-> 2177\u001b[0;31m         \u001b[0mself\u001b[0m\u001b[0;34m.\u001b[0m\u001b[0mautoscale_view\u001b[0m\u001b[0;34m(\u001b[0m\u001b[0;34m)\u001b[0m\u001b[0;34m\u001b[0m\u001b[0m\n\u001b[0m\u001b[1;32m   2178\u001b[0m \u001b[0;34m\u001b[0m\u001b[0m\n\u001b[1;32m   2179\u001b[0m         \u001b[0mbar_container\u001b[0m \u001b[0;34m=\u001b[0m \u001b[0mBarContainer\u001b[0m\u001b[0;34m(\u001b[0m\u001b[0mpatches\u001b[0m\u001b[0;34m,\u001b[0m \u001b[0merrorbar\u001b[0m\u001b[0;34m,\u001b[0m \u001b[0mlabel\u001b[0m\u001b[0;34m=\u001b[0m\u001b[0mlabel\u001b[0m\u001b[0;34m)\u001b[0m\u001b[0;34m\u001b[0m\u001b[0m\n",
      "\u001b[0;32m/Users/libland/miniconda2/envs/pymc3_test/lib/python2.7/site-packages/matplotlib/axes/_base.pyc\u001b[0m in \u001b[0;36mautoscale_view\u001b[0;34m(self, tight, scalex, scaley)\u001b[0m\n\u001b[1;32m   2260\u001b[0m             \u001b[0mstickies\u001b[0m \u001b[0;34m=\u001b[0m \u001b[0;34m[\u001b[0m\u001b[0martist\u001b[0m\u001b[0;34m.\u001b[0m\u001b[0msticky_edges\u001b[0m \u001b[0;32mfor\u001b[0m \u001b[0martist\u001b[0m \u001b[0;32min\u001b[0m \u001b[0mself\u001b[0m\u001b[0;34m.\u001b[0m\u001b[0mget_children\u001b[0m\u001b[0;34m(\u001b[0m\u001b[0;34m)\u001b[0m\u001b[0;34m]\u001b[0m\u001b[0;34m\u001b[0m\u001b[0m\n\u001b[1;32m   2261\u001b[0m             \u001b[0mx_stickies\u001b[0m \u001b[0;34m=\u001b[0m \u001b[0msum\u001b[0m\u001b[0;34m(\u001b[0m\u001b[0;34m[\u001b[0m\u001b[0msticky\u001b[0m\u001b[0;34m.\u001b[0m\u001b[0mx\u001b[0m \u001b[0;32mfor\u001b[0m \u001b[0msticky\u001b[0m \u001b[0;32min\u001b[0m \u001b[0mstickies\u001b[0m\u001b[0;34m]\u001b[0m\u001b[0;34m,\u001b[0m \u001b[0;34m[\u001b[0m\u001b[0;34m]\u001b[0m\u001b[0;34m)\u001b[0m\u001b[0;34m\u001b[0m\u001b[0m\n\u001b[0;32m-> 2262\u001b[0;31m             \u001b[0my_stickies\u001b[0m \u001b[0;34m=\u001b[0m \u001b[0msum\u001b[0m\u001b[0;34m(\u001b[0m\u001b[0;34m[\u001b[0m\u001b[0msticky\u001b[0m\u001b[0;34m.\u001b[0m\u001b[0my\u001b[0m \u001b[0;32mfor\u001b[0m \u001b[0msticky\u001b[0m \u001b[0;32min\u001b[0m \u001b[0mstickies\u001b[0m\u001b[0;34m]\u001b[0m\u001b[0;34m,\u001b[0m \u001b[0;34m[\u001b[0m\u001b[0;34m]\u001b[0m\u001b[0;34m)\u001b[0m\u001b[0;34m\u001b[0m\u001b[0m\n\u001b[0m\u001b[1;32m   2263\u001b[0m             \u001b[0;32mif\u001b[0m \u001b[0mself\u001b[0m\u001b[0;34m.\u001b[0m\u001b[0mget_xscale\u001b[0m\u001b[0;34m(\u001b[0m\u001b[0;34m)\u001b[0m\u001b[0;34m.\u001b[0m\u001b[0mlower\u001b[0m\u001b[0;34m(\u001b[0m\u001b[0;34m)\u001b[0m \u001b[0;34m==\u001b[0m \u001b[0;34m'log'\u001b[0m\u001b[0;34m:\u001b[0m\u001b[0;34m\u001b[0m\u001b[0m\n\u001b[1;32m   2264\u001b[0m                 \u001b[0mx_stickies\u001b[0m \u001b[0;34m=\u001b[0m \u001b[0;34m[\u001b[0m\u001b[0mxs\u001b[0m \u001b[0;32mfor\u001b[0m \u001b[0mxs\u001b[0m \u001b[0;32min\u001b[0m \u001b[0mx_stickies\u001b[0m \u001b[0;32mif\u001b[0m \u001b[0mxs\u001b[0m \u001b[0;34m>\u001b[0m \u001b[0;36m0\u001b[0m\u001b[0;34m]\u001b[0m\u001b[0;34m\u001b[0m\u001b[0m\n",
      "\u001b[0;31mKeyboardInterrupt\u001b[0m: "
     ]
    },
    {
     "data": {
      "image/png": "[encoded data removed]",
      "text/plain": [
       "<matplotlib.figure.Figure at 0x12759e510>"
      ]
     },
     "metadata": {},
     "output_type": "display_data"
    }
   ],
   "source": [
    "plt.hist((W-_W).reshape([-1]))"
   ]
  },
  {
   "cell_type": "code",
   "execution_count": null,
   "metadata": {
    "collapsed": false,
    "deletable": true,
    "editable": true
   },
   "outputs": [],
   "source": [
    "plt.hist((0-_W).reshape([-1]))"
   ]
  },
  {
   "cell_type": "code",
   "execution_count": 44,
   "metadata": {
    "collapsed": false,
    "deletable": true,
    "editable": true
   },
   "outputs": [
    {
     "data": {
      "text/plain": [
       "array([[ 0.30169557,  0.30814383,  0.2971775 ,  0.39282128,  0.35273783,\n",
       "         0.36914026,  0.36439468,  0.33568688,  0.32581004,  0.41140806],\n",
       "       [ 0.41828603,  0.38017522,  0.33647847,  0.29991361,  0.3864158 ,\n",
       "         0.37781113,  0.37381359,  0.24548688,  0.35247719,  0.2986424 ],\n",
       "       [ 0.33245585,  0.29434949,  0.45746341,  0.37740589,  0.36203718,\n",
       "         0.37904643,  0.39881669,  0.38128621,  0.41995919,  0.30518777],\n",
       "       [ 0.38046228,  0.40998092,  0.32471794,  0.4036867 ,  0.37078999,\n",
       "         0.36995403,  0.39157169,  0.42570066,  0.33849418,  0.32115724],\n",
       "       [ 0.34801488,  0.4002106 ,  0.36276841,  0.38406521,  0.35900055,\n",
       "         0.37200588,  0.22883662,  0.39451811,  0.32019402,  0.40508064]])"
      ]
     },
     "execution_count": 44,
     "metadata": {},
     "output_type": "execute_result"
    }
   ],
   "source": [
    "W"
   ]
  },
  {
   "cell_type": "code",
   "execution_count": 45,
   "metadata": {
    "collapsed": false,
    "deletable": true,
    "editable": true
   },
   "outputs": [
    {
     "data": {
      "text/plain": [
       "array([[ 0.        ,  0.        ,  0.        ,  0.        , -0.        ,\n",
       "        -0.00981045, -0.        , -0.63962823, -0.        ,  1.7958131 ],\n",
       "       [ 0.67279629,  0.3215445 ,  0.        , -0.59369557,  0.        ,\n",
       "         0.        , -0.20515441, -1.8712558 , -0.        , -0.        ],\n",
       "       [-0.        , -0.46299313,  2.75677448,  0.03720852, -0.        ,\n",
       "         0.        , -0.        , -0.        ,  1.01455315, -0.        ],\n",
       "       [ 0.48065189,  0.79646302, -0.        , -0.        , -0.        ,\n",
       "         0.        , -0.        ,  0.44392842, -0.        , -0.        ],\n",
       "       [ 0.        ,  0.76790261,  0.73802119, -0.        ,  0.        ,\n",
       "        -0.        , -1.19113878,  0.        ,  0.        ,  1.72832754]])"
      ]
     },
     "execution_count": 45,
     "metadata": {},
     "output_type": "execute_result"
    }
   ],
   "source": [
    "_W"
   ]
  },
  {
   "cell_type": "code",
   "execution_count": 49,
   "metadata": {
    "collapsed": false,
    "deletable": true,
    "editable": true
   },
   "outputs": [
    {
     "data": {
      "text/plain": [
       "array([[ 0.37421992,  0.37421992,  0.37421992,  0.37421992,  0.37421992],\n",
       "       [ 0.63261911,  0.63261911,  0.63261911,  0.63261911,  0.63261911],\n",
       "       [ 0.14934929,  0.14934929,  0.14934929,  0.14934929,  0.14934929]])"
      ]
     },
     "execution_count": 49,
     "metadata": {},
     "output_type": "execute_result"
    }
   ],
   "source": [
    "map_estimate['W']"
   ]
  },
  {
   "cell_type": "code",
   "execution_count": 17,
   "metadata": {
    "collapsed": false,
    "deletable": true,
    "editable": true
   },
   "outputs": [
    {
     "data": {
      "text/plain": [
       "<matplotlib.collections.PathCollection at 0x287259b90>"
      ]
     },
     "execution_count": 17,
     "metadata": {},
     "output_type": "execute_result"
    },
    {
     "data": {
      "image/png": "[encoded data removed]",
      "text/plain": [
       "<matplotlib.figure.Figure at 0x286b75410>"
      ]
     },
     "metadata": {},
     "output_type": "display_data"
    }
   ],
   "source": [
    "\n",
    "plt.scatter(x=_W,y=W)"
   ]
  },
  {
   "cell_type": "code",
   "execution_count": 61,
   "metadata": {
    "collapsed": false,
    "deletable": true,
    "editable": true
   },
   "outputs": [
    {
     "data": {
      "text/plain": [
       "array([[ 0.14934929,  0.14934929,  0.14934929,  0.14934929,  0.14934929],\n",
       "       [ 0.63261911,  0.63261911,  0.63261911,  0.63261911,  0.63261911],\n",
       "       [ 0.37421992,  0.37421992,  0.37421992,  0.37421992,  0.37421992]])"
      ]
     },
     "execution_count": 61,
     "metadata": {},
     "output_type": "execute_result"
    }
   ],
   "source": [
    "map_estimate['W']"
   ]
  },
  {
   "cell_type": "code",
   "execution_count": 68,
   "metadata": {
    "collapsed": false,
    "deletable": true,
    "editable": true
   },
   "outputs": [
    {
     "name": "stdout",
     "output_type": "stream",
     "text": [
      "Model 40 Loaded\n",
      "Optimization terminated successfully.\n",
      "         Current function value: 14.622457\n",
      "         Iterations: 27\n",
      "         Function evaluations: 28\n",
      "         Gradient evaluations: 28\n",
      "ddx: [1, 2]\n",
      "inferred: \n",
      "array([ 6.02203819,  2.46359117])\n",
      "Map Estimat of W: \n",
      "array([[ 0.921826  ],\n",
      "       [ 0.37718303]])\n",
      "Model 40 Loaded\n",
      "Optimization terminated successfully.\n",
      "         Current function value: 21.071966\n",
      "         Iterations: 27\n",
      "         Function evaluations: 28\n",
      "         Gradient evaluations: 28\n",
      "ddx: [1, 2]\n",
      "inferred: \n",
      "array([ 6.05762738,  2.4818141 ])\n",
      "Map Estimat of W: \n",
      "array([[ 0.91752672,  0.91752672],\n",
      "       [ 0.37594689,  0.37594689]])\n",
      "Model 40 Loaded\n",
      "Optimization terminated successfully.\n",
      "         Current function value: 27.521415\n",
      "         Iterations: 26\n",
      "         Function evaluations: 27\n",
      "         Gradient evaluations: 27\n",
      "ddx: [1, 2]\n",
      "inferred: \n",
      "array([ 6.09259755,  2.49971178])\n",
      "Map Estimat of W: \n",
      "array([[ 0.91334417,  0.91334417,  0.91334417],\n",
      "       [ 0.37475556,  0.37475556,  0.37475556]])\n",
      "Model 40 Loaded\n",
      "Optimization terminated successfully.\n",
      "         Current function value: 33.970807\n",
      "         Iterations: 27\n",
      "         Function evaluations: 28\n",
      "         Gradient evaluations: 28\n",
      "ddx: [1, 2]\n",
      "inferred: \n",
      "array([ 6.12705369,  2.51734188])\n",
      "Map Estimat of W: \n",
      "array([[ 0.90926635,  0.90926635,  0.90926635,  0.90926635],\n",
      "       [ 0.37357913,  0.37357913,  0.37357913,  0.37357913]])\n",
      "Model 40 Loaded\n",
      "Optimization terminated successfully.\n",
      "         Current function value: 40.420144\n",
      "         Iterations: 29\n",
      "         Function evaluations: 32\n",
      "         Gradient evaluations: 32\n",
      "ddx: [1, 2]\n",
      "inferred: \n",
      "array([ 6.16090515,  2.5346727 ])\n",
      "Map Estimat of W: \n",
      "array([[ 0.9053007 ,  0.9053007 ,  0.9053007 ,  0.9053007 ,  0.9053007 ],\n",
      "       [ 0.37242672,  0.37242672,  0.37242672,  0.37242672,  0.37242672]])\n",
      "Model 40 Loaded\n",
      "Optimization terminated successfully.\n",
      "         Current function value: 46.869426\n",
      "         Iterations: 26\n",
      "         Function evaluations: 29\n",
      "         Gradient evaluations: 29\n",
      "ddx: [1, 2]\n",
      "inferred: \n",
      "array([ 6.19450732,  2.55184258])\n",
      "Map Estimat of W: \n",
      "array([[ 0.90110329,  0.90110329,  0.90110329,  0.90110329,  0.90110329,\n",
      "         0.90110329],\n",
      "       [ 0.37182507,  0.37182507,  0.37182507,  0.37182507,  0.37182507,\n",
      "         0.37182507]])\n",
      "Model 40 Loaded\n",
      "Optimization terminated successfully.\n",
      "         Current function value: 53.318656\n",
      "         Iterations: 28\n",
      "         Function evaluations: 30\n",
      "         Gradient evaluations: 30\n",
      "ddx: [1, 2]\n",
      "inferred: \n",
      "array([ 6.22698401,  2.5684979 ])\n",
      "Map Estimat of W: \n",
      "array([[ 0.89784337,  0.89784337,  0.89784337,  0.89784337,  0.89784337,\n",
      "         0.89784337,  0.89784337],\n",
      "       [ 0.36989883,  0.36989883,  0.36989883,  0.36989883,  0.36989883,\n",
      "         0.36989883,  0.36989883]])\n",
      "Model 40 Loaded\n",
      "Optimization terminated successfully.\n",
      "         Current function value: 59.767834\n",
      "         Iterations: 27\n",
      "         Function evaluations: 29\n",
      "         Gradient evaluations: 29\n",
      "ddx: [1, 2]\n",
      "inferred: \n",
      "array([ 6.25933453,  2.58511928])\n",
      "Map Estimat of W: \n",
      "array([[ 0.89376172,  0.89376172,  0.89376172,  0.89376172,  0.89376172,\n",
      "         0.89376172,  0.89376172,  0.89376172],\n",
      "       [ 0.36971916,  0.36971916,  0.36971916,  0.36971916,  0.36971916,\n",
      "         0.36971916,  0.36971916,  0.36971916]])\n",
      "Model 40 Loaded\n",
      "Optimization terminated successfully.\n",
      "         Current function value: 66.216963\n",
      "         Iterations: 26\n",
      "         Function evaluations: 28\n",
      "         Gradient evaluations: 28\n",
      "ddx: [1, 2]\n",
      "inferred: \n",
      "array([ 6.29125745,  2.60120851])\n",
      "Map Estimat of W: \n",
      "array([[ 0.89068513,  0.89068513,  0.89068513,  0.89068513,  0.89068513,\n",
      "         0.89068513,  0.89068513,  0.89068513,  0.89068513],\n",
      "       [ 0.36760676,  0.36760676,  0.36760676,  0.36760676,  0.36760676,\n",
      "         0.36760676,  0.36760676,  0.36760676,  0.36760676]])\n",
      "Model 40 Loaded\n",
      "Optimization terminated successfully.\n",
      "         Current function value: 72.666044\n",
      "         Iterations: 27\n",
      "         Function evaluations: 29\n",
      "         Gradient evaluations: 29\n",
      "ddx: [1, 2]\n",
      "inferred: \n",
      "array([ 6.32276147,  2.61730424])\n",
      "Map Estimat of W: \n",
      "array([[ 0.88696625,  0.88696625,  0.88696625,  0.88696625,  0.88696625,\n",
      "         0.88696625,  0.88696625,  0.88696625,  0.88696625,  0.88696625],\n",
      "       [ 0.36658944,  0.36658944,  0.36658944,  0.36658944,  0.36658944,\n",
      "         0.36658944,  0.36658944,  0.36658944,  0.36658944,  0.36658944]])\n",
      "Model 41 Loaded\n",
      "Optimization terminated successfully.\n",
      "         Current function value: 79.115077\n",
      "         Iterations: 29\n",
      "         Function evaluations: 31\n",
      "         Gradient evaluations: 31\n",
      "ddx: [1, 2]\n",
      "inferred: \n",
      "array([ 6.35390486,  2.63326511])\n",
      "Map Estimat of W: \n",
      "array([[ 0.88336906,  0.88336906,  0.88336906,  0.88336906,  0.88336906,\n",
      "         0.88336906,  0.88336906,  0.88336906,  0.88336906,  0.88336906,\n",
      "         0.88336906],\n",
      "       [ 0.36609252,  0.36609252,  0.36609252,  0.36609252,  0.36609252,\n",
      "         0.36609252,  0.36609252,  0.36609252,  0.36609252,  0.36609252,\n",
      "         0.36609252]])\n"
     ]
    },
    {
     "ename": "IndexError",
     "evalue": "index 10 is out of bounds for axis 1 with size 10",
     "output_type": "error",
     "traceback": [
      "\u001b[0;31m---------------------------------------------------------------------------\u001b[0m",
      "\u001b[0;31mIndexError\u001b[0m                                Traceback (most recent call last)",
      "\u001b[0;32m<ipython-input-68-39816e343f26>\u001b[0m in \u001b[0;36m<module>\u001b[0;34m()\u001b[0m\n\u001b[1;32m     14\u001b[0m         \u001b[0;32mprint\u001b[0m\u001b[0;34m(\u001b[0m\u001b[0;34m\"inferred: \\n%r\"\u001b[0m\u001b[0;34m%\u001b[0m\u001b[0mmap_estimate\u001b[0m\u001b[0;34m[\u001b[0m\u001b[0;34m'x'\u001b[0m\u001b[0;34m]\u001b[0m\u001b[0;34m)\u001b[0m\u001b[0;34m\u001b[0m\u001b[0m\n\u001b[1;32m     15\u001b[0m         \u001b[0;32mprint\u001b[0m\u001b[0;34m(\u001b[0m\u001b[0;34m\"Map Estimat of W: \\n%r\"\u001b[0m\u001b[0;34m%\u001b[0m\u001b[0mmap_estimate\u001b[0m\u001b[0;34m[\u001b[0m\u001b[0;34m'W'\u001b[0m\u001b[0;34m]\u001b[0m\u001b[0;34m)\u001b[0m\u001b[0;34m\u001b[0m\u001b[0m\n\u001b[0;32m---> 16\u001b[0;31m         \u001b[0mW\u001b[0m\u001b[0;34m[\u001b[0m\u001b[0mnp\u001b[0m\u001b[0;34m.\u001b[0m\u001b[0marray\u001b[0m\u001b[0;34m(\u001b[0m\u001b[0mddx_sorted\u001b[0m\u001b[0;34m)\u001b[0m\u001b[0;34m[\u001b[0m\u001b[0;34m:\u001b[0m\u001b[0;34m,\u001b[0m\u001b[0mnp\u001b[0m\u001b[0;34m.\u001b[0m\u001b[0mnewaxis\u001b[0m\u001b[0;34m]\u001b[0m\u001b[0;34m,\u001b[0m\u001b[0mfindings_sorted\u001b[0m\u001b[0;34m]\u001b[0m \u001b[0;34m+=\u001b[0m \u001b[0mmap_estimate\u001b[0m\u001b[0;34m[\u001b[0m\u001b[0;34m'W'\u001b[0m\u001b[0;34m]\u001b[0m\u001b[0;34m\u001b[0m\u001b[0m\n\u001b[0m\u001b[1;32m     17\u001b[0m         \u001b[0mN\u001b[0m\u001b[0;34m[\u001b[0m\u001b[0mnp\u001b[0m\u001b[0;34m.\u001b[0m\u001b[0marray\u001b[0m\u001b[0;34m(\u001b[0m\u001b[0mddx_sorted\u001b[0m\u001b[0;34m)\u001b[0m\u001b[0;34m[\u001b[0m\u001b[0;34m:\u001b[0m\u001b[0;34m,\u001b[0m\u001b[0mnp\u001b[0m\u001b[0;34m.\u001b[0m\u001b[0mnewaxis\u001b[0m\u001b[0;34m]\u001b[0m\u001b[0;34m,\u001b[0m\u001b[0mfindings_sorted\u001b[0m\u001b[0;34m]\u001b[0m \u001b[0;34m+=\u001b[0m \u001b[0;36m1\u001b[0m\u001b[0;34m\u001b[0m\u001b[0m\n",
      "\u001b[0;31mIndexError\u001b[0m: index 10 is out of bounds for axis 1 with size 10"
     ]
    }
   ],
   "source": [
    "ddx = [1,2]\n",
    "for i in range(15):\n",
    "    findings = range(i)\n",
    "    if len(ddx)>0 and len(findings)>0:\n",
    "        preped_data = _prepare_data(ddx, findings, num_dxs, num_findings)\n",
    "        dx_order_indicator_array, reord_proj_tensor, ddx_sorted, findings_sorted = preped_data\n",
    "        with Model() as med_model:\n",
    "            x, dx_order, W_loc, findings_rv = _low_mem_graphical_model(dx_order_indicator_array,\n",
    "                                                              reord_proj_tensor,\n",
    "                                                              findings_sorted)\n",
    "        print(\"Model %d Loaded\"%np.max(N))\n",
    "        map_estimate = find_MAP(model=med_model)\n",
    "        print(\"ddx: %r\"%ddx)\n",
    "        print(\"inferred: \\n%r\"%map_estimate['x'])\n",
    "        print(\"Map Estimat of W: \\n%r\"%map_estimate['W'])\n",
    "        W[np.array(ddx_sorted)[:,np.newaxis],findings_sorted] += map_estimate['W']\n",
    "        N[np.array(ddx_sorted)[:,np.newaxis],findings_sorted] += 1"
   ]
  },
  {
   "cell_type": "code",
   "execution_count": 77,
   "metadata": {
    "collapsed": false,
    "deletable": true,
    "editable": true
   },
   "outputs": [
    {
     "data": {
      "text/plain": [
       "tuple"
      ]
     },
     "execution_count": 77,
     "metadata": {},
     "output_type": "execute_result"
    }
   ],
   "source": [
    "type(W.shape)"
   ]
  },
  {
   "cell_type": "code",
   "execution_count": 16,
   "metadata": {
    "collapsed": false,
    "deletable": true,
    "editable": true
   },
   "outputs": [
    {
     "data": {
      "text/plain": [
       "['x', 'dx_order_missing', 'W']"
      ]
     },
     "execution_count": 16,
     "metadata": {},
     "output_type": "execute_result"
    }
   ],
   "source": [
    "map_estimate.keys()"
   ]
  },
  {
   "cell_type": "code",
   "execution_count": 53,
   "metadata": {
    "collapsed": false,
    "deletable": true,
    "editable": true
   },
   "outputs": [
    {
     "name": "stdout",
     "output_type": "stream",
     "text": [
      "  (16, 9)\t0.0653841752657\n",
      "  (19, 4)\t0.111394094767\n",
      "  (22, 19)\t0.416293907127\n",
      "  (44, 4)\t0.282596700658\n",
      "  (47, 9)\t0.189915685225\n",
      "  (21, 6)\t0.336355184172\n",
      "  (45, 9)\t0.214740945545\n",
      "  (36, 8)\t0.160373278177\n",
      "  (37, 13)\t0.11176528701\n",
      "  (0, 17)\t0.0453279354406\n",
      "  (24, 14)\t0.160328628193\n",
      "  (14, 1)\t0.148612978048\n",
      "  (25, 15)\t0.21470226536\n",
      "  (39, 11)\t0.111442331397\n",
      "  (26, 12)\t0.169399431815\n",
      "  (3, 2)\t0.0653463827733\n",
      "  (16, 0)\t0.0653841752657\n",
      "  (19, 13)\t0.111394094767\n",
      "  (44, 3)\t0.282596700658\n",
      "  (21, 15)\t0.336355184172\n",
      "  (45, 2)\t0.214740945545\n",
      "  (22, 12)\t0.416293907127\n",
      "  (14, 8)\t0.148612978048\n",
      "  (25, 16)\t0.21470226536\n",
      "  (39, 0)\t0.111442331397\n",
      "  :\t:\n",
      "  (21, 10)\t0.336355184172\n",
      "  (22, 1)\t0.416293907127\n",
      "  (14, 13)\t0.148612978048\n",
      "  (13, 8)\t0.263216331894\n",
      "  (26, 16)\t0.169399431815\n",
      "  (0, 3)\t0.0702777858368\n",
      "  (24, 0)\t0.160328628193\n",
      "  (3, 14)\t0.0653463827733\n",
      "  (1, 2)\t0.0445017347403\n",
      "  (2, 9)\t0.0231953724894\n",
      "  (40, 9)\t0.240605010041\n",
      "  (16, 18)\t0.0653841752657\n",
      "  (21, 19)\t0.336355184172\n",
      "  (44, 13)\t0.282596700658\n",
      "  (47, 0)\t0.189915685225\n",
      "  (45, 16)\t0.214740945545\n",
      "  (13, 1)\t0.280818294442\n",
      "  (37, 4)\t0.11176528701\n",
      "  (24, 7)\t0.160328628193\n",
      "  (27, 18)\t0.280846631712\n",
      "  (25, 6)\t0.21470226536\n",
      "  (39, 18)\t0.111442331397\n",
      "  (2, 0)\t0.0231953724894\n",
      "  (26, 5)\t0.169399431815\n",
      "  (27, 8)\t0.280846631712\n"
     ]
    }
   ],
   "source": [
    "print(W)"
   ]
  },
  {
   "cell_type": "code",
   "execution_count": 72,
   "metadata": {
    "collapsed": true
   },
   "outputs": [],
   "source": [
    "W1 = W.toarray()"
   ]
  },
  {
   "cell_type": "code",
   "execution_count": 74,
   "metadata": {
    "collapsed": false
   },
   "outputs": [],
   "source": [
    "W[N != 0] /= N[N!=0]"
   ]
  },
  {
   "cell_type": "code",
   "execution_count": 75,
   "metadata": {
    "collapsed": false
   },
   "outputs": [
    {
     "data": {
      "text/plain": [
       "matrix([[-0.01124445, -0.01194943, -0.00849899, -0.01124445, -0.01194943,\n",
       "         -0.01124445, -0.01124445, -0.01124445, -0.01124445, -0.01124445,\n",
       "         -0.01553402, -0.01124445, -0.01124445, -0.01124445, -0.01124445,\n",
       "         -0.01124445, -0.01124445, -0.00849899, -0.01124445, -0.01124445],\n",
       "        [-0.01821956,  0.        ,  0.        , -0.01821956,  0.        ,\n",
       "         -0.01821956, -0.01821956, -0.01821956, -0.01821956, -0.01821956,\n",
       "         -0.01821956, -0.01821956, -0.01821956, -0.01821956, -0.01821956,\n",
       "         -0.01821956, -0.01821956,  0.        , -0.01821956, -0.01821956],\n",
       "        [-0.00579884,  0.        ,  0.        , -0.00579884,  0.        ,\n",
       "         -0.00579884, -0.00579884, -0.00579884, -0.00579884, -0.00579884,\n",
       "         -0.00579884, -0.00579884, -0.00579884, -0.00579884, -0.00579884,\n",
       "         -0.00579884, -0.00579884,  0.        , -0.00579884, -0.00579884],\n",
       "        [ 0.        ,  0.        ,  0.        ,  0.        ,  0.        ,\n",
       "          0.        ,  0.        ,  0.        ,  0.        ,  0.        ,\n",
       "          0.        ,  0.        ,  0.        ,  0.        ,  0.        ,\n",
       "          0.        ,  0.        ,  0.        ,  0.        ,  0.        ],\n",
       "        [ 0.        ,  0.        ,  0.        ,  0.        ,  0.        ,\n",
       "          0.        ,  0.        ,  0.        ,  0.        ,  0.        ,\n",
       "          0.        ,  0.        ,  0.        ,  0.        ,  0.        ,\n",
       "          0.        ,  0.        ,  0.        ,  0.        ,  0.        ],\n",
       "        [ 0.        ,  0.        ,  0.        ,  0.        ,  0.        ,\n",
       "          0.        ,  0.        ,  0.        ,  0.        ,  0.        ,\n",
       "          0.        ,  0.        ,  0.        ,  0.        ,  0.        ,\n",
       "          0.        ,  0.        ,  0.        ,  0.        ,  0.        ],\n",
       "        [ 0.        ,  0.        ,  0.        ,  0.        ,  0.        ,\n",
       "          0.        ,  0.        ,  0.        ,  0.        ,  0.        ,\n",
       "          0.        ,  0.        ,  0.        ,  0.        ,  0.        ,\n",
       "          0.        ,  0.        ,  0.        ,  0.        ,  0.        ],\n",
       "        [ 0.        ,  0.        ,  0.        ,  0.        ,  0.        ,\n",
       "          0.        ,  0.        ,  0.        ,  0.        ,  0.        ,\n",
       "          0.        ,  0.        ,  0.        ,  0.        ,  0.        ,\n",
       "          0.        ,  0.        ,  0.        ,  0.        ,  0.        ],\n",
       "        [ 0.        ,  0.        ,  0.        ,  0.        ,  0.        ,\n",
       "          0.        ,  0.        ,  0.        ,  0.        ,  0.        ,\n",
       "          0.        ,  0.        ,  0.        ,  0.        ,  0.        ,\n",
       "          0.        ,  0.        ,  0.        ,  0.        ,  0.        ],\n",
       "        [ 0.        ,  0.        ,  0.        ,  0.        ,  0.        ,\n",
       "          0.        ,  0.        ,  0.        ,  0.        ,  0.        ,\n",
       "          0.        ,  0.        ,  0.        ,  0.        ,  0.        ,\n",
       "          0.        ,  0.        ,  0.        ,  0.        ,  0.        ],\n",
       "        [ 0.        ,  0.        ,  0.        ,  0.        ,  0.        ,\n",
       "          0.        ,  0.        ,  0.        ,  0.        ,  0.        ,\n",
       "          0.        ,  0.        ,  0.        ,  0.        ,  0.        ,\n",
       "          0.        ,  0.        ,  0.        ,  0.        ,  0.        ],\n",
       "        [ 0.        ,  0.        ,  0.        ,  0.        ,  0.        ,\n",
       "          0.        ,  0.        ,  0.        ,  0.        ,  0.        ,\n",
       "          0.        ,  0.        ,  0.        ,  0.        ,  0.        ,\n",
       "          0.        ,  0.        ,  0.        ,  0.        ,  0.        ],\n",
       "        [ 0.        ,  0.        ,  0.        ,  0.        ,  0.        ,\n",
       "          0.        ,  0.        ,  0.        ,  0.        ,  0.        ,\n",
       "          0.        ,  0.        ,  0.        ,  0.        ,  0.        ,\n",
       "          0.        ,  0.        ,  0.        ,  0.        ,  0.        ],\n",
       "        [-0.06580408,  0.        ,  0.        , -0.06580408,  0.        ,\n",
       "         -0.06580408, -0.06580408, -0.06580408, -0.06580408, -0.06580408,\n",
       "          0.        , -0.06580408, -0.06580408, -0.06580408, -0.06580408,\n",
       "         -0.06580408, -0.06580408,  0.        , -0.06580408, -0.06580408],\n",
       "        [ 0.        ,  0.        ,  0.        ,  0.        ,  0.        ,\n",
       "          0.        ,  0.        ,  0.        ,  0.        ,  0.        ,\n",
       "          0.        ,  0.        ,  0.        ,  0.        ,  0.        ,\n",
       "          0.        ,  0.        ,  0.        ,  0.        ,  0.        ],\n",
       "        [ 0.        ,  0.        ,  0.        ,  0.        ,  0.        ,\n",
       "          0.        ,  0.        ,  0.        ,  0.        ,  0.        ,\n",
       "          0.        ,  0.        ,  0.        ,  0.        ,  0.        ,\n",
       "          0.        ,  0.        ,  0.        ,  0.        ,  0.        ],\n",
       "        [ 0.        ,  0.        ,  0.        ,  0.        ,  0.        ,\n",
       "          0.        ,  0.        ,  0.        ,  0.        ,  0.        ,\n",
       "          0.        ,  0.        ,  0.        ,  0.        ,  0.        ,\n",
       "          0.        ,  0.        ,  0.        ,  0.        ,  0.        ],\n",
       "        [ 0.        ,  0.        ,  0.        ,  0.        ,  0.        ,\n",
       "          0.        ,  0.        ,  0.        ,  0.        ,  0.        ,\n",
       "          0.        ,  0.        ,  0.        ,  0.        ,  0.        ,\n",
       "          0.        ,  0.        ,  0.        ,  0.        ,  0.        ],\n",
       "        [ 0.        ,  0.        ,  0.        ,  0.        ,  0.        ,\n",
       "          0.        ,  0.        ,  0.        ,  0.        ,  0.        ,\n",
       "          0.        ,  0.        ,  0.        ,  0.        ,  0.        ,\n",
       "          0.        ,  0.        ,  0.        ,  0.        ,  0.        ],\n",
       "        [ 0.        ,  0.        ,  0.        ,  0.        ,  0.        ,\n",
       "          0.        ,  0.        ,  0.        ,  0.        ,  0.        ,\n",
       "          0.        ,  0.        ,  0.        ,  0.        ,  0.        ,\n",
       "          0.        ,  0.        ,  0.        ,  0.        ,  0.        ],\n",
       "        [ 0.        ,  0.        ,  0.        ,  0.        ,  0.        ,\n",
       "          0.        ,  0.        ,  0.        ,  0.        ,  0.        ,\n",
       "          0.        ,  0.        ,  0.        ,  0.        ,  0.        ,\n",
       "          0.        ,  0.        ,  0.        ,  0.        ,  0.        ],\n",
       "        [ 0.        ,  0.        ,  0.        ,  0.        ,  0.        ,\n",
       "          0.        ,  0.        ,  0.        ,  0.        ,  0.        ,\n",
       "          0.        ,  0.        ,  0.        ,  0.        ,  0.        ,\n",
       "          0.        ,  0.        ,  0.        ,  0.        ,  0.        ],\n",
       "        [ 0.        ,  0.        ,  0.        ,  0.        ,  0.        ,\n",
       "          0.        ,  0.        ,  0.        ,  0.        ,  0.        ,\n",
       "          0.        ,  0.        ,  0.        ,  0.        ,  0.        ,\n",
       "          0.        ,  0.        ,  0.        ,  0.        ,  0.        ],\n",
       "        [ 0.        ,  0.        ,  0.        ,  0.        ,  0.        ,\n",
       "          0.        ,  0.        ,  0.        ,  0.        ,  0.        ,\n",
       "          0.        ,  0.        ,  0.        ,  0.        ,  0.        ,\n",
       "          0.        ,  0.        ,  0.        ,  0.        ,  0.        ],\n",
       "        [ 0.        ,  0.        ,  0.        ,  0.        ,  0.        ,\n",
       "          0.        ,  0.        ,  0.        ,  0.        ,  0.        ,\n",
       "          0.        ,  0.        ,  0.        ,  0.        ,  0.        ,\n",
       "          0.        ,  0.        ,  0.        ,  0.        ,  0.        ],\n",
       "        [ 0.        ,  0.        ,  0.        ,  0.        ,  0.        ,\n",
       "          0.        ,  0.        ,  0.        ,  0.        ,  0.        ,\n",
       "          0.        ,  0.        ,  0.        ,  0.        ,  0.        ,\n",
       "          0.        ,  0.        ,  0.        ,  0.        ,  0.        ],\n",
       "        [ 0.        ,  0.        ,  0.        ,  0.        ,  0.        ,\n",
       "          0.        ,  0.        ,  0.        ,  0.        ,  0.        ,\n",
       "          0.        ,  0.        ,  0.        ,  0.        ,  0.        ,\n",
       "          0.        ,  0.        ,  0.        ,  0.        ,  0.        ],\n",
       "        [ 0.        ,  0.        ,  0.        ,  0.        ,  0.        ,\n",
       "          0.        ,  0.        ,  0.        ,  0.        ,  0.        ,\n",
       "          0.        ,  0.        ,  0.        ,  0.        ,  0.        ,\n",
       "          0.        ,  0.        ,  0.        ,  0.        ,  0.        ],\n",
       "        [ 0.        ,  0.        ,  0.        ,  0.        ,  0.        ,\n",
       "          0.        ,  0.        ,  0.        ,  0.        ,  0.        ,\n",
       "          0.        ,  0.        ,  0.        ,  0.        ,  0.        ,\n",
       "          0.        ,  0.        ,  0.        ,  0.        ,  0.        ],\n",
       "        [ 0.        ,  0.        ,  0.        ,  0.        ,  0.        ,\n",
       "          0.        ,  0.        ,  0.        ,  0.        ,  0.        ,\n",
       "          0.        ,  0.        ,  0.        ,  0.        ,  0.        ,\n",
       "          0.        ,  0.        ,  0.        ,  0.        ,  0.        ],\n",
       "        [ 0.        ,  0.        ,  0.        ,  0.        ,  0.        ,\n",
       "          0.        ,  0.        ,  0.        ,  0.        ,  0.        ,\n",
       "          0.        ,  0.        ,  0.        ,  0.        ,  0.        ,\n",
       "          0.        ,  0.        ,  0.        ,  0.        ,  0.        ],\n",
       "        [ 0.        ,  0.        ,  0.        ,  0.        ,  0.        ,\n",
       "          0.        ,  0.        ,  0.        ,  0.        ,  0.        ,\n",
       "          0.        ,  0.        ,  0.        ,  0.        ,  0.        ,\n",
       "          0.        ,  0.        ,  0.        ,  0.        ,  0.        ],\n",
       "        [ 0.        ,  0.        ,  0.        ,  0.        ,  0.        ,\n",
       "          0.        ,  0.        ,  0.        ,  0.        ,  0.        ,\n",
       "          0.        ,  0.        ,  0.        ,  0.        ,  0.        ,\n",
       "          0.        ,  0.        ,  0.        ,  0.        ,  0.        ],\n",
       "        [ 0.        ,  0.        ,  0.        ,  0.        ,  0.        ,\n",
       "          0.        ,  0.        ,  0.        ,  0.        ,  0.        ,\n",
       "          0.        ,  0.        ,  0.        ,  0.        ,  0.        ,\n",
       "          0.        ,  0.        ,  0.        ,  0.        ,  0.        ],\n",
       "        [ 0.        ,  0.        ,  0.        ,  0.        ,  0.        ,\n",
       "          0.        ,  0.        ,  0.        ,  0.        ,  0.        ,\n",
       "          0.        ,  0.        ,  0.        ,  0.        ,  0.        ,\n",
       "          0.        ,  0.        ,  0.        ,  0.        ,  0.        ],\n",
       "        [ 0.        ,  0.        ,  0.        ,  0.        ,  0.        ,\n",
       "          0.        ,  0.        ,  0.        ,  0.        ,  0.        ,\n",
       "          0.        ,  0.        ,  0.        ,  0.        ,  0.        ,\n",
       "          0.        ,  0.        ,  0.        ,  0.        ,  0.        ],\n",
       "        [ 0.        ,  0.        ,  0.        ,  0.        ,  0.        ,\n",
       "          0.        ,  0.        ,  0.        ,  0.        ,  0.        ,\n",
       "          0.        ,  0.        ,  0.        ,  0.        ,  0.        ,\n",
       "          0.        ,  0.        ,  0.        ,  0.        ,  0.        ],\n",
       "        [ 0.        ,  0.        ,  0.        ,  0.        ,  0.        ,\n",
       "          0.        ,  0.        ,  0.        ,  0.        ,  0.        ,\n",
       "          0.        ,  0.        ,  0.        ,  0.        ,  0.        ,\n",
       "          0.        ,  0.        ,  0.        ,  0.        ,  0.        ],\n",
       "        [ 0.        ,  0.        ,  0.        ,  0.        ,  0.        ,\n",
       "          0.        ,  0.        ,  0.        ,  0.        ,  0.        ,\n",
       "          0.        ,  0.        ,  0.        ,  0.        ,  0.        ,\n",
       "          0.        ,  0.        ,  0.        ,  0.        ,  0.        ],\n",
       "        [ 0.        ,  0.        ,  0.        ,  0.        ,  0.        ,\n",
       "          0.        ,  0.        ,  0.        ,  0.        ,  0.        ,\n",
       "          0.        ,  0.        ,  0.        ,  0.        ,  0.        ,\n",
       "          0.        ,  0.        ,  0.        ,  0.        ,  0.        ],\n",
       "        [ 0.        ,  0.        ,  0.        ,  0.        ,  0.        ,\n",
       "          0.        ,  0.        ,  0.        ,  0.        ,  0.        ,\n",
       "          0.        ,  0.        ,  0.        ,  0.        ,  0.        ,\n",
       "          0.        ,  0.        ,  0.        ,  0.        ,  0.        ],\n",
       "        [ 0.        ,  0.        ,  0.        ,  0.        ,  0.        ,\n",
       "          0.        ,  0.        ,  0.        ,  0.        ,  0.        ,\n",
       "          0.        ,  0.        ,  0.        ,  0.        ,  0.        ,\n",
       "          0.        ,  0.        ,  0.        ,  0.        ,  0.        ],\n",
       "        [ 0.        ,  0.        ,  0.        ,  0.        ,  0.        ,\n",
       "          0.        ,  0.        ,  0.        ,  0.        ,  0.        ,\n",
       "          0.        ,  0.        ,  0.        ,  0.        ,  0.        ,\n",
       "          0.        ,  0.        ,  0.        ,  0.        ,  0.        ],\n",
       "        [ 0.        ,  0.        ,  0.        ,  0.        ,  0.        ,\n",
       "          0.        ,  0.        ,  0.        ,  0.        ,  0.        ,\n",
       "          0.        ,  0.        ,  0.        ,  0.        ,  0.        ,\n",
       "          0.        ,  0.        ,  0.        ,  0.        ,  0.        ],\n",
       "        [ 0.        ,  0.        ,  0.        ,  0.        ,  0.        ,\n",
       "          0.        ,  0.        ,  0.        ,  0.        ,  0.        ,\n",
       "          0.        ,  0.        ,  0.        ,  0.        ,  0.        ,\n",
       "          0.        ,  0.        ,  0.        ,  0.        ,  0.        ],\n",
       "        [ 0.        ,  0.        ,  0.        ,  0.        ,  0.        ,\n",
       "          0.        ,  0.        ,  0.        ,  0.        ,  0.        ,\n",
       "          0.        ,  0.        ,  0.        ,  0.        ,  0.        ,\n",
       "          0.        ,  0.        ,  0.        ,  0.        ,  0.        ],\n",
       "        [ 0.        ,  0.        ,  0.        ,  0.        ,  0.        ,\n",
       "          0.        ,  0.        ,  0.        ,  0.        ,  0.        ,\n",
       "          0.        ,  0.        ,  0.        ,  0.        ,  0.        ,\n",
       "          0.        ,  0.        ,  0.        ,  0.        ,  0.        ],\n",
       "        [ 0.        ,  0.        ,  0.        ,  0.        ,  0.        ,\n",
       "          0.        ,  0.        ,  0.        ,  0.        ,  0.        ,\n",
       "          0.        ,  0.        ,  0.        ,  0.        ,  0.        ,\n",
       "          0.        ,  0.        ,  0.        ,  0.        ,  0.        ],\n",
       "        [ 0.        ,  0.        ,  0.        ,  0.        ,  0.        ,\n",
       "          0.        ,  0.        ,  0.        ,  0.        ,  0.        ,\n",
       "          0.        ,  0.        ,  0.        ,  0.        ,  0.        ,\n",
       "          0.        ,  0.        ,  0.        ,  0.        ,  0.        ],\n",
       "        [ 0.        ,  0.        ,  0.        ,  0.        ,  0.        ,\n",
       "          0.        ,  0.        ,  0.        ,  0.        ,  0.        ,\n",
       "          0.        ,  0.        ,  0.        ,  0.        ,  0.        ,\n",
       "          0.        ,  0.        ,  0.        ,  0.        ,  0.        ]])"
      ]
     },
     "execution_count": 75,
     "metadata": {},
     "output_type": "execute_result"
    }
   ],
   "source": [
    "W-W1"
   ]
  },
  {
   "cell_type": "code",
   "execution_count": 63,
   "metadata": {
    "collapsed": false
   },
   "outputs": [
    {
     "name": "stdout",
     "output_type": "stream",
     "text": [
      "[[ 0.  0.  0.  0.  0.  0.  0.  0.  0.  0.  0.  0.  0.  0.  0.  0.  0.  0.\n",
      "   0.  0.]\n",
      " [ 0.  0.  0.  0.  0.  0.  0.  0.  0.  0.  0.  0.  0.  0.  0.  0.  0.  0.\n",
      "   0.  0.]\n",
      " [ 0.  0.  0.  0.  0.  0.  0.  0.  0.  0.  0.  0.  0.  0.  0.  0.  0.  0.\n",
      "   0.  0.]\n",
      " [ 0.  0.  0.  0.  0.  0.  0.  0.  0.  0.  0.  0.  0.  0.  0.  0.  0.  0.\n",
      "   0.  0.]\n",
      " [ 0.  0.  0.  0.  0.  0.  0.  0.  0.  0.  0.  0.  0.  0.  0.  0.  0.  0.\n",
      "   0.  0.]\n",
      " [ 0.  0.  0.  0.  0.  0.  0.  0.  0.  0.  0.  0.  0.  0.  0.  0.  0.  0.\n",
      "   0.  0.]\n",
      " [ 0.  0.  0.  0.  0.  0.  0.  0.  0.  0.  0.  0.  0.  0.  0.  0.  0.  0.\n",
      "   0.  0.]\n",
      " [ 0.  0.  0.  0.  0.  0.  0.  0.  0.  0.  0.  0.  0.  0.  0.  0.  0.  0.\n",
      "   0.  0.]\n",
      " [ 0.  0.  0.  0.  0.  0.  0.  0.  0.  0.  0.  0.  0.  0.  0.  0.  0.  0.\n",
      "   0.  0.]\n",
      " [ 0.  0.  0.  0.  0.  0.  0.  0.  0.  0.  0.  0.  0.  0.  0.  0.  0.  0.\n",
      "   0.  0.]\n",
      " [ 0.  0.  0.  0.  0.  0.  0.  0.  0.  0.  0.  0.  0.  0.  0.  0.  0.  0.\n",
      "   0.  0.]\n",
      " [ 0.  0.  0.  0.  0.  0.  0.  0.  0.  0.  0.  0.  0.  0.  0.  0.  0.  0.\n",
      "   0.  0.]\n",
      " [ 0.  0.  0.  0.  0.  0.  0.  0.  0.  0.  0.  0.  0.  0.  0.  0.  0.  0.\n",
      "   0.  0.]\n",
      " [ 0.  0.  0.  0.  0.  0.  0.  0.  0.  0.  0.  0.  0.  0.  0.  0.  0.  0.\n",
      "   0.  0.]\n",
      " [ 0.  0.  0.  0.  0.  0.  0.  0.  0.  0.  0.  0.  0.  0.  0.  0.  0.  0.\n",
      "   0.  0.]\n",
      " [ 0.  0.  0.  0.  0.  0.  0.  0.  0.  0.  0.  0.  0.  0.  0.  0.  0.  0.\n",
      "   0.  0.]\n",
      " [ 0.  0.  0.  0.  0.  0.  0.  0.  0.  0.  0.  0.  0.  0.  0.  0.  0.  0.\n",
      "   0.  0.]\n",
      " [ 0.  0.  0.  0.  0.  0.  0.  0.  0.  0.  0.  0.  0.  0.  0.  0.  0.  0.\n",
      "   0.  0.]\n",
      " [ 0.  0.  0.  0.  0.  0.  0.  0.  0.  0.  0.  0.  0.  0.  0.  0.  0.  0.\n",
      "   0.  0.]\n",
      " [ 0.  0.  0.  0.  0.  0.  0.  0.  0.  0.  0.  0.  0.  0.  0.  0.  0.  0.\n",
      "   0.  0.]\n",
      " [ 0.  0.  0.  0.  0.  0.  0.  0.  0.  0.  0.  0.  0.  0.  0.  0.  0.  0.\n",
      "   0.  0.]\n",
      " [ 0.  0.  0.  0.  0.  0.  0.  0.  0.  0.  0.  0.  0.  0.  0.  0.  0.  0.\n",
      "   0.  0.]\n",
      " [ 0.  0.  0.  0.  0.  0.  0.  0.  0.  0.  0.  0.  0.  0.  0.  0.  0.  0.\n",
      "   0.  0.]\n",
      " [ 0.  0.  0.  0.  0.  0.  0.  0.  0.  0.  0.  0.  0.  0.  0.  0.  0.  0.\n",
      "   0.  0.]\n",
      " [ 0.  0.  0.  0.  0.  0.  0.  0.  0.  0.  0.  0.  0.  0.  0.  0.  0.  0.\n",
      "   0.  0.]\n",
      " [ 0.  0.  0.  0.  0.  0.  0.  0.  0.  0.  0.  0.  0.  0.  0.  0.  0.  0.\n",
      "   0.  0.]\n",
      " [ 0.  0.  0.  0.  0.  0.  0.  0.  0.  0.  0.  0.  0.  0.  0.  0.  0.  0.\n",
      "   0.  0.]\n",
      " [ 0.  0.  0.  0.  0.  0.  0.  0.  0.  0.  0.  0.  0.  0.  0.  0.  0.  0.\n",
      "   0.  0.]\n",
      " [ 0.  0.  0.  0.  0.  0.  0.  0.  0.  0.  0.  0.  0.  0.  0.  0.  0.  0.\n",
      "   0.  0.]\n",
      " [ 0.  0.  0.  0.  0.  0.  0.  0.  0.  0.  0.  0.  0.  0.  0.  0.  0.  0.\n",
      "   0.  0.]\n",
      " [ 0.  0.  0.  0.  0.  0.  0.  0.  0.  0.  0.  0.  0.  0.  0.  0.  0.  0.\n",
      "   0.  0.]\n",
      " [ 0.  0.  0.  0.  0.  0.  0.  0.  0.  0.  0.  0.  0.  0.  0.  0.  0.  0.\n",
      "   0.  0.]\n",
      " [ 0.  0.  0.  0.  0.  0.  0.  0.  0.  0.  0.  0.  0.  0.  0.  0.  0.  0.\n",
      "   0.  0.]\n",
      " [ 0.  0.  0.  0.  0.  0.  0.  0.  0.  0.  0.  0.  0.  0.  0.  0.  0.  0.\n",
      "   0.  0.]\n",
      " [ 0.  0.  0.  0.  0.  0.  0.  0.  0.  0.  0.  0.  0.  0.  0.  0.  0.  0.\n",
      "   0.  0.]\n",
      " [ 0.  0.  0.  0.  0.  0.  0.  0.  0.  0.  0.  0.  0.  0.  0.  0.  0.  0.\n",
      "   0.  0.]\n",
      " [ 0.  0.  0.  0.  0.  0.  0.  0.  0.  0.  0.  0.  0.  0.  0.  0.  0.  0.\n",
      "   0.  0.]\n",
      " [ 0.  0.  0.  0.  0.  0.  0.  0.  0.  0.  0.  0.  0.  0.  0.  0.  0.  0.\n",
      "   0.  0.]\n",
      " [ 0.  0.  0.  0.  0.  0.  0.  0.  0.  0.  0.  0.  0.  0.  0.  0.  0.  0.\n",
      "   0.  0.]\n",
      " [ 0.  0.  0.  0.  0.  0.  0.  0.  0.  0.  0.  0.  0.  0.  0.  0.  0.  0.\n",
      "   0.  0.]\n",
      " [ 0.  0.  0.  0.  0.  0.  0.  0.  0.  0.  0.  0.  0.  0.  0.  0.  0.  0.\n",
      "   0.  0.]\n",
      " [ 0.  0.  0.  0.  0.  0.  0.  0.  0.  0.  0.  0.  0.  0.  0.  0.  0.  0.\n",
      "   0.  0.]\n",
      " [ 0.  0.  0.  0.  0.  0.  0.  0.  0.  0.  0.  0.  0.  0.  0.  0.  0.  0.\n",
      "   0.  0.]\n",
      " [ 0.  0.  0.  0.  0.  0.  0.  0.  0.  0.  0.  0.  0.  0.  0.  0.  0.  0.\n",
      "   0.  0.]\n",
      " [ 0.  0.  0.  0.  0.  0.  0.  0.  0.  0.  0.  0.  0.  0.  0.  0.  0.  0.\n",
      "   0.  0.]\n",
      " [ 0.  0.  0.  0.  0.  0.  0.  0.  0.  0.  0.  0.  0.  0.  0.  0.  0.  0.\n",
      "   0.  0.]\n",
      " [ 0.  0.  0.  0.  0.  0.  0.  0.  0.  0.  0.  0.  0.  0.  0.  0.  0.  0.\n",
      "   0.  0.]\n",
      " [ 0.  0.  0.  0.  0.  0.  0.  0.  0.  0.  0.  0.  0.  0.  0.  0.  0.  0.\n",
      "   0.  0.]\n",
      " [ 0.  0.  0.  0.  0.  0.  0.  0.  0.  0.  0.  0.  0.  0.  0.  0.  0.  0.\n",
      "   0.  0.]\n",
      " [ 0.  0.  0.  0.  0.  0.  0.  0.  0.  0.  0.  0.  0.  0.  0.  0.  0.  0.\n",
      "   0.  0.]]\n"
     ]
    }
   ],
   "source": [
    "print(W1.toarray()-W.toarray())"
   ]
  },
  {
   "cell_type": "code",
   "execution_count": 32,
   "metadata": {
    "collapsed": false
   },
   "outputs": [
    {
     "data": {
      "text/plain": [
       "array([[ 2.,  2.,  2.,  2.,  2.,  2.,  2.,  2.,  2.,  2.,  2.,  1.,  2.,\n",
       "         2.,  2.,  2.,  2.,  1.,  2.,  2.,  1.,  1.,  1.,  1.,  1.,  1.,\n",
       "         1.,  1.,  1.,  1.,  1.,  1.,  1.,  1.,  1.,  1.,  1.,  1.,  1.,\n",
       "         1.,  1.,  1.,  1.,  1.,  1.,  1.,  1.,  1.,  1.,  1.,  1.,  1.,\n",
       "         1.,  1.,  1.,  1.,  1.,  1.,  1.,  1.,  1.,  1.,  1.,  1.,  1.,\n",
       "         1.,  1.,  1.,  1.,  1.,  1.,  1.,  1.,  1.,  1.,  1.,  1.,  1.,\n",
       "         1.,  1.,  1.,  1.,  1.,  1.,  1.,  1.,  1.,  1.,  1.,  1.,  1.,\n",
       "         1.,  1.,  1.,  1.,  1.,  1.,  1.,  1.,  1.,  1.,  1.,  1.,  1.,\n",
       "         1.,  1.,  1.,  1.,  1.,  1.,  1.,  1.,  1.,  1.,  1.,  1.,  1.,\n",
       "         1.,  1.,  1.,  1.,  1.,  1.,  1.,  1.,  1.,  1.,  1.,  1.,  1.,\n",
       "         1.,  1.,  1.,  1.,  1.,  1.,  1.,  1.,  1.,  1.,  1.,  1.,  1.,\n",
       "         1.,  1.,  1.,  1.,  1.,  1.,  1.,  1.,  1.,  1.,  1.,  1.,  1.,\n",
       "         1.,  1.,  1.,  1.,  1.,  1.,  1.,  1.,  1.,  1.,  1.,  1.,  1.,\n",
       "         1.,  1.,  1.,  1.,  1.,  1.,  1.,  1.,  1.,  1.,  1.,  1.,  1.,\n",
       "         1.,  1.,  1.,  1.,  1.,  1.,  1.,  1.,  1.,  1.,  1.,  1.,  1.,\n",
       "         1.,  1.,  1.,  1.,  1.,  1.,  1.,  1.,  1.,  1.,  1.,  1.,  1.,\n",
       "         1.,  1.,  1.,  1.,  1.,  1.,  2.,  2.,  2.,  2.,  2.,  2.,  2.,\n",
       "         2.,  2.,  2.,  2.,  1.,  2.,  2.,  2.,  2.,  2.,  1.,  2.,  2.,\n",
       "         1.,  1.,  1.,  1.,  1.,  1.,  1.,  1.,  1.,  1.,  1.,  1.,  1.,\n",
       "         1.,  1.,  1.,  1.,  1.,  1.,  1.,  1.,  1.,  1.,  1.,  1.,  1.,\n",
       "         1.,  1.,  1.,  1.,  1.,  1.,  1.,  1.,  1.,  1.,  1.,  1.]])"
      ]
     },
     "execution_count": 32,
     "metadata": {},
     "output_type": "execute_result"
    }
   ],
   "source": [
    "N1.toarray()"
   ]
  },
  {
   "cell_type": "code",
   "execution_count": 76,
   "metadata": {
    "collapsed": false
   },
   "outputs": [
    {
     "data": {
      "text/plain": [
       "'0.19.0'"
      ]
     },
     "execution_count": 76,
     "metadata": {},
     "output_type": "execute_result"
    }
   ],
   "source": [
    "import scipy\n",
    "scipy.__version__"
   ]
  },
  {
   "cell_type": "code",
   "execution_count": null,
   "metadata": {
    "collapsed": true
   },
   "outputs": [],
   "source": []
  }
 ],
 "metadata": {
  "kernelspec": {
   "display_name": "Python [conda env:pymc3_test]",
   "language": "python",
   "name": "conda-env-pymc3_test-py"
  },
  "language_info": {
   "codemirror_mode": {
    "name": "ipython",
    "version": 2
   },
   "file_extension": ".py",
   "mimetype": "text/x-python",
   "name": "python",
   "nbconvert_exporter": "python",
   "pygments_lexer": "ipython2",
   "version": "2.7.13"
  }
 },
 "nbformat": 4,
 "nbformat_minor": 2
}
