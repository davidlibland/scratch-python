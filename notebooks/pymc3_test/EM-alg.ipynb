{
 "cells": [
  {
   "cell_type": "code",
   "execution_count": 1,
   "metadata": {
    "collapsed": false,
    "deletable": true,
    "editable": true
   },
   "outputs": [],
   "source": [
    "import numpy as np\n",
    "from IPython import display"
   ]
  },
  {
   "cell_type": "code",
   "execution_count": 2,
   "metadata": {
    "collapsed": true,
    "deletable": true,
    "editable": true
   },
   "outputs": [],
   "source": [
    "import matplotlib.pyplot as plt\n",
    "%matplotlib inline"
   ]
  },
  {
   "cell_type": "code",
   "execution_count": 3,
   "metadata": {
    "collapsed": true,
    "deletable": true,
    "editable": true
   },
   "outputs": [],
   "source": [
    "num_hidden = 15\n",
    "num_dxs = 15\n",
    "num_findings = 10\n",
    "num_samples = 200"
   ]
  },
  {
   "cell_type": "code",
   "execution_count": 4,
   "metadata": {
    "collapsed": false,
    "deletable": true,
    "editable": true
   },
   "outputs": [],
   "source": [
    "def update_params(X,Y,H,W,V,reg_p):\n",
    "    Phi = H.dot(W)\n",
    "    B_Phi = .25*Phi-np.reciprocal(1+np.exp(-Phi))\n",
    "    X_tilde = 4*(X+B_Phi)\n",
    "    H_1 = X_tilde.dot(W.T)\n",
    "    Sig_W = 4*((H**2).sum(axis=0)[:,np.newaxis]) + reg_p*np.ones(W.shape)\n",
    "    W_ = H.T.dot(X_tilde)*np.reciprocal(Sig_W)\n",
    "    \n",
    "    \n",
    "    Psi_pre = H.dot(V)\n",
    "    Psi = diff_op(Psi_pre)\n",
    "    B_Psi = .25*Psi-np.reciprocal(1+np.exp(-Psi))\n",
    "    Y_tilde = 4*(Y+B_Psi)\n",
    "    H_2 = diff_op_T(Y_tilde).dot(V.T)\n",
    "    num_dx=V.shape[1]\n",
    "    Sig_V = 4*((H**2).sum(axis=0)[:,np.newaxis]*(2*(num_dx-1)))+reg_p*np.ones(V.shape)\n",
    "    V_ = H.T.dot(diff_op_T(Y_tilde))*np.reciprocal(Sig_V)\n",
    "    V_ = np.eye(H.shape[1])\n",
    "    \n",
    "    Sig_H = reg_p*np.ones(H.shape)\n",
    "    Sig_H += 4*(W**2).sum(axis=1)[np.newaxis,:]\n",
    "    Sig_H += 4*(2*(num_dx-1))*(V**2).sum(axis=1)[np.newaxis,:]\n",
    "    H_ = (H_1+H_2)*np.reciprocal(Sig_H)\n",
    "    \n",
    "    return (H_,Sig_H), (W_,Sig_W), (V_,Sig_V)\n",
    "    \n",
    "    \n",
    "def update_params(X,Y,H,W,V,reg_p):\n",
    "    Phi = H.dot(W)\n",
    "    B_Phi = .25*Phi-np.reciprocal(1+np.exp(-Phi))\n",
    "    X_tilde = (X+B_Phi)\n",
    "    Sig_W = 4*((H**2).sum(axis=0)[:,np.newaxis]) + reg_p*np.ones(W.shape)\n",
    "    W_ = H.T.dot(X_tilde)*np.reciprocal(Sig_W)\n",
    "    \n",
    "    H_ = H\n",
    "    Sig_H=np.eye(*H.shape)\n",
    "    V_ = V\n",
    "    Sig_V=np.eye(*V.shape)\n",
    "    return (H_,Sig_H), (W_,Sig_W), (V_,Sig_V)\n",
    "\n",
    "\n",
    "    \n",
    "def update_params(X,Y,H,Sig_H,W,Sig_W,V,Sig_V,reg_h,reg_p):\n",
    "    num_samples, num_hidden = H.shape\n",
    "    _, num_findings = W.shape\n",
    "    _, num_dxs = V.shape\n",
    "    \n",
    "    Xi = np.sqrt(Sig_H.dot(Sig_W+(W**2))+(H**2).dot(Sig_W)+(H.dot(W))**2)\n",
    "    Eta2 = diff_op(H.dot(V))**2+ diff_op2((Sig_H+H**2).dot(Sig_V))+np.tensordot(Sig_H,diff_op(V)**2,axes=(1,0))\n",
    "    Eta = np.sqrt(Eta2)\n",
    "    #Eta = np.sqrt(diff_op2(Sig_H.dot(Sig_V+(V**2))+(H**2).dot(Sig_V)+(H.dot(V))**2))\n",
    "    \n",
    "    assert np.isfinite(Xi).all()\n",
    "    assert np.isfinite(Eta).all()\n",
    "    \n",
    "    L = lower_marginal_likelihood_bound(X,Y,H,Sig_H,W,Sig_W,V,Sig_V,Xi,Eta,reg_h,reg_p)\n",
    "    \n",
    "    \n",
    "    W, Sig_W = update_weights(X,W,H,Xi,np.zeros(W.shape),reg_p)\n",
    "    \n",
    "    LW = lower_marginal_likelihood_bound(X,Y,H,Sig_H,W,Sig_W,V,Sig_V,Xi,Eta,reg_h,reg_p)\n",
    "    \n",
    "    diff_op_mat = diff_op(np.eye(V.shape[1]))\n",
    "    H_ext = np.einsum('ij,klm->ilmjk',H,diff_op_mat).reshape([num_samples,-1])\n",
    "    V_resh,Sig_V_resh = update_weights(Y.reshape([-1]),\n",
    "                                       V.reshape([-1]),\n",
    "                                       H_ext.reshape([-1,len(V.reshape([-1]))]),\n",
    "                                       Eta.reshape([-1]),\n",
    "                                       np.zeros(V.shape).reshape([-1]),\n",
    "                                       reg_p)\n",
    "    V = V_resh.reshape(V.shape)\n",
    "    Sig_V = Sig_V_resh.reshape(V.shape)\n",
    "    \n",
    "    LV = lower_marginal_likelihood_bound(X,Y,H,Sig_H,W,Sig_W,V,Sig_V,Xi,Eta,reg_h,reg_p)\n",
    "    \n",
    "    \n",
    "    W_ext = np.hstack([W,diff_op(V).reshape([num_hidden,-1])])\n",
    "    Xi_ext = np.hstack([Xi,Eta.reshape([num_samples,-1])])\n",
    "    T_ext = np.hstack([X,Y.reshape([num_samples,-1])])\n",
    "    \n",
    "    H_T, Sig_H_T = update_weights(T_ext.T,H.T,W_ext.T,Xi_ext.T,np.zeros(H.T.shape),reg_h)\n",
    "    H, Sig_H = (H_T.T,Sig_H_T.T)\n",
    "    \n",
    "    LH = lower_marginal_likelihood_bound(X,Y,H,Sig_H,W,Sig_W,V,Sig_V,Xi,Eta,reg_h,reg_p)\n",
    "    \n",
    "    return (H,Sig_H), (W,Sig_W), (V,Sig_V), (L,LW,LV,LH)\n",
    "\n",
    "def update_weights(T,W,X,Xi,W_0,reg):\n",
    "    \"\"\"Update the weight matrix\n",
    "    T = observed values\n",
    "    W = weights (at current iteration of VB)\n",
    "    X = features\n",
    "    Xi = JJ positions (at current iteration of VB)\n",
    "    W_0 = prior bias for W\n",
    "    reg = regularization strength\n",
    "    \n",
    "    we assume T ~ Bernouilli(sigmoid(XW))\n",
    "    returns (W,Sig_W)\n",
    "    where W are the updated weight values and Sig_W are the current variances of those weight values.\n",
    "    \"\"\"\n",
    "    #print(\"T: %s, W: %s, X: %s, Xi: %s, W_0: %s\" % (T.shape,W.shape,X.shape,Xi.shape,W_0.shape))\n",
    "    k = (len(X.shape)+len(W.shape)-len(T.shape))//2 # number of indices to contract over.\n",
    "    S_W_0_inv = reg*np.ones(W.shape)\n",
    "    \n",
    "    lamXi = lambdoid(Xi)\n",
    "    assert np.isfinite(lamXi).all()\n",
    "    \n",
    "    #print(\"k:%d, X: %s, Xi: %s\" %(k,X.shape,Xi.shape))\n",
    "    X2lamXi = np.tensordot((X**2).T,lamXi,k)\n",
    "    assert np.isfinite(X2lamXi).all()\n",
    "    \n",
    "    S_W_inv_ = S_W_0_inv + 2*X2lamXi\n",
    "    S_W_ = np.reciprocal(S_W_inv_)\n",
    "    assert np.isfinite(S_W_).all()\n",
    "    \n",
    "    term1 = np.tensordot(X.T, T-0.5-2*lamXi*np.tensordot(X,W,k),k)\n",
    "    term2 = 2*W*X2lamXi\n",
    "    \n",
    "    assert np.isfinite(term1).all()\n",
    "    assert np.isfinite(term2).all()\n",
    "    \n",
    "    W_ = S_W_*(S_W_0_inv*W_0+term1+term2)\n",
    "    \n",
    "    assert np.isfinite(W_).all()\n",
    "    return W_, S_W_\n",
    "    "
   ]
  },
  {
   "cell_type": "code",
   "execution_count": 5,
   "metadata": {
    "collapsed": true,
    "deletable": true,
    "editable": true
   },
   "outputs": [],
   "source": [
    "def diff_op(HV,max_dxs=None):\n",
    "    return np.tile(HV[:,:,np.newaxis],[1,1,num_dxs])-np.tile(HV[:,np.newaxis,:],[1,num_dxs,1])\n",
    "\n",
    "def diff_op2(HV,max_dxs=None):\n",
    "    return np.tile(HV[:,:,np.newaxis],[1,1,num_dxs])+np.tile(HV[:,np.newaxis,:],[1,num_dxs,1])\n",
    "    \n",
    "def diff_op_T(HTY):\n",
    "    return HTY.sum(axis=2)-HTY.sum(axis=1)"
   ]
  },
  {
   "cell_type": "code",
   "execution_count": 6,
   "metadata": {
    "collapsed": false,
    "deletable": true,
    "editable": true
   },
   "outputs": [],
   "source": [
    "HV = np.random.normal(size=[num_samples,num_dxs])\n",
    "HVV = diff_op(HV)"
   ]
  },
  {
   "cell_type": "code",
   "execution_count": 7,
   "metadata": {
    "collapsed": false,
    "deletable": true,
    "editable": true
   },
   "outputs": [
    {
     "data": {
      "text/plain": [
       "array([[-1.02439413,  0.12656084,  1.25088788, ..., -0.20153203,\n",
       "         0.00913718, -0.0852908 ],\n",
       "       [ 0.67231831,  1.34685014, -0.78314067, ..., -0.56439353,\n",
       "        -0.81900889, -0.45923093],\n",
       "       [ 0.66084664, -1.19829293, -0.02595304, ..., -0.4320336 ,\n",
       "        -2.14310166, -0.75414048],\n",
       "       ..., \n",
       "       [-0.50549474,  0.38201701, -0.50142778, ...,  0.51062918,\n",
       "         1.12285492, -1.4585725 ],\n",
       "       [-1.24426165, -0.50257691,  0.26829671, ...,  0.38917808,\n",
       "        -0.16982301,  0.44071432],\n",
       "       [ 2.12042421,  1.57615959,  0.96359145, ...,  1.08614701,\n",
       "         0.48561671, -0.19545133]])"
      ]
     },
     "execution_count": 7,
     "metadata": {},
     "output_type": "execute_result"
    }
   ],
   "source": [
    "HV"
   ]
  },
  {
   "cell_type": "code",
   "execution_count": 8,
   "metadata": {
    "collapsed": false,
    "deletable": true,
    "editable": true
   },
   "outputs": [],
   "source": [
    "HV = np.random.randint(low=-5,high=5,size=[num_samples,num_dxs])\n",
    "HVV = diff_op(HV)\n",
    "for k in range(num_samples):\n",
    "    for i in range(num_dxs):\n",
    "        for j in range(num_dxs):\n",
    "            if i==j:\n",
    "                assert(HVV[k,i,j]==0)\n",
    "            else:\n",
    "                assert(HVV[k,i,j]==HV[k,i]-HV[k,j])\n",
    "\n",
    "HTY = np.random.randint(low=-5,high=5,size=[num_samples,num_dxs,num_dxs])\n",
    "HHTY = diff_op_T(HTY)\n",
    "assert((np.einsum('ijk,pjk->ip',HVV,HTY)==HV.dot(HHTY.T)).all())"
   ]
  },
  {
   "cell_type": "code",
   "execution_count": 9,
   "metadata": {
    "collapsed": true,
    "deletable": true,
    "editable": true
   },
   "outputs": [],
   "source": [
    "def KLDivergence(m1,Sig1,m2,Sig2):\n",
    "    \"\"\"Computes the KL divergence of two multivariate normal distributions. \n",
    "    mi and Sigi are the respective means and covariance matrices\"\"\"\n",
    "    d = len(m1)\n",
    "    Sig2inv = np.linalg.inv(Sig2)\n",
    "    Sig2invSig1 = Sig2inv.dot(Sig1)\n",
    "    return 0.5*(-np.linalg.slogdet(Sig2invSig1)[1]-d+np.trace(Sig2invSig1)+(m2-m1).T.dot(Sig2inv.dot(m2-m1)))\n",
    "\n",
    "def KLDivergence_diag(m1,Sig1,m2,Sig2):\n",
    "    \"\"\"Computes the KL divergence of two multivariate normal distributions. \n",
    "    mi and Sigi are the respective means and covariance matrices\"\"\"\n",
    "    d = len(m1.flatten())\n",
    "    Sig2inv = np.reciprocal(Sig2)\n",
    "    Sig2invSig1 = Sig2inv*Sig1\n",
    "    return 0.5*(-np.log(Sig2invSig1).sum()-d+Sig2invSig1.sum()+(((m2-m1)**2)*Sig2inv).sum())"
   ]
  },
  {
   "cell_type": "code",
   "execution_count": 10,
   "metadata": {
    "collapsed": false,
    "deletable": true,
    "editable": true
   },
   "outputs": [],
   "source": [
    "def log_1_add_exp(x):\n",
    "    mask = x<0\n",
    "    nmask = np.logical_not(mask)\n",
    "    ans = np.zeros_like(x)\n",
    "    ans[mask] = np.log1p(np.exp(x[mask]))\n",
    "    ans[nmask] = np.log1p(np.exp(-x[nmask]))+x[nmask]\n",
    "    return ans\n",
    "\n",
    "def lower_marginal_likelihood_bound(X,Y,H,Sig_H,W,Sig_W,V,Sig_V,Xi,Eta,reg_h,reg_p):\n",
    "    KLH = KLDivergence_diag(H,Sig_H,np.zeros_like(H),np.ones_like(H)/reg_h)\n",
    "    KLW = KLDivergence_diag(W,Sig_W,np.zeros_like(W),np.ones_like(W)/reg_p)\n",
    "    KLV = KLDivergence_diag(V,Sig_V,np.zeros_like(V),np.ones_like(V)/reg_p)\n",
    "    HW = H.dot(W)\n",
    "    HW2 = Sig_H.dot(Sig_W+W**2)+(H**2).dot(Sig_W)+HW**2\n",
    "    lamXi = lambdoid(Xi)\n",
    "    lseW = (lamXi*(HW2-Xi**2)+0.5*(HW-Xi)+log_1_add_exp(Xi)).sum()\n",
    "    HVF = diff_op(H.dot(V))\n",
    "    HVF2 = diff_op2(Sig_H.dot(Sig_V+V**2)+(H**2).dot(Sig_V))+HVF**2 \n",
    "    lamEta = lambdoid(Eta)\n",
    "    lseV = (lamEta*(HVF2-Eta**2)+0.5*(HVF-Eta)+log_1_add_exp(Eta)).sum()\n",
    "    e_log_likelihood = (X*HW).sum()+(Y*HVF).sum()-lseW-lseV\n",
    "    return KLH+KLW+KLV-e_log_likelihood"
   ]
  },
  {
   "cell_type": "code",
   "execution_count": 11,
   "metadata": {
    "collapsed": true,
    "deletable": true,
    "editable": true
   },
   "outputs": [],
   "source": [
    "def lambdoid(xi):\n",
    "    from scipy.special import exprel\n",
    "    return 0.25*exprel(xi)/(np.exp(xi)+1)"
   ]
  },
  {
   "cell_type": "code",
   "execution_count": 12,
   "metadata": {
    "collapsed": true,
    "deletable": true,
    "editable": true
   },
   "outputs": [],
   "source": [
    "def sigmoid(eta):\n",
    "    return 1/(1+np.exp(-eta))"
   ]
  },
  {
   "cell_type": "code",
   "execution_count": 13,
   "metadata": {
    "collapsed": true,
    "deletable": true,
    "editable": true
   },
   "outputs": [],
   "source": [
    "_W = np.random.randn(num_dxs, num_findings)"
   ]
  },
  {
   "cell_type": "code",
   "execution_count": 14,
   "metadata": {
    "collapsed": true,
    "deletable": true,
    "editable": true
   },
   "outputs": [],
   "source": [
    "def bernoulli(p):\n",
    "    rands = np.random.rand(*np.array(p).shape)\n",
    "    return np.array(rands < p,dtype=np.float)"
   ]
  },
  {
   "cell_type": "code",
   "execution_count": 15,
   "metadata": {
    "collapsed": false,
    "deletable": true,
    "editable": true
   },
   "outputs": [],
   "source": [
    "def generate_cases(num_dxs, num_findings, avg_ddx_length, w, num_samples=1):\n",
    "    h = np.random.randn(num_samples,num_dxs)\n",
    "    y = bernoulli(sigmoid(diff_op(h)))\n",
    "    x = bernoulli(sigmoid(h.dot(w)))\n",
    "    return x,y,h"
   ]
  },
  {
   "cell_type": "code",
   "execution_count": 16,
   "metadata": {
    "collapsed": false,
    "deletable": true,
    "editable": true
   },
   "outputs": [],
   "source": [
    "X,Y,H_0 = generate_cases(num_dxs=num_dxs, num_findings=num_findings, w=_W, avg_ddx_length=1, num_samples=num_samples)"
   ]
  },
  {
   "cell_type": "code",
   "execution_count": 17,
   "metadata": {
    "collapsed": false,
    "deletable": true,
    "editable": true
   },
   "outputs": [
    {
     "data": {
      "text/plain": [
       "<matplotlib.figure.Figure at 0x10959efd0>"
      ]
     },
     "metadata": {},
     "output_type": "display_data"
    }
   ],
   "source": [
    "alpha = 0.003\n",
    "reg_p = 2\n",
    "fig = plt.figure(1)\n",
    "def fit(X, Y, num_hidden, reg_p):\n",
    "    num_samples, num_findings = X.shape\n",
    "    num_dxs = Y.shape[1]\n",
    "    H = np.random.randn(num_samples, num_hidden)/np.sqrt(float(num_samples+num_hidden))\n",
    "    H = np.copy(H_0)\n",
    "    W = np.random.randn(num_hidden, num_findings)/np.sqrt(float(num_hidden+num_findings))\n",
    "    V = np.random.randn(num_hidden, num_dxs)/np.sqrt(float(num_hidden+num_dxs*num_dxs))\n",
    "    Sig_H = 0.001*np.ones(H.shape)\n",
    "    Sig_W = 0.001*np.ones(W.shape)\n",
    "    Sig_V = 0.001*np.ones(V.shape)\n",
    "    max_h = [abs(H).max()]\n",
    "    max_w = [abs(W).max()]\n",
    "    max_v = [abs(V).max()]\n",
    "    L = []\n",
    "    for i in range(2000):\n",
    "        (HH, Sig_H), (WW,Sig_W), (VV,Sig_V), Ls = update_params(X,Y,H,Sig_H,W,Sig_W,V,Sig_V,reg_p,reg_p)\n",
    "        H = H*(1-alpha) + alpha*HH\n",
    "        W = W*(1-alpha) + alpha*WW\n",
    "        V = V*(1-alpha) + alpha*VV\n",
    "        max_h.append(abs(H).max())\n",
    "        max_w.append(abs(W).max())\n",
    "        max_v.append(abs(V).max())\n",
    "        L += list(Ls)\n",
    "        #print(\"iteration %d\" % i)\n",
    "        \n",
    "        plt.gcf().clf()\n",
    "        plt.subplot(311)\n",
    "        plt.plot(range(len(L)),L)\n",
    "        data_h = H_0.dot(_W).flatten()\n",
    "        data_v = H_0.flatten()\n",
    "        pred_h = H.dot(W).flatten()\n",
    "        pred_v = H.dot(V).flatten()\n",
    "        plt.subplot(312)\n",
    "        plt.scatter(data_h,pred_h)\n",
    "        plt.subplot(313)\n",
    "        plt.scatter(data_v,pred_v)\n",
    "        display.clear_output(wait=True)\n",
    "        display.display(plt.gcf()) \n",
    "    return (H, Sig_H), (W,Sig_W), (V,Sig_V), max_h, max_w, max_v, L"
   ]
  },
  {
   "cell_type": "code",
   "execution_count": 18,
   "metadata": {
    "collapsed": false,
    "deletable": true,
    "editable": true
   },
   "outputs": [
    {
     "data": {
      "image/png": "[encoded data removed]",
      "text/plain": [
       "<matplotlib.figure.Figure at 0x10fd507d0>"
      ]
     },
     "metadata": {},
     "output_type": "display_data"
    },
    {
     "data": {
      "image/png": "[encoded data removed]",
      "text/plain": [
       "<matplotlib.figure.Figure at 0x10fd507d0>"
      ]
     },
     "metadata": {},
     "output_type": "display_data"
    }
   ],
   "source": [
    "(H, Sig_H), (W,Sig_W), (V,Sig_V), max_h, max_w, max_v, Ls = fit(X, Y, num_hidden,.1)"
   ]
  },
  {
   "cell_type": "code",
   "execution_count": 58,
   "metadata": {
    "collapsed": false,
    "deletable": true,
    "editable": true
   },
   "outputs": [
    {
     "data": {
      "text/plain": [
       "<matplotlib.collections.PathCollection at 0x11c621190>"
      ]
     },
     "execution_count": 58,
     "metadata": {},
     "output_type": "execute_result"
    },
    {
     "data": {
      "image/png": "[encoded data removed]",
      "text/plain": [
       "<matplotlib.figure.Figure at 0x11c01c750>"
      ]
     },
     "metadata": {},
     "output_type": "display_data"
    }
   ],
   "source": [
    "plt.scatter(H.dot(W).flatten(),X.flatten())"
   ]
  },
  {
   "cell_type": "code",
   "execution_count": 59,
   "metadata": {
    "collapsed": false,
    "deletable": true,
    "editable": true
   },
   "outputs": [
    {
     "data": {
      "image/png": "[encoded data removed]",
      "text/plain": [
       "<matplotlib.figure.Figure at 0x125f8add0>"
      ]
     },
     "metadata": {},
     "output_type": "display_data"
    },
    {
     "data": {
      "text/plain": [
       "<matplotlib.collections.PathCollection at 0x11c23be50>"
      ]
     },
     "execution_count": 59,
     "metadata": {},
     "output_type": "execute_result"
    },
    {
     "data": {
      "image/png": "[encoded data removed]",
      "text/plain": [
       "<matplotlib.figure.Figure at 0x12149e590>"
      ]
     },
     "metadata": {},
     "output_type": "display_data"
    }
   ],
   "source": [
    "data_h = H_0.dot(_W).flatten()\n",
    "data_v = H_0.flatten()\n",
    "pred_h = H.dot(W).flatten()\n",
    "pred_v = H.dot(V).flatten()\n",
    "plt.scatter(data_h,pred_h)\n",
    "plt.show()\n",
    "plt.scatter(data_v,pred_v)"
   ]
  },
  {
   "cell_type": "code",
   "execution_count": 60,
   "metadata": {
    "collapsed": false,
    "deletable": true,
    "editable": true
   },
   "outputs": [
    {
     "data": {
      "text/plain": [
       "<matplotlib.collections.PathCollection at 0x11d047dd0>"
      ]
     },
     "execution_count": 60,
     "metadata": {},
     "output_type": "execute_result"
    },
    {
     "data": {
      "image/png": "[encoded data removed]",
      "text/plain": [
       "<matplotlib.figure.Figure at 0x11b536550>"
      ]
     },
     "metadata": {},
     "output_type": "display_data"
    }
   ],
   "source": [
    "plt.scatter(range(len(max_h)),max_w, color='blue')\n",
    "plt.scatter(range(len(max_h)),max_v, color='red')\n",
    "plt.scatter(range(len(max_h)),max_h, color='green')"
   ]
  },
  {
   "cell_type": "code",
   "execution_count": 61,
   "metadata": {
    "collapsed": false,
    "deletable": true,
    "editable": true
   },
   "outputs": [
    {
     "data": {
      "text/plain": [
       "[<matplotlib.lines.Line2D at 0x1210b2b50>]"
      ]
     },
     "execution_count": 61,
     "metadata": {},
     "output_type": "execute_result"
    },
    {
     "data": {
      "image/png": "[encoded data removed]",
      "text/plain": [
       "<matplotlib.figure.Figure at 0x12113c990>"
      ]
     },
     "metadata": {},
     "output_type": "display_data"
    }
   ],
   "source": [
    "n=-1\n",
    "plt.plot(range(len(Ls[:n])),Ls[:n])"
   ]
  },
  {
   "cell_type": "code",
   "execution_count": null,
   "metadata": {
    "collapsed": false,
    "deletable": true,
    "editable": true
   },
   "outputs": [],
   "source": [
    "H-H_0"
   ]
  },
  {
   "cell_type": "code",
   "execution_count": null,
   "metadata": {
    "collapsed": true,
    "deletable": true,
    "editable": true
   },
   "outputs": [],
   "source": []
  }
 ],
 "metadata": {
  "kernelspec": {
   "display_name": "Python [conda env:pymc3_test]",
   "language": "python",
   "name": "conda-env-pymc3_test-py"
  },
  "language_info": {
   "codemirror_mode": {
    "name": "ipython",
    "version": 2
   },
   "file_extension": ".py",
   "mimetype": "text/x-python",
   "name": "python",
   "nbconvert_exporter": "python",
   "pygments_lexer": "ipython2",
   "version": "2.7.13"
  }
 },
 "nbformat": 4,
 "nbformat_minor": 2
}
