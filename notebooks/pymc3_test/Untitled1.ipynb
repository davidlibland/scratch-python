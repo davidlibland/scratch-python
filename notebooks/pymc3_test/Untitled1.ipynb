{
 "cells": [
  {
   "cell_type": "code",
   "execution_count": 2,
   "metadata": {
    "collapsed": true
   },
   "outputs": [],
   "source": [
    "import matplotlib.pyplot as plt\n",
    "%matplotlib inline\n",
    "import numpy as np"
   ]
  },
  {
   "cell_type": "code",
   "execution_count": 33,
   "metadata": {
    "collapsed": true
   },
   "outputs": [],
   "source": [
    "m0 = -10\n",
    "s0 = 10\n",
    "m1 = -5\n",
    "s1 = 5"
   ]
  },
  {
   "cell_type": "code",
   "execution_count": 34,
   "metadata": {
    "collapsed": true
   },
   "outputs": [],
   "source": [
    "X0 = np.random.normal(m0,s0,size=10000)\n",
    "X1 = np.random.normal(m1,s1,size=10000)\n",
    "Y = X0*X1"
   ]
  },
  {
   "cell_type": "code",
   "execution_count": 35,
   "metadata": {
    "collapsed": false
   },
   "outputs": [
    {
     "data": {
      "text/plain": [
       "(array([  1.00000000e+00,   1.00000000e+00,   1.00000000e+00,\n",
       "          1.00000000e+00,   1.00000000e+00,   3.00000000e+00,\n",
       "          8.00000000e+00,   1.10000000e+01,   1.50000000e+01,\n",
       "          3.30000000e+01,   6.60000000e+01,   8.30000000e+01,\n",
       "          1.36000000e+02,   2.56000000e+02,   4.28000000e+02,\n",
       "          8.42000000e+02,   1.87800000e+03,   1.34000000e+03,\n",
       "          1.04400000e+03,   8.39000000e+02,   6.56000000e+02,\n",
       "          5.65000000e+02,   4.06000000e+02,   3.13000000e+02,\n",
       "          2.43000000e+02,   1.96000000e+02,   1.59000000e+02,\n",
       "          1.17000000e+02,   9.70000000e+01,   5.80000000e+01,\n",
       "          5.00000000e+01,   4.10000000e+01,   3.40000000e+01,\n",
       "          2.40000000e+01,   1.20000000e+01,   1.20000000e+01,\n",
       "          6.00000000e+00,   5.00000000e+00,   5.00000000e+00,\n",
       "          2.00000000e+00,   3.00000000e+00,   2.00000000e+00,\n",
       "          1.00000000e+00,   1.00000000e+00,   1.00000000e+00,\n",
       "          1.00000000e+00,   0.00000000e+00,   1.00000000e+00,\n",
       "          0.00000000e+00,   2.00000000e+00]),\n",
       " array([-342.62780524, -321.86864934, -301.10949343, -280.35033753,\n",
       "        -259.59118162, -238.83202572, -218.07286981, -197.31371391,\n",
       "        -176.554558  , -155.7954021 , -135.03624619, -114.27709028,\n",
       "         -93.51793438,  -72.75877847,  -51.99962257,  -31.24046666,\n",
       "         -10.48131076,   10.27784515,   31.03700105,   51.79615696,\n",
       "          72.55531286,   93.31446877,  114.07362467,  134.83278058,\n",
       "         155.59193649,  176.35109239,  197.1102483 ,  217.8694042 ,\n",
       "         238.62856011,  259.38771601,  280.14687192,  300.90602782,\n",
       "         321.66518373,  342.42433963,  363.18349554,  383.94265145,\n",
       "         404.70180735,  425.46096326,  446.22011916,  466.97927507,\n",
       "         487.73843097,  508.49758688,  529.25674278,  550.01589869,\n",
       "         570.77505459,  591.5342105 ,  612.29336641,  633.05252231,\n",
       "         653.81167822,  674.57083412,  695.32999003]),\n",
       " <a list of 50 Patch objects>)"
      ]
     },
     "execution_count": 35,
     "metadata": {},
     "output_type": "execute_result"
    },
    {
     "data": {
      "image/png": "[encoded data removed]",
      "text/plain": [
       "<matplotlib.figure.Figure at 0x1136a7978>"
      ]
     },
     "metadata": {},
     "output_type": "display_data"
    }
   ],
   "source": [
    "plt.hist(Y,bins=50)"
   ]
  },
  {
   "cell_type": "code",
   "execution_count": null,
   "metadata": {
    "collapsed": true
   },
   "outputs": [],
   "source": []
  }
 ],
 "metadata": {
  "kernelspec": {
   "display_name": "Python [conda env:sklearn]",
   "language": "python",
   "name": "conda-env-sklearn-py"
  },
  "language_info": {
   "codemirror_mode": {
    "name": "ipython",
    "version": 3
   },
   "file_extension": ".py",
   "mimetype": "text/x-python",
   "name": "python",
   "nbconvert_exporter": "python",
   "pygments_lexer": "ipython3",
   "version": "3.6.1"
  }
 },
 "nbformat": 4,
 "nbformat_minor": 2
}
