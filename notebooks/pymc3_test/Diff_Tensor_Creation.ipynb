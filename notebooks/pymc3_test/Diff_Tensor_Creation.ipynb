{
 "cells": [
  {
   "cell_type": "code",
   "execution_count": 3,
   "metadata": {
    "collapsed": true
   },
   "outputs": [],
   "source": [
    "import numpy as np"
   ]
  },
  {
   "cell_type": "code",
   "execution_count": 1,
   "metadata": {
    "collapsed": true
   },
   "outputs": [],
   "source": [
    "def _create_diff_tensor_a(minibatch_size, num_dxs):\n",
    "    diff_tensor = np.zeros([minibatch_size,num_dxs,num_dxs,num_dxs])\n",
    "    for n in range(minibatch_size):\n",
    "        for i in range(num_dxs):\n",
    "            for j in range(num_dxs):\n",
    "                diff_tensor[n,i,i,j] +=1\n",
    "                diff_tensor[n,i,j,i] -=1\n",
    "    return diff_tensor"
   ]
  },
  {
   "cell_type": "code",
   "execution_count": 4,
   "metadata": {
    "collapsed": false
   },
   "outputs": [
    {
     "data": {
      "text/plain": [
       "array([[[[ 0.,  1.],\n",
       "         [-1.,  0.]],\n",
       "\n",
       "        [[ 0., -1.],\n",
       "         [ 1.,  0.]]],\n",
       "\n",
       "\n",
       "       [[[ 0.,  1.],\n",
       "         [-1.,  0.]],\n",
       "\n",
       "        [[ 0., -1.],\n",
       "         [ 1.,  0.]]],\n",
       "\n",
       "\n",
       "       [[[ 0.,  1.],\n",
       "         [-1.,  0.]],\n",
       "\n",
       "        [[ 0., -1.],\n",
       "         [ 1.,  0.]]]])"
      ]
     },
     "execution_count": 4,
     "metadata": {},
     "output_type": "execute_result"
    }
   ],
   "source": [
    "_create_diff_tensor_a(3,2)"
   ]
  },
  {
   "cell_type": "code",
   "execution_count": 5,
   "metadata": {
    "collapsed": true
   },
   "outputs": [],
   "source": [
    "def _test_diff_tensor_a(test_count=5):\n",
    "    from random import randint\n",
    "    for _ in range(test_count):\n",
    "        minibatch_size = randint(0, 10)\n",
    "        num_dxs = randint(0, 10)\n",
    "        a = _create_diff_tensor_a(minibatch_size, num_dxs)\n",
    "        for n in range(minibatch_size):\n",
    "            for i in range(num_dxs):\n",
    "                for j in range(num_dxs):\n",
    "                    for k in range(num_dxs):\n",
    "                        if k == i and i != j:\n",
    "                            assert (a[n, k, i, j] == 1)\n",
    "                        elif k == j and i != j:\n",
    "                            assert (a[n, k, i, j] == -1)\n",
    "                        else:\n",
    "                            assert (a[n, k, i, j] == 0)"
   ]
  },
  {
   "cell_type": "code",
   "execution_count": 6,
   "metadata": {
    "collapsed": true
   },
   "outputs": [],
   "source": [
    "_test_diff_tensor_a()"
   ]
  },
  {
   "cell_type": "code",
   "execution_count": 82,
   "metadata": {
    "collapsed": false
   },
   "outputs": [],
   "source": [
    "def _create_reordered_diff_tensor_a(ddx_max_length, ddxs_extended):\n",
    "    minibatch_size = len(ddxs_extended)\n",
    "    num_dxs = len(ddxs_extended[0])\n",
    "    assert ddx_max_length <= num_dxs, \"ddx_max_length: %d, num_dxs: %d\"%(ddx_max_length,num_dxs)\n",
    "    inverted_ddxs = map(_invert_permutation, ddxs_extended)\n",
    "    diff_tensor = np.zeros([minibatch_size,num_dxs,ddx_max_length,num_dxs])\n",
    "    for n in range(minibatch_size):\n",
    "        assert len(ddxs_extended[n]) == num_dxs,\\\n",
    "            \"for each n, need len(ddxs_extended[n]) == len(ddxs_extended[0]), but \\n\"+\\\n",
    "            \"len(ddxs_extended[%d])==%d! and len(ddxs_extended[0])==%d\"\\\n",
    "            %(n,len(ddxs_extended[n]),len(ddxs_extended[0]))\n",
    "        for i in range(num_dxs):\n",
    "            for j in range(num_dxs):\n",
    "                if inverted_ddxs[n][i] < ddx_max_length:\n",
    "                    diff_tensor[n,i,inverted_ddxs[n][i],inverted_ddxs[n][j]] +=1\n",
    "        for i in range(num_dxs):\n",
    "            for j in range(num_dxs):\n",
    "                if inverted_ddxs[n][j] < ddx_max_length:\n",
    "                    diff_tensor[n,i,inverted_ddxs[n][j],inverted_ddxs[n][i]] -=1\n",
    "    return diff_tensor"
   ]
  },
  {
   "cell_type": "code",
   "execution_count": 104,
   "metadata": {
    "collapsed": true
   },
   "outputs": [],
   "source": [
    "def _create_reordered_diff_tensor_a(ddx_max_length, ddxs_extended):\n",
    "    minibatch_size = len(ddxs_extended)\n",
    "    num_dxs = len(ddxs_extended[0])\n",
    "    assert ddx_max_length <= num_dxs, \"ddx_max_length: %d, num_dxs: %d\"%(ddx_max_length,num_dxs)\n",
    "    diff_tensor = np.zeros([minibatch_size,num_dxs,ddx_max_length,num_dxs])\n",
    "    for n in range(minibatch_size):\n",
    "        assert len(ddxs_extended[n]) == num_dxs,\\\n",
    "            \"for each n, need len(ddxs_extended[n]) == len(ddxs_extended[0]), but \\n\"+\\\n",
    "            \"len(ddxs_extended[%d])==%d! and len(ddxs_extended[0])==%d\"\\\n",
    "            %(n,len(ddxs_extended[n]),len(ddxs_extended[0]))\n",
    "        for i in range(ddx_max_length):\n",
    "            for j in range(num_dxs):\n",
    "                diff_tensor[n,ddxs_extended[n][i],i,j] +=1\n",
    "        for i in range(num_dxs):\n",
    "            for j in range(ddx_max_length):\n",
    "                diff_tensor[n,ddxs_extended[n][i],j,i] -=1\n",
    "    return diff_tensor"
   ]
  },
  {
   "cell_type": "code",
   "execution_count": 105,
   "metadata": {
    "collapsed": true
   },
   "outputs": [],
   "source": [
    "def _invert_permutation(perm):\n",
    "    graph_of_perm = enumerate(perm)\n",
    "    sorted_by_range = sorted(graph_of_perm,key = lambda pair:pair[1])\n",
    "    inverse_permutation = map(lambda pair:pair[0],sorted_by_range)\n",
    "    return inverse_permutation"
   ]
  },
  {
   "cell_type": "code",
   "execution_count": 106,
   "metadata": {
    "collapsed": false
   },
   "outputs": [
    {
     "data": {
      "text/plain": [
       "[4, 2, 0, 1, 3]"
      ]
     },
     "execution_count": 106,
     "metadata": {},
     "output_type": "execute_result"
    }
   ],
   "source": [
    "_invert_permutation([2,3,1,4,0])"
   ]
  },
  {
   "cell_type": "code",
   "execution_count": 107,
   "metadata": {
    "collapsed": false
   },
   "outputs": [],
   "source": [
    "def _test_reordered_diff_tensor_a(test_count=5):\n",
    "    from random import randint, shuffle\n",
    "    for _ in range(test_count):\n",
    "        minibatch_size = randint(1, 10)\n",
    "        num_dxs = randint(0, 10)\n",
    "        ddx_max_length = randint(0, num_dxs)\n",
    "        ddxs_extended = [range(num_dxs) for _ in range(minibatch_size)]\n",
    "        map(shuffle,ddxs_extended)\n",
    "        a = _create_reordered_diff_tensor_a(ddx_max_length, ddxs_extended)\n",
    "        assert a.shape == (minibatch_size,num_dxs,ddx_max_length,num_dxs),\\\n",
    "            \"a.shape: (%d,%d,%d,%d)\"%a.shape+\\\n",
    "            \"\\n(minibatch_size,num_dxs,ddx_max_length,num_dxs): (%d,%d,%d,%d)\"\\\n",
    "            %(minibatch_size,num_dxs,ddx_max_length,num_dxs)\n",
    "        a_0 = _create_diff_tensor_a(minibatch_size, num_dxs)\n",
    "        for n in range(minibatch_size):\n",
    "            for i in range(ddx_max_length):\n",
    "                for j in range(num_dxs):\n",
    "                    for k in range(num_dxs):\n",
    "                        assert a_0[n, k, ddxs_extended[n][i], ddxs_extended[n][j]] == a[n, k, i, j], \\\n",
    "                            \"diff_mat[n,k,%d,%d]: %r\\n intended diff mat: %r\" % (\n",
    "                            i, j, a[n, k, :, :], a_0[n, k, :, :])"
   ]
  },
  {
   "cell_type": "code",
   "execution_count": 103,
   "metadata": {
    "collapsed": false
   },
   "outputs": [],
   "source": [
    "_test_reordered_diff_tensor_a()"
   ]
  },
  {
   "cell_type": "code",
   "execution_count": null,
   "metadata": {
    "collapsed": true
   },
   "outputs": [],
   "source": []
  }
 ],
 "metadata": {
  "kernelspec": {
   "display_name": "Python [default]",
   "language": "python",
   "name": "python2"
  },
  "language_info": {
   "codemirror_mode": {
    "name": "ipython",
    "version": 2
   },
   "file_extension": ".py",
   "mimetype": "text/x-python",
   "name": "python",
   "nbconvert_exporter": "python",
   "pygments_lexer": "ipython2",
   "version": "2.7.13"
  }
 },
 "nbformat": 4,
 "nbformat_minor": 2
}
