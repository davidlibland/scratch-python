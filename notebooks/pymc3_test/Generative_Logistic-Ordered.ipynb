{
 "cells": [
  {
   "cell_type": "code",
   "execution_count": 1,
   "metadata": {
    "collapsed": true,
    "deletable": true,
    "editable": true
   },
   "outputs": [],
   "source": [
    "import numpy as np\n",
    "from random import shuffle\n",
    "import matplotlib.pyplot as plt\n",
    "%matplotlib inline"
   ]
  },
  {
   "cell_type": "markdown",
   "metadata": {
    "deletable": true,
    "editable": true
   },
   "source": [
    "Create some sample data:"
   ]
  },
  {
   "cell_type": "code",
   "execution_count": 2,
   "metadata": {
    "collapsed": false,
    "deletable": true,
    "editable": true
   },
   "outputs": [],
   "source": [
    "sample_size = 50\n",
    "obs_cond = np.random.choice([0,1,2],[sample_size],p=[.7,.1,.2]) # cold = 0, flu = 1, allergies = 2\n",
    "\n",
    "runny_nose_cold = np.random.choice([0,1],[sample_size],p=[.1,.9])\n",
    "headache_cold = np.random.choice([0,1],[sample_size],p=[.5,.5])\n",
    "fever_cold = np.random.choice([0,1],[sample_size],p=[.99,.01])\n",
    "\n",
    "runny_nose_flu = np.random.choice([0,1],[sample_size],p=[.5,.5])\n",
    "headache_flu = np.random.choice([0,1],[sample_size],p=[.5,.5])\n",
    "fever_flu = np.random.choice([0,1],[sample_size],p=[.5,.5])\n",
    "\n",
    "runny_nose_al = np.random.choice([0,1],[sample_size],p=[.1,.9])\n",
    "headache_al = np.random.choice([0,1],[sample_size],p=[.99,.01])\n",
    "fever_al = np.random.choice([0,1],[sample_size],p=[.99,.01])\n",
    "\n",
    "runny_nose = np.stack([runny_nose_cold,runny_nose_flu,runny_nose_al])\n",
    "headache = np.stack([headache_cold,headache_flu,headache_al])\n",
    "fever = np.stack([fever_cold,fever_flu,fever_al])"
   ]
  },
  {
   "cell_type": "code",
   "execution_count": 3,
   "metadata": {
    "collapsed": true,
    "deletable": true,
    "editable": true
   },
   "outputs": [],
   "source": [
    "obs_runny_nose = np.array([runny_nose[j,i] for i,j in enumerate(obs_cond)])\n",
    "obs_headache = np.array([headache[j,i] for i,j in enumerate(obs_cond)])\n",
    "obs_fever = np.array([fever[j,i] for i,j in enumerate(obs_cond)])"
   ]
  },
  {
   "cell_type": "code",
   "execution_count": 4,
   "metadata": {
    "collapsed": false,
    "deletable": true,
    "editable": true
   },
   "outputs": [],
   "source": [
    "ddxs = []\n",
    "for i,cond in enumerate(obs_cond):\n",
    "    rem_cond = [j for j in range(3) if j != cond]\n",
    "    shuffle(rem_cond)\n",
    "    cur_ord = [cond]+rem_cond\n",
    "    ddxs.append(cur_ord)\n",
    "\n",
    "#print(obs_cond)\n",
    "# obs_order = np.zeros([sample_size,3,3],dtype=np.int)\n",
    "# trunc_obs_order = np.zeros([sample_size,(3*(3-1))/2],dtype=np.int)\n",
    "# ddxs = []\n",
    "# for i,cond in enumerate(obs_cond):\n",
    "#     rem_cond = [j for j in range(3) if j != cond]\n",
    "#     shuffle(rem_cond)\n",
    "#     cur_ord = [cond]+rem_cond\n",
    "#     #print(cur_ord)\n",
    "#     for j,cond_j in enumerate(cur_ord):\n",
    "#         for k,cond_k in enumerate(cur_ord):\n",
    "#             if j<k:\n",
    "#                 obs_order[i,cond_j,cond_k]=1\n",
    "                \n",
    "#     trunc_obs_order[i,0]=obs_order[i,1,2]\n",
    "#     trunc_obs_order[i,1]=obs_order[i,2,0]\n",
    "#     trunc_obs_order[i,2]=obs_order[i,0,1]\n",
    "    \n",
    "#     ddxs.append(cur_ord)\n",
    "        \n",
    "\n",
    "    #print(trunc_obs_order[i,:])\n"
   ]
  },
  {
   "cell_type": "markdown",
   "metadata": {
    "deletable": true,
    "editable": true
   },
   "source": [
    "Hide some of the sample data:"
   ]
  },
  {
   "cell_type": "code",
   "execution_count": 5,
   "metadata": {
    "collapsed": false,
    "deletable": true,
    "editable": true
   },
   "outputs": [],
   "source": [
    "msk_cond = np.ma.masked_where(np.random.rand(sample_size) > .9, obs_cond)\n",
    "#msk_ord = np.ma.masked_where(np.random.rand(sample_size,3) > .5, trunc_obs_order)\n",
    "msk_runny_nose = np.ma.masked_where(np.random.rand(sample_size) > .9, obs_runny_nose)\n",
    "msk_headache = np.ma.masked_where(np.random.rand(sample_size) > .9, obs_headache)\n",
    "msk_fever = np.ma.masked_where(np.random.rand(sample_size) > .9, obs_fever)"
   ]
  },
  {
   "cell_type": "code",
   "execution_count": 6,
   "metadata": {
    "collapsed": false,
    "deletable": true,
    "editable": true
   },
   "outputs": [],
   "source": [
    "#msk_ord.shape"
   ]
  },
  {
   "cell_type": "markdown",
   "metadata": {
    "deletable": true,
    "editable": true
   },
   "source": [
    "Code the probabilisitic model in pymc3:"
   ]
  },
  {
   "cell_type": "code",
   "execution_count": 7,
   "metadata": {
    "collapsed": false,
    "deletable": true,
    "editable": true
   },
   "outputs": [],
   "source": [
    "msk_findings = np.ma.vstack([msk_runny_nose,msk_headache,msk_fever]).T\n",
    "obs_findings = np.vstack([obs_runny_nose,obs_headache,obs_fever]).T"
   ]
  },
  {
   "cell_type": "code",
   "execution_count": 8,
   "metadata": {
    "collapsed": false,
    "deletable": true,
    "editable": true
   },
   "outputs": [],
   "source": [
    "ddxs_ar = np.array(ddxs)\n",
    "\n",
    "diff_tensor = np.tile(np.eye(3)[:, :, np.newaxis] - np.eye(3)[:, np.newaxis, :], [sample_size, 1, 1, 1])\n",
    "\n",
    "reordered_diff_tensor = diff_tensor[np.arange(sample_size)[:, np.newaxis, np.newaxis, np.newaxis],\n",
    "                                            np.arange(3)[np.newaxis, :, np.newaxis, np.newaxis],\n",
    "                                            ddxs_ar[:, np.newaxis, :, np.newaxis],\n",
    "                                            ddxs_ar[:, np.newaxis, np.newaxis, :]]\n",
    "\n",
    "indicator_array = np.ma.ones([sample_size,3,3])\n",
    "for i in range(0,3):\n",
    "    for j in range(i):\n",
    "        indicator_array[:,i,j] = 0\n",
    "    indicator_array[:,i,i] = np.ma.masked"
   ]
  },
  {
   "cell_type": "code",
   "execution_count": 9,
   "metadata": {
    "collapsed": false,
    "deletable": true,
    "editable": true
   },
   "outputs": [],
   "source": [
    "from copy import copy\n",
    "msk_indicator_array = copy(indicator_array)\n",
    "for n,k in enumerate(np.random.randint(low=0,high=4,size=sample_size)):\n",
    "    for i in range(k,3):\n",
    "        msk_indicator_array[n,i,:] = np.ma.masked"
   ]
  },
  {
   "cell_type": "code",
   "execution_count": 10,
   "metadata": {
    "collapsed": false,
    "deletable": true,
    "editable": true
   },
   "outputs": [],
   "source": [
    "from pymc3 import Model, Categorical, Bernoulli, Normal, Laplace, Dirichlet, Uniform, find_MAP\n",
    "import theano.tensor as tt\n",
    "#from pymc3.math import sigmoid\n",
    "import theano\n",
    "theano.config.floatX = 'float32'"
   ]
  },
  {
   "cell_type": "code",
   "execution_count": 11,
   "metadata": {
    "collapsed": true,
    "deletable": true,
    "editable": true
   },
   "outputs": [],
   "source": [
    "def invlogit(x):\n",
    "    return 1. / (1 + tt.exp(-x))"
   ]
  },
  {
   "cell_type": "code",
   "execution_count": 12,
   "metadata": {
    "collapsed": true,
    "deletable": true,
    "editable": true
   },
   "outputs": [],
   "source": [
    "def _build_graphical_model(dx_order_indicator_array_data, diff_tensor_data, findings_data):\n",
    "    \"\"\"\n",
    "    Builds the graphical model and ties the observable variables to the data. You can pass a batch of \n",
    "    :class:`int` `size` data; with :class:`int` `num_dxs` possible diagnoses, :class:`int` `num_findings`\n",
    "    possible findings, and :class:`int` `ddx_max_length` maximum diagnoses in a given differential.\n",
    "\n",
    "    Parameters:\n",
    "        dx_order_indicator_array_data (:class:`np.array`): should be of shape \n",
    "            [`size`,`ddx_max_length`,`num_dxs`].\n",
    "        diff_tensor_data (:class:`np.array`): should be of shape \n",
    "            [`size`,`num_dxs`,`ddx_max_length`,`num_dxs`].\n",
    "        findings_data (:class:`np.array`): should be of shape \n",
    "            [`size`,`num_findings`]. \n",
    "\n",
    "    Returns:\n",
    "        4-:tuple: containing (x, dx_order, W, findings), where\n",
    "            x (:class:`Normal`): are hidden variables\n",
    "            dx_order (:class:`Bernoulli`): indicate the order of diagnoses in the differential\n",
    "            W (:class:`Normal`): is a matrix of parameters relating diagnoses to findings\n",
    "            findings (:class:`Bernoulli`): indicate the presence of findings\n",
    "\n",
    "    \"\"\"\n",
    "    size = dx_order_indicator_array_data.shape[0]\n",
    "    x = Normal(\"x\", mu=0, sd=10, shape=[size, 3])\n",
    "    dx_order_p = invlogit(tt.batched_tensordot(x, diff_tensor_data,axes=[1,1]))\n",
    "    dx_order = Bernoulli(\"dx_order\", p=dx_order_p, observed=dx_order_indicator_array_data)\n",
    "\n",
    "    W = Normal('W', mu=0., sd=10., shape=[3, 3])\n",
    "\n",
    "    findings = Bernoulli(\"findings\", invlogit(tt.tensordot(x, W, axes=[1,0])), observed=findings_data)\n",
    "\n",
    "    return (x, dx_order, W, findings)"
   ]
  },
  {
   "cell_type": "code",
   "execution_count": 13,
   "metadata": {
    "collapsed": false,
    "deletable": true,
    "editable": true
   },
   "outputs": [
    {
     "name": "stderr",
     "output_type": "stream",
     "text": [
      "WARNING (theano.gof.compilelock): Overriding existing lock by dead process '8983' (I am process '9190')\n"
     ]
    }
   ],
   "source": [
    "with Model() as med_model:\n",
    "    x, dx_order, W, findings = _build_graphical_model(msk_indicator_array,\n",
    "                                                      reordered_diff_tensor,\n",
    "                                                      msk_findings)\n",
    "#     x = Normal('x',mu=0,sd=10,shape=[sample_size,3])\n",
    "#     dx_order = Bernoulli('dx_order',p=invlogit(tt.dot(x,diff_ar)),observed=msk_ord)\n",
    "    \n",
    "    \n",
    "#     W = Normal('W',mu=0.,sd=10.,shape=[3,3])\n",
    "    \n",
    "#     runny_nose = Bernoulli('runny_nose',invlogit(tt.dot(x,W[:,0])), observed=msk_runny_nose)\n",
    "#     headache = Bernoulli('headache',invlogit(tt.dot(x,W[:,1])),observed=msk_headache)\n",
    "#     fever = Bernoulli('fever',invlogit(tt.dot(x,W[:,2])),observed=msk_fever)\n",
    "    \n",
    "    "
   ]
  },
  {
   "cell_type": "markdown",
   "metadata": {
    "deletable": true,
    "editable": true
   },
   "source": [
    "Fit the model (using a MAP estimate - really this is EM, but ok...):"
   ]
  },
  {
   "cell_type": "code",
   "execution_count": 14,
   "metadata": {
    "collapsed": false,
    "deletable": true,
    "editable": true
   },
   "outputs": [
    {
     "name": "stdout",
     "output_type": "stream",
     "text": [
      "Warning: Desired error not necessarily achieved due to precision loss.\n",
      "         Current function value: 730.304458\n",
      "         Iterations: 34\n",
      "         Function evaluations: 122\n",
      "         Gradient evaluations: 112\n"
     ]
    },
    {
     "ename": "ValueError",
     "evalue": "Optimization error: max, logp or dlogp at max have non-finite values. Some values may be outside of distribution support. max: {'x': array([[ 1.53048122, -8.59916592,  7.06272936],\n       [ 7.82212019, -2.12785316, -5.67922688],\n       [ 5.87954187, -3.02247024, -2.97464681],\n       [ 6.77617025, -6.66719913,  0.04102489],\n       [ 6.77617025, -6.66719913,  0.04102489],\n       [ 6.77617025, -6.66719913,  0.04102489],\n       [-0.41313726, -1.07215679,  0.24827646],\n       [ 0.39875245,  0.16497053,  0.42914799],\n       [ 5.87954187, -3.02247024, -2.97464681],\n       [-3.78090692, -2.97595668,  4.39409399],\n       [ 7.82212019, -2.12785316, -5.67922688],\n       [-0.41313726, -1.07215679,  0.24827646],\n       [-3.78048158, -7.04222298,  9.65276527],\n       [-1.85337031,  2.59345913, -1.96480584],\n       [ 3.11474895, -0.49887502, -0.78341556],\n       [ 2.25297284,  1.64694715, -2.26725388],\n       [ 0.65088832,  0.35075122,  0.03039607],\n       [ 5.87954187, -3.02247024, -2.97464681],\n       [-4.27728796, -3.77311182,  7.88271093],\n       [ 0.39875245,  0.16497053,  0.42914799],\n       [-0.03843694, -0.28859112, -0.68311083],\n       [ 5.87954187, -3.02247024, -2.97464681],\n       [ 7.82212019, -2.12785316, -5.67922688],\n       [-4.27728796, -3.77311182,  7.88271093],\n       [-2.8498106 ,  6.62837362, -2.87352037],\n       [ 1.9705776 ,  1.07861543, -1.50921237],\n       [ 7.56644249, -0.62464482, -6.93630075],\n       [ 0.39875245,  0.16497053,  0.42914799],\n       [ 7.56644249, -0.62464482, -6.93630075],\n       [ 0.25534698,  0.12502252,  0.59280962],\n       [-0.03843694, -0.28859112, -0.68311083],\n       [ 5.87954187, -3.02247024, -2.97464681],\n       [ 0.39875245,  0.16497053,  0.42914799],\n       [ 7.56644249, -0.62464482, -6.93630075],\n       [ 6.77617025, -6.66719913,  0.04102489],\n       [ 7.82212019, -2.12785316, -5.67922688],\n       [ 3.11474895, -0.49887502, -0.78341556],\n       [ 5.87954187, -3.02247024, -2.97464681],\n       [-0.41313726, -1.07215679,  0.24827646],\n       [ 1.90335381, -0.67221081, -1.88308764],\n       [-0.03843694, -0.28859112, -0.68311083],\n       [-0.03843694, -0.28859112, -0.68311083],\n       [-3.78090692, -2.97595668,  4.39409399],\n       [ 6.77617025, -6.66719913,  0.04102489],\n       [-0.03843694, -0.28859112, -0.68311083],\n       [-3.78090692, -2.97595668,  4.39409399],\n       [ 7.82212019, -2.12785316, -5.67922688],\n       [ 5.87954187, -3.02247024, -2.97464681],\n       [ 7.82212019, -2.12785316, -5.67922688],\n       [ 5.87954187, -3.02247024, -2.97464681]], dtype=float32), 'dx_order_missing': array([0, 0, 0, 0, 0, 0, 0, 0, 0, 0, 0, 0, 0, 0, 0, 0, 0, 0, 0, 0, 0, 0, 0,\n       0, 0, 0, 0, 0, 0, 0, 0, 0, 0, 0, 0, 0, 0, 0, 0, 0, 0, 0, 0, 0, 0, 0,\n       0, 0, 0, 0, 0, 0, 0, 0, 0, 0, 0, 0, 0, 0, 0, 0, 0, 0, 0, 0, 0, 0, 0,\n       0, 0, 0, 0, 0, 0, 0, 0, 0, 0, 0, 0, 0, 0, 0, 0, 0, 0, 0, 0, 0, 0, 0,\n       0, 0, 0, 0, 0, 0, 0, 0, 0, 0, 0, 0, 0, 0, 0, 0, 0, 0, 0, 0, 0, 0, 0,\n       0, 0, 0, 0, 0, 0, 0, 0, 0, 0, 0, 0, 0, 0, 0, 0, 0, 0, 0, 0, 0, 0, 0,\n       0, 0, 0, 0, 0, 0, 0, 0, 0, 0, 0, 0, 0, 0, 0, 0, 0, 0, 0, 0, 0, 0, 0,\n       0, 0, 0, 0, 0, 0, 0, 0, 0, 0, 0, 0, 0, 0, 0, 0, 0, 0, 0, 0, 0, 0, 0,\n       0, 0, 0, 0, 0, 0, 0, 0, 0, 0, 0, 0, 0, 0, 0, 0, 0, 0, 0, 0, 0, 0, 0,\n       0, 0, 0, 0, 0, 0, 0, 0, 0, 0, 0, 0, 0, 0, 0, 0, 0, 0, 0, 0, 0, 0, 0,\n       0, 0, 0, 0, 0, 0, 0, 0, 0, 0, 0, 0, 0, 0, 0, 0, 0, 0, 0, 0, 0, 0, 0,\n       0, 0, 0, 0, 0, 0, 0, 0, 0, 0, 0, 0, 0, 0, 0, 0, 0, 0, 0, 0, 0, 0, 0,\n       0, 0, 0, 0, 0, 0, 0, 0, 0, 0, 0, 0, 0, 0, 0, 0, 0, 0, 0, 0, 0, 0, 0,\n       0, 0, 0, 0, 0, 0, 0, 0, 0, 0, 0, 0, 0, 0, 0, 0, 0]), 'W': array([[ -1.64382541,  -3.64445305, -11.9736948 ],\n       [ -2.44264197,  13.44161797,  13.9010458 ],\n       [ -2.56581664,  -9.85146523,  -1.32095528]], dtype=float32), 'findings_missing': array([0, 0, 0, 0, 0, 0, 0, 0, 0, 0, 0, 0, 0, 0, 0, 0, 0, 0])} logp: array(-730.304457618121) dlogp: array([        nan,         nan,         nan,         nan,         nan,\n               nan,         nan,         nan,         nan,         nan,\n               nan,         nan,         nan,         nan,         nan,\n               nan,         nan,         nan, -0.10174997,  0.74729097,\n       -1.06768513,  0.71793592, -0.53917181,  0.47361004,         nan,\n               nan,         nan,  0.81211948, -1.4007318 , -0.12420107,\n               nan,         nan,         nan, -0.10174997,  0.74729097,\n       -1.06768513,         nan,         nan,         nan, -0.30301723,\n       -0.34271729, -0.32430875,  0.27669069,  0.13092834,  0.44604996,\n        1.93630052, -1.87309182,  0.62629837, -0.08810818,  1.13282454,\n       -0.30150583,         nan,         nan,         nan,         nan,\n               nan,         nan,  0.71793592, -0.53917181,  0.47361004,\n        0.05839998, -0.52402848, -0.06191105,         nan,         nan,\n               nan,         nan,         nan,         nan,         nan,\n               nan,         nan,  0.04242726, -0.02744102,  0.0809239 ,\n        0.83330697, -1.18032491,  1.12265921,         nan,         nan,\n               nan,  0.71793592, -0.53917181,  0.47361004,         nan,\n               nan,         nan, -0.41759706,  0.93191588,  0.04676917,\n        0.05839998, -0.52402848, -0.06191105,         nan,         nan,\n               nan,  0.71793592, -0.53917181,  0.47361004,         nan,\n               nan,         nan,         nan,         nan,         nan,\n               nan,         nan,         nan,  0.27669069,  0.13092834,\n        0.44604996,         nan,         nan,         nan, -0.10174997,\n        0.74729097, -1.06768513, -0.14619614,  0.18891448, -0.26663321,\n        0.05839998, -0.52402848, -0.06191105,  0.05839998, -0.52402848,\n       -0.06191105,  0.81211948, -1.4007318 , -0.12420107,         nan,\n               nan,         nan,  0.05839998, -0.52402848, -0.06191105,\n        0.81211948, -1.4007318 , -0.12420107,         nan,         nan,\n               nan,         nan,         nan,         nan,         nan,\n               nan,         nan,         nan,         nan,         nan,\n       -0.90189821,         nan,         nan, -3.52708197,         nan,\n               nan,  1.70310712,         nan,         nan], dtype=float32)Check that 1) you don't have hierarchical parameters, these will lead to points with infinite density. 2) your distribution logp's are properly specified. Specific issues: \n",
     "output_type": "error",
     "traceback": [
      "\u001b[0;31m---------------------------------------------------------------------------\u001b[0m",
      "\u001b[0;31mValueError\u001b[0m                                Traceback (most recent call last)",
      "\u001b[0;32m<ipython-input-14-f2b2f25e51d1>\u001b[0m in \u001b[0;36m<module>\u001b[0;34m()\u001b[0m\n\u001b[0;32m----> 1\u001b[0;31m \u001b[0mmap_estimate\u001b[0m \u001b[0;34m=\u001b[0m \u001b[0mfind_MAP\u001b[0m\u001b[0;34m(\u001b[0m\u001b[0mmodel\u001b[0m\u001b[0;34m=\u001b[0m\u001b[0mmed_model\u001b[0m\u001b[0;34m)\u001b[0m\u001b[0;34m\u001b[0m\u001b[0m\n\u001b[0m",
      "\u001b[0;32m/Users/libland/miniconda2/lib/python2.7/site-packages/pymc3/tuning/starting.pyc\u001b[0m in \u001b[0;36mfind_MAP\u001b[0;34m(start, vars, fmin, return_raw, model, live_disp, callback, *args, **kwargs)\u001b[0m\n\u001b[1;32m    166\u001b[0m                          \u001b[0;34m\"density. 2) your distribution logp's are \"\u001b[0m \u001b[0;34m+\u001b[0m\u001b[0;34m\u001b[0m\u001b[0m\n\u001b[1;32m    167\u001b[0m                          \u001b[0;34m\"properly specified. Specific issues: \\n\"\u001b[0m \u001b[0;34m+\u001b[0m\u001b[0;34m\u001b[0m\u001b[0m\n\u001b[0;32m--> 168\u001b[0;31m                          specific_errors)\n\u001b[0m\u001b[1;32m    169\u001b[0m     \u001b[0mmx\u001b[0m \u001b[0;34m=\u001b[0m \u001b[0;34m{\u001b[0m\u001b[0mv\u001b[0m\u001b[0;34m.\u001b[0m\u001b[0mname\u001b[0m\u001b[0;34m:\u001b[0m \u001b[0mmx\u001b[0m\u001b[0;34m[\u001b[0m\u001b[0mv\u001b[0m\u001b[0;34m.\u001b[0m\u001b[0mname\u001b[0m\u001b[0;34m]\u001b[0m\u001b[0;34m.\u001b[0m\u001b[0mastype\u001b[0m\u001b[0;34m(\u001b[0m\u001b[0mv\u001b[0m\u001b[0;34m.\u001b[0m\u001b[0mdtype\u001b[0m\u001b[0;34m)\u001b[0m \u001b[0;32mfor\u001b[0m \u001b[0mv\u001b[0m \u001b[0;32min\u001b[0m \u001b[0mmodel\u001b[0m\u001b[0;34m.\u001b[0m\u001b[0mvars\u001b[0m\u001b[0;34m}\u001b[0m\u001b[0;34m\u001b[0m\u001b[0m\n\u001b[1;32m    170\u001b[0m \u001b[0;34m\u001b[0m\u001b[0m\n",
      "\u001b[0;31mValueError\u001b[0m: Optimization error: max, logp or dlogp at max have non-finite values. Some values may be outside of distribution support. max: {'x': array([[ 1.53048122, -8.59916592,  7.06272936],\n       [ 7.82212019, -2.12785316, -5.67922688],\n       [ 5.87954187, -3.02247024, -2.97464681],\n       [ 6.77617025, -6.66719913,  0.04102489],\n       [ 6.77617025, -6.66719913,  0.04102489],\n       [ 6.77617025, -6.66719913,  0.04102489],\n       [-0.41313726, -1.07215679,  0.24827646],\n       [ 0.39875245,  0.16497053,  0.42914799],\n       [ 5.87954187, -3.02247024, -2.97464681],\n       [-3.78090692, -2.97595668,  4.39409399],\n       [ 7.82212019, -2.12785316, -5.67922688],\n       [-0.41313726, -1.07215679,  0.24827646],\n       [-3.78048158, -7.04222298,  9.65276527],\n       [-1.85337031,  2.59345913, -1.96480584],\n       [ 3.11474895, -0.49887502, -0.78341556],\n       [ 2.25297284,  1.64694715, -2.26725388],\n       [ 0.65088832,  0.35075122,  0.03039607],\n       [ 5.87954187, -3.02247024, -2.97464681],\n       [-4.27728796, -3.77311182,  7.88271093],\n       [ 0.39875245,  0.16497053,  0.42914799],\n       [-0.03843694, -0.28859112, -0.68311083],\n       [ 5.87954187, -3.02247024, -2.97464681],\n       [ 7.82212019, -2.12785316, -5.67922688],\n       [-4.27728796, -3.77311182,  7.88271093],\n       [-2.8498106 ,  6.62837362, -2.87352037],\n       [ 1.9705776 ,  1.07861543, -1.50921237],\n       [ 7.56644249, -0.62464482, -6.93630075],\n       [ 0.39875245,  0.16497053,  0.42914799],\n       [ 7.56644249, -0.62464482, -6.93630075],\n       [ 0.25534698,  0.12502252,  0.59280962],\n       [-0.03843694, -0.28859112, -0.68311083],\n       [ 5.87954187, -3.02247024, -2.97464681],\n       [ 0.39875245,  0.16497053,  0.42914799],\n       [ 7.56644249, -0.62464482, -6.93630075],\n       [ 6.77617025, -6.66719913,  0.04102489],\n       [ 7.82212019, -2.12785316, -5.67922688],\n       [ 3.11474895, -0.49887502, -0.78341556],\n       [ 5.87954187, -3.02247024, -2.97464681],\n       [-0.41313726, -1.07215679,  0.24827646],\n       [ 1.90335381, -0.67221081, -1.88308764],\n       [-0.03843694, -0.28859112, -0.68311083],\n       [-0.03843694, -0.28859112, -0.68311083],\n       [-3.78090692, -2.97595668,  4.39409399],\n       [ 6.77617025, -6.66719913,  0.04102489],\n       [-0.03843694, -0.28859112, -0.68311083],\n       [-3.78090692, -2.97595668,  4.39409399],\n       [ 7.82212019, -2.12785316, -5.67922688],\n       [ 5.87954187, -3.02247024, -2.97464681],\n       [ 7.82212019, -2.12785316, -5.67922688],\n       [ 5.87954187, -3.02247024, -2.97464681]], dtype=float32), 'dx_order_missing': array([0, 0, 0, 0, 0, 0, 0, 0, 0, 0, 0, 0, 0, 0, 0, 0, 0, 0, 0, 0, 0, 0, 0,\n       0, 0, 0, 0, 0, 0, 0, 0, 0, 0, 0, 0, 0, 0, 0, 0, 0, 0, 0, 0, 0, 0, 0,\n       0, 0, 0, 0, 0, 0, 0, 0, 0, 0, 0, 0, 0, 0, 0, 0, 0, 0, 0, 0, 0, 0, 0,\n       0, 0, 0, 0, 0, 0, 0, 0, 0, 0, 0, 0, 0, 0, 0, 0, 0, 0, 0, 0, 0, 0, 0,\n       0, 0, 0, 0, 0, 0, 0, 0, 0, 0, 0, 0, 0, 0, 0, 0, 0, 0, 0, 0, 0, 0, 0,\n       0, 0, 0, 0, 0, 0, 0, 0, 0, 0, 0, 0, 0, 0, 0, 0, 0, 0, 0, 0, 0, 0, 0,\n       0, 0, 0, 0, 0, 0, 0, 0, 0, 0, 0, 0, 0, 0, 0, 0, 0, 0, 0, 0, 0, 0, 0,\n       0, 0, 0, 0, 0, 0, 0, 0, 0, 0, 0, 0, 0, 0, 0, 0, 0, 0, 0, 0, 0, 0, 0,\n       0, 0, 0, 0, 0, 0, 0, 0, 0, 0, 0, 0, 0, 0, 0, 0, 0, 0, 0, 0, 0, 0, 0,\n       0, 0, 0, 0, 0, 0, 0, 0, 0, 0, 0, 0, 0, 0, 0, 0, 0, 0, 0, 0, 0, 0, 0,\n       0, 0, 0, 0, 0, 0, 0, 0, 0, 0, 0, 0, 0, 0, 0, 0, 0, 0, 0, 0, 0, 0, 0,\n       0, 0, 0, 0, 0, 0, 0, 0, 0, 0, 0, 0, 0, 0, 0, 0, 0, 0, 0, 0, 0, 0, 0,\n       0, 0, 0, 0, 0, 0, 0, 0, 0, 0, 0, 0, 0, 0, 0, 0, 0, 0, 0, 0, 0, 0, 0,\n       0, 0, 0, 0, 0, 0, 0, 0, 0, 0, 0, 0, 0, 0, 0, 0, 0]), 'W': array([[ -1.64382541,  -3.64445305, -11.9736948 ],\n       [ -2.44264197,  13.44161797,  13.9010458 ],\n       [ -2.56581664,  -9.85146523,  -1.32095528]], dtype=float32), 'findings_missing': array([0, 0, 0, 0, 0, 0, 0, 0, 0, 0, 0, 0, 0, 0, 0, 0, 0, 0])} logp: array(-730.304457618121) dlogp: array([        nan,         nan,         nan,         nan,         nan,\n               nan,         nan,         nan,         nan,         nan,\n               nan,         nan,         nan,         nan,         nan,\n               nan,         nan,         nan, -0.10174997,  0.74729097,\n       -1.06768513,  0.71793592, -0.53917181,  0.47361004,         nan,\n               nan,         nan,  0.81211948, -1.4007318 , -0.12420107,\n               nan,         nan,         nan, -0.10174997,  0.74729097,\n       -1.06768513,         nan,         nan,         nan, -0.30301723,\n       -0.34271729, -0.32430875,  0.27669069,  0.13092834,  0.44604996,\n        1.93630052, -1.87309182,  0.62629837, -0.08810818,  1.13282454,\n       -0.30150583,         nan,         nan,         nan,         nan,\n               nan,         nan,  0.71793592, -0.53917181,  0.47361004,\n        0.05839998, -0.52402848, -0.06191105,         nan,         nan,\n               nan,         nan,         nan,         nan,         nan,\n               nan,         nan,  0.04242726, -0.02744102,  0.0809239 ,\n        0.83330697, -1.18032491,  1.12265921,         nan,         nan,\n               nan,  0.71793592, -0.53917181,  0.47361004,         nan,\n               nan,         nan, -0.41759706,  0.93191588,  0.04676917,\n        0.05839998, -0.52402848, -0.06191105,         nan,         nan,\n               nan,  0.71793592, -0.53917181,  0.47361004,         nan,\n               nan,         nan,         nan,         nan,         nan,\n               nan,         nan,         nan,  0.27669069,  0.13092834,\n        0.44604996,         nan,         nan,         nan, -0.10174997,\n        0.74729097, -1.06768513, -0.14619614,  0.18891448, -0.26663321,\n        0.05839998, -0.52402848, -0.06191105,  0.05839998, -0.52402848,\n       -0.06191105,  0.81211948, -1.4007318 , -0.12420107,         nan,\n               nan,         nan,  0.05839998, -0.52402848, -0.06191105,\n        0.81211948, -1.4007318 , -0.12420107,         nan,         nan,\n               nan,         nan,         nan,         nan,         nan,\n               nan,         nan,         nan,         nan,         nan,\n       -0.90189821,         nan,         nan, -3.52708197,         nan,\n               nan,  1.70310712,         nan,         nan], dtype=float32)Check that 1) you don't have hierarchical parameters, these will lead to points with infinite density. 2) your distribution logp's are properly specified. Specific issues: \n"
     ]
    }
   ],
   "source": [
    "map_estimate = find_MAP(model=med_model)"
   ]
  },
  {
   "cell_type": "markdown",
   "metadata": {
    "deletable": true,
    "editable": true
   },
   "source": [
    "Compare the estimate to the generating parameters..."
   ]
  },
  {
   "cell_type": "code",
   "execution_count": null,
   "metadata": {
    "collapsed": false,
    "deletable": true,
    "editable": true
   },
   "outputs": [],
   "source": [
    "plt.hist(1./(1+np.exp(-map_estimate['x'].dot(map_estimate['W'])))\n",
    "         -np.vstack([obs_runny_nose,obs_headache,obs_fever]).T)"
   ]
  },
  {
   "cell_type": "code",
   "execution_count": null,
   "metadata": {
    "collapsed": false,
    "deletable": true,
    "editable": true
   },
   "outputs": [],
   "source": [
    "comparison = 1./(1+np.exp(-np.einsum('ij,ijkl->ikl',map_estimate['x'],reordered_diff_tensor)))-indicator_array\n",
    "plt.hist(comparison.reshape([-1]))\n",
    "plt.show()"
   ]
  },
  {
   "cell_type": "code",
   "execution_count": null,
   "metadata": {
    "collapsed": false,
    "deletable": true,
    "editable": true
   },
   "outputs": [],
   "source": [
    "comparison"
   ]
  },
  {
   "cell_type": "code",
   "execution_count": null,
   "metadata": {
    "collapsed": true,
    "deletable": true,
    "editable": true
   },
   "outputs": [],
   "source": []
  }
 ],
 "metadata": {
  "kernelspec": {
   "display_name": "Python [default]",
   "language": "python",
   "name": "python2"
  },
  "language_info": {
   "codemirror_mode": {
    "name": "ipython",
    "version": 2
   },
   "file_extension": ".py",
   "mimetype": "text/x-python",
   "name": "python",
   "nbconvert_exporter": "python",
   "pygments_lexer": "ipython2",
   "version": "2.7.13"
  }
 },
 "nbformat": 4,
 "nbformat_minor": 2
}
