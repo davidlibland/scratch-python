{
 "cells": [
  {
   "cell_type": "code",
   "execution_count": 1,
   "metadata": {
    "collapsed": true,
    "deletable": true,
    "editable": true
   },
   "outputs": [],
   "source": [
    "import numpy as np\n",
    "from random import shuffle\n",
    "import matplotlib.pyplot as plt\n",
    "%matplotlib inline"
   ]
  },
  {
   "cell_type": "markdown",
   "metadata": {
    "deletable": true,
    "editable": true
   },
   "source": [
    "Create some sample data:"
   ]
  },
  {
   "cell_type": "code",
   "execution_count": 2,
   "metadata": {
    "collapsed": false,
    "deletable": true,
    "editable": true
   },
   "outputs": [],
   "source": [
    "num_dxs = 5\n",
    "num_findings = 10\n",
    "avg_ddx_length = 3\n",
    "ddx_max_length = 4 # this is the max length our graphical model can handle.\n",
    "minibatch_size = 10\n",
    "sample_size = minibatch_size*10"
   ]
  },
  {
   "cell_type": "code",
   "execution_count": 3,
   "metadata": {
    "collapsed": true,
    "deletable": true,
    "editable": true
   },
   "outputs": [],
   "source": [
    "_W = np.random.randn(num_dxs, num_findings)"
   ]
  },
  {
   "cell_type": "code",
   "execution_count": 4,
   "metadata": {
    "collapsed": false,
    "deletable": true,
    "editable": true
   },
   "outputs": [],
   "source": [
    "def generate_random_case(num_dxs, num_findings, avg_ddx_length, w):\n",
    "    \"\"\"\n",
    "    Generates a random case.\n",
    "\n",
    "    Parameters:\n",
    "        num_dxs (:class:`int`): the number of possible diagnoses\n",
    "        num_findings (:class:`int`): the number of possible findings\n",
    "        avg_ddx_length (:class:`int`): the average number of diagnoses in a differential\n",
    "        W (:class:`np.array`): a weight matrix which correlates findings and diagnoses\n",
    "\n",
    "    Returns:\n",
    "        2-:class:`tuple` whose first component is a list of diagnoses, and whose second component is a list \n",
    "        of findings present.\n",
    "    \"\"\"\n",
    "\n",
    "    def invlogit(x):\n",
    "        return 1. / (1 + np.exp(-x))\n",
    "\n",
    "    hidden_x = np.random.laplace(loc=0., scale=1., size=num_dxs)\n",
    "\n",
    "    findings_hot = np.random.binomial(n=1, p=invlogit(np.dot(hidden_x,w)))\n",
    "    findings = [i for i in range(num_findings) if findings_hot[i] == 1]\n",
    "\n",
    "    ddx_length = np.random.poisson(avg_ddx_length)\n",
    "\n",
    "    from heapq import nlargest\n",
    "    ddx = nlargest(ddx_length, range(num_dxs), key=lambda i: hidden_x[i])\n",
    "\n",
    "    return (ddx, findings)"
   ]
  },
  {
   "cell_type": "markdown",
   "metadata": {
    "deletable": true,
    "editable": true
   },
   "source": [
    "Ok, now we write code to process the data (so that we can feed it to our graphical model)"
   ]
  },
  {
   "cell_type": "code",
   "execution_count": 5,
   "metadata": {
    "collapsed": false,
    "deletable": true,
    "editable": true
   },
   "outputs": [],
   "source": [
    "def _create_diff_tensor_a(minibatch_size, num_dxs):\n",
    "    return np.tile(np.eye(num_dxs)[:, :, np.newaxis] - np.eye(num_dxs)[:, np.newaxis, :], [minibatch_size, 1, 1, 1])\n",
    "\n",
    "def _create_reordered_diff_tensor_a(ddx_max_length, ddxs_extended):\n",
    "    minibatch_size = len(ddxs_extended)\n",
    "    num_dxs = len(ddxs_extended[0])\n",
    "    assert ddx_max_length <= num_dxs, \"ddx_max_length: %d, num_dxs: %d\"%(ddx_max_length,num_dxs)\n",
    "    diff_tensor = np.zeros([minibatch_size,num_dxs,ddx_max_length,num_dxs])\n",
    "    for n in range(minibatch_size):\n",
    "        assert len(ddxs_extended[n]) == num_dxs,\\\n",
    "            \"for each n, need len(ddxs_extended[n]) == len(ddxs_extended[0]), but \\n\"+\\\n",
    "            \"len(ddxs_extended[%d])==%d! and len(ddxs_extended[0])==%d\"\\\n",
    "            %(n,len(ddxs_extended[n]),len(ddxs_extended[0]))\n",
    "        for i in range(ddx_max_length):\n",
    "            for j in range(num_dxs):\n",
    "                diff_tensor[n,ddxs_extended[n][i],i,j] +=1\n",
    "        for i in range(num_dxs):\n",
    "            for j in range(ddx_max_length):\n",
    "                diff_tensor[n,ddxs_extended[n][i],j,i] -=1\n",
    "    return diff_tensor\n",
    "\n",
    "\n",
    "def _create_first_axes_reordered_diff_tensor_a(ddx_max_length, ddxs_extended):\n",
    "    minibatch_size = len(ddxs_extended)\n",
    "    num_dxs = len(ddxs_extended[0])\n",
    "    assert ddx_max_length <= num_dxs, \"ddx_max_length: %d, num_dxs: %d\"%(ddx_max_length,num_dxs)\n",
    "    diff_tensor = np.zeros([minibatch_size,num_dxs,ddx_max_length,num_dxs])\n",
    "    for n in range(minibatch_size):\n",
    "        assert len(ddxs_extended[n]) == num_dxs,\\\n",
    "            \"for each n, need len(ddxs_extended[n]) == len(ddxs_extended[0]), but \\n\"+\\\n",
    "            \"len(ddxs_extended[%d])==%d! and len(ddxs_extended[0])==%d\"\\\n",
    "            %(n,len(ddxs_extended[n]),len(ddxs_extended[0]))\n",
    "        for i in range(ddx_max_length):\n",
    "            for j in range(num_dxs):\n",
    "                diff_tensor[n,ddxs_extended[n][i],i,j] +=1\n",
    "        for i in range(num_dxs):\n",
    "            for j in range(ddx_max_length):\n",
    "                diff_tensor[n,i,j,i] -=1\n",
    "    return diff_tensor\n",
    "\n",
    "def _create_order_projection_tensor(ddx_max_length, ddxs_extended):\n",
    "    minibatch_size = len(ddxs_extended)\n",
    "    num_dxs = len(ddxs_extended[0])\n",
    "    assert ddx_max_length <= num_dxs, \"ddx_max_length: %d, num_dxs: %d\"%(ddx_max_length,num_dxs)\n",
    "    reord_proj_tensor = np.zeros([minibatch_size,num_dxs,ddx_max_length])\n",
    "    for n in range(minibatch_size):\n",
    "        assert len(ddxs_extended[n]) == num_dxs,\\\n",
    "            \"for each n, need len(ddxs_extended[n]) == len(ddxs_extended[0]), but \\n\"+\\\n",
    "            \"len(ddxs_extended[%d])==%d! and len(ddxs_extended[0])==%d\"\\\n",
    "            %(n,len(ddxs_extended[n]),len(ddxs_extended[0]))\n",
    "        for i in range(ddx_max_length):\n",
    "            reord_proj_tensor[n,ddxs_extended[n][i],i] +=1\n",
    "    return reord_proj_tensor\n",
    "\n",
    "\n",
    "def _prepare_data_batch(data, num_dxs, num_findings, ddx_max_length):\n",
    "    ddx_max_length = min(ddx_max_length,num_dxs) # ensure ddx_max_length is a lower bound.\n",
    "\n",
    "    from itertools import ifilterfalse\n",
    "    \n",
    "    ddxs = []\n",
    "    ddxs_extended = []\n",
    "    ddx_lens = []\n",
    "    findings_hot_list = []\n",
    "    for ddx, findings in data:\n",
    "        ddx_extended = ddx + list(ifilterfalse(ddx.__contains__, range(num_dxs)))\n",
    "        ddxs.append(ddx_extended)\n",
    "        ddx_lens.append(min(ddx_max_length, len(ddx)))\n",
    "\n",
    "        findings_hot = np.zeros(num_findings, dtype=np.int)\n",
    "        findings_hot[findings] = 1\n",
    "        findings_hot_list.append(findings_hot)\n",
    "\n",
    "    N = len(ddxs)\n",
    "    reordered_diff_tensor = _create_first_axes_reordered_diff_tensor_a(ddx_max_length,ddxs)\n",
    "    \n",
    "    reord_proj_tensor = _create_order_projection_tensor(ddx_max_length,ddxs)\n",
    "\n",
    "    indicator_array = np.ma.ones([N,ddx_max_length,num_dxs])\n",
    "    for n in range(N):\n",
    "        for i in range(0,ddx_max_length):\n",
    "            for j in range(i):\n",
    "                indicator_array[n,i,ddxs[n][j]] = 0\n",
    "            indicator_array[n,i,ddxs[n][i]] = np.ma.masked\n",
    "\n",
    "    for n,cur_ddx_len in enumerate(ddx_lens):\n",
    "        indicator_array[n,cur_ddx_len:,:] = np.ma.masked\n",
    "\n",
    "    return (indicator_array, reordered_diff_tensor, np.array(findings_hot_list), reord_proj_tensor)\n"
   ]
  },
  {
   "cell_type": "code",
   "execution_count": 6,
   "metadata": {
    "collapsed": false,
    "deletable": true,
    "editable": true
   },
   "outputs": [],
   "source": [
    "from pymc3 import Model, Categorical, Bernoulli, Normal, Laplace, Dirichlet, Uniform, find_MAP, ADVI\n",
    "import pymc3 as pm\n",
    "import theano.tensor as tt\n",
    "#from pymc3.math import sigmoid"
   ]
  },
  {
   "cell_type": "code",
   "execution_count": null,
   "metadata": {
    "collapsed": false,
    "deletable": true,
    "editable": true
   },
   "outputs": [],
   "source": []
  },
  {
   "cell_type": "code",
   "execution_count": 7,
   "metadata": {
    "collapsed": false,
    "deletable": true,
    "editable": true
   },
   "outputs": [],
   "source": [
    "batch = []\n",
    "for _ in range(sample_size//minibatch_size):\n",
    "    minibatch = []\n",
    "    for _ in range(minibatch_size):\n",
    "        minibatch.append(generate_random_case(num_dxs,\n",
    "                                              num_findings,\n",
    "                                              avg_ddx_length,\n",
    "                                              _W))\n",
    "    batch.append(_prepare_data_batch(minibatch,num_dxs,num_findings,ddx_max_length))\n",
    "\n",
    "minbatch_gen_indic = pm.generator(x[0] for x in batch)\n",
    "minbatch_gen_find = pm.generator(x[2] for x in batch)\n",
    "minbatch_gen_proj = pm.generator(x[3] for x in batch)\n"
   ]
  },
  {
   "cell_type": "code",
   "execution_count": 8,
   "metadata": {
    "collapsed": false,
    "deletable": true,
    "editable": true
   },
   "outputs": [],
   "source": [
    "#data = minibatch\n",
    "#preped_data = _prepare_data_batch(data,num_dxs,num_findings,ddx_max_length)\n",
    "#dx_order_indicator_array_data, diff_tensor_data, findings_data, reord_proj_tensor = preped_data"
   ]
  },
  {
   "cell_type": "markdown",
   "metadata": {
    "deletable": true,
    "editable": true
   },
   "source": [
    "Code the probabilisitic model in pymc3:"
   ]
  },
  {
   "cell_type": "code",
   "execution_count": 9,
   "metadata": {
    "collapsed": true,
    "deletable": true,
    "editable": true
   },
   "outputs": [],
   "source": [
    "def _build_graphical_model(dx_order_indicator_array_data, diff_tensor_data, findings_data):\n",
    "        \"\"\"\n",
    "        Builds the graphical model and ties the observable variables to the data. You can pass a batch of \n",
    "        :class:`int` `size` data; with :class:`int` `num_dxs` possible diagnoses, :class:`int` `num_findings`\n",
    "        possible findings, and :class:`int` `ddx_max_length` maximum diagnoses in a given differential.\n",
    "    \n",
    "        Parameters:\n",
    "            dx_order_indicator_array_data (:class:`np.array`): should be of shape \n",
    "                [`size`,`ddx_max_length`,`num_dxs`].\n",
    "            diff_tensor_data (:class:`np.array`): should be of shape \n",
    "                [`size`,`num_dxs`,`ddx_max_length`,`num_dxs`].\n",
    "            findings_data (:class:`np.array`): should be of shape \n",
    "                [`size`,`num_findings`]. \n",
    "    \n",
    "        Returns:\n",
    "            4-:tuple: containing (x, dx_order, W, findings), where\n",
    "                x (:class:`Normal`): are hidden variables\n",
    "                dx_order (:class:`Bernoulli`): indicate the order of diagnoses in the differential\n",
    "                W (:class:`Normal`): is a matrix of parameters relating diagnoses to findings\n",
    "                findings (:class:`Bernoulli`): indicate the presence of findings\n",
    "    \n",
    "        \"\"\"\n",
    "        # sigmoid function\n",
    "        def invlogit(x):\n",
    "            return 1. / (1 + tt.exp(-x))\n",
    "\n",
    "        size, ddx_max_length, num_dxs = dx_order_indicator_array_data.shape\n",
    "        num_findings = findings_data.shape[1]\n",
    "\n",
    "        x = Normal(\"x\", mu=0, sd=10, shape=[size, num_dxs])\n",
    "        dx_order_p = invlogit(tt.batched_tensordot(x, diff_tensor_data,axes=[1,1]))\n",
    "        dx_order = Bernoulli(\"dx_order\", p=dx_order_p, observed=dx_order_indicator_array_data)\n",
    "\n",
    "        W = Normal('W', mu=0., sd=10., shape=[num_dxs, num_findings])\n",
    "        \n",
    "        findings_p = invlogit(tt.tensordot(x, W, axes=[1,0]))\n",
    "        findings = Bernoulli(\"findings\", findings_p, observed=findings_data)\n",
    "\n",
    "        return (x, dx_order, W, findings)\n",
    "\n",
    "def _sp_build_graphical_model(dx_order_indicator_array_data, reord_proj_tensor, findings_data):\n",
    "    \"\"\"\n",
    "    Builds the graphical model and ties the observable variables to the data. You can pass a batch of \n",
    "    :class:`int` `size` data; with :class:`int` `num_dxs` possible diagnoses, :class:`int` `num_findings`\n",
    "    possible findings, and :class:`int` `ddx_max_length` maximum diagnoses in a given differential.\n",
    "\n",
    "    Parameters:\n",
    "        dx_order_indicator_array_data (:class:`np.array`): should be of shape \n",
    "            [`size`,`ddx_max_length`,`num_dxs`].\n",
    "        diff_tensor_data (:class:`np.array`): should be of shape \n",
    "            [`size`,`num_dxs`,`ddx_max_length`,`num_dxs`].\n",
    "        findings_data (:class:`np.array`): should be of shape \n",
    "            [`size`,`num_findings`]. \n",
    "\n",
    "    Returns:\n",
    "        4-:tuple: containing (x, dx_order, W, findings), where\n",
    "            x (:class:`Normal`): are hidden variables\n",
    "            dx_order (:class:`Bernoulli`): indicate the order of diagnoses in the differential\n",
    "            W (:class:`Normal`): is a matrix of parameters relating diagnoses to findings\n",
    "            findings (:class:`Bernoulli`): indicate the presence of findings\n",
    "\n",
    "    \"\"\"\n",
    "    # sigmoid function\n",
    "    def invlogit(x):\n",
    "        return 1. / (1 + tt.exp(-x))\n",
    "\n",
    "    #size, ddx_max_length, num_dxs = dx_order_indicator_array_data.shape\n",
    "    #num_findings = findings_data.shape[1]\n",
    "    size = minibatch_size\n",
    "\n",
    "    x = Normal(\"x\", mu=0, sd=10, shape=[size, num_dxs])\n",
    "    dx_order_s_1 = tt.batched_tensordot(x, reord_proj_tensor,axes=[1,1])\n",
    "    dx_order_s_1 = tt.reshape(dx_order_s_1,[size,ddx_max_length,1])\n",
    "    dx_order_s_2 = tt.reshape(x,[size,1,num_dxs])\n",
    "    dx_order_p = invlogit(tt.tile(dx_order_s_1,[1,1,num_dxs])-tt.tile(dx_order_s_2,[1,ddx_max_length,1]))\n",
    "    dx_order = Bernoulli(\"dx_order\", p=dx_order_p, observed=dx_order_indicator_array_data)\n",
    "\n",
    "    W = Normal('W', mu=0., sd=10., shape=[num_dxs, num_findings])\n",
    "\n",
    "    findings_p = invlogit(tt.tensordot(x, W, axes=[1,0]))\n",
    "    findings = Bernoulli(\"findings\", findings_p, observed=findings_data)\n",
    "\n",
    "    return (x, dx_order, W, findings)"
   ]
  },
  {
   "cell_type": "code",
   "execution_count": 10,
   "metadata": {
    "collapsed": false,
    "deletable": true,
    "editable": true
   },
   "outputs": [],
   "source": [
    "def _sp_build_graphical_model_pm(dx_order_indicator_array_data, reord_proj_tensor, findings_data):\n",
    "    with Model() as med_model: \n",
    "        x, dx_order, W, findings = _sp_build_graphical_model(dx_order_indicator_array_data,\n",
    "                                                             reord_proj_tensor,\n",
    "                                                             findings_data)\n",
    "    return med_model\n",
    "        \n",
    "\n",
    "\n",
    "    \n",
    "    "
   ]
  },
  {
   "cell_type": "code",
   "execution_count": 11,
   "metadata": {
    "collapsed": false,
    "deletable": true,
    "editable": true
   },
   "outputs": [
    {
     "ename": "ValueError",
     "evalue": "Model can not include discrete RVs for ADVI.",
     "output_type": "error",
     "traceback": [
      "\u001b[0;31m---------------------------------------------------------------------------\u001b[0m",
      "\u001b[0;31mValueError\u001b[0m                                Traceback (most recent call last)",
      "\u001b[0;32m<ipython-input-11-b194502f4eaa>\u001b[0m in \u001b[0;36m<module>\u001b[0;34m()\u001b[0m\n\u001b[1;32m      1\u001b[0m \u001b[0mmed_model\u001b[0m \u001b[0;34m=\u001b[0m \u001b[0m_sp_build_graphical_model_pm\u001b[0m\u001b[0;34m(\u001b[0m\u001b[0mbatch\u001b[0m\u001b[0;34m[\u001b[0m\u001b[0;36m0\u001b[0m\u001b[0;34m]\u001b[0m\u001b[0;34m[\u001b[0m\u001b[0;36m0\u001b[0m\u001b[0;34m]\u001b[0m\u001b[0;34m,\u001b[0m\u001b[0mbatch\u001b[0m\u001b[0;34m[\u001b[0m\u001b[0;36m0\u001b[0m\u001b[0;34m]\u001b[0m\u001b[0;34m[\u001b[0m\u001b[0;36m3\u001b[0m\u001b[0;34m]\u001b[0m\u001b[0;34m,\u001b[0m\u001b[0mbatch\u001b[0m\u001b[0;34m[\u001b[0m\u001b[0;36m0\u001b[0m\u001b[0;34m]\u001b[0m\u001b[0;34m[\u001b[0m\u001b[0;36m2\u001b[0m\u001b[0;34m]\u001b[0m\u001b[0;34m)\u001b[0m\u001b[0;34m\u001b[0m\u001b[0m\n\u001b[1;32m      2\u001b[0m \u001b[0;32mwith\u001b[0m \u001b[0mmed_model\u001b[0m\u001b[0;34m:\u001b[0m\u001b[0;34m\u001b[0m\u001b[0m\n\u001b[0;32m----> 3\u001b[0;31m     \u001b[0minference\u001b[0m \u001b[0;34m=\u001b[0m \u001b[0mpm\u001b[0m\u001b[0;34m.\u001b[0m\u001b[0madvi\u001b[0m\u001b[0;34m(\u001b[0m\u001b[0;34m)\u001b[0m\u001b[0;34m\u001b[0m\u001b[0m\n\u001b[0m\u001b[1;32m      4\u001b[0m     \u001b[0mapprox\u001b[0m \u001b[0;34m=\u001b[0m \u001b[0minference\u001b[0m\u001b[0;34m.\u001b[0m\u001b[0mfit\u001b[0m\u001b[0;34m(\u001b[0m\u001b[0;36m400\u001b[0m\u001b[0;34m)\u001b[0m\u001b[0;34m\u001b[0m\u001b[0m\n",
      "\u001b[0;32m/Users/libland/miniconda2/lib/python2.7/site-packages/pymc3/variational/advi.pyc\u001b[0m in \u001b[0;36madvi\u001b[0;34m(vars, start, model, n, accurate_elbo, optimizer, learning_rate, epsilon, mode, tol_obj, eval_elbo, random_seed, progressbar)\u001b[0m\n\u001b[1;32m    121\u001b[0m \u001b[0;34m\u001b[0m\u001b[0m\n\u001b[1;32m    122\u001b[0m     \u001b[0;32mif\u001b[0m \u001b[0;32mnot\u001b[0m \u001b[0mpm\u001b[0m\u001b[0;34m.\u001b[0m\u001b[0mmodel\u001b[0m\u001b[0;34m.\u001b[0m\u001b[0mall_continuous\u001b[0m\u001b[0;34m(\u001b[0m\u001b[0mvars\u001b[0m\u001b[0;34m)\u001b[0m\u001b[0;34m:\u001b[0m\u001b[0;34m\u001b[0m\u001b[0m\n\u001b[0;32m--> 123\u001b[0;31m         \u001b[0;32mraise\u001b[0m \u001b[0mValueError\u001b[0m\u001b[0;34m(\u001b[0m\u001b[0;34m'Model can not include discrete RVs for ADVI.'\u001b[0m\u001b[0;34m)\u001b[0m\u001b[0;34m\u001b[0m\u001b[0m\n\u001b[0m\u001b[1;32m    124\u001b[0m \u001b[0;34m\u001b[0m\u001b[0m\n\u001b[1;32m    125\u001b[0m     \u001b[0mn_mcsamples\u001b[0m \u001b[0;34m=\u001b[0m \u001b[0;36m100\u001b[0m \u001b[0;32mif\u001b[0m \u001b[0maccurate_elbo\u001b[0m \u001b[0;32melse\u001b[0m \u001b[0;36m1\u001b[0m\u001b[0;34m\u001b[0m\u001b[0m\n",
      "\u001b[0;31mValueError\u001b[0m: Model can not include discrete RVs for ADVI."
     ]
    }
   ],
   "source": [
    "med_model = _sp_build_graphical_model_pm(batch[0][0],batch[0][3],batch[0][2])\n",
    "with med_model:\n",
    "    inference = pm.advi()\n",
    "    approx = inference.fit(400)"
   ]
  },
  {
   "cell_type": "markdown",
   "metadata": {
    "deletable": true,
    "editable": true
   },
   "source": [
    "  Fit the model (using a MAP estimate - really this is EM, but ok...):"
   ]
  },
  {
   "cell_type": "code",
   "execution_count": 11,
   "metadata": {
    "collapsed": false,
    "deletable": true,
    "editable": true
   },
   "outputs": [
    {
     "ename": "MemoryError",
     "evalue": "",
     "output_type": "error",
     "traceback": [
      "\u001b[0;31m---------------------------------------------------------------------------\u001b[0m",
      "\u001b[0;31mMemoryError\u001b[0m                               Traceback (most recent call last)",
      "\u001b[0;32m<ipython-input-11-f2b2f25e51d1>\u001b[0m in \u001b[0;36m<module>\u001b[0;34m()\u001b[0m\n\u001b[0;32m----> 1\u001b[0;31m \u001b[0mmap_estimate\u001b[0m \u001b[0;34m=\u001b[0m \u001b[0mfind_MAP\u001b[0m\u001b[0;34m(\u001b[0m\u001b[0mmodel\u001b[0m\u001b[0;34m=\u001b[0m\u001b[0mmed_model\u001b[0m\u001b[0;34m)\u001b[0m\u001b[0;34m\u001b[0m\u001b[0m\n\u001b[0m",
      "\u001b[0;32m/Users/libland/miniconda2/lib/python2.7/site-packages/pymc3/tuning/starting.pyc\u001b[0m in \u001b[0;36mfind_MAP\u001b[0;34m(start, vars, fmin, return_raw, model, live_disp, callback, *args, **kwargs)\u001b[0m\n\u001b[1;32m     99\u001b[0m             \u001b[0mcallback\u001b[0m \u001b[0;34m=\u001b[0m \u001b[0mMonitor\u001b[0m\u001b[0;34m(\u001b[0m\u001b[0mbij\u001b[0m\u001b[0;34m,\u001b[0m \u001b[0mlogp_o\u001b[0m\u001b[0;34m,\u001b[0m \u001b[0mmodel\u001b[0m\u001b[0;34m,\u001b[0m \u001b[0mgrad_logp_o\u001b[0m\u001b[0;34m)\u001b[0m\u001b[0;34m\u001b[0m\u001b[0m\n\u001b[1;32m    100\u001b[0m \u001b[0;34m\u001b[0m\u001b[0m\n\u001b[0;32m--> 101\u001b[0;31m         \u001b[0mr\u001b[0m \u001b[0;34m=\u001b[0m \u001b[0mfmin\u001b[0m\u001b[0;34m(\u001b[0m\u001b[0mlogp_o\u001b[0m\u001b[0;34m,\u001b[0m \u001b[0mbij\u001b[0m\u001b[0;34m.\u001b[0m\u001b[0mmap\u001b[0m\u001b[0;34m(\u001b[0m\u001b[0mstart\u001b[0m\u001b[0;34m)\u001b[0m\u001b[0;34m,\u001b[0m \u001b[0mfprime\u001b[0m\u001b[0;34m=\u001b[0m\u001b[0mgrad_logp_o\u001b[0m\u001b[0;34m,\u001b[0m \u001b[0mcallback\u001b[0m\u001b[0;34m=\u001b[0m\u001b[0mcallback\u001b[0m\u001b[0;34m,\u001b[0m \u001b[0;34m*\u001b[0m\u001b[0margs\u001b[0m\u001b[0;34m,\u001b[0m \u001b[0;34m**\u001b[0m\u001b[0mkwargs\u001b[0m\u001b[0;34m)\u001b[0m\u001b[0;34m\u001b[0m\u001b[0m\n\u001b[0m\u001b[1;32m    102\u001b[0m         \u001b[0mcompute_gradient\u001b[0m \u001b[0;34m=\u001b[0m \u001b[0mTrue\u001b[0m\u001b[0;34m\u001b[0m\u001b[0m\n\u001b[1;32m    103\u001b[0m     \u001b[0;32melse\u001b[0m\u001b[0;34m:\u001b[0m\u001b[0;34m\u001b[0m\u001b[0m\n",
      "\u001b[0;32m/Users/libland/miniconda2/lib/python2.7/site-packages/scipy/optimize/optimize.pyc\u001b[0m in \u001b[0;36mfmin_bfgs\u001b[0;34m(f, x0, fprime, args, gtol, norm, epsilon, maxiter, full_output, disp, retall, callback)\u001b[0m\n\u001b[1;32m    857\u001b[0m             'return_all': retall}\n\u001b[1;32m    858\u001b[0m \u001b[0;34m\u001b[0m\u001b[0m\n\u001b[0;32m--> 859\u001b[0;31m     \u001b[0mres\u001b[0m \u001b[0;34m=\u001b[0m \u001b[0m_minimize_bfgs\u001b[0m\u001b[0;34m(\u001b[0m\u001b[0mf\u001b[0m\u001b[0;34m,\u001b[0m \u001b[0mx0\u001b[0m\u001b[0;34m,\u001b[0m \u001b[0margs\u001b[0m\u001b[0;34m,\u001b[0m \u001b[0mfprime\u001b[0m\u001b[0;34m,\u001b[0m \u001b[0mcallback\u001b[0m\u001b[0;34m=\u001b[0m\u001b[0mcallback\u001b[0m\u001b[0;34m,\u001b[0m \u001b[0;34m**\u001b[0m\u001b[0mopts\u001b[0m\u001b[0;34m)\u001b[0m\u001b[0;34m\u001b[0m\u001b[0m\n\u001b[0m\u001b[1;32m    860\u001b[0m \u001b[0;34m\u001b[0m\u001b[0m\n\u001b[1;32m    861\u001b[0m     \u001b[0;32mif\u001b[0m \u001b[0mfull_output\u001b[0m\u001b[0;34m:\u001b[0m\u001b[0;34m\u001b[0m\u001b[0m\n",
      "\u001b[0;32m/Users/libland/miniconda2/lib/python2.7/site-packages/scipy/optimize/optimize.pyc\u001b[0m in \u001b[0;36m_minimize_bfgs\u001b[0;34m(fun, x0, args, jac, callback, gtol, norm, eps, maxiter, disp, return_all, **unknown_options)\u001b[0m\n\u001b[1;32m    914\u001b[0m     \u001b[0mk\u001b[0m \u001b[0;34m=\u001b[0m \u001b[0;36m0\u001b[0m\u001b[0;34m\u001b[0m\u001b[0m\n\u001b[1;32m    915\u001b[0m     \u001b[0mN\u001b[0m \u001b[0;34m=\u001b[0m \u001b[0mlen\u001b[0m\u001b[0;34m(\u001b[0m\u001b[0mx0\u001b[0m\u001b[0;34m)\u001b[0m\u001b[0;34m\u001b[0m\u001b[0m\n\u001b[0;32m--> 916\u001b[0;31m     \u001b[0mI\u001b[0m \u001b[0;34m=\u001b[0m \u001b[0mnumpy\u001b[0m\u001b[0;34m.\u001b[0m\u001b[0meye\u001b[0m\u001b[0;34m(\u001b[0m\u001b[0mN\u001b[0m\u001b[0;34m,\u001b[0m \u001b[0mdtype\u001b[0m\u001b[0;34m=\u001b[0m\u001b[0mint\u001b[0m\u001b[0;34m)\u001b[0m\u001b[0;34m\u001b[0m\u001b[0m\n\u001b[0m\u001b[1;32m    917\u001b[0m     \u001b[0mHk\u001b[0m \u001b[0;34m=\u001b[0m \u001b[0mI\u001b[0m\u001b[0;34m\u001b[0m\u001b[0m\n\u001b[1;32m    918\u001b[0m \u001b[0;34m\u001b[0m\u001b[0m\n",
      "\u001b[0;32m/Users/libland/miniconda2/lib/python2.7/site-packages/numpy/lib/twodim_base.pyc\u001b[0m in \u001b[0;36meye\u001b[0;34m(N, M, k, dtype)\u001b[0m\n\u001b[1;32m    178\u001b[0m     \u001b[0;32mif\u001b[0m \u001b[0mM\u001b[0m \u001b[0;32mis\u001b[0m \u001b[0mNone\u001b[0m\u001b[0;34m:\u001b[0m\u001b[0;34m\u001b[0m\u001b[0m\n\u001b[1;32m    179\u001b[0m         \u001b[0mM\u001b[0m \u001b[0;34m=\u001b[0m \u001b[0mN\u001b[0m\u001b[0;34m\u001b[0m\u001b[0m\n\u001b[0;32m--> 180\u001b[0;31m     \u001b[0mm\u001b[0m \u001b[0;34m=\u001b[0m \u001b[0mzeros\u001b[0m\u001b[0;34m(\u001b[0m\u001b[0;34m(\u001b[0m\u001b[0mN\u001b[0m\u001b[0;34m,\u001b[0m \u001b[0mM\u001b[0m\u001b[0;34m)\u001b[0m\u001b[0;34m,\u001b[0m \u001b[0mdtype\u001b[0m\u001b[0;34m=\u001b[0m\u001b[0mdtype\u001b[0m\u001b[0;34m)\u001b[0m\u001b[0;34m\u001b[0m\u001b[0m\n\u001b[0m\u001b[1;32m    181\u001b[0m     \u001b[0;32mif\u001b[0m \u001b[0mk\u001b[0m \u001b[0;34m>=\u001b[0m \u001b[0mM\u001b[0m\u001b[0;34m:\u001b[0m\u001b[0;34m\u001b[0m\u001b[0m\n\u001b[1;32m    182\u001b[0m         \u001b[0;32mreturn\u001b[0m \u001b[0mm\u001b[0m\u001b[0;34m\u001b[0m\u001b[0m\n",
      "\u001b[0;31mMemoryError\u001b[0m: "
     ]
    }
   ],
   "source": [
    "#map_estimate = find_MAP(model=med_model)"
   ]
  },
  {
   "cell_type": "markdown",
   "metadata": {
    "deletable": true,
    "editable": true
   },
   "source": [
    "Compare the estimate to the generating parameters..."
   ]
  },
  {
   "cell_type": "code",
   "execution_count": null,
   "metadata": {
    "collapsed": false,
    "deletable": true,
    "editable": true
   },
   "outputs": [],
   "source": [
    "plt.hist(1./(1+np.exp(-map_estimate['x'].dot(map_estimate['W'])))\n",
    "         -findings_data)\n",
    "plt.show()"
   ]
  },
  {
   "cell_type": "code",
   "execution_count": null,
   "metadata": {
    "collapsed": false,
    "deletable": true,
    "editable": true
   },
   "outputs": [],
   "source": [
    "comparison = 1./(1+np.exp(-np.einsum('ij,ijkl->ikl',map_estimate['x'],diff_tensor_data)))-dx_order_indicator_array_data\n",
    "plt.hist(comparison.reshape([-1]))\n",
    "plt.show()"
   ]
  },
  {
   "cell_type": "code",
   "execution_count": null,
   "metadata": {
    "collapsed": true,
    "deletable": true,
    "editable": true
   },
   "outputs": [],
   "source": []
  }
 ],
 "metadata": {
  "kernelspec": {
   "display_name": "Python [default]",
   "language": "python",
   "name": "python2"
  },
  "language_info": {
   "codemirror_mode": {
    "name": "ipython",
    "version": 2
   },
   "file_extension": ".py",
   "mimetype": "text/x-python",
   "name": "python",
   "nbconvert_exporter": "python",
   "pygments_lexer": "ipython2",
   "version": "2.7.13"
  }
 },
 "nbformat": 4,
 "nbformat_minor": 2
}
