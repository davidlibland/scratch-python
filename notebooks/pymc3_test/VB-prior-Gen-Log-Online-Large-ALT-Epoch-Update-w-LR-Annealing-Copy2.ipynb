{
 "cells": [
  {
   "cell_type": "code",
   "execution_count": 1,
   "metadata": {
    "collapsed": false,
    "deletable": true,
    "editable": true
   },
   "outputs": [],
   "source": [
    "import numpy as np\n",
    "from IPython import display"
   ]
  },
  {
   "cell_type": "code",
   "execution_count": 2,
   "metadata": {
    "collapsed": true,
    "deletable": true,
    "editable": true
   },
   "outputs": [],
   "source": [
    "import matplotlib.pyplot as plt\n",
    "%matplotlib inline"
   ]
  },
  {
   "cell_type": "code",
   "execution_count": 3,
   "metadata": {
    "collapsed": true,
    "deletable": true,
    "editable": true
   },
   "outputs": [],
   "source": [
    "from datetime import datetime"
   ]
  },
  {
   "cell_type": "code",
   "execution_count": 4,
   "metadata": {
    "collapsed": false,
    "deletable": true,
    "editable": true
   },
   "outputs": [],
   "source": [
    "num_hidden = 100\n",
    "num_dxs = 200\n",
    "num_findings = 3000\n",
    "num_samples = 500"
   ]
  },
  {
   "cell_type": "code",
   "execution_count": 5,
   "metadata": {
    "collapsed": false,
    "deletable": true,
    "editable": true
   },
   "outputs": [],
   "source": [
    "def update_params(X,Y,H,Sig_H,W,Sig_W,V,Sig_V,H_0,Sig_H_0_inv,W_0,Sig_W_0_inv,V_0,Sig_V_0_inv):\n",
    "    num_samples, num_hidden = H.shape\n",
    "    _, num_findings = W.shape\n",
    "    _, num_dxs = V.shape\n",
    "    \n",
    "    Xi = np.sqrt(Sig_H.dot(Sig_W+(W**2))+(H**2).dot(Sig_W)+(H.dot(W))**2)\n",
    "    Eta2 = diff_op(H.dot(V))**2+ diff_op2((Sig_H+H**2).dot(Sig_V))+np.tensordot(Sig_H,diff_op(V)**2,axes=(1,0)) \n",
    "    Eta = np.sqrt(Eta2)\n",
    "    #Eta = np.sqrt(diff_op2(Sig_H.dot(Sig_V+(V**2))+(H**2).dot(Sig_V)+(H.dot(V))**2))\n",
    "    \n",
    "    assert np.isfinite(Xi).all()\n",
    "    assert np.isfinite(Eta).all()\n",
    "    \n",
    "    #L = lower_marginal_likelihood_bound(X,Y,H,Sig_H,W,Sig_W,V,Sig_V,Xi,Eta,H_0,Sig_H_0_inv,W_0,Sig_W_0_inv,V_0,Sig_V_0_inv)\n",
    "    \n",
    "    \n",
    "    \n",
    "    W_ext = np.hstack([W,diff_op(V).reshape([num_hidden,-1])])\n",
    "    Xi_ext = np.hstack([Xi,Eta.reshape([num_samples,-1])])\n",
    "    T_ext = np.hstack([X,Y.reshape([num_samples,-1])])\n",
    "    \n",
    "    H_T, Sig_H_T = update_weights(T_ext.T,H.T,W_ext.T,Xi_ext.T,H_0.T,Sig_H_0_inv.T)\n",
    "    H, Sig_H = (H_T.T,Sig_H_T.T)\n",
    "    \n",
    "    \n",
    "    \n",
    "    W, Sig_W = update_weights(X,W,H,Xi,W_0,Sig_W_0_inv)\n",
    "    \n",
    "    #LW = lower_marginal_likelihood_bound(X,Y,H,Sig_H,W,Sig_W,V,Sig_V,Xi,Eta,H_0,Sig_H_0_inv,W_0,Sig_W_0_inv,V_0,Sig_V_0_inv)\n",
    "    \n",
    "    #print(\"Computing diff_op\")\n",
    "    #diff_op_mat = diff_op(np.eye(V.shape[1]))\n",
    "    #print(\"Computing H_ext\")\n",
    "#     H_ext = np.einsum('ij,klm->ilmjk',H,diff_op_mat).reshape([num_samples,-1])\n",
    "#     V_resh,Sig_V_resh = update_weights(Y.reshape([-1]),\n",
    "#                                        V.reshape([-1]),\n",
    "#                                        H_ext.reshape([-1,len(V.reshape([-1]))]),\n",
    "#                                        Eta.reshape([-1]),\n",
    "#                                        V_0.reshape([-1]),\n",
    "#                                        Sig_V_0_inv.reshape([-1]))\n",
    "#     V = V_resh.reshape(V.shape)\n",
    "#     Sig_V = Sig_V_resh.reshape(V.shape)\n",
    "    V, Sig_V = update_weights_alt(Y,V,H,Eta,V_0,Sig_V_0_inv)\n",
    "    \n",
    "    #LV = lower_marginal_likelihood_bound(X,Y,H,Sig_H,W,Sig_W,V,Sig_V,Xi,Eta,H_0,Sig_H_0_inv,W_0,Sig_W_0_inv,V_0,Sig_V_0_inv)\n",
    "    \n",
    "    #LH = lower_marginal_likelihood_bound(X,Y,H,Sig_H,W,Sig_W,V,Sig_V,Xi,Eta,H_0,Sig_H_0_inv,W_0,Sig_W_0_inv,V_0,Sig_V_0_inv)\n",
    "    \n",
    "    return (H,Sig_H), (W,Sig_W), (V,Sig_V), (Xi,Eta) #(LH,) #,(L,LW,LV,LH)\n",
    "\n",
    "def update_weights(T,W,X,Xi,W_0,S_W_0_inv):\n",
    "    \"\"\"Update the weight matrix\n",
    "    T = observed values\n",
    "    W = weights (at current iteration of VB)\n",
    "    X = features\n",
    "    Xi = JJ positions (at current iteration of VB)\n",
    "    W_0 = prior bias for W\n",
    "    reg = regularization strength\n",
    "    \n",
    "    we assume T ~ Bernouilli(sigmoid(XW))\n",
    "    returns (W,Sig_W)\n",
    "    where W are the updated weight values and Sig_W are the current variances of those weight values.\n",
    "    \"\"\"\n",
    "    start_time = datetime.now()\n",
    "    #print(\"T: %s, W: %s, X: %s, Xi: %s, W_0: %s\" % (T.shape,W.shape,X.shape,Xi.shape,W_0.shape))\n",
    "    k = (len(X.shape)+len(W.shape)-len(T.shape))//2 # number of indices to contract over.\n",
    "    #S_W_0_inv = reg*np.ones(W.shape)\n",
    "    #print(\"Updating Weights\")\n",
    "    \n",
    "    assert np.isfinite(Xi).all()\n",
    "    #print(\"Computing Lambdoid\")\n",
    "    lamXi = lambdoid(Xi)\n",
    "    assert np.isfinite(lamXi).all()\n",
    "    \n",
    "    #print(\"k:%d, X: %s, Xi: %s\" %(k,X.shape,Xi.shape))\n",
    "    #print(\"Computing X2lamXi\")\n",
    "    X2lamXi = np.tensordot((X**2).T,lamXi,k)\n",
    "    assert np.isfinite(X2lamXi).all()\n",
    "    \n",
    "    S_W_inv_ = S_W_0_inv + 2*X2lamXi\n",
    "    #print(\"Computing S_W_\")\n",
    "    S_W_ = np.reciprocal(S_W_inv_)\n",
    "    assert np.isfinite(S_W_).all()\n",
    "    \n",
    "    #print(\"Computing terms1,2\")\n",
    "    term1 = np.tensordot(X.T, T-0.5-2*lamXi*np.tensordot(X,W,k),k)\n",
    "    term2 = 2*W*X2lamXi\n",
    "    \n",
    "    assert np.isfinite(term1).all()\n",
    "    assert np.isfinite(term2).all()\n",
    "    \n",
    "    #print(\"Computing W_\")\n",
    "    W_ = S_W_*(S_W_0_inv*W_0+term1+term2)\n",
    "    \n",
    "    assert np.isfinite(W_).all()\n",
    "    end_time = datetime.now()\n",
    "    print(\"weight update time: %f\" % (end_time-start_time).total_seconds())\n",
    "    return W_, S_W_\n",
    "    \n",
    "def update_weights_alt(T,W,XL,Xi,W_0,S_W_0_inv):\n",
    "    \"\"\"Update the weight matrix\n",
    "    T = observed values\n",
    "    W = weights (at current iteration of VB)\n",
    "    X = features\n",
    "    Xi = JJ positions (at current iteration of VB)\n",
    "    W_0 = prior bias for W\n",
    "    reg = regularization strength\n",
    "    \n",
    "    we assume T ~ Bernouilli(sigmoid(XW))\n",
    "    returns (W,Sig_W)\n",
    "    where W are the updated weight values and Sig_W are the current variances of those weight values.\n",
    "    \"\"\"\n",
    "    #print(\"T: %s, W: %s, XL: %s, Xi: %s, W_0: %s\" % (T.shape,W.shape,XL.shape,Xi.shape,W_0.shape))\n",
    "    k = (len(XL.shape)+len(W.shape)-len(T.shape))//2 # number of indices to contract over.\n",
    "    #S_W_0_inv = reg*np.ones(W.shape)\n",
    "    lxl = len(XL.shape)-1\n",
    "    lw = len(W.shape)-1\n",
    "    #print(\"Updating Weights\")\n",
    "    \n",
    "    assert np.isfinite(Xi).all()\n",
    "    #print(\"Computing Lambdoid\")\n",
    "    lamXi = lambdoid(Xi)\n",
    "    assert np.isfinite(lamXi).all()\n",
    "    \n",
    "    #print(\"k:%d, XL: %s, Xi: %s\" %(k,XL.shape,Xi.shape))\n",
    "    #print(\"Computing X2lamXi\")\n",
    "    X2lamXi = diff_op2_T(np.tensordot((XL**2).T,Xi,axes=(lxl,0)))\n",
    "    #X2lamXi = np.tensordot((X**2).T,lamXi,k)\n",
    "    assert np.isfinite(X2lamXi).all()\n",
    "    \n",
    "    #print(\"k:%d, S_W_0_inv: %s, X2lamXi: %s\" %(k,S_W_0_inv.shape,X2lamXi.shape))\n",
    "    \n",
    "    S_W_inv_ = S_W_0_inv + 2*X2lamXi\n",
    "    #print(\"Computing S_W_\")\n",
    "    S_W_ = np.reciprocal(S_W_inv_)\n",
    "    assert np.isfinite(S_W_).all()\n",
    "    \n",
    "    #print(\"Computing terms1,2\")\n",
    "    XLWXR = diff_op(np.tensordot(XL,W,axes=(lxl,0)))\n",
    "    #print(\"k:%d, XLWXR: %s\" %(k,XLWXR.shape))\n",
    "    term1 = diff_op_T(np.tensordot(XL.T,T-0.5-2*lamXi*(XLWXR),axes=(lxl,0)))\n",
    "    #print(\"k:%d, term1: %s\" %(k,term1.shape))\n",
    "    #term1 = np.tensordot(X.T, T-0.5-2*lamXi*np.tensordot(X,W,k),k)\n",
    "    term2 = 2*W*X2lamXi\n",
    "    #print(\"k:%d, term2: %s\" %(k,term2.shape))\n",
    "    \n",
    "    assert np.isfinite(term1).all()\n",
    "    assert np.isfinite(term2).all()\n",
    "    \n",
    "    #print(\"Computing W_\")\n",
    "    W_ = S_W_*(S_W_0_inv*W_0+term1+term2)\n",
    "    \n",
    "    assert np.isfinite(W_).all()\n",
    "    return W_, S_W_\n",
    "    "
   ]
  },
  {
   "cell_type": "code",
   "execution_count": 6,
   "metadata": {
    "collapsed": true,
    "deletable": true,
    "editable": true
   },
   "outputs": [],
   "source": [
    "def diff_op(HV,max_dxs=None):\n",
    "    num_axis = len(HV.shape)\n",
    "    HVm1 = np.expand_dims(HV,num_axis)\n",
    "    HVm2 = np.expand_dims(HV,num_axis-1)\n",
    "    return np.tile(HVm1,[1]*num_axis+[num_dxs])-np.tile(HVm2,[1]*(num_axis-1)+[num_dxs,1])\n",
    "\n",
    "def diff_op2(HV,max_dxs=None):\n",
    "    num_axis = len(HV.shape)\n",
    "    HVm1 = np.expand_dims(HV,num_axis)\n",
    "    HVm2 = np.expand_dims(HV,num_axis-1)\n",
    "    return np.tile(HVm1,[1]*num_axis+[num_dxs])+np.tile(HVm2,[1]*(num_axis-1)+[num_dxs,1])\n",
    "    \n",
    "def diff_op_T(HTY):\n",
    "    num_axis = len(HTY.shape)\n",
    "    return HTY.sum(axis=num_axis-1)-HTY.sum(axis=num_axis-2)\n",
    "\n",
    "def diff_op2_T(HTY):\n",
    "    num_axis = len(HTY.shape)\n",
    "    return HTY.sum(axis=num_axis-1)+HTY.sum(axis=num_axis-2)"
   ]
  },
  {
   "cell_type": "code",
   "execution_count": 7,
   "metadata": {
    "collapsed": true,
    "deletable": true,
    "editable": true
   },
   "outputs": [],
   "source": [
    "def KLDivergence(m1,Sig1,m2,Sig2):\n",
    "    \"\"\"Computes the KL divergence of two multivariate normal distributions. \n",
    "    mi and Sigi are the respective means and covariance matrices\"\"\"\n",
    "    d = len(m1)\n",
    "    Sig2inv = np.linalg.inv(Sig2)\n",
    "    Sig2invSig1 = Sig2inv.dot(Sig1)\n",
    "    return 0.5*(-np.linalg.slogdet(Sig2invSig1)[1]-d+np.trace(Sig2invSig1)+(m2-m1).T.dot(Sig2inv.dot(m2-m1)))\n",
    "\n",
    "def KLDivergence_diag(m1,Sig1,m2,Sig2):\n",
    "    \"\"\"Computes the KL divergence of two multivariate normal distributions. \n",
    "    mi and Sigi are the respective means and covariance matrices\"\"\"\n",
    "    d = len(m1.flatten())\n",
    "    Sig2inv = np.reciprocal(Sig2)\n",
    "    Sig2invSig1 = Sig2inv*Sig1\n",
    "    return 0.5*(-np.log(Sig2invSig1).sum()-d+Sig2invSig1.sum()+(((m2-m1)**2)*Sig2inv).sum())\n",
    "\n",
    "def KLDivergence_inv(m1,Sig1,m2,Sig2inv):\n",
    "    \"\"\"Computes the KL divergence of two multivariate normal distributions. \n",
    "    mi and Sigi are the respective means and covariance matrices\"\"\"\n",
    "    d = len(m1)\n",
    "    #Sig2inv = np.linalg.inv(Sig2)\n",
    "    Sig2invSig1 = Sig2inv.dot(Sig1)\n",
    "    return 0.5*(-np.linalg.slogdet(Sig2invSig1)[1]-d+np.trace(Sig2invSig1)+(m2-m1).T.dot(Sig2inv.dot(m2-m1)))\n",
    "\n",
    "def KLDivergence_inv_diag(m1,Sig1,m2,Sig2inv):\n",
    "    \"\"\"Computes the KL divergence of two multivariate normal distributions. \n",
    "    mi and Sigi are the respective means and covariance matrices\"\"\"\n",
    "    #print(\"Computing KL\")\n",
    "    d = len(m1.flatten())\n",
    "    #Sig2inv = np.reciprocal(Sig2)\n",
    "    Sig2invSig1 = Sig2inv*Sig1\n",
    "    return 0.5*(-np.log(Sig2invSig1).sum()-d+Sig2invSig1.sum()+(((m2-m1)**2)*Sig2inv).sum())"
   ]
  },
  {
   "cell_type": "code",
   "execution_count": 8,
   "metadata": {
    "collapsed": false,
    "deletable": true,
    "editable": true
   },
   "outputs": [],
   "source": [
    "def log_1_add_exp(x):\n",
    "    mask = x<0\n",
    "    nmask = np.logical_not(mask)\n",
    "    ans = np.zeros_like(x)\n",
    "    ans[mask] = np.log1p(np.exp(x[mask]))\n",
    "    ans[nmask] = np.log1p(np.exp(-x[nmask]))+x[nmask]\n",
    "    return ans\n",
    "\n",
    "def lower_marginal_likelihood_bound(X,Y,H,Sig_H,W,Sig_W,V,Sig_V,Xi,Eta,H_0,Sig_H_0_inv,W_0,Sig_W_0_inv,V_0,Sig_V_0_inv):\n",
    "    \n",
    "    H_0 = np.zeros_like(H_0)\n",
    "    W_0 = np.zeros_like(W_0)\n",
    "    V_0 = np.zeros_like(V_0)\n",
    "    Sig_H_0_inv = 0.01*np.ones(H_0.shape)\n",
    "    Sig_W_0_inv = 0.01*np.ones(W_0.shape)\n",
    "    Sig_V_0_inv = 0.01*np.ones(V_0.shape)\n",
    "    KLH = KLDivergence_inv_diag(H,Sig_H,H_0,Sig_H_0_inv)\n",
    "    KLW = KLDivergence_inv_diag(W,Sig_W,W_0,Sig_W_0_inv)\n",
    "    KLV = KLDivergence_inv_diag(V,Sig_V,V_0,Sig_V_0_inv)\n",
    "    HW = H.dot(W)\n",
    "    HW2 = Sig_H.dot(Sig_W+W**2)+(H**2).dot(Sig_W)+HW**2\n",
    "    #print(\"Computing lamXi\")\n",
    "    lamXi = lambdoid(Xi)\n",
    "    lseW = (lamXi*(HW2-Xi**2)+0.5*(HW-Xi)+log_1_add_exp(Xi)).sum()\n",
    "    #print(\"Computing HVF\")\n",
    "    HVF = diff_op(H.dot(V))\n",
    "    HVF2 = diff_op2(Sig_H.dot(Sig_V+V**2)+(H**2).dot(Sig_V))+HVF**2 \n",
    "    #print(\"Computing lamEta\")\n",
    "    lamEta = lambdoid(Eta)\n",
    "    lseV = (lamEta*(HVF2-Eta**2)+0.5*(HVF-Eta)+log_1_add_exp(Eta)).sum()\n",
    "    #print(\"Computing e_log\")\n",
    "    e_log_likelihood = (X*HW).sum()+(Y*HVF).sum()-lseW-lseV\n",
    "    return KLH+KLW+KLV-e_log_likelihood"
   ]
  },
  {
   "cell_type": "code",
   "execution_count": 9,
   "metadata": {
    "collapsed": true,
    "deletable": true,
    "editable": true
   },
   "outputs": [],
   "source": [
    "def lambdoid(xi):\n",
    "    from scipy.special import exprel\n",
    "    xi = -abs(xi)\n",
    "    return 0.25*exprel(xi)/(np.exp(xi)+1)"
   ]
  },
  {
   "cell_type": "code",
   "execution_count": 10,
   "metadata": {
    "collapsed": true,
    "deletable": true,
    "editable": true
   },
   "outputs": [],
   "source": [
    "def sigmoid(eta):\n",
    "    return 1/(1+np.exp(-eta))"
   ]
  },
  {
   "cell_type": "code",
   "execution_count": 11,
   "metadata": {
    "collapsed": true,
    "deletable": true,
    "editable": true
   },
   "outputs": [],
   "source": [
    "_W = np.random.randn(num_hidden, num_findings)\n",
    "_V = np.random.randn(num_hidden, num_dxs)\n",
    "_H = np.random.randn(num_samples, num_hidden)"
   ]
  },
  {
   "cell_type": "code",
   "execution_count": 12,
   "metadata": {
    "collapsed": true,
    "deletable": true,
    "editable": true
   },
   "outputs": [],
   "source": [
    "def bernoulli(p):\n",
    "    rands = np.random.rand(*np.array(p).shape)\n",
    "    return np.array(rands < p,dtype=np.float)"
   ]
  },
  {
   "cell_type": "code",
   "execution_count": null,
   "metadata": {
    "collapsed": false,
    "deletable": true,
    "editable": true
   },
   "outputs": [
    {
     "data": {
      "text/plain": [
       "<matplotlib.figure.Figure at 0x10c46aed0>"
      ]
     },
     "metadata": {},
     "output_type": "display_data"
    }
   ],
   "source": [
    "alpha_p = .01 #.003\n",
    "alpha_h = .1 #.03\n",
    "annealing_rate = 1.5\n",
    "num_epochs = 200\n",
    "minibatch_size = 1\n",
    "plot_size = 1\n",
    "reg_p = 2\n",
    "fig = plt.figure(1)\n",
    "def fit(_H, _V, _W, num_hidden, reg_p, alpha_p_init, alpha_h_init):\n",
    "    #num_samples, num_findings = X.shape\n",
    "    #num_dxs = Y.shape[1]\n",
    "    H_0_ = np.zeros([num_samples,num_hidden],dtype=np.float)\n",
    "    W_0_ = np.zeros([num_hidden,num_findings],dtype=np.float)\n",
    "    V_0_ = np.zeros([num_hidden,num_dxs],dtype=np.float)\n",
    "    Sig_H_0_inv = 0.01*np.ones(H_0_.shape)\n",
    "    Sig_W_0_inv = 0.01*np.ones(W_0_.shape)\n",
    "    Sig_V_0_inv = 0.01*np.ones(V_0_.shape)\n",
    "    H_cur = np.random.randn(num_samples, num_hidden)/np.sqrt(float(num_samples+num_hidden))\n",
    "    W_cur = np.random.randn(num_hidden, num_findings)/np.sqrt(float(num_hidden+num_findings))\n",
    "    V_cur = np.random.randn(num_hidden, num_dxs)/np.sqrt(float(num_hidden+num_dxs))\n",
    "    Sig_H_cur = np.reciprocal(Sig_H_0_inv)\n",
    "    Sig_W_cur = np.reciprocal(Sig_W_0_inv)\n",
    "    Sig_V_cur = np.reciprocal(Sig_V_0_inv)\n",
    "    max_h = [abs(H_cur).max()]\n",
    "    max_w = [abs(W_cur).max()]\n",
    "    max_v = [abs(V_cur).max()]\n",
    "    L = []\n",
    "    compute_times = []\n",
    "    comute_time_str = \"\"\n",
    "    for epoch in range(num_epochs):\n",
    "        alpha_p = alpha_p_init/float(annealing_rate*epoch+1)\n",
    "        alpha_h = alpha_h_init/float(annealing_rate*epoch+1)\n",
    "        W_prev = np.copy(W_0_)\n",
    "        V_prev = np.copy(V_0_)\n",
    "#         H_prev = np.copy(H_0_)\n",
    "#         Sig_H_inv_prev = np.copy(Sig_H_0_inv)\n",
    "        Sig_W_inv_prev = np.copy(Sig_W_0_inv)\n",
    "        Sig_V_inv_prev = np.copy(Sig_V_0_inv)\n",
    "        permutation = np.random.permutation(num_samples)\n",
    "        _H = _H[permutation,:]\n",
    "        H_0_ = H_0_[permutation,:]\n",
    "        Sig_H_0_inv = Sig_H_0_inv[permutation,:]\n",
    "        H_cur = H_cur[permutation,:]\n",
    "        Sig_H_cur = Sig_H_cur[permutation,:]\n",
    "        for k in range(num_samples//minibatch_size):\n",
    "            if compute_times:\n",
    "                comute_time_str = (\"Average Compute Time: %f \" % (sum(map(lambda x: x.total_seconds(),compute_times))/float(len(compute_times))))\n",
    "            j = k*minibatch_size % num_samples\n",
    "            _H_minibatch = _H[j:j+minibatch_size,:]\n",
    "            X_minibatch = np.rint(sigmoid(_H_minibatch.dot(_W)))\n",
    "            Y_minibatch = np.rint(sigmoid(diff_op(_H_minibatch.dot(_V))))\n",
    "            H_0_minibatch = H_0_[j:j+minibatch_size,:]\n",
    "            H_minibatch = H_cur[j:j+minibatch_size,:]\n",
    "            Sig_H_0_inv_minibatch = Sig_H_0_inv[j:j+minibatch_size,:]\n",
    "            Sig_H_minibatch = Sig_H_cur[j:j+minibatch_size,:]\n",
    "            for i in range(10):\n",
    "                start_time = datetime.now()\n",
    "                (HH, Sig_HH_minibatch), (WW,Sig_WW), (VV,Sig_VV), (Xi, Eta) = update_params(X_minibatch,Y_minibatch,\n",
    "                                                                        H_minibatch,Sig_H_minibatch,\n",
    "                                                                        W_cur,Sig_W_cur,\n",
    "                                                                        V_cur,Sig_V_cur,\n",
    "                                                                        H_0_minibatch,Sig_H_0_inv_minibatch,\n",
    "                                                                        W_prev,Sig_W_inv_prev,\n",
    "                                                                        V_prev,Sig_V_inv_prev)\n",
    "                end_time = datetime.now()\n",
    "                compute_times.append(end_time-start_time)\n",
    "\n",
    "                if epoch % 2 == 0:\n",
    "                    \n",
    "#                     H_minibatch = HH\n",
    "#                     Sig_H_minibatch = Sig_HH_minibatch\n",
    "#                     H_cur[j:j+minibatch_size,:] = H_minibatch\n",
    "#                     Sig_H_cur[j:j+minibatch_size,:] = Sig_H_minibatch\n",
    "                    \n",
    "                    W_cur = W_cur*(1-alpha_p) + alpha_p*WW\n",
    "                    Sig_W_cur = Sig_W_cur*(1-alpha_p) + alpha_p*Sig_WW\n",
    "                    V_cur = V_cur*(1-alpha_p) + alpha_p*VV\n",
    "                    Sig_V_cur = Sig_V_cur*(1-alpha_p) + alpha_p*Sig_VV\n",
    "                else:\n",
    "                    H_minibatch = H_minibatch*(1-alpha_h) + alpha_h*HH\n",
    "                    Sig_H_minibatch = Sig_H_minibatch*(1-alpha_h) + alpha_h*Sig_HH_minibatch\n",
    "                    H_cur[j:j+minibatch_size,:] = H_minibatch\n",
    "                    Sig_H_cur[j:j+minibatch_size,:] = Sig_H_minibatch\n",
    "                    \n",
    "#                     W_cur = WW\n",
    "#                     Sig_W_cur = Sig_WW\n",
    "#                     V_cur = VV\n",
    "#                     Sig_V_cur = Sig_VV\n",
    "                max_h.append(abs(H_cur).max())\n",
    "                max_w.append(abs(W_cur).max())\n",
    "                max_v.append(abs(V_cur).max())\n",
    "\n",
    "            if j % plot_size == 0 and j > 0:\n",
    "                clip = None\n",
    "                plt.gcf().clf()\n",
    "                plt.gcf().suptitle(\"minibatch: %d of %d, epoch %d of %d\\n%s\" % \n",
    "                                   (k, num_samples//minibatch_size, epoch, num_epochs, comute_time_str))\n",
    "                plt.subplot(131)\n",
    "                plt.plot(range(len(L)),map(lambda x: np.log(x) if not clip else min(np.log(x),clip), L))\n",
    "                data_h = _H[j-plot_size:j,:].dot(_W).flatten()\n",
    "                data_v = _H[j-plot_size:j,:].dot(_V).flatten()\n",
    "                pred_h = H_cur[j-plot_size:j,:].dot(W_cur).flatten()\n",
    "                pred_v = H_cur[j-plot_size:j,:].dot(V_cur).flatten()\n",
    "                plt.subplot(232)\n",
    "                plt.scatter(data_h,pred_h)\n",
    "                plt.subplot(235)\n",
    "                plt.scatter(data_v,pred_v)\n",
    "                plt.subplot(133)\n",
    "                plt.plot(range(len(compute_times)),map(lambda x: x.total_seconds(),compute_times))\n",
    "                display.clear_output(wait=True)\n",
    "                display.display(plt.gcf()) \n",
    "            L.append(lower_marginal_likelihood_bound(np.rint(sigmoid(_H.dot(_W))),np.rint(sigmoid(diff_op(_H.dot(_V)))),\n",
    "                                                     H_cur,Sig_H_cur,\n",
    "                                                     W_cur,Sig_W_cur,\n",
    "                                                     V_cur,Sig_V_cur,\n",
    "                                                     Xi,Eta,\n",
    "                                                     H_0_,Sig_H_0_inv,\n",
    "                                                     W_0_,Sig_W_0_inv,\n",
    "                                                     V_0_,Sig_V_0_inv))\n",
    "            W_prev = np.copy(W_cur)\n",
    "            V_prev = np.copy(V_cur)\n",
    "            Sig_W_inv_prev = np.reciprocal(Sig_W_cur)\n",
    "            Sig_V_inv_prev = np.reciprocal(Sig_V_cur)\n",
    "    return (H_cur, Sig_H_cur), (W_cur,Sig_W_cur), (V_cur,Sig_V_cur), max_h, max_w, max_v, L, _H"
   ]
  },
  {
   "cell_type": "code",
   "execution_count": null,
   "metadata": {
    "collapsed": false,
    "deletable": true,
    "editable": true
   },
   "outputs": [
    {
     "data": {
      "image/png": "[encoded data removed]",
      "text/plain": [
       "<matplotlib.figure.Figure at 0x10c1934d0>"
      ]
     },
     "metadata": {},
     "output_type": "display_data"
    },
    {
     "name": "stdout",
     "output_type": "stream",
     "text": [
      "weight update time: 0.108038\n",
      "weight update time: 0.047357\n"
     ]
    }
   ],
   "source": [
    "(H, Sig_H), (W,Sig_W), (V,Sig_V), max_h, max_w, max_v, Ls, _H_perm = fit(_H, _V, _W, num_hidden,.1, alpha_p, alpha_h)"
   ]
  },
  {
   "cell_type": "code",
   "execution_count": null,
   "metadata": {
    "collapsed": false,
    "deletable": true,
    "editable": true
   },
   "outputs": [],
   "source": [
    "data_h = _H_perm.dot(_W).flatten()\n",
    "data_v = _H_perm.dot(_V).flatten()\n",
    "pred_h = H.dot(W).flatten()\n",
    "pred_v = H.dot(V).flatten()\n",
    "plt.scatter(data_h,pred_h)\n",
    "plt.show()\n",
    "plt.scatter(data_v,pred_v)"
   ]
  },
  {
   "cell_type": "code",
   "execution_count": null,
   "metadata": {
    "collapsed": false,
    "deletable": true,
    "editable": true
   },
   "outputs": [],
   "source": [
    "plt.scatter(range(len(max_h)),max_w, color='blue')\n",
    "plt.scatter(range(len(max_h)),max_v, color='red')\n",
    "plt.scatter(range(len(max_h)),max_h, color='green')"
   ]
  },
  {
   "cell_type": "code",
   "execution_count": null,
   "metadata": {
    "collapsed": false,
    "deletable": true,
    "editable": true
   },
   "outputs": [],
   "source": [
    "n=-1\n",
    "clip = None\n",
    "plt.plot(range(len(Ls[:n])),map(lambda x: x if not clip else min(x,clip),Ls[:n]))"
   ]
  },
  {
   "cell_type": "markdown",
   "metadata": {
    "collapsed": true,
    "deletable": true,
    "editable": true
   },
   "source": [
    "##### "
   ]
  }
 ],
 "metadata": {
  "kernelspec": {
   "display_name": "Python [conda env:pymc3_test]",
   "language": "python",
   "name": "conda-env-pymc3_test-py"
  },
  "language_info": {
   "codemirror_mode": {
    "name": "ipython",
    "version": 2
   },
   "file_extension": ".py",
   "mimetype": "text/x-python",
   "name": "python",
   "nbconvert_exporter": "python",
   "pygments_lexer": "ipython2",
   "version": "2.7.13"
  }
 },
 "nbformat": 4,
 "nbformat_minor": 2
}
