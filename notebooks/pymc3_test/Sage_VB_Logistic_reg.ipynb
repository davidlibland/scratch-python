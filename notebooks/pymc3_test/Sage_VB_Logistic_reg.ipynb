{
 "cells": [
  {
   "cell_type": "code",
   "execution_count": 305,
   "metadata": {
    "collapsed": true
   },
   "outputs": [],
   "source": [
    "def lambdoid(Xi):\n",
    "    return float(tanh(Xi/2)/(4*Xi))"
   ]
  },
  {
   "cell_type": "code",
   "execution_count": 306,
   "metadata": {
    "collapsed": false
   },
   "outputs": [],
   "source": [
    "def update_params(S_N,m_N,S_0,m_0,phi,t):\n",
    "    phis = [vector(phi_n) for phi_n in phi]\n",
    "    Xi2 = [phi_n*(S_N+m_N.outer_product(m_N))*phi_n for phi_n in phis]\n",
    "    Xi = [float(sqrt(Xi2_n)) for Xi2_n in Xi2]\n",
    "    \n",
    "    L_xi = lower_bound(S_N,m_N,S_0,m_0,Xi)\n",
    "    \n",
    "    S_0_inv = S_0.inverse().apply_map(float)\n",
    "    S_N_inv = (S_0_inv+2.*sum(lambdoid(Xi_n)*phi_n.outer_product(phi_n) \n",
    "                              for Xi_n,phi_n in zip(Xi,phis))).apply_map(float)\n",
    "    S_N = S_N_inv.inverse().apply_map(float)\n",
    "    m_N = (S_N*(S_0_inv*m_0+t.apply_map(lambda x:x-0.5)*phi)).apply_map(float)\n",
    "    \n",
    "    L = lower_bound(S_N,m_N,S_0,m_0,Xi)\n",
    "    \n",
    "    return S_N,m_N, L_xi, L"
   ]
  },
  {
   "cell_type": "code",
   "execution_count": 307,
   "metadata": {
    "collapsed": true
   },
   "outputs": [],
   "source": [
    "def lower_bound(S_N,m_N,S_0,m_0,Xi):\n",
    "    S_N_inv = S_N.inverse()\n",
    "    S_0_inv = S_0.inverse()\n",
    "    term_1 = 0.5*float(log((S_N*S_0_inv).det()))+0.5*m_N*S_N_inv*m_N-0.5*m_0*S_0_inv*m_0\n",
    "    term_2 = sum(-float(log(1+exp(-Xi_n)))-0.5*Xi_n+lambdoid(Xi_n)*Xi_n^2 for Xi_n in Xi)\n",
    "    return term_1+term_2"
   ]
  },
  {
   "cell_type": "code",
   "execution_count": 308,
   "metadata": {
    "collapsed": false
   },
   "outputs": [],
   "source": [
    "A = vector(RR,[1,2,3])"
   ]
  },
  {
   "cell_type": "code",
   "execution_count": 309,
   "metadata": {
    "collapsed": false
   },
   "outputs": [],
   "source": [
    "phi = Matrix(RR, 60,3, lambda i,j: normalvariate(0, 1))"
   ]
  },
  {
   "cell_type": "code",
   "execution_count": 360,
   "metadata": {
    "collapsed": false
   },
   "outputs": [],
   "source": [
    "t = (phi*A).apply_map(lambda x: 1/(1+exp(-x)))"
   ]
  },
  {
   "cell_type": "code",
   "execution_count": 361,
   "metadata": {
    "collapsed": false
   },
   "outputs": [],
   "source": [
    "S_0 = matrix.identity(RR,3)*20\n",
    "m_0 = vector(RR,[0,0,0])"
   ]
  },
  {
   "cell_type": "code",
   "execution_count": 362,
   "metadata": {
    "collapsed": false
   },
   "outputs": [],
   "source": [
    "S_N = S_0\n",
    "m_N = m_0"
   ]
  },
  {
   "cell_type": "code",
   "execution_count": 363,
   "metadata": {
    "collapsed": false
   },
   "outputs": [],
   "source": [
    "Ls = []\n",
    "for i in range(20):\n",
    "    S_N,m_N, L_xi, L = update_params(S_N,m_N,S_0,m_0,phi,t)\n",
    "    Ls.append(L_xi)\n",
    "    Ls.append(L)"
   ]
  },
  {
   "cell_type": "code",
   "execution_count": 364,
   "metadata": {
    "collapsed": false
   },
   "outputs": [],
   "source": [
    "import matplotlib.pyplot as plt\n",
    "%matplotlib inline"
   ]
  },
  {
   "cell_type": "code",
   "execution_count": 365,
   "metadata": {
    "collapsed": false
   },
   "outputs": [
    {
     "data": {
      "text/plain": [
       "[<matplotlib.lines.Line2D object at 0x244dc7590>]"
      ]
     },
     "execution_count": 365,
     "metadata": {},
     "output_type": "execute_result"
    },
    {
     "data": {
      "image/png": "[encoded data removed]",
      "text/plain": [
       "<matplotlib.figure.Figure object at 0x2449a6290>"
      ]
     },
     "metadata": {},
     "output_type": "display_data"
    }
   ],
   "source": [
    "plt.plot(range(len(Ls)),Ls)"
   ]
  },
  {
   "cell_type": "code",
   "execution_count": 357,
   "metadata": {
    "collapsed": false
   },
   "outputs": [
    {
     "data": {
      "text/plain": [
       "(1.0336855757826204, 2.096017673360709, 3.0947170456575765)"
      ]
     },
     "execution_count": 357,
     "metadata": {},
     "output_type": "execute_result"
    }
   ],
   "source": [
    "m_N"
   ]
  },
  {
   "cell_type": "code",
   "execution_count": 358,
   "metadata": {
    "collapsed": false
   },
   "outputs": [
    {
     "data": {
      "text/plain": [
       "(1.00000000000000, 2.00000000000000, 3.00000000000000)"
      ]
     },
     "execution_count": 358,
     "metadata": {},
     "output_type": "execute_result"
    }
   ],
   "source": [
    "A"
   ]
  },
  {
   "cell_type": "code",
   "execution_count": 359,
   "metadata": {
    "collapsed": false
   },
   "outputs": [
    {
     "data": {
      "text/plain": [
       "(array([  6.,   1.,   4.,   4.,   6.,   6.,  10.,   9.,   4.,   4.,   2.,\n",
       "          2.,   0.,   1.,   1.]),\n",
       " array([-7.49418948, -6.3320729 , -5.16995632, -4.00783974, -2.84572316,\n",
       "        -1.68360658, -0.52149   ,  0.64062658,  1.80274316,  2.96485974,\n",
       "         4.12697632,  5.2890929 ,  6.45120948,  7.61332606,  8.77544264,\n",
       "         9.93755922]),\n",
       " <a list of 15 Patch objects>)"
      ]
     },
     "execution_count": 359,
     "metadata": {},
     "output_type": "execute_result"
    },
    {
     "data": {
      "image/png": "[encoded data removed]",
      "text/plain": [
       "<matplotlib.figure.Figure object at 0x2449c1d10>"
      ]
     },
     "metadata": {},
     "output_type": "display_data"
    }
   ],
   "source": [
    "plt.hist(phi*m_N-t,bins=15)"
   ]
  },
  {
   "cell_type": "code",
   "execution_count": null,
   "metadata": {
    "collapsed": true
   },
   "outputs": [],
   "source": []
  }
 ],
 "metadata": {
  "kernelspec": {
   "display_name": "SageMath 7.6",
   "language": "",
   "name": "sagemath"
  },
  "language_info": {
   "codemirror_mode": {
    "name": "ipython",
    "version": 2
   },
   "file_extension": ".py",
   "mimetype": "text/x-python",
   "name": "python",
   "nbconvert_exporter": "python",
   "pygments_lexer": "ipython2",
   "version": "2.7.13"
  }
 },
 "nbformat": 4,
 "nbformat_minor": 2
}
