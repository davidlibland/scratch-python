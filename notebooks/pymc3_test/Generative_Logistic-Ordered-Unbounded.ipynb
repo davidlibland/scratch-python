{
 "cells": [
  {
   "cell_type": "code",
   "execution_count": 1,
   "metadata": {
    "collapsed": true,
    "deletable": true,
    "editable": true
   },
   "outputs": [],
   "source": [
    "import numpy as np\n",
    "from random import shuffle\n",
    "import matplotlib.pyplot as plt\n",
    "%matplotlib inline"
   ]
  },
  {
   "cell_type": "markdown",
   "metadata": {
    "deletable": true,
    "editable": true
   },
   "source": [
    "Create some sample data:"
   ]
  },
  {
   "cell_type": "code",
   "execution_count": 2,
   "metadata": {
    "collapsed": false,
    "deletable": true,
    "editable": true
   },
   "outputs": [],
   "source": [
    "num_dxs = 5\n",
    "num_findings = 10\n",
    "avg_ddx_length = 3\n",
    "ddx_max_length = 5 # this is the max length our graphical model can handle.\n",
    "sample_size = 10"
   ]
  },
  {
   "cell_type": "code",
   "execution_count": 3,
   "metadata": {
    "collapsed": true,
    "deletable": true,
    "editable": true
   },
   "outputs": [],
   "source": [
    "_W = np.random.randn(num_dxs, num_findings)"
   ]
  },
  {
   "cell_type": "code",
   "execution_count": 4,
   "metadata": {
    "collapsed": false,
    "deletable": true,
    "editable": true
   },
   "outputs": [],
   "source": [
    "def generate_random_case(num_dxs, num_findings, avg_ddx_length, w):\n",
    "    \"\"\"\n",
    "    Generates a random case.\n",
    "\n",
    "    Parameters:\n",
    "        num_dxs (:class:`int`): the number of possible diagnoses\n",
    "        num_findings (:class:`int`): the number of possible findings\n",
    "        avg_ddx_length (:class:`int`): the average number of diagnoses in a differential\n",
    "        W (:class:`np.array`): a weight matrix which correlates findings and diagnoses\n",
    "\n",
    "    Returns:\n",
    "        2-:class:`tuple` whose first component is a list of diagnoses, and whose second component is a list \n",
    "        of findings present.\n",
    "    \"\"\"\n",
    "\n",
    "    def invlogit(x):\n",
    "        return 1. / (1 + np.exp(-x))\n",
    "\n",
    "    hidden_x = np.random.laplace(loc=0., scale=1., size=num_dxs)\n",
    "\n",
    "    findings_hot = np.random.binomial(n=1, p=invlogit(np.dot(hidden_x,w)))\n",
    "    findings = [i for i in range(num_findings) if findings_hot[i] == 1]\n",
    "\n",
    "    ddx_length = np.random.poisson(avg_ddx_length)\n",
    "\n",
    "    from heapq import nlargest\n",
    "    ddx = nlargest(ddx_length, range(num_dxs), key=lambda i: hidden_x[i])\n",
    "\n",
    "    return (ddx, findings)"
   ]
  },
  {
   "cell_type": "code",
   "execution_count": 5,
   "metadata": {
    "collapsed": false,
    "deletable": true,
    "editable": true
   },
   "outputs": [],
   "source": [
    "minibatch = []\n",
    "for _ in range(sample_size):\n",
    "    minibatch.append(generate_random_case(num_dxs,\n",
    "                                          num_findings,\n",
    "                                          avg_ddx_length,\n",
    "                                          _W))\n"
   ]
  },
  {
   "cell_type": "markdown",
   "metadata": {
    "deletable": true,
    "editable": true
   },
   "source": [
    "Ok, now we write code to process the data (so that we can feed it to our graphical model)"
   ]
  },
  {
   "cell_type": "code",
   "execution_count": 6,
   "metadata": {
    "collapsed": false,
    "deletable": true,
    "editable": true
   },
   "outputs": [],
   "source": [
    "def _create_diff_tensor_a(minibatch_size, num_dxs):\n",
    "    return np.tile(np.eye(num_dxs)[:, :, np.newaxis] - np.eye(num_dxs)[:, np.newaxis, :], [minibatch_size, 1, 1, 1])\n",
    "\n",
    "def _create_reordered_diff_tensor_a(ddx_max_length, ddxs_extended):\n",
    "    minibatch_size = len(ddxs_extended)\n",
    "    num_dxs = len(ddxs_extended[0])\n",
    "    assert ddx_max_length <= num_dxs, \"ddx_max_length: %d, num_dxs: %d\"%(ddx_max_length,num_dxs)\n",
    "    diff_tensor = np.zeros([minibatch_size,num_dxs,ddx_max_length,num_dxs])\n",
    "    for n in range(minibatch_size):\n",
    "        assert len(ddxs_extended[n]) == num_dxs,\\\n",
    "            \"for each n, need len(ddxs_extended[n]) == len(ddxs_extended[0]), but \\n\"+\\\n",
    "            \"len(ddxs_extended[%d])==%d! and len(ddxs_extended[0])==%d\"\\\n",
    "            %(n,len(ddxs_extended[n]),len(ddxs_extended[0]))\n",
    "        for i in range(ddx_max_length):\n",
    "            for j in range(num_dxs):\n",
    "                diff_tensor[n,ddxs_extended[n][i],i,j] +=1\n",
    "        for i in range(num_dxs):\n",
    "            for j in range(ddx_max_length):\n",
    "                diff_tensor[n,ddxs_extended[n][i],j,i] -=1\n",
    "    return diff_tensor\n",
    "\n",
    "\n",
    "def _create_first_axes_reordered_diff_tensor_a(ddx_max_length, ddxs_extended):\n",
    "    minibatch_size = len(ddxs_extended)\n",
    "    num_dxs = len(ddxs_extended[0])\n",
    "    assert ddx_max_length <= num_dxs, \"ddx_max_length: %d, num_dxs: %d\"%(ddx_max_length,num_dxs)\n",
    "    diff_tensor = np.zeros([minibatch_size,num_dxs,ddx_max_length,num_dxs])\n",
    "    for n in range(minibatch_size):\n",
    "        assert len(ddxs_extended[n]) == num_dxs,\\\n",
    "            \"for each n, need len(ddxs_extended[n]) == len(ddxs_extended[0]), but \\n\"+\\\n",
    "            \"len(ddxs_extended[%d])==%d! and len(ddxs_extended[0])==%d\"\\\n",
    "            %(n,len(ddxs_extended[n]),len(ddxs_extended[0]))\n",
    "        for i in range(ddx_max_length):\n",
    "            for j in range(num_dxs):\n",
    "                diff_tensor[n,ddxs_extended[n][i],i,j] +=1\n",
    "        for i in range(num_dxs):\n",
    "            for j in range(ddx_max_length):\n",
    "                diff_tensor[n,i,j,i] -=1\n",
    "    return diff_tensor\n",
    "\n",
    "def _create_order_projection_tensor(ddx_max_length, ddxs_extended):\n",
    "    minibatch_size = len(ddxs_extended)\n",
    "    num_dxs = len(ddxs_extended[0])\n",
    "    assert ddx_max_length <= num_dxs, \"ddx_max_length: %d, num_dxs: %d\"%(ddx_max_length,num_dxs)\n",
    "    reord_proj_tensor = np.zeros([minibatch_size,num_dxs,ddx_max_length])\n",
    "    for n in range(minibatch_size):\n",
    "        assert len(ddxs_extended[n]) == num_dxs,\\\n",
    "            \"for each n, need len(ddxs_extended[n]) == len(ddxs_extended[0]), but \\n\"+\\\n",
    "            \"len(ddxs_extended[%d])==%d! and len(ddxs_extended[0])==%d\"\\\n",
    "            %(n,len(ddxs_extended[n]),len(ddxs_extended[0]))\n",
    "        for i in range(ddx_max_length):\n",
    "            reord_proj_tensor[n,ddxs_extended[n][i],i] +=1\n",
    "    return reord_proj_tensor\n",
    "\n",
    "\n",
    "def _prepare_data_batch(data, num_dxs, num_findings, ddx_max_length):\n",
    "    ddx_max_length = min(ddx_max_length,num_dxs) # ensure ddx_max_length is a lower bound.\n",
    "\n",
    "    from itertools import ifilterfalse\n",
    "    \n",
    "    ddxs = []\n",
    "    ddxs_extended = []\n",
    "    ddx_lens = []\n",
    "    findings_hot_list = []\n",
    "    for ddx, findings in data:\n",
    "        ddx_extended = ddx + list(ifilterfalse(ddx.__contains__, range(num_dxs)))\n",
    "        ddxs.append(ddx_extended)\n",
    "        ddx_lens.append(min(ddx_max_length, len(ddx)))\n",
    "\n",
    "        findings_hot = np.zeros(num_findings, dtype=np.int)\n",
    "        findings_hot[findings] = 1\n",
    "        findings_hot_list.append(findings_hot)\n",
    "\n",
    "    N = len(ddxs)\n",
    "    reordered_diff_tensor = _create_first_axes_reordered_diff_tensor_a(ddx_max_length,ddxs)\n",
    "    \n",
    "    reord_proj_tensor = _create_order_projection_tensor(ddx_max_length,ddxs)\n",
    "\n",
    "    indicator_array = np.ma.ones([N,ddx_max_length,num_dxs])\n",
    "    for n in range(N):\n",
    "        for i in range(0,ddx_max_length):\n",
    "            for j in range(i):\n",
    "                indicator_array[n,i,ddxs[n][j]] = 0\n",
    "            indicator_array[n,i,ddxs[n][i]] = np.ma.masked\n",
    "\n",
    "    for n,cur_ddx_len in enumerate(ddx_lens):\n",
    "        indicator_array[n,cur_ddx_len:,:] = np.ma.masked\n",
    "\n",
    "    return (indicator_array, reordered_diff_tensor, np.array(findings_hot_list), reord_proj_tensor)\n"
   ]
  },
  {
   "cell_type": "code",
   "execution_count": 7,
   "metadata": {
    "collapsed": false,
    "deletable": true,
    "editable": true
   },
   "outputs": [],
   "source": [
    "data = minibatch\n",
    "preped_data = _prepare_data_batch(data,num_dxs,num_findings,ddx_max_length)\n",
    "dx_order_indicator_array_data, diff_tensor_data, findings_data, reord_proj_tensor = preped_data"
   ]
  },
  {
   "cell_type": "markdown",
   "metadata": {
    "deletable": true,
    "editable": true
   },
   "source": [
    "Code the probabilisitic model in pymc3:"
   ]
  },
  {
   "cell_type": "code",
   "execution_count": 8,
   "metadata": {
    "collapsed": false,
    "deletable": true,
    "editable": true
   },
   "outputs": [],
   "source": [
    "from pymc3 import Model, Categorical, Bernoulli, Normal, Laplace, Dirichlet, Uniform, find_MAP\n",
    "import theano.tensor as tt\n",
    "#from pymc3.math import sigmoid"
   ]
  },
  {
   "cell_type": "code",
   "execution_count": 9,
   "metadata": {
    "collapsed": true,
    "deletable": true,
    "editable": true
   },
   "outputs": [],
   "source": [
    "def _build_graphical_model(dx_order_indicator_array_data, diff_tensor_data, findings_data):\n",
    "        \"\"\"\n",
    "        Builds the graphical model and ties the observable variables to the data. You can pass a batch of \n",
    "        :class:`int` `size` data; with :class:`int` `num_dxs` possible diagnoses, :class:`int` `num_findings`\n",
    "        possible findings, and :class:`int` `ddx_max_length` maximum diagnoses in a given differential.\n",
    "    \n",
    "        Parameters:\n",
    "            dx_order_indicator_array_data (:class:`np.array`): should be of shape \n",
    "                [`size`,`ddx_max_length`,`num_dxs`].\n",
    "            diff_tensor_data (:class:`np.array`): should be of shape \n",
    "                [`size`,`num_dxs`,`ddx_max_length`,`num_dxs`].\n",
    "            findings_data (:class:`np.array`): should be of shape \n",
    "                [`size`,`num_findings`]. \n",
    "    \n",
    "        Returns:\n",
    "            4-:tuple: containing (x, dx_order, W, findings), where\n",
    "                x (:class:`Normal`): are hidden variables\n",
    "                dx_order (:class:`Bernoulli`): indicate the order of diagnoses in the differential\n",
    "                W (:class:`Normal`): is a matrix of parameters relating diagnoses to findings\n",
    "                findings (:class:`Bernoulli`): indicate the presence of findings\n",
    "    \n",
    "        \"\"\"\n",
    "        # sigmoid function\n",
    "        def invlogit(x):\n",
    "            return 1. / (1 + tt.exp(-x))\n",
    "\n",
    "        size, ddx_max_length, num_dxs = dx_order_indicator_array_data.shape\n",
    "        num_findings = findings_data.shape[1]\n",
    "\n",
    "        x = Normal(\"x\", mu=0, sd=10, shape=[size, num_dxs])\n",
    "        dx_order_p = invlogit(tt.batched_tensordot(x, diff_tensor_data,axes=[1,1]))\n",
    "        dx_order = Bernoulli(\"dx_order\", p=dx_order_p, observed=dx_order_indicator_array_data)\n",
    "\n",
    "        W = Normal('W', mu=0., sd=10., shape=[num_dxs, num_findings])\n",
    "        \n",
    "        findings_p = invlogit(tt.tensordot(x, W, axes=[1,0]))\n",
    "        findings = Bernoulli(\"findings\", findings_p, observed=findings_data)\n",
    "\n",
    "        return (x, dx_order, W, findings)\n",
    "\n",
    "def _sp_build_graphical_model(dx_order_indicator_array_data, reord_proj_tensor, findings_data):\n",
    "    \"\"\"\n",
    "    Builds the graphical model and ties the observable variables to the data. You can pass a batch of \n",
    "    :class:`int` `size` data; with :class:`int` `num_dxs` possible diagnoses, :class:`int` `num_findings`\n",
    "    possible findings, and :class:`int` `ddx_max_length` maximum diagnoses in a given differential.\n",
    "\n",
    "    Parameters:\n",
    "        dx_order_indicator_array_data (:class:`np.array`): should be of shape \n",
    "            [`size`,`ddx_max_length`,`num_dxs`].\n",
    "        diff_tensor_data (:class:`np.array`): should be of shape \n",
    "            [`size`,`num_dxs`,`ddx_max_length`,`num_dxs`].\n",
    "        findings_data (:class:`np.array`): should be of shape \n",
    "            [`size`,`num_findings`]. \n",
    "\n",
    "    Returns:\n",
    "        4-:tuple: containing (x, dx_order, W, findings), where\n",
    "            x (:class:`Normal`): are hidden variables\n",
    "            dx_order (:class:`Bernoulli`): indicate the order of diagnoses in the differential\n",
    "            W (:class:`Normal`): is a matrix of parameters relating diagnoses to findings\n",
    "            findings (:class:`Bernoulli`): indicate the presence of findings\n",
    "\n",
    "    \"\"\"\n",
    "    # sigmoid function\n",
    "    def invlogit(x):\n",
    "        return 1. / (1 + tt.exp(-x))\n",
    "\n",
    "    size, ddx_max_length, num_dxs = dx_order_indicator_array_data.shape\n",
    "    num_findings = findings_data.shape[1]\n",
    "\n",
    "    x = Normal(\"x\", mu=0, sd=10, shape=[size, num_dxs])\n",
    "    dx_order_s_1 = tt.batched_tensordot(x, reord_proj_tensor,axes=[1,1])\n",
    "    dx_order_s_1 = tt.reshape(dx_order_s_1,[size,ddx_max_length,1])\n",
    "    dx_order_s_2 = tt.reshape(x,[size,1,num_dxs])\n",
    "    dx_order_p = invlogit(tt.tile(dx_order_s_1,[1,1,num_dxs])-tt.tile(dx_order_s_2,[1,ddx_max_length,1]))\n",
    "    dx_order = Bernoulli(\"dx_order\", p=dx_order_p, observed=dx_order_indicator_array_data)\n",
    "\n",
    "    W = Normal('W', mu=0., sd=10., shape=[num_dxs, num_findings])\n",
    "\n",
    "    findings_p = invlogit(tt.tensordot(x, W, axes=[1,0]))\n",
    "    findings = Bernoulli(\"findings\", findings_p, observed=findings_data)\n",
    "\n",
    "    return (x, dx_order, W, findings)"
   ]
  },
  {
   "cell_type": "code",
   "execution_count": 10,
   "metadata": {
    "collapsed": false,
    "deletable": true,
    "editable": true
   },
   "outputs": [],
   "source": [
    "with Model() as med_model:\n",
    "    x, dx_order, W, findings = _sp_build_graphical_model(dx_order_indicator_array_data,\n",
    "                                                      reord_proj_tensor,\n",
    "                                                      findings_data)\n",
    "    \n",
    "    "
   ]
  },
  {
   "cell_type": "markdown",
   "metadata": {
    "deletable": true,
    "editable": true
   },
   "source": [
    "  Fit the model (using a MAP estimate - really this is EM, but ok...):"
   ]
  },
  {
   "cell_type": "code",
   "execution_count": 11,
   "metadata": {
    "collapsed": false,
    "deletable": true,
    "editable": true
   },
   "outputs": [
    {
     "name": "stdout",
     "output_type": "stream",
     "text": [
      "Optimization terminated successfully.\n",
      "         Current function value: 400.545116\n",
      "         Iterations: 242\n",
      "         Function evaluations: 260\n",
      "         Gradient evaluations: 258\n"
     ]
    }
   ],
   "source": [
    "map_estimate = find_MAP(model=med_model)"
   ]
  },
  {
   "cell_type": "markdown",
   "metadata": {
    "deletable": true,
    "editable": true
   },
   "source": [
    "Compare the estimate to the generating parameters..."
   ]
  },
  {
   "cell_type": "code",
   "execution_count": 12,
   "metadata": {
    "collapsed": false,
    "deletable": true,
    "editable": true
   },
   "outputs": [
    {
     "data": {
      "image/png": "[encoded data removed]",
      "text/plain": [
       "<matplotlib.figure.Figure at 0x116b21810>"
      ]
     },
     "metadata": {},
     "output_type": "display_data"
    }
   ],
   "source": [
    "plt.hist(1./(1+np.exp(-map_estimate['x'].dot(map_estimate['W'])))\n",
    "         -findings_data)\n",
    "plt.show()"
   ]
  },
  {
   "cell_type": "code",
   "execution_count": 13,
   "metadata": {
    "collapsed": false,
    "deletable": true,
    "editable": true
   },
   "outputs": [
    {
     "data": {
      "image/png": "[encoded data removed]",
      "text/plain": [
       "<matplotlib.figure.Figure at 0x116580710>"
      ]
     },
     "metadata": {},
     "output_type": "display_data"
    }
   ],
   "source": [
    "comparison = 1./(1+np.exp(-np.einsum('ij,ijkl->ikl',map_estimate['x'],diff_tensor_data)))-dx_order_indicator_array_data\n",
    "plt.hist(comparison.reshape([-1]))\n",
    "plt.show()"
   ]
  },
  {
   "cell_type": "code",
   "execution_count": 16,
   "metadata": {
    "collapsed": false,
    "deletable": true,
    "editable": true
   },
   "outputs": [
    {
     "data": {
      "text/plain": [
       "array([0, 0, 0, 0, 0, 0, 0, 0, 0, 0, 0, 0, 0, 0, 0, 0, 0, 0, 0, 0, 0, 0, 0,\n",
       "       0, 0, 0, 0, 0, 0, 0, 0, 0, 0, 0, 0, 0, 0, 0, 0, 0, 0, 0, 0, 0, 0, 0,\n",
       "       0, 0, 0, 0, 0, 0, 0, 0, 0, 0, 0, 0, 0, 0, 0, 0, 0, 0, 0, 0, 0, 0, 0,\n",
       "       0, 0, 0, 0, 0, 0, 0, 0, 0, 0, 0, 0, 0, 0, 0, 0, 0, 0, 0, 0, 0, 0, 0,\n",
       "       0, 0, 0, 0, 0, 0, 0, 0, 0, 0, 0, 0, 0, 0, 0, 0, 0, 0, 0, 0, 0, 0, 0,\n",
       "       0, 0, 0, 0, 0, 0, 0, 0, 0, 0, 0, 0, 0, 0, 0, 0, 0, 0, 0, 0, 0, 0, 0,\n",
       "       0, 0, 0, 0])"
      ]
     },
     "execution_count": 16,
     "metadata": {},
     "output_type": "execute_result"
    }
   ],
   "source": [
    "map_estimate['dx_order_missing']"
   ]
  },
  {
   "cell_type": "code",
   "execution_count": null,
   "metadata": {
    "collapsed": true
   },
   "outputs": [],
   "source": []
  }
 ],
 "metadata": {
  "kernelspec": {
   "display_name": "Python [default]",
   "language": "python",
   "name": "python2"
  },
  "language_info": {
   "codemirror_mode": {
    "name": "ipython",
    "version": 2
   },
   "file_extension": ".py",
   "mimetype": "text/x-python",
   "name": "python",
   "nbconvert_exporter": "python",
   "pygments_lexer": "ipython2",
   "version": "2.7.13"
  }
 },
 "nbformat": 4,
 "nbformat_minor": 2
}
