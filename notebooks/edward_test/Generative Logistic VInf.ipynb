{
 "cells": [
  {
   "cell_type": "code",
   "execution_count": 2,
   "metadata": {
    "collapsed": false,
    "deletable": true,
    "editable": true
   },
   "outputs": [],
   "source": [
    "from __future__ import absolute_import\n",
    "from __future__ import division\n",
    "from __future__ import print_function\n",
    "\n",
    "import edward as ed\n",
    "import numpy as np\n",
    "import tensorflow as tf\n",
    "\n",
    "from edward.models import Bernoulli, Normal, Categorical, Dirichlet, Uniform, Multinomial, Empirical\n",
    "from edward.util import Progbar"
   ]
  },
  {
   "cell_type": "markdown",
   "metadata": {
    "deletable": true,
    "editable": true
   },
   "source": [
    "Create some sample data:"
   ]
  },
  {
   "cell_type": "code",
   "execution_count": 3,
   "metadata": {
    "collapsed": true,
    "deletable": true,
    "editable": true
   },
   "outputs": [],
   "source": [
    "sample_size = 1000\n",
    "obs_cond = np.random.choice([0,1,2],[sample_size],p=[.7,.1,.2]) # cold = 0, flu = 1, allergies = 2\n",
    "\n",
    "runny_nose_cold = np.random.choice([0,1],[sample_size],p=[.1,.9])\n",
    "headache_cold = np.random.choice([0,1],[sample_size],p=[.5,.5])\n",
    "fever_cold = np.random.choice([0,1],[sample_size],p=[.99,.01])\n",
    "\n",
    "runny_nose_flu = np.random.choice([0,1],[sample_size],p=[.5,.5])\n",
    "headache_flu = np.random.choice([0,1],[sample_size],p=[.5,.5])\n",
    "fever_flu = np.random.choice([0,1],[sample_size],p=[.5,.5])\n",
    "\n",
    "runny_nose_al = np.random.choice([0,1],[sample_size],p=[.1,.9])\n",
    "headache_al = np.random.choice([0,1],[sample_size],p=[.99,.01])\n",
    "fever_al = np.random.choice([0,1],[sample_size],p=[.99,.01])\n",
    "\n",
    "runny_nose = np.stack([runny_nose_cold,runny_nose_flu,runny_nose_al])\n",
    "headache = np.stack([headache_cold,headache_flu,headache_al])\n",
    "fever = np.stack([fever_cold,fever_flu,fever_al])"
   ]
  },
  {
   "cell_type": "code",
   "execution_count": 4,
   "metadata": {
    "collapsed": true,
    "deletable": true,
    "editable": true
   },
   "outputs": [],
   "source": [
    "obs_runny_nose = np.array([runny_nose[j,i] for i,j in enumerate(obs_cond)])\n",
    "obs_headache = np.array([headache[j,i] for i,j in enumerate(obs_cond)])\n",
    "obs_fever = np.array([fever[j,i] for i,j in enumerate(obs_cond)])"
   ]
  },
  {
   "cell_type": "code",
   "execution_count": 8,
   "metadata": {
    "collapsed": false,
    "deletable": true,
    "editable": true
   },
   "outputs": [],
   "source": [
    "cat_p = Normal(tf.constant([.3,.3,.4]),sigma=tf.ones(3))\n",
    "cond = Categorical(name='cond', logits=tf.ones([sample_size,3])*cat_p)\n",
    "    \n",
    "W = Normal(mu=tf.zeros([3,3]),name='W',sigma=tf.ones([3,3]))\n",
    "    \n",
    "runny_nose = Bernoulli(name='runny_nose',logits=tf.gather(W[0,:],cond))\n",
    "headache = Bernoulli(name='headache',logits=tf.gather(W[1,:],cond))\n",
    "fever = Bernoulli(name='fever',logits=tf.gather(W[2,:],cond))"
   ]
  },
  {
   "cell_type": "code",
   "execution_count": 12,
   "metadata": {
    "collapsed": false,
    "deletable": true,
    "editable": true
   },
   "outputs": [],
   "source": [
    "qcondv = Categorical(name='qcondv', logits=tf.Variable(tf.zeros([sample_size,3],dtype=tf.float32)))\n",
    "qcat_p = Normal(mu=tf.Variable(tf.zeros(3)),sigma=tf.exp(tf.Variable(tf.zeros(3))))\n",
    "qW = Normal(mu=tf.Variable(tf.zeros([3, 3])),sigma=tf.exp(tf.Variable(tf.zeros([3, 3]))))\n",
    "\n",
    "v_inf = ed.KLqp({W:qW,cat_p:qcat_p},\n",
    "                                {cond:obs_cond,runny_nose:obs_runny_nose,\n",
    "                                 headache:obs_headache,fever:obs_fever})\n"
   ]
  },
  {
   "cell_type": "code",
   "execution_count": 13,
   "metadata": {
    "collapsed": false,
    "deletable": true,
    "editable": true
   },
   "outputs": [
    {
     "name": "stdout",
     "output_type": "stream",
     "text": [
      "1000/1000 [100%] ██████████████████████████████ Elapsed: 4s | Loss: 1884.899\b\b\b\b\b\b\b\b\b\b\b\b\b\b\b\b\b\b\b\b\b\b\b\b\b\b\b\b\b\b\b\b\b\b\b\b\b\b\b\b\b\b\b\b\b\b\b\b\b\b\b\b\b\b\b\b\b\b\b\b\b\b\b\b\b\b\b\b\b\b\b\b\b\b\b\b\b\b\b\b\b\b\b\b\b\b\b\b\b\b\b\b\b\b\b\b\b\b\b\b\b\b\b\b\b\b\b\b\b\b\b\b\b\b\b\b\b\b\b\b\b\b\b\b\b\b\b\b\b\b\b\b\b\b\b\b\b\b\b\b\b\b\b\b\b\b\b\b\b\b\b\b\b\b\b\b\b\b\b\b\b\b\b\b\b\b\b\b\b\b\b\b\b\b\b\b\b\b\b\b\b\b\b\b\b\b\b\b\b\b\b\b\b\b\b\b\b\b\b\b\b\b\b\b\b\b\b\b\b\b\b\b\b\b\b\b\b\b\b\b\b\b\b\b\b\b\b\b\b\b\b\b\b\b\b\b\b\b\b\b\b\b\b\b\b\b\b\b\b\b\b\b\b\b\b\b\b\b\b\b\b\b\b\b\b\b\b\b\b\b\b\b\b\b\b\b\b\b\b\b\b\b\b\b\b\b\b\b\b\b\b\b\b\b\b\b\b\b\b\b\b\b\b\b\b\b\b\b\b\b\b\b\b\b\b\b\b\b\b\b\b\b\b\b\b\b\b\b\b\b\b\b\b\b\b\b\b\b\b\b\b\b\b\b\b\b\b\b\b\b\b\b\b\b\b\b\b\b\b\b\b\b\b\b\b\b\b\b\b\b\b\b\b\b\b\b\b\b\b\b\b\b\b\b\b\b\b\b\b\b\b\b\b\b\b\b\b\b\b\b\b\b\b\b\b\b\b\b\b\b\b\b\b\b\b\b\b\b\b\b\b\b\b\b\b\b\b\b\b\b\b\b\b\b\b\b\b\b\b\b\b\b\b\b\b\b\b\b\b\b\b\b\b\b\b\b\b\b\b\b\b\b\b\b\b\b\b\b\b\b\b\b\b\b\b\b\b\b\b\b\b\b\b\b\b\b\b\b\b\b\b\b\b\b\b\b\b\b\b\b\b\b\b\b\b\b\b\b\b\b\b\b\b\b\b\b\b\b\b\b\b\b\b\b\b\b\b\b\b\b\b\b\b\b\b\b\b\b\b\b\b\b\b\b\b\b\b\b\b\b\b\b\b\b\b\b\b\b\b\b\b\b\b\b\b\b\b\b\b\b\b\b\b\b\b\b\b\b\b\b\b\b\b\b\b\b\b\b\b\b\b\b\b\b\b\b\b\b\b\b\b\b\b\b\b\b\b\b\b\b\b\b\b\b\b\b\b\b\b\b\b\b\b\b\b\b\b\b\b\b\b\b\b\b\b\b\b\b\b\b\b\b\b\b\b\b\b\b\b\b\b\b\b\b\b\b\b\b\b\b\b\b\b\b\b\b\b\b\b\b\b\b\b\b\b\b\b\b\b\b\b\b\b\b\b\b\b\b\b\b\b\b\b\b\b\b\b\b\b\b\b\b\b\b\b\b\b\b\b\b\b\b\b\b\b\b\b\b\b\b\b\b\b\n"
     ]
    }
   ],
   "source": [
    "v_inf.run()"
   ]
  },
  {
   "cell_type": "code",
   "execution_count": 16,
   "metadata": {
    "collapsed": false,
    "deletable": true,
    "editable": true
   },
   "outputs": [
    {
     "data": {
      "text/plain": [
       "array([[ 0.90204674,  0.62354219,  0.86009485],\n",
       "       [ 0.51929134,  0.50788581,  0.02809707],\n",
       "       [ 0.01322606,  0.45269677,  0.02887411]], dtype=float32)"
      ]
     },
     "execution_count": 16,
     "metadata": {},
     "output_type": "execute_result"
    }
   ],
   "source": [
    "np.mean(tf.sigmoid(qW.sample(100)).eval(),axis=0)"
   ]
  },
  {
   "cell_type": "code",
   "execution_count": null,
   "metadata": {
    "collapsed": true,
    "deletable": true,
    "editable": true
   },
   "outputs": [],
   "source": []
  }
 ],
 "metadata": {
  "kernelspec": {
   "display_name": "Python [conda env:edward_test]",
   "language": "python",
   "name": "conda-env-edward_test-py"
  },
  "language_info": {
   "codemirror_mode": {
    "name": "ipython",
    "version": 3
   },
   "file_extension": ".py",
   "mimetype": "text/x-python",
   "name": "python",
   "nbconvert_exporter": "python",
   "pygments_lexer": "ipython3",
   "version": "3.6.1"
  }
 },
 "nbformat": 4,
 "nbformat_minor": 2
}
