{
 "cells": [
  {
   "cell_type": "code",
   "execution_count": 1,
   "metadata": {
    "collapsed": true
   },
   "outputs": [],
   "source": [
    "from __future__ import absolute_import\n",
    "from __future__ import division\n",
    "from __future__ import print_function\n",
    "\n",
    "import edward as ed\n",
    "import numpy as np\n",
    "import tensorflow as tf\n",
    "\n",
    "from edward.models import Bernoulli, Normal, Categorical, Dirichlet, Uniform, Multinomial, Empirical\n",
    "from edward.util import Progbar"
   ]
  },
  {
   "cell_type": "code",
   "execution_count": 57,
   "metadata": {
    "collapsed": true
   },
   "outputs": [],
   "source": [
    "N=1000\n",
    "x0 = 50."
   ]
  },
  {
   "cell_type": "code",
   "execution_count": 78,
   "metadata": {
    "collapsed": false
   },
   "outputs": [],
   "source": [
    "mu = Normal(mu=tf.constant(0.),sigma=tf.constant(10.))\n",
    "samples = Normal(mu=tf.ones(N)*mu,sigma=tf.ones(N)*tf.constant(1.))"
   ]
  },
  {
   "cell_type": "code",
   "execution_count": 86,
   "metadata": {
    "collapsed": false
   },
   "outputs": [],
   "source": [
    "data = np.random.randn(N)+x0\n",
    "data_msked = np.ma.masked_where(np.random.rand(N)>0.9,data)"
   ]
  },
  {
   "cell_type": "code",
   "execution_count": 96,
   "metadata": {
    "collapsed": false
   },
   "outputs": [],
   "source": [
    "samp_known = tf.boolean_mask(samples,np.logical_not(data_msked.mask))\n",
    "samp_unk = tf.boolean_mask(samples,data_msked.mask)\n",
    "len_unk = data[data_msked.mask].shape[0]\n",
    "\n",
    "qmu = Normal(mu=tf.Variable(tf.constant(0.)),sigma=tf.exp(tf.Variable(tf.constant(10.))))\n",
    "qS = Normal(mu=tf.Variable(tf.ones(len_unk)*tf.constant(0.)),sigma=tf.exp(tf.Variable(tf.ones(len_unk)*tf.constant(10.))))\n",
    "\n",
    "\n",
    "inf = ed.KLpq({mu:qmu,samp_unk:qS},{samp_known:data[np.logical_not(data_msked.mask)]})"
   ]
  },
  {
   "cell_type": "code",
   "execution_count": 97,
   "metadata": {
    "collapsed": false
   },
   "outputs": [
    {
     "ename": "AttributeError",
     "evalue": "'Tensor' object has no attribute 'log_prob'",
     "output_type": "error",
     "traceback": [
      "\u001b[0;31m---------------------------------------------------------------------------\u001b[0m",
      "\u001b[0;31mAttributeError\u001b[0m                            Traceback (most recent call last)",
      "\u001b[0;32m<ipython-input-97-065b1d8ca4e6>\u001b[0m in \u001b[0;36m<module>\u001b[0;34m()\u001b[0m\n\u001b[0;32m----> 1\u001b[0;31m \u001b[0minf\u001b[0m\u001b[0;34m.\u001b[0m\u001b[0mrun\u001b[0m\u001b[0;34m(\u001b[0m\u001b[0;34m)\u001b[0m\u001b[0;34m\u001b[0m\u001b[0m\n\u001b[0m",
      "\u001b[0;32m/Users/libland/miniconda2/envs/edward_test/lib/python3.6/site-packages/edward/inferences/inference.py\u001b[0m in \u001b[0;36mrun\u001b[0;34m(self, variables, use_coordinator, *args, **kwargs)\u001b[0m\n\u001b[1;32m     99\u001b[0m       \u001b[0mPassed\u001b[0m \u001b[0minto\u001b[0m\u001b[0;31m \u001b[0m\u001b[0;31m`\u001b[0m\u001b[0;31m`\u001b[0m\u001b[0minitialize\u001b[0m\u001b[0;31m`\u001b[0m\u001b[0;31m`\u001b[0m\u001b[0;34m.\u001b[0m\u001b[0;34m\u001b[0m\u001b[0m\n\u001b[1;32m    100\u001b[0m     \"\"\"\n\u001b[0;32m--> 101\u001b[0;31m     \u001b[0mself\u001b[0m\u001b[0;34m.\u001b[0m\u001b[0minitialize\u001b[0m\u001b[0;34m(\u001b[0m\u001b[0;34m*\u001b[0m\u001b[0margs\u001b[0m\u001b[0;34m,\u001b[0m \u001b[0;34m**\u001b[0m\u001b[0mkwargs\u001b[0m\u001b[0;34m)\u001b[0m\u001b[0;34m\u001b[0m\u001b[0m\n\u001b[0m\u001b[1;32m    102\u001b[0m \u001b[0;34m\u001b[0m\u001b[0m\n\u001b[1;32m    103\u001b[0m     \u001b[0;32mif\u001b[0m \u001b[0mvariables\u001b[0m \u001b[0;32mis\u001b[0m \u001b[0;32mNone\u001b[0m\u001b[0;34m:\u001b[0m\u001b[0;34m\u001b[0m\u001b[0m\n",
      "\u001b[0;32m/Users/libland/miniconda2/envs/edward_test/lib/python3.6/site-packages/edward/inferences/klpq.py\u001b[0m in \u001b[0;36minitialize\u001b[0;34m(self, n_samples, *args, **kwargs)\u001b[0m\n\u001b[1;32m     63\u001b[0m     \"\"\"\n\u001b[1;32m     64\u001b[0m     \u001b[0mself\u001b[0m\u001b[0;34m.\u001b[0m\u001b[0mn_samples\u001b[0m \u001b[0;34m=\u001b[0m \u001b[0mn_samples\u001b[0m\u001b[0;34m\u001b[0m\u001b[0m\n\u001b[0;32m---> 65\u001b[0;31m     \u001b[0;32mreturn\u001b[0m \u001b[0msuper\u001b[0m\u001b[0;34m(\u001b[0m\u001b[0mKLpq\u001b[0m\u001b[0;34m,\u001b[0m \u001b[0mself\u001b[0m\u001b[0;34m)\u001b[0m\u001b[0;34m.\u001b[0m\u001b[0minitialize\u001b[0m\u001b[0;34m(\u001b[0m\u001b[0;34m*\u001b[0m\u001b[0margs\u001b[0m\u001b[0;34m,\u001b[0m \u001b[0;34m**\u001b[0m\u001b[0mkwargs\u001b[0m\u001b[0;34m)\u001b[0m\u001b[0;34m\u001b[0m\u001b[0m\n\u001b[0m\u001b[1;32m     66\u001b[0m \u001b[0;34m\u001b[0m\u001b[0m\n\u001b[1;32m     67\u001b[0m   \u001b[0;32mdef\u001b[0m \u001b[0mbuild_loss_and_gradients\u001b[0m\u001b[0;34m(\u001b[0m\u001b[0mself\u001b[0m\u001b[0;34m,\u001b[0m \u001b[0mvar_list\u001b[0m\u001b[0;34m)\u001b[0m\u001b[0;34m:\u001b[0m\u001b[0;34m\u001b[0m\u001b[0m\n",
      "\u001b[0;32m/Users/libland/miniconda2/envs/edward_test/lib/python3.6/site-packages/edward/inferences/variational_inference.py\u001b[0m in \u001b[0;36minitialize\u001b[0;34m(self, optimizer, var_list, use_prettytensor, *args, **kwargs)\u001b[0m\n\u001b[1;32m     62\u001b[0m       \u001b[0mvar_list\u001b[0m \u001b[0;34m=\u001b[0m \u001b[0mlist\u001b[0m\u001b[0;34m(\u001b[0m\u001b[0mvar_list\u001b[0m\u001b[0;34m)\u001b[0m\u001b[0;34m\u001b[0m\u001b[0m\n\u001b[1;32m     63\u001b[0m \u001b[0;34m\u001b[0m\u001b[0m\n\u001b[0;32m---> 64\u001b[0;31m     \u001b[0mself\u001b[0m\u001b[0;34m.\u001b[0m\u001b[0mloss\u001b[0m\u001b[0;34m,\u001b[0m \u001b[0mgrads_and_vars\u001b[0m \u001b[0;34m=\u001b[0m \u001b[0mself\u001b[0m\u001b[0;34m.\u001b[0m\u001b[0mbuild_loss_and_gradients\u001b[0m\u001b[0;34m(\u001b[0m\u001b[0mvar_list\u001b[0m\u001b[0;34m)\u001b[0m\u001b[0;34m\u001b[0m\u001b[0m\n\u001b[0m\u001b[1;32m     65\u001b[0m \u001b[0;34m\u001b[0m\u001b[0m\n\u001b[1;32m     66\u001b[0m     \u001b[0;32mif\u001b[0m \u001b[0moptimizer\u001b[0m \u001b[0;32mis\u001b[0m \u001b[0;32mNone\u001b[0m\u001b[0;34m:\u001b[0m\u001b[0;34m\u001b[0m\u001b[0m\n",
      "\u001b[0;32m/Users/libland/miniconda2/envs/edward_test/lib/python3.6/site-packages/edward/inferences/klpq.py\u001b[0m in \u001b[0;36mbuild_loss_and_gradients\u001b[0;34m(self, var_list)\u001b[0m\n\u001b[1;32m    120\u001b[0m       \u001b[0;32mfor\u001b[0m \u001b[0mz\u001b[0m \u001b[0;32min\u001b[0m \u001b[0msix\u001b[0m\u001b[0;34m.\u001b[0m\u001b[0miterkeys\u001b[0m\u001b[0;34m(\u001b[0m\u001b[0mself\u001b[0m\u001b[0;34m.\u001b[0m\u001b[0mlatent_vars\u001b[0m\u001b[0;34m)\u001b[0m\u001b[0;34m:\u001b[0m\u001b[0;34m\u001b[0m\u001b[0m\n\u001b[1;32m    121\u001b[0m         \u001b[0mz_copy\u001b[0m \u001b[0;34m=\u001b[0m \u001b[0mcopy\u001b[0m\u001b[0;34m(\u001b[0m\u001b[0mz\u001b[0m\u001b[0;34m,\u001b[0m \u001b[0mdict_swap\u001b[0m\u001b[0;34m,\u001b[0m \u001b[0mscope\u001b[0m\u001b[0;34m=\u001b[0m\u001b[0mscope\u001b[0m\u001b[0;34m)\u001b[0m\u001b[0;34m\u001b[0m\u001b[0m\n\u001b[0;32m--> 122\u001b[0;31m         \u001b[0mp_log_prob\u001b[0m\u001b[0;34m[\u001b[0m\u001b[0ms\u001b[0m\u001b[0;34m]\u001b[0m \u001b[0;34m+=\u001b[0m \u001b[0mtf\u001b[0m\u001b[0;34m.\u001b[0m\u001b[0mreduce_sum\u001b[0m\u001b[0;34m(\u001b[0m\u001b[0mz_copy\u001b[0m\u001b[0;34m.\u001b[0m\u001b[0mlog_prob\u001b[0m\u001b[0;34m(\u001b[0m\u001b[0mdict_swap\u001b[0m\u001b[0;34m[\u001b[0m\u001b[0mz\u001b[0m\u001b[0;34m]\u001b[0m\u001b[0;34m)\u001b[0m\u001b[0;34m)\u001b[0m\u001b[0;34m\u001b[0m\u001b[0m\n\u001b[0m\u001b[1;32m    123\u001b[0m \u001b[0;34m\u001b[0m\u001b[0m\n\u001b[1;32m    124\u001b[0m       \u001b[0;32mfor\u001b[0m \u001b[0mx\u001b[0m \u001b[0;32min\u001b[0m \u001b[0msix\u001b[0m\u001b[0;34m.\u001b[0m\u001b[0miterkeys\u001b[0m\u001b[0;34m(\u001b[0m\u001b[0mself\u001b[0m\u001b[0;34m.\u001b[0m\u001b[0mdata\u001b[0m\u001b[0;34m)\u001b[0m\u001b[0;34m:\u001b[0m\u001b[0;34m\u001b[0m\u001b[0m\n",
      "\u001b[0;31mAttributeError\u001b[0m: 'Tensor' object has no attribute 'log_prob'"
     ]
    }
   ],
   "source": [
    "inf.run()"
   ]
  },
  {
   "cell_type": "code",
   "execution_count": 82,
   "metadata": {
    "collapsed": true
   },
   "outputs": [],
   "source": [
    "import matplotlib.pyplot as plt\n",
    "%matplotlib inline"
   ]
  },
  {
   "cell_type": "code",
   "execution_count": 83,
   "metadata": {
    "collapsed": false
   },
   "outputs": [
    {
     "data": {
      "text/plain": [
       "(array([  3.,   8.,   8.,  20.,  17.,  24.,   8.,   6.,   4.,   2.]),\n",
       " array([-2837.95410156, -2234.50571289, -1631.05732422, -1027.60893555,\n",
       "         -424.16054687,   179.2878418 ,   782.73623047,  1386.18461914,\n",
       "         1989.63300781,  2593.08139648,  3196.52978516]),\n",
       " <a list of 10 Patch objects>)"
      ]
     },
     "execution_count": 83,
     "metadata": {},
     "output_type": "execute_result"
    },
    {
     "data": {
      "image/png": "[encoded data removed]",
      "text/plain": [
       "<matplotlib.figure.Figure at 0x115ade978>"
      ]
     },
     "metadata": {},
     "output_type": "display_data"
    }
   ],
   "source": [
    "plt.hist(qmu.sample(100).eval())"
   ]
  },
  {
   "cell_type": "code",
   "execution_count": 56,
   "metadata": {
    "collapsed": false
   },
   "outputs": [
    {
     "data": {
      "text/plain": [
       "array([ 48.94275079,  50.15736802,  49.86353543,  50.3709001 ,\n",
       "        50.44308505,  50.19460011,  51.06247843,  46.97422276,\n",
       "        49.18876472,  50.24956877,  50.26407199,  48.70361715,\n",
       "        48.24931944,  49.29213403,  50.17886314,  50.33399499,\n",
       "        49.4741228 ,  49.49025751,  51.56236495,  49.89992297,\n",
       "        50.22544849,  50.98838688,  50.64604496,  49.7264316 ,\n",
       "        47.82076491,  49.22019847,  49.02354087,  51.00816023,\n",
       "        49.63314841,  51.57478822,  50.41719546,  49.23864608,\n",
       "        50.84006085,  50.818026  ,  48.45622184,  51.57232688,\n",
       "        49.40277859,  50.98350071,  49.13245487,  49.50820288,\n",
       "        48.72515627,  50.89353977,  50.7155617 ,  49.77344023,\n",
       "        50.32127145,  51.32725526,  51.31414252,  49.46343267,\n",
       "        49.34730089,  50.91932477,  49.93039964,  50.84746858,\n",
       "        52.29829449,  48.4735253 ,  50.10388515,  50.1615322 ,\n",
       "        50.35620396,  50.08509907,  49.60938435,  49.81100537,\n",
       "        48.92802113,  51.50925481,  49.30315006,  51.03160181,\n",
       "        48.65587883,  49.3947144 ,  49.75842264,  50.27302322,\n",
       "        50.06388947,  50.02031041,  49.3536786 ,  50.2369021 ,\n",
       "        51.26323089,  49.84414112,  50.5249673 ,  49.30304189,\n",
       "        50.4897738 ,  48.12601318,  48.955397  ,  48.92614822,\n",
       "        50.76553688,  49.20948185,  48.91919614,  48.67291988,\n",
       "        50.38104518,  49.58138565,  49.06052362,  50.12683106,\n",
       "        49.56233677,  49.38579218,  51.20118203,  50.8351205 ,\n",
       "        48.04504702,  50.45510835,  50.81091754,  50.20551219,\n",
       "        50.31245589,  49.50755644,  50.40412923,  50.04373402,\n",
       "        51.81022316,  50.00902657,  49.22871854,  50.6261669 ,\n",
       "        47.60890514,  49.95905335,  49.91678489,  51.16467231,\n",
       "        50.25192685,  51.84359689,  51.02179133,  50.65495501,\n",
       "        50.39435787,  49.81639044,  49.09373636,  49.53627516,\n",
       "        50.10892669,  49.80188527,  50.94283716,  49.18858702,\n",
       "        49.20441185,  49.75071304,  48.42080477,  48.0146705 ,\n",
       "        50.48642368,  49.50547997,  48.69852197,  51.54363076,\n",
       "        48.73621643,  50.98677126,  50.09294003,  50.28902235,\n",
       "        50.04093017,  50.97997855,  50.79579592,  50.38401162,\n",
       "        49.5470734 ,  49.78394001,  51.07002335,  49.30915136,\n",
       "        50.21459539,  51.32598052,  50.5528251 ,  48.50428474,\n",
       "        50.35437495,  50.08221964,  49.62593921,  49.98993727,\n",
       "        50.10456517,  49.95353875,  50.35986876,  51.40664721,\n",
       "        50.04313123,  49.36159712,  49.91353691,  51.30775776,\n",
       "        50.72643888,  48.3865281 ,  51.22297257,  49.83541026,\n",
       "        48.21652378,  48.0833945 ,  50.08218906,  50.90418453,\n",
       "        50.49036477,  50.59650931,  50.49383973,  51.32397019,\n",
       "        49.22871876,  50.11461284,  48.64873755,  49.16431795,\n",
       "        50.09335989,  50.1511139 ,  48.0020339 ,  49.82606151,\n",
       "        50.18045361,  50.05981519,  50.67843641,  49.31880939,\n",
       "        50.90215563,  50.24315989,  50.59963273,  49.58688226,\n",
       "        49.76683737,  50.03017307,  50.52217836,  51.55056769,\n",
       "        50.88468017,  50.86904495,  48.87055079,  51.77373662,\n",
       "        49.69119316,  51.68820997,  49.43091454,  49.84907028,\n",
       "        49.36619618,  51.49497524,  50.78250117,  50.62893017,\n",
       "        49.37441176,  48.54273612,  49.61054629,  50.25475276,\n",
       "        51.40383263,  49.69403856,  50.69675305,  49.3039992 ,\n",
       "        48.90594582,  51.41233211,  50.14286947,  49.06562089,\n",
       "        49.01505159,  50.40096261,  47.69788995,  51.65483704,\n",
       "        50.1203216 ,  48.85517469,  50.00922836,  49.81448985,\n",
       "        52.13648771,  48.46412405,  49.57570987,  47.71774916,\n",
       "        48.64747185,  52.1845561 ,  49.00139772,  50.28224958,\n",
       "        50.376089  ,  50.50283069,  50.08311531,  50.70138639,\n",
       "        51.58451389,  48.85228575,  48.83982663,  51.09846504,\n",
       "        49.89237648,  50.05202406,  49.82984797,  49.64864511,\n",
       "        50.05665344,  50.6774307 ,  50.36701063,  51.35850019,\n",
       "        50.94870668,  50.68986139,  48.55406   ,  49.54411397,\n",
       "        50.76744329,  49.63781872,  50.98818224,  50.49604711,\n",
       "        47.92879535,  50.34668443,  49.4400984 ,  51.86244774,\n",
       "        49.30220223,  48.85898582,  51.36400991,  50.04431354,\n",
       "        49.87008121,  52.38958399,  49.14230608,  51.21485358,\n",
       "        48.79114682,  49.62630521,  47.83592663,  48.67548872,\n",
       "        49.80295899,  48.6078065 ,  50.94350605,  49.68167506,\n",
       "        50.10884213,  50.31545633,  49.99712959,  50.1468533 ,\n",
       "        50.76754873,  50.14709347,  50.28368643,  50.49070649,\n",
       "        49.05568079,  48.44998494,  50.3621578 ,  51.44873542,\n",
       "        49.47099783,  50.98004807,  49.21862404,  48.3469454 ,\n",
       "        49.68504625,  50.96452435,  50.25448892,  49.95163782,\n",
       "        48.55209567,  48.81176722,  52.01308312,  50.36903144,\n",
       "        49.73415559,  49.09040961,  50.80063966,  49.14364903,\n",
       "        50.77470489,  50.56795125,  49.31549217,  49.6441015 ,\n",
       "        48.10236275,  48.3494598 ,  48.94471242,  49.95124514,\n",
       "        51.08434235,  50.79415369,  49.11455277,  50.07387152,\n",
       "        50.44609465,  48.0912657 ,  53.59627333,  49.22140485,\n",
       "        50.48627574,  51.62738277,  50.19408701,  50.98773914,\n",
       "        49.73348614,  50.63631763,  51.99065731,  49.62614903,\n",
       "        50.2562329 ,  50.44748302,  48.97974771,  51.60439222,\n",
       "        50.44873453,  52.48510555,  49.09713778,  51.0435603 ,\n",
       "        49.3840876 ,  50.2624575 ,  51.48325678,  48.90156282,\n",
       "        49.0285704 ,  50.67245734,  47.5393953 ,  48.46658589,\n",
       "        48.91855411,  50.83487504,  48.64803896,  50.54757792,\n",
       "        49.29886553,  47.51397603,  50.70836084,  51.38951534,\n",
       "        48.87819172,  50.40665604,  49.31924878,  50.47846185,\n",
       "        50.92881403,  49.58882497,  49.8823016 ,  50.48290584,\n",
       "        48.67349085,  51.83409488,  50.09533946,  49.73324285,\n",
       "        48.92747049,  51.18221395,  51.72985496,  49.48026835,\n",
       "        50.20718652,  49.84832317,  50.70657975,  48.98860924,\n",
       "        50.11661381,  52.13349157,  50.93486114,  51.16807007,\n",
       "        51.78753441,  48.89223139,  50.66015823,  49.88388613,\n",
       "        48.2346095 ,  50.94374376,  50.01324406,  51.38828865,\n",
       "        49.79036001,  50.52078822,  48.94337527,  49.62441045,\n",
       "        51.52570055,  50.23988123,  50.78091304,  49.65293203,\n",
       "        48.56022237,  49.9278397 ,  50.30374104,  49.02810196,\n",
       "        51.17838001,  50.27128062,  49.61476043,  51.14669119,\n",
       "        48.0683081 ,  51.49941834,  47.99142431,  47.80702402,\n",
       "        48.76213766,  51.18829528,  49.91853833,  49.39280216,\n",
       "        52.12752017,  49.76049279,  49.91002261,  50.23735635,\n",
       "        50.7167874 ,  49.0878865 ,  49.68388612,  50.29473843,\n",
       "        47.37644524,  49.8228514 ,  51.23431055,  49.72379475,\n",
       "        51.04764207,  49.99487624,  51.13458293,  50.33976893,\n",
       "        49.70369728,  51.5711772 ,  48.59332362,  49.81059439,\n",
       "        51.08344906,  50.70546022,  51.68776789,  49.24289779,\n",
       "        50.01175332,  50.79849092,  47.74190773,  50.19356943,\n",
       "        49.50763228,  49.23799053,  49.49252767,  50.02821647,\n",
       "        50.17782428,  50.71865649,  49.65105406,  49.68932789,\n",
       "        50.23582155,  49.79203809,  50.56807763,  50.7623829 ,\n",
       "        49.17562909,  51.82380438,  48.72874068,  51.9574913 ,\n",
       "        49.7165157 ,  50.51448056,  48.888969  ,  49.35213296,\n",
       "        48.64431784,  49.86009038,  50.69743364,  49.00385801,\n",
       "        48.78595784,  50.57564806,  51.17150091,  50.02668124,\n",
       "        49.67103235,  49.92538339,  49.78607376,  51.385062  ,\n",
       "        49.87306598,  49.86224316,  50.37312805,  50.05012533,\n",
       "        50.01153588,  48.58552159,  50.57035019,  51.93058964,\n",
       "        51.58299106,  51.29056374,  50.55732069,  49.84264542,\n",
       "        49.64134083,  51.18796334,  51.02442768,  50.1379145 ,\n",
       "        49.76977497,  49.48343438,  50.73555667,  50.36584504,\n",
       "        52.41204241,  49.96854138,  49.05065896,  49.41345883,\n",
       "        49.63813282,  51.45206069,  48.4521801 ,  49.04904233,\n",
       "        49.96541746,  51.9044895 ,  50.21473872,  49.02411537,\n",
       "        50.49228518,  50.43039426,  49.53776381,  50.02245781,\n",
       "        47.56619287,  49.72098693,  50.22754112,  48.24347359,\n",
       "        51.53177811,  48.40833236,  50.4467593 ,  51.24175319,\n",
       "        52.0179931 ,  48.51037564,  50.52939812,  51.35681493,\n",
       "        49.66467585,  48.91593693,  49.4229132 ,  51.47877018,\n",
       "        48.89356271,  49.86763042,  49.49863052,  50.38307844,\n",
       "        49.21296027,  50.82312686,  50.24576091,  49.00008819,\n",
       "        49.3438009 ,  51.33528459,  50.07546198,  51.36397405,\n",
       "        49.44516025,  50.13748737,  50.22773913,  50.93236542,\n",
       "        51.18573789,  49.26059398,  50.11512817,  50.58641935,\n",
       "        51.35250377,  50.40569323,  51.03088042,  50.62828165,\n",
       "        50.68015994,  50.18866646,  48.75405367,  49.26657787,\n",
       "        50.01937928,  49.71027163,  50.33331185,  51.00235399,\n",
       "        49.4221933 ,  48.93611245,  50.05576393,  51.21623523,\n",
       "        49.85715744,  50.60279939,  50.56463072,  48.68739774,\n",
       "        52.10207249,  48.03927776,  49.85124867,  49.45928293,\n",
       "        50.47600465,  50.57490976,  50.68022451,  51.23431807,\n",
       "        49.57289264,  48.09971082,  50.08137916,  49.12306047,\n",
       "        49.50864238,  49.9339648 ,  49.90506583,  49.35891899,\n",
       "        49.53990848,  49.56797967,  48.35148032,  49.89699414,\n",
       "        49.09478322,  49.99254959,  50.26030968,  50.99977033,\n",
       "        49.43735916,  50.47997693,  49.99915503,  50.26178787,\n",
       "        50.75029254,  51.80973114,  50.47807005,  49.7629676 ,\n",
       "        49.8308794 ,  48.43914829,  49.94170879,  49.54926852,\n",
       "        49.90419484,  50.37411466,  49.76874566,  49.90402505,\n",
       "        49.14888398,  49.2705329 ,  50.10981641,  48.80180938,\n",
       "        50.09678671,  51.78458163,  48.80980032,  50.53399123,\n",
       "        50.31458792,  50.63293699,  50.01306584,  49.52142957,\n",
       "        50.60635073,  49.56596957,  49.23732288,  49.07440672,\n",
       "        49.88981714,  51.41169509,  48.70965957,  50.42244181,\n",
       "        49.80864197,  50.53658629,  48.77829479,  49.16901355,\n",
       "        51.91904467,  48.28126001,  50.89440872,  49.75489848,\n",
       "        49.81783599,  49.11416709,  48.46800264,  49.90468687,\n",
       "        50.18836492,  50.25860349,  51.20003125,  48.91943088,\n",
       "        49.07362146,  47.27313392,  49.21699527,  50.31512342,\n",
       "        50.1990408 ,  48.93117042,  51.42372295,  51.46362201,\n",
       "        50.12077778,  51.65485962,  49.6860599 ,  51.66987912,\n",
       "        48.58808509,  49.7761516 ,  49.80148307,  47.4588019 ,\n",
       "        52.48405722,  48.16338938,  51.31896885,  50.69352789,\n",
       "        49.62709634,  50.47769565,  49.90766639,  48.96237453,\n",
       "        49.84057683,  51.52298934,  50.94354473,  49.36978361,\n",
       "        51.32436941,  48.77492294,  50.25174156,  48.70506007,\n",
       "        50.07484645,  49.00990644,  49.5871627 ,  50.9873922 ,\n",
       "        50.60625252,  51.39648589,  49.71517574,  50.56397524,\n",
       "        49.80256549,  48.89110883,  50.08316231,  50.66296406,\n",
       "        50.93704467,  49.19582542,  51.85040496,  49.2706307 ,\n",
       "        51.39684965,  49.7014851 ,  50.86333266,  49.41727643,\n",
       "        49.83706965,  48.53796597,  49.46030875,  48.85005143,\n",
       "        51.11642629,  50.75297065,  48.14829211,  50.20665743,\n",
       "        50.48785072,  51.21037395,  49.10152272,  50.94675141,\n",
       "        50.96689074,  50.28409963,  50.9378104 ,  51.81435129,\n",
       "        50.00244804,  51.18812773,  50.20846948,  49.3563829 ,\n",
       "        49.0447058 ,  50.32806029,  51.06291876,  48.99563529,\n",
       "        50.95543717,  49.14541775,  51.95048433,  49.55377757,\n",
       "        49.45395597,  50.28658076,  50.60706009,  51.05462494,\n",
       "        51.19956169,  48.92641145,  50.42158725,  48.77501816,\n",
       "        49.86525438,  48.74719926,  50.61714198,  51.02864344,\n",
       "        49.84557872,  49.24777775,  51.02782792,  50.56158734,\n",
       "        50.4216614 ,  49.76601031,  50.80013075,  50.06265658,\n",
       "        50.41905947,  51.03199287,  51.64950702,  48.4270773 ,\n",
       "        50.63698371,  49.58605786,  50.92167966,  48.87901976,\n",
       "        49.49429694,  49.34137992,  48.81387696,  48.47152851,\n",
       "        49.25944074,  51.36175804,  48.76240843,  48.15308681,\n",
       "        48.18468375,  49.59338128,  49.81807215,  48.56349351,\n",
       "        50.6943249 ,  47.09111904,  48.65842722,  50.10748586,\n",
       "        52.0303933 ,  52.68221654,  49.5446403 ,  51.02396153,\n",
       "        50.03491259,  49.98642539,  50.82539571,  49.26740335,\n",
       "        49.09612099,  50.02266845,  49.63379057,  49.32329593,\n",
       "        49.49435521,  48.33995962,  51.30627349,  49.17587472,\n",
       "        49.34292331,  49.50130414,  49.94074434,  48.04106308,\n",
       "        50.2635784 ,  49.58425128,  48.8623844 ,  50.16166026,\n",
       "        48.97355553,  51.51785964,  51.77529748,  49.97879037,\n",
       "        48.99388435,  50.63488929,  51.60597319,  50.7767702 ,\n",
       "        50.68694344,  48.40220609,  49.1199242 ,  49.37142427,\n",
       "        50.8540792 ,  50.1583493 ,  51.71448705,  49.73666239,\n",
       "        49.82820526,  50.24041049,  50.9125068 ,  48.85759085,\n",
       "        48.4034388 ,  49.08664032,  49.26721494,  50.1877943 ,\n",
       "        49.66878827,  50.6033039 ,  49.92999525,  50.18029816,\n",
       "        51.69094835,  48.61992704,  50.18669216,  50.99399673,\n",
       "        50.19433543,  49.49617619,  48.95028578,  49.57347511,\n",
       "        50.60292896,  49.98060529,  50.02852469,  49.41173221,\n",
       "        50.84327049,  50.78612289,  50.86669863,  50.50016966,\n",
       "        48.48545282,  50.03758219,  50.04373637,  50.60311364,\n",
       "        50.01744247,  49.70739521,  50.64163309,  50.65876105,\n",
       "        49.21898086,  50.30594774,  49.8002974 ,  50.12793255,\n",
       "        49.99102067,  50.33726373,  51.66366739,  50.24473517,\n",
       "        50.8686982 ,  48.87288469,  49.84509481,  48.82106298,\n",
       "        49.93556522,  50.13522678,  48.65948987,  51.47988097,\n",
       "        48.80746723,  50.24265241,  51.25963111,  48.79366403,\n",
       "        50.0040251 ,  49.21732183,  51.28386938,  51.8041176 ,\n",
       "        50.27301403,  49.25024894,  50.38379185,  49.78100934,\n",
       "        51.09811881,  49.8656976 ,  50.25002383,  49.60853314,\n",
       "        50.85458736,  50.25734643,  50.08385098,  48.35820138,\n",
       "        47.77476993,  51.92776697,  48.57190578,  47.72610123,\n",
       "        50.57684871,  49.92240072,  51.41152314,  51.15827252,\n",
       "        50.05460768,  50.28325849,  50.08558428,  48.87139863,\n",
       "        48.4371528 ,  51.9236285 ,  50.21083402,  51.1253225 ,\n",
       "        50.81113163,  50.81467088,  49.36613281,  50.41531944,\n",
       "        49.92917585,  49.30420164,  49.6295769 ,  51.31034433,\n",
       "        50.24764597,  52.00978829,  50.17266246,  49.10214307,\n",
       "        49.945951  ,  48.3019933 ,  51.07060044,  50.54574427,\n",
       "        50.57824635,  49.10182949,  51.22272402,  51.28674604,\n",
       "        50.9786534 ,  49.8159959 ,  50.32781057,  50.29448834,\n",
       "        50.58319195,  49.91087394,  49.97460613,  50.23129038,\n",
       "        48.46480356,  49.75986   ,  49.99716979,  49.41983328,\n",
       "        52.20212677,  49.07541499,  49.76463157,  49.27006359,\n",
       "        50.84681968,  47.71828742,  49.99703396,  50.26288761,\n",
       "        49.89779767,  48.05693138,  50.5564252 ,  48.68870855,\n",
       "        48.3687335 ,  49.28473545,  52.23891803,  50.06041269,\n",
       "        50.07326023,  51.41294347,  50.42375927,  48.15286926,\n",
       "        46.82090442,  48.70901205,  50.0854704 ,  50.98193311,\n",
       "        50.20278478,  49.98478525,  52.15444252,  49.0469376 ,\n",
       "        49.21998566,  49.1520197 ,  50.45959735,  50.76556822,\n",
       "        50.90520711,  49.67851733,  50.62526112,  49.50334396,\n",
       "        48.83573919,  50.54614486,  49.67316937,  50.1749804 ,\n",
       "        50.32842578,  50.47281636,  49.36393181,  50.5284741 ,\n",
       "        50.31852135,  49.9386108 ,  50.52637888,  50.61363258,\n",
       "        50.8600732 ,  47.74857371,  50.01697807,  49.94325939,\n",
       "        50.04786486,  49.49094037,  49.69487039,  49.07809519,\n",
       "        49.81944699,  49.31354788,  49.89909585,  49.49878638,\n",
       "        50.7624345 ,  49.58247734,  49.71302701,  49.51684413,\n",
       "        48.98862273,  50.87253254,  49.16903308,  49.26083367,\n",
       "        49.65010176,  50.99487987,  49.97870932,  50.56764922,\n",
       "        51.17932024,  50.76531826,  51.30928217,  50.91309625,\n",
       "        50.43835166,  49.12634241,  50.21369811,  48.48409777,\n",
       "        50.66099549,  50.00675763,  49.57402357,  49.66718099])"
      ]
     },
     "execution_count": 56,
     "metadata": {},
     "output_type": "execute_result"
    }
   ],
   "source": [
    "data"
   ]
  },
  {
   "cell_type": "code",
   "execution_count": 95,
   "metadata": {
    "collapsed": false
   },
   "outputs": [
    {
     "data": {
      "text/plain": [
       "117"
      ]
     },
     "execution_count": 95,
     "metadata": {},
     "output_type": "execute_result"
    }
   ],
   "source": [
    "len_unk"
   ]
  },
  {
   "cell_type": "code",
   "execution_count": 98,
   "metadata": {
    "collapsed": false
   },
   "outputs": [
    {
     "data": {
      "text/plain": [
       "<ed.RandomVariable 'Normal_28/' shape=() dtype=float32>"
      ]
     },
     "execution_count": 98,
     "metadata": {},
     "output_type": "execute_result"
    }
   ],
   "source": [
    "mu"
   ]
  },
  {
   "cell_type": "code",
   "execution_count": null,
   "metadata": {
    "collapsed": true
   },
   "outputs": [],
   "source": []
  }
 ],
 "metadata": {
  "kernelspec": {
   "display_name": "Python [conda env:edward_test]",
   "language": "python",
   "name": "conda-env-edward_test-py"
  },
  "language_info": {
   "codemirror_mode": {
    "name": "ipython",
    "version": 3
   },
   "file_extension": ".py",
   "mimetype": "text/x-python",
   "name": "python",
   "nbconvert_exporter": "python",
   "pygments_lexer": "ipython3",
   "version": "3.6.1"
  }
 },
 "nbformat": 4,
 "nbformat_minor": 2
}
